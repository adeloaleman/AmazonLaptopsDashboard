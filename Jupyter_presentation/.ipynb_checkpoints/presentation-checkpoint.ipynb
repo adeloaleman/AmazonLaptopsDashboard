{
 "cells": [
  {
   "cell_type": "markdown",
   "metadata": {
    "slideshow": {
     "slide_type": "slide"
    }
   },
   "source": [
    "<br />\n",
    "<div style=\"background-color:#007bff; height:15pt\">\n",
    "    <br />\n",
    "    <!-- <img src=\"0Figuras/cctLogo3.jpg\" alt=\"drawing\" style=\"width:45%; display:block; margin-left:auto; margin-right: auto;\"/>\n",
    "    <br /> -->\n",
    "</div>\n",
    "<br />\n",
    "<br />\n",
    "<div style=\"text-align:center;\">\n",
    "    <span style=\"font-family:Georgia; font-size:1.4em;\">\n",
    "        CCT - College of Computing Technology - Dublin\n",
    "    </span>\n",
    "    <br />\n",
    "    <br />\n",
    "    <br />\n",
    "    <span style=\"color:#007bff; font-family:Georgia; font-size:1.8em; font-weight:bold\">\n",
    "        Developing a Web Dashboard for Amazon Laptops data  \n",
    "    </span>\n",
    "    <br /><br /><br /><br />\n",
    "    <span style=\"font-family:Georgia; font-size:1.2em;\">\n",
    "        Adelo Vieira  \n",
    "        <br />                                      \n",
    "        June, 2020\n",
    "    </span>\n",
    "</div>\n",
    "<br />\n",
    "<br />\n",
    "<div style=\"background-color:#007bff; height:15pt\">\n",
    "    <!-- <img src=\"0Figuras/cctLogo3.jpg\" alt=\"drawing\" style=\"width:45%; display:block; margin-left:auto; margin-right: auto;\"/>\n",
    "    <br /> -->\n",
    "</div>"
   ]
  },
  {
   "cell_type": "markdown",
   "metadata": {
    "slideshow": {
     "slide_type": "slide"
    }
   },
   "source": [
    "![dashboard1](./0Figuras/dashboardMy1.png)\n",
    "\n"
   ]
  },
  {
   "cell_type": "markdown",
   "metadata": {
    "slideshow": {
     "slide_type": "slide"
    }
   },
   "source": [
    "<div style=\"text-align:center; color: white; background-color:#007bff\">\n",
    "    <span style=\"font-family:Georgia; font-size:1.4em; font-weight:bold\">\n",
    "        Application architecture\n",
    "    </span>\n",
    "</div>\n",
    "<div style=\"text-align:center;\">\n",
    "    <span style=\"font-family:Georgia; font-size:1em;\">\n",
    "        This is the current implementation\n",
    "    </span>    \n",
    "</div>\n",
    "<div style=\"background-color:white\">\n",
    "    <img src=\"0Figuras/architecture_diagram4.svg\" alt=\"drawing\" style=\"width:70%; display:block; margin-left:auto; margin-right: auto;\"/>\n",
    "    <br />\n",
    "</div>"
   ]
  },
  {
   "cell_type": "markdown",
   "metadata": {
    "slideshow": {
     "slide_type": "slide"
    }
   },
   "source": [
    "<div style=\"text-align:center; color: white; background-color:#007bff\">\n",
    "    <span style=\"font-family:Georgia; font-size:1.4em; font-weight:bold\">\n",
    "        Three-Tier application architecture\n",
    "    </span>\n",
    "</div>\n",
    "<!-- <div style=\"text-align:center;\">\n",
    "    <span style=\"font-family:Georgia; font-size:1em;\">\n",
    "        This will be the final deployment of the application.\n",
    "    </span>    \n",
    "</div> -->\n",
    "<br />\n",
    "<br />\n",
    "<br />\n",
    "<div style=\"background-color:white\">\n",
    "    <img src=\"0Figuras/architecture_diagram3.svg\" alt=\"drawing\" style=\"width:90%; display:block; margin-left:auto; margin-right: auto;\"/>\n",
    "    <br />\n",
    "</div>\n",
    "<br />\n",
    "<br />"
   ]
  },
  {
   "cell_type": "markdown",
   "metadata": {
    "slideshow": {
     "slide_type": "slide"
    }
   },
   "source": [
    "<div style=\"text-align:center; color: white; background-color:#007bff\">\n",
    "    <span style=\"font-family:Georgia; font-size:1.4em; font-weight:bold\">\n",
    "        Scraping the data from Amazon\n",
    "    </span>\n",
    "</div>\n",
    "<div style=\"text-align:center;\">\n",
    "    <span style=\"font-family:Georgia; font-size:1em;\">\n",
    "        Amazon Laptop page\n",
    "    </span>    \n",
    "</div>\n",
    "<br />\n",
    "<div style=\"background-color:white; padding: 1pt\">\n",
    "    <img src=\"0Figuras/amazon_page1.png\" alt=\"drawing\" style=\"width:90%; display:block; margin-left:auto; margin-right: auto;\"/>\n",
    "</div>"
   ]
  },
  {
   "cell_type": "markdown",
   "metadata": {
    "slideshow": {
     "slide_type": "slide"
    }
   },
   "source": [
    "<div style=\"text-align:center; color: white; background-color:#007bff\">\n",
    "    <span style=\"font-family:Georgia; font-size:1.4em; font-weight:bold\">\n",
    "        Scraping the data from Amazon\n",
    "    </span>\n",
    "</div>\n",
    "<div style=\"text-align:center;\">\n",
    "    <span style=\"font-family:Georgia; font-size:1em;\">\n",
    "        Amazon Laptop page\n",
    "    </span>    \n",
    "</div>\n",
    "<br />\n",
    "<div style=\"background-color:white; padding: 1pt\">\n",
    "    <img src=\"0Figuras/amazon_page4.png\" alt=\"drawing\" style=\"width:50%; display:block; margin-left:auto; margin-right: auto;\"/>\n",
    "</div>"
   ]
  },
  {
   "cell_type": "markdown",
   "metadata": {
    "slideshow": {
     "slide_type": "slide"
    }
   },
   "source": [
    "<div style=\"text-align:center; color: white; background-color:#007bff\">\n",
    "    <span style=\"font-family:Georgia; font-size:1.4em; font-weight:bold\">\n",
    "        Scraping the data from Amazon\n",
    "    </span>\n",
    "</div>\n",
    "<div style=\"text-align:center;\">\n",
    "    <span style=\"font-family:Georgia; font-size:1em;\">\n",
    "        Amazon Laptop page\n",
    "    </span>    \n",
    "</div>\n",
    "<br />\n",
    "<div style=\"background-color:white; padding: 1pt\">\n",
    "    <img src=\"0Figuras/amazon_page7.png\" alt=\"drawing\" style=\"width:60%; display:block; margin-left:auto; margin-right: auto;\"/>\n",
    "</div>"
   ]
  },
  {
   "cell_type": "markdown",
   "metadata": {
    "slideshow": {
     "slide_type": "slide"
    }
   },
   "source": [
    "<div style=\"text-align:center; color: white; background-color:#007bff\">\n",
    "    <span style=\"font-family:Georgia; font-size:1.4em; font-weight:bold\">\n",
    "        Scraping the data from Amazon\n",
    "    </span>\n",
    "</div>\n",
    "<div style=\"text-align:center;\">\n",
    "    <span style=\"font-family:Georgia; font-size:1em;\">\n",
    "        Portion of the Python Scrapy program we built to extract Laptop data from Amazon\n",
    "    </span>    \n",
    "</div>"
   ]
  },
  {
   "cell_type": "code",
   "execution_count": null,
   "metadata": {
    "slideshow": {
     "slide_type": "fragment"
    }
   },
   "outputs": [],
   "source": [
    "import scrapy\n",
    "\n",
    "class QuotesSpider(scrapy.Spider):\n",
    "     name = \"amazon_data\"\n",
    "     start_urls=[]\n",
    "     myBaseUrl = 'https://www.amazon.com/Laptops-Computers-Tablets/s?rh=n%3A565108&page='\n",
    "     for i in range(1,3):\n",
    "          start_urls.append(myBaseUrl+str(i))\n",
    "    \n",
    "     def parse(self, response):\n",
    "          data = response.css(\"a.a-text-normal::attr(href)\").getall()\n",
    "          links =   [s for s in data if \"Lenovo-\"  in  s\n",
    "                                     or \"LENOVO-\"  in  s\n",
    "                                     or \"Hp-\"      in  s\n",
    "                                     or \"HP-\"      in  s\n",
    "                                     or \"Acer-\"    in  s\n",
    "                                     or \"ACER-\"    in  s\n",
    "                                     or \"Dell-\"    in  s\n",
    "                                     or \"DELL-\"    in  s\n",
    "                                     or \"Samsung-\" in  s\n",
    "                                     or \"SAMSUNG-\" in  s\n",
    "                                     or \"Asus-\"    in  s\n",
    "                                     or \"ASUS-\"    in  s\n",
    "                                     or \"Toshiba-\" in  s\n",
    "                                     or \"TOSHIBA-\" in  s\n",
    "                                     # or \"Apple-\"   in  s\n",
    "                                     # or \"APPLE-\"   in  s\n",
    "                    ]\n",
    "    .\n",
    "    ."
   ]
  },
  {
   "cell_type": "markdown",
   "metadata": {
    "slideshow": {
     "slide_type": "slide"
    }
   },
   "source": [
    "<div style=\"text-align:center; color: white; background-color:#007bff\">\n",
    "    <span style=\"font-family:Georgia; font-size:1.4em; font-weight:bold\">\n",
    "        Scraping the data from Amazon\n",
    "    </span>\n",
    "</div>\n",
    "<div style=\"text-align:center;\">\n",
    "    <span style=\"font-family:Georgia; font-size:1em;\">\n",
    "        Data Scraped from Amazon using Scrapy\n",
    "    </span>    \n",
    "</div>\n",
    "<div style=\"background-color:white; padding: 1pt\">\n",
    "    <img src=\"0Figuras/data_json7.svg\" alt=\"drawing\" style=\"width:52%; display:block; margin-left:auto; margin-right: auto;\"/>\n",
    "</div>"
   ]
  },
  {
   "cell_type": "markdown",
   "metadata": {
    "slideshow": {
     "slide_type": "slide"
    }
   },
   "source": [
    "<div style=\"text-align:center; color: white; background-color:#007bff\">\n",
    "    <span style=\"font-family:Georgia; font-size:1.4em; font-weight:bold\">\n",
    "        Data Preparation and Text pre–processing\n",
    "    </span>\n",
    "</div>\n",
    "<!-- <div style=\"text-align:center;\">\n",
    "    <span style=\"font-family:Georgia; font-size:1em;\">\n",
    "        Data Scraped from Amazon using Scrapy\n",
    "    </span>    \n",
    "</div> -->\n",
    "<br />\n",
    "<br />"
   ]
  },
  {
   "cell_type": "code",
   "execution_count": null,
   "metadata": {
    "slideshow": {
     "slide_type": "fragment"
    }
   },
   "outputs": [],
   "source": [
    "# Importing the data from the json text file into a pandas dataframe:\n",
    "amazon_data = pd.read_json('/home/adelo/amazon_data.json')\n",
    "\n",
    "\n",
    "# Removing punctuation and stopwords:\n",
    "stopwords_brands = [ b.lower() for b in list(set(amazon_data['brand'])) ]\n",
    "stopwords_brands_additionals = ['computer','computers','laptop','laptops','thing','things','machine','machines','im','dont','ive']\n",
    "stopwords_total  = stopwords.words('english') + stopwords_brands + stopwords_brands_additionals\n",
    "\n",
    "\n",
    "# The following function takes a string and returns the same string without punctuation or stopwords:\n",
    "def pre_processing(texto):\n",
    "    # Removing punctuation:\n",
    "    nopunct = ''.join([ char for char in texto if char not in string.punctuation ])\n",
    "    # Removing Stopwords:\n",
    "    return ' '.join([ word for word in nopunct.split() if word.lower() not in stopwords_total ])\n",
    "\n",
    "\n",
    "# Example of applying the function «pre_processing()»:\n",
    "frase = \"Here! A sentence: It has $SOME punctuation and stopwords...\"\n",
    "frase_clean = pre_processing(frase)\n",
    "frase_clean\n",
    "\n",
    "\n",
    "# Here we are applying the function «pre_processing()» to the «reviews_one_string» column over the entire dataframe:\n",
    "amazon_data['reviews_one_string'] = amazon_data['reviews_one_string'].apply(pre_processing)\n"
   ]
  },
  {
   "cell_type": "markdown",
   "metadata": {
    "slideshow": {
     "slide_type": "slide"
    }
   },
   "source": [
    "<div style=\"text-align:center; color: white; background-color:#007bff\">\n",
    "    <span style=\"font-family:Georgia; font-size:1.4em; font-weight:bold\">\n",
    "        Dataframe after pre–processing\n",
    "    </span>\n",
    "</div>\n",
    "<!-- <div style=\"text-align:center;\">\n",
    "    <span style=\"font-family:Georgia; font-size:1em;\">\n",
    "        Data Scraped from Amazon using Scrapy,\n",
    "    </span>    \n",
    "</div> -->\n",
    "<br />\n",
    "<div style=\"background-color:white; padding: 1pt\">\n",
    "    <img src=\"0Figuras/dataframe5.png\" alt=\"drawing\" style=\"width:97%; display:block; margin-left:auto; margin-right: auto;\"/>\n",
    "</div>"
   ]
  },
  {
   "cell_type": "markdown",
   "metadata": {
    "slideshow": {
     "slide_type": "slide"
    }
   },
   "source": [
    "<div style=\"text-align:center; color: white; background-color:#007bff\">\n",
    "    <span style=\"font-family:Georgia; font-size:1.4em; font-weight:bold\">\n",
    "        Data visualization\n",
    "    </span>\n",
    "</div>\n",
    "<div style=\"text-align:center;\">\n",
    "    <span style=\"font-family:Georgia; font-size:1em;\">\n",
    "        Avg. customer reviews vs. Prices panel\n",
    "    </span>    \n",
    "</div>"
   ]
  },
  {
   "cell_type": "code",
   "execution_count": 4,
   "metadata": {
    "slideshow": {
     "slide_type": "fragment"
    }
   },
   "outputs": [
    {
     "data": {
      "application/vnd.plotly.v1+json": {
       "config": {
        "plotlyServerURL": "https://plot.ly"
       },
       "data": [
        {
         "hoverlabel": {
          "namelength": 0
         },
         "hovertemplate": "<b>%{hovertext}</b><br><br>brand=HP<br>price=%{x}<br>average_customer_reviews=%{marker.size}",
         "hovertext": [
          "HP",
          "HP",
          "HP",
          "HP",
          "HP"
         ],
         "legendgroup": "HP",
         "marker": {
          "color": "#636efa",
          "size": [
           4.5,
           3.7,
           3.9,
           4.2,
           3.8
          ],
          "sizemode": "area",
          "sizeref": 0.005,
          "symbol": "circle"
         },
         "mode": "markers",
         "name": "HP",
         "showlegend": true,
         "type": "scatter",
         "x": [
          690,
          357,
          229,
          323,
          949
         ],
         "xaxis": "x",
         "y": [
          4.5,
          3.7,
          3.9,
          4.2,
          3.8
         ],
         "yaxis": "y"
        },
        {
         "hoverlabel": {
          "namelength": 0
         },
         "hovertemplate": "<b>%{hovertext}</b><br><br>brand=Lenovo<br>price=%{x}<br>average_customer_reviews=%{marker.size}",
         "hovertext": [
          "Lenovo",
          "Lenovo",
          "Lenovo",
          "Lenovo",
          "Lenovo",
          "Lenovo",
          "Lenovo",
          "Lenovo"
         ],
         "legendgroup": "Lenovo",
         "marker": {
          "color": "#EF553B",
          "size": [
           4,
           4.1,
           3.9,
           4.1,
           3.6,
           4.3,
           4.2,
           4.1
          ],
          "sizemode": "area",
          "sizeref": 0.005,
          "symbol": "circle"
         },
         "mode": "markers",
         "name": "Lenovo",
         "showlegend": true,
         "type": "scatter",
         "x": [
          490,
          99,
          null,
          625,
          235,
          229,
          247,
          533
         ],
         "xaxis": "x",
         "y": [
          4,
          4.1,
          3.9,
          4.1,
          3.6,
          4.3,
          4.2,
          4.1
         ],
         "yaxis": "y"
        },
        {
         "hoverlabel": {
          "namelength": 0
         },
         "hovertemplate": "<b>%{hovertext}</b><br><br>brand=Acer<br>price=%{x}<br>average_customer_reviews=%{marker.size}",
         "hovertext": [
          "Acer",
          "Acer",
          "Acer",
          "Acer",
          "Acer",
          "Acer",
          "Acer",
          "Acer",
          "Acer",
          "Acer",
          "Acer",
          "Acer",
          "Acer",
          "Acer"
         ],
         "legendgroup": "Acer",
         "marker": {
          "color": "#00cc96",
          "size": [
           4,
           4.5,
           4.1,
           3.7,
           4,
           4,
           4.1,
           4.3,
           4.3,
           3.9,
           4.3,
           4.3,
           4.4,
           3.9
          ],
          "sizemode": "area",
          "sizeref": 0.005,
          "symbol": "circle"
         },
         "mode": "markers",
         "name": "Acer",
         "showlegend": true,
         "type": "scatter",
         "x": [
          927,
          167,
          133,
          327,
          196,
          274,
          269,
          710,
          null,
          219,
          495,
          1088,
          340,
          210
         ],
         "xaxis": "x",
         "y": [
          4,
          4.5,
          4.1,
          3.7,
          4,
          4,
          4.1,
          4.3,
          4.3,
          3.9,
          4.3,
          4.3,
          4.4,
          3.9
         ],
         "yaxis": "y"
        },
        {
         "hoverlabel": {
          "namelength": 0
         },
         "hovertemplate": "<b>%{hovertext}</b><br><br>brand=Asus<br>price=%{x}<br>average_customer_reviews=%{marker.size}",
         "hovertext": [
          "Asus",
          "Asus",
          "Asus",
          "Asus",
          "Asus",
          "Asus"
         ],
         "legendgroup": "Asus",
         "marker": {
          "color": "#ab63fa",
          "size": [
           3.9,
           4.2,
           3.8,
           3.6,
           3.8,
           3.9
          ],
          "sizemode": "area",
          "sizeref": 0.005,
          "symbol": "circle"
         },
         "mode": "markers",
         "name": "Asus",
         "showlegend": true,
         "type": "scatter",
         "x": [
          null,
          380,
          340,
          1470,
          210,
          208
         ],
         "xaxis": "x",
         "y": [
          3.9,
          4.2,
          3.8,
          3.6,
          3.8,
          3.9
         ],
         "yaxis": "y"
        },
        {
         "hoverlabel": {
          "namelength": 0
         },
         "hovertemplate": "<b>%{hovertext}</b><br><br>brand=Dell<br>price=%{x}<br>average_customer_reviews=%{marker.size}",
         "hovertext": [
          "Dell"
         ],
         "legendgroup": "Dell",
         "marker": {
          "color": "#FFA15A",
          "size": [
           3.5
          ],
          "sizemode": "area",
          "sizeref": 0.005,
          "symbol": "circle"
         },
         "mode": "markers",
         "name": "Dell",
         "showlegend": true,
         "type": "scatter",
         "x": [
          400
         ],
         "xaxis": "x",
         "y": [
          3.5
         ],
         "yaxis": "y"
        },
        {
         "hoverlabel": {
          "namelength": 0
         },
         "hovertemplate": "<b>%{hovertext}</b><br><br>brand=Samsung<br>price=%{x}<br>average_customer_reviews=%{marker.size}",
         "hovertext": [
          "Samsung"
         ],
         "legendgroup": "Samsung",
         "marker": {
          "color": "#19d3f3",
          "size": [
           4.3
          ],
          "sizemode": "area",
          "sizeref": 0.005,
          "symbol": "circle"
         },
         "mode": "markers",
         "name": "Samsung",
         "showlegend": true,
         "type": "scatter",
         "x": [
          215
         ],
         "xaxis": "x",
         "y": [
          4.3
         ],
         "yaxis": "y"
        }
       ],
       "layout": {
        "coloraxis": {
         "showscale": false
        },
        "font": {
         "color": "black",
         "size": 20
        },
        "height": 400,
        "legend": {
         "itemsizing": "constant",
         "title": {
          "text": "Brand"
         },
         "tracegroupgap": 0
        },
        "margin": {
         "b": 0,
         "l": 5,
         "r": 5,
         "t": 10
        },
        "template": {
         "data": {
          "bar": [
           {
            "error_x": {
             "color": "#2a3f5f"
            },
            "error_y": {
             "color": "#2a3f5f"
            },
            "marker": {
             "line": {
              "color": "#E5ECF6",
              "width": 0.5
             }
            },
            "type": "bar"
           }
          ],
          "barpolar": [
           {
            "marker": {
             "line": {
              "color": "#E5ECF6",
              "width": 0.5
             }
            },
            "type": "barpolar"
           }
          ],
          "carpet": [
           {
            "aaxis": {
             "endlinecolor": "#2a3f5f",
             "gridcolor": "white",
             "linecolor": "white",
             "minorgridcolor": "white",
             "startlinecolor": "#2a3f5f"
            },
            "baxis": {
             "endlinecolor": "#2a3f5f",
             "gridcolor": "white",
             "linecolor": "white",
             "minorgridcolor": "white",
             "startlinecolor": "#2a3f5f"
            },
            "type": "carpet"
           }
          ],
          "choropleth": [
           {
            "colorbar": {
             "outlinewidth": 0,
             "ticks": ""
            },
            "type": "choropleth"
           }
          ],
          "contour": [
           {
            "colorbar": {
             "outlinewidth": 0,
             "ticks": ""
            },
            "colorscale": [
             [
              0,
              "#0d0887"
             ],
             [
              0.1111111111111111,
              "#46039f"
             ],
             [
              0.2222222222222222,
              "#7201a8"
             ],
             [
              0.3333333333333333,
              "#9c179e"
             ],
             [
              0.4444444444444444,
              "#bd3786"
             ],
             [
              0.5555555555555556,
              "#d8576b"
             ],
             [
              0.6666666666666666,
              "#ed7953"
             ],
             [
              0.7777777777777778,
              "#fb9f3a"
             ],
             [
              0.8888888888888888,
              "#fdca26"
             ],
             [
              1,
              "#f0f921"
             ]
            ],
            "type": "contour"
           }
          ],
          "contourcarpet": [
           {
            "colorbar": {
             "outlinewidth": 0,
             "ticks": ""
            },
            "type": "contourcarpet"
           }
          ],
          "heatmap": [
           {
            "colorbar": {
             "outlinewidth": 0,
             "ticks": ""
            },
            "colorscale": [
             [
              0,
              "#0d0887"
             ],
             [
              0.1111111111111111,
              "#46039f"
             ],
             [
              0.2222222222222222,
              "#7201a8"
             ],
             [
              0.3333333333333333,
              "#9c179e"
             ],
             [
              0.4444444444444444,
              "#bd3786"
             ],
             [
              0.5555555555555556,
              "#d8576b"
             ],
             [
              0.6666666666666666,
              "#ed7953"
             ],
             [
              0.7777777777777778,
              "#fb9f3a"
             ],
             [
              0.8888888888888888,
              "#fdca26"
             ],
             [
              1,
              "#f0f921"
             ]
            ],
            "type": "heatmap"
           }
          ],
          "heatmapgl": [
           {
            "colorbar": {
             "outlinewidth": 0,
             "ticks": ""
            },
            "colorscale": [
             [
              0,
              "#0d0887"
             ],
             [
              0.1111111111111111,
              "#46039f"
             ],
             [
              0.2222222222222222,
              "#7201a8"
             ],
             [
              0.3333333333333333,
              "#9c179e"
             ],
             [
              0.4444444444444444,
              "#bd3786"
             ],
             [
              0.5555555555555556,
              "#d8576b"
             ],
             [
              0.6666666666666666,
              "#ed7953"
             ],
             [
              0.7777777777777778,
              "#fb9f3a"
             ],
             [
              0.8888888888888888,
              "#fdca26"
             ],
             [
              1,
              "#f0f921"
             ]
            ],
            "type": "heatmapgl"
           }
          ],
          "histogram": [
           {
            "marker": {
             "colorbar": {
              "outlinewidth": 0,
              "ticks": ""
             }
            },
            "type": "histogram"
           }
          ],
          "histogram2d": [
           {
            "colorbar": {
             "outlinewidth": 0,
             "ticks": ""
            },
            "colorscale": [
             [
              0,
              "#0d0887"
             ],
             [
              0.1111111111111111,
              "#46039f"
             ],
             [
              0.2222222222222222,
              "#7201a8"
             ],
             [
              0.3333333333333333,
              "#9c179e"
             ],
             [
              0.4444444444444444,
              "#bd3786"
             ],
             [
              0.5555555555555556,
              "#d8576b"
             ],
             [
              0.6666666666666666,
              "#ed7953"
             ],
             [
              0.7777777777777778,
              "#fb9f3a"
             ],
             [
              0.8888888888888888,
              "#fdca26"
             ],
             [
              1,
              "#f0f921"
             ]
            ],
            "type": "histogram2d"
           }
          ],
          "histogram2dcontour": [
           {
            "colorbar": {
             "outlinewidth": 0,
             "ticks": ""
            },
            "colorscale": [
             [
              0,
              "#0d0887"
             ],
             [
              0.1111111111111111,
              "#46039f"
             ],
             [
              0.2222222222222222,
              "#7201a8"
             ],
             [
              0.3333333333333333,
              "#9c179e"
             ],
             [
              0.4444444444444444,
              "#bd3786"
             ],
             [
              0.5555555555555556,
              "#d8576b"
             ],
             [
              0.6666666666666666,
              "#ed7953"
             ],
             [
              0.7777777777777778,
              "#fb9f3a"
             ],
             [
              0.8888888888888888,
              "#fdca26"
             ],
             [
              1,
              "#f0f921"
             ]
            ],
            "type": "histogram2dcontour"
           }
          ],
          "mesh3d": [
           {
            "colorbar": {
             "outlinewidth": 0,
             "ticks": ""
            },
            "type": "mesh3d"
           }
          ],
          "parcoords": [
           {
            "line": {
             "colorbar": {
              "outlinewidth": 0,
              "ticks": ""
             }
            },
            "type": "parcoords"
           }
          ],
          "pie": [
           {
            "automargin": true,
            "type": "pie"
           }
          ],
          "scatter": [
           {
            "marker": {
             "colorbar": {
              "outlinewidth": 0,
              "ticks": ""
             }
            },
            "type": "scatter"
           }
          ],
          "scatter3d": [
           {
            "line": {
             "colorbar": {
              "outlinewidth": 0,
              "ticks": ""
             }
            },
            "marker": {
             "colorbar": {
              "outlinewidth": 0,
              "ticks": ""
             }
            },
            "type": "scatter3d"
           }
          ],
          "scattercarpet": [
           {
            "marker": {
             "colorbar": {
              "outlinewidth": 0,
              "ticks": ""
             }
            },
            "type": "scattercarpet"
           }
          ],
          "scattergeo": [
           {
            "marker": {
             "colorbar": {
              "outlinewidth": 0,
              "ticks": ""
             }
            },
            "type": "scattergeo"
           }
          ],
          "scattergl": [
           {
            "marker": {
             "colorbar": {
              "outlinewidth": 0,
              "ticks": ""
             }
            },
            "type": "scattergl"
           }
          ],
          "scattermapbox": [
           {
            "marker": {
             "colorbar": {
              "outlinewidth": 0,
              "ticks": ""
             }
            },
            "type": "scattermapbox"
           }
          ],
          "scatterpolar": [
           {
            "marker": {
             "colorbar": {
              "outlinewidth": 0,
              "ticks": ""
             }
            },
            "type": "scatterpolar"
           }
          ],
          "scatterpolargl": [
           {
            "marker": {
             "colorbar": {
              "outlinewidth": 0,
              "ticks": ""
             }
            },
            "type": "scatterpolargl"
           }
          ],
          "scatterternary": [
           {
            "marker": {
             "colorbar": {
              "outlinewidth": 0,
              "ticks": ""
             }
            },
            "type": "scatterternary"
           }
          ],
          "surface": [
           {
            "colorbar": {
             "outlinewidth": 0,
             "ticks": ""
            },
            "colorscale": [
             [
              0,
              "#0d0887"
             ],
             [
              0.1111111111111111,
              "#46039f"
             ],
             [
              0.2222222222222222,
              "#7201a8"
             ],
             [
              0.3333333333333333,
              "#9c179e"
             ],
             [
              0.4444444444444444,
              "#bd3786"
             ],
             [
              0.5555555555555556,
              "#d8576b"
             ],
             [
              0.6666666666666666,
              "#ed7953"
             ],
             [
              0.7777777777777778,
              "#fb9f3a"
             ],
             [
              0.8888888888888888,
              "#fdca26"
             ],
             [
              1,
              "#f0f921"
             ]
            ],
            "type": "surface"
           }
          ],
          "table": [
           {
            "cells": {
             "fill": {
              "color": "#EBF0F8"
             },
             "line": {
              "color": "white"
             }
            },
            "header": {
             "fill": {
              "color": "#C8D4E3"
             },
             "line": {
              "color": "white"
             }
            },
            "type": "table"
           }
          ]
         },
         "layout": {
          "annotationdefaults": {
           "arrowcolor": "#2a3f5f",
           "arrowhead": 0,
           "arrowwidth": 1
          },
          "coloraxis": {
           "colorbar": {
            "outlinewidth": 0,
            "ticks": ""
           }
          },
          "colorscale": {
           "diverging": [
            [
             0,
             "#8e0152"
            ],
            [
             0.1,
             "#c51b7d"
            ],
            [
             0.2,
             "#de77ae"
            ],
            [
             0.3,
             "#f1b6da"
            ],
            [
             0.4,
             "#fde0ef"
            ],
            [
             0.5,
             "#f7f7f7"
            ],
            [
             0.6,
             "#e6f5d0"
            ],
            [
             0.7,
             "#b8e186"
            ],
            [
             0.8,
             "#7fbc41"
            ],
            [
             0.9,
             "#4d9221"
            ],
            [
             1,
             "#276419"
            ]
           ],
           "sequential": [
            [
             0,
             "#0d0887"
            ],
            [
             0.1111111111111111,
             "#46039f"
            ],
            [
             0.2222222222222222,
             "#7201a8"
            ],
            [
             0.3333333333333333,
             "#9c179e"
            ],
            [
             0.4444444444444444,
             "#bd3786"
            ],
            [
             0.5555555555555556,
             "#d8576b"
            ],
            [
             0.6666666666666666,
             "#ed7953"
            ],
            [
             0.7777777777777778,
             "#fb9f3a"
            ],
            [
             0.8888888888888888,
             "#fdca26"
            ],
            [
             1,
             "#f0f921"
            ]
           ],
           "sequentialminus": [
            [
             0,
             "#0d0887"
            ],
            [
             0.1111111111111111,
             "#46039f"
            ],
            [
             0.2222222222222222,
             "#7201a8"
            ],
            [
             0.3333333333333333,
             "#9c179e"
            ],
            [
             0.4444444444444444,
             "#bd3786"
            ],
            [
             0.5555555555555556,
             "#d8576b"
            ],
            [
             0.6666666666666666,
             "#ed7953"
            ],
            [
             0.7777777777777778,
             "#fb9f3a"
            ],
            [
             0.8888888888888888,
             "#fdca26"
            ],
            [
             1,
             "#f0f921"
            ]
           ]
          },
          "colorway": [
           "#636efa",
           "#EF553B",
           "#00cc96",
           "#ab63fa",
           "#FFA15A",
           "#19d3f3",
           "#FF6692",
           "#B6E880",
           "#FF97FF",
           "#FECB52"
          ],
          "font": {
           "color": "#2a3f5f"
          },
          "geo": {
           "bgcolor": "white",
           "lakecolor": "white",
           "landcolor": "#E5ECF6",
           "showlakes": true,
           "showland": true,
           "subunitcolor": "white"
          },
          "hoverlabel": {
           "align": "left"
          },
          "hovermode": "closest",
          "mapbox": {
           "style": "light"
          },
          "paper_bgcolor": "white",
          "plot_bgcolor": "#E5ECF6",
          "polar": {
           "angularaxis": {
            "gridcolor": "white",
            "linecolor": "white",
            "ticks": ""
           },
           "bgcolor": "#E5ECF6",
           "radialaxis": {
            "gridcolor": "white",
            "linecolor": "white",
            "ticks": ""
           }
          },
          "scene": {
           "xaxis": {
            "backgroundcolor": "#E5ECF6",
            "gridcolor": "white",
            "gridwidth": 2,
            "linecolor": "white",
            "showbackground": true,
            "ticks": "",
            "zerolinecolor": "white"
           },
           "yaxis": {
            "backgroundcolor": "#E5ECF6",
            "gridcolor": "white",
            "gridwidth": 2,
            "linecolor": "white",
            "showbackground": true,
            "ticks": "",
            "zerolinecolor": "white"
           },
           "zaxis": {
            "backgroundcolor": "#E5ECF6",
            "gridcolor": "white",
            "gridwidth": 2,
            "linecolor": "white",
            "showbackground": true,
            "ticks": "",
            "zerolinecolor": "white"
           }
          },
          "shapedefaults": {
           "line": {
            "color": "#2a3f5f"
           }
          },
          "ternary": {
           "aaxis": {
            "gridcolor": "white",
            "linecolor": "white",
            "ticks": ""
           },
           "baxis": {
            "gridcolor": "white",
            "linecolor": "white",
            "ticks": ""
           },
           "bgcolor": "#E5ECF6",
           "caxis": {
            "gridcolor": "white",
            "linecolor": "white",
            "ticks": ""
           }
          },
          "title": {
           "x": 0.05
          },
          "xaxis": {
           "automargin": true,
           "gridcolor": "white",
           "linecolor": "white",
           "ticks": "",
           "title": {
            "standoff": 15
           },
           "zerolinecolor": "white",
           "zerolinewidth": 2
          },
          "yaxis": {
           "automargin": true,
           "gridcolor": "white",
           "linecolor": "white",
           "ticks": "",
           "title": {
            "standoff": 15
           },
           "zerolinecolor": "white",
           "zerolinewidth": 2
          }
         }
        },
        "uniformtext": {
         "minsize": 8,
         "mode": "hide"
        },
        "width": 1000,
        "xaxis": {
         "anchor": "y",
         "domain": [
          0,
          1
         ],
         "tickangle": 0,
         "tickfont": {
          "size": 15
         },
         "title": {
          "font": {
           "size": 18
          },
          "text": "Prices ($)"
         }
        },
        "yaxis": {
         "anchor": "x",
         "domain": [
          0,
          1
         ],
         "tickfont": {
          "size": 13
         },
         "title": {
          "font": {
           "size": 18
          },
          "text": "Avg. customer reviews (1-5)"
         }
        }
       }
      },
      "text/html": [
       "<div>\n",
       "        \n",
       "        \n",
       "            <div id=\"d52960ea-4e24-494b-85af-16a3fcf34d15\" class=\"plotly-graph-div\" style=\"height:400px; width:1000px;\"></div>\n",
       "            <script type=\"text/javascript\">\n",
       "                require([\"plotly\"], function(Plotly) {\n",
       "                    window.PLOTLYENV=window.PLOTLYENV || {};\n",
       "                    \n",
       "                if (document.getElementById(\"d52960ea-4e24-494b-85af-16a3fcf34d15\")) {\n",
       "                    Plotly.newPlot(\n",
       "                        'd52960ea-4e24-494b-85af-16a3fcf34d15',\n",
       "                        [{\"hoverlabel\": {\"namelength\": 0}, \"hovertemplate\": \"<b>%{hovertext}</b><br><br>brand=HP<br>price=%{x}<br>average_customer_reviews=%{marker.size}\", \"hovertext\": [\"HP\", \"HP\", \"HP\", \"HP\", \"HP\"], \"legendgroup\": \"HP\", \"marker\": {\"color\": \"#636efa\", \"size\": [4.5, 3.7, 3.9, 4.2, 3.8], \"sizemode\": \"area\", \"sizeref\": 0.005, \"symbol\": \"circle\"}, \"mode\": \"markers\", \"name\": \"HP\", \"showlegend\": true, \"type\": \"scatter\", \"x\": [690.0, 357.0, 229.0, 323.0, 949.0], \"xaxis\": \"x\", \"y\": [4.5, 3.7, 3.9, 4.2, 3.8], \"yaxis\": \"y\"}, {\"hoverlabel\": {\"namelength\": 0}, \"hovertemplate\": \"<b>%{hovertext}</b><br><br>brand=Lenovo<br>price=%{x}<br>average_customer_reviews=%{marker.size}\", \"hovertext\": [\"Lenovo\", \"Lenovo\", \"Lenovo\", \"Lenovo\", \"Lenovo\", \"Lenovo\", \"Lenovo\", \"Lenovo\"], \"legendgroup\": \"Lenovo\", \"marker\": {\"color\": \"#EF553B\", \"size\": [4.0, 4.1, 3.9, 4.1, 3.6, 4.3, 4.2, 4.1], \"sizemode\": \"area\", \"sizeref\": 0.005, \"symbol\": \"circle\"}, \"mode\": \"markers\", \"name\": \"Lenovo\", \"showlegend\": true, \"type\": \"scatter\", \"x\": [490.0, 99.0, null, 625.0, 235.0, 229.0, 247.0, 533.0], \"xaxis\": \"x\", \"y\": [4.0, 4.1, 3.9, 4.1, 3.6, 4.3, 4.2, 4.1], \"yaxis\": \"y\"}, {\"hoverlabel\": {\"namelength\": 0}, \"hovertemplate\": \"<b>%{hovertext}</b><br><br>brand=Acer<br>price=%{x}<br>average_customer_reviews=%{marker.size}\", \"hovertext\": [\"Acer\", \"Acer\", \"Acer\", \"Acer\", \"Acer\", \"Acer\", \"Acer\", \"Acer\", \"Acer\", \"Acer\", \"Acer\", \"Acer\", \"Acer\", \"Acer\"], \"legendgroup\": \"Acer\", \"marker\": {\"color\": \"#00cc96\", \"size\": [4.0, 4.5, 4.1, 3.7, 4.0, 4.0, 4.1, 4.3, 4.3, 3.9, 4.3, 4.3, 4.4, 3.9], \"sizemode\": \"area\", \"sizeref\": 0.005, \"symbol\": \"circle\"}, \"mode\": \"markers\", \"name\": \"Acer\", \"showlegend\": true, \"type\": \"scatter\", \"x\": [927.0, 167.0, 133.0, 327.0, 196.0, 274.0, 269.0, 710.0, null, 219.0, 495.0, 1088.0, 340.0, 210.0], \"xaxis\": \"x\", \"y\": [4.0, 4.5, 4.1, 3.7, 4.0, 4.0, 4.1, 4.3, 4.3, 3.9, 4.3, 4.3, 4.4, 3.9], \"yaxis\": \"y\"}, {\"hoverlabel\": {\"namelength\": 0}, \"hovertemplate\": \"<b>%{hovertext}</b><br><br>brand=Asus<br>price=%{x}<br>average_customer_reviews=%{marker.size}\", \"hovertext\": [\"Asus\", \"Asus\", \"Asus\", \"Asus\", \"Asus\", \"Asus\"], \"legendgroup\": \"Asus\", \"marker\": {\"color\": \"#ab63fa\", \"size\": [3.9, 4.2, 3.8, 3.6, 3.8, 3.9], \"sizemode\": \"area\", \"sizeref\": 0.005, \"symbol\": \"circle\"}, \"mode\": \"markers\", \"name\": \"Asus\", \"showlegend\": true, \"type\": \"scatter\", \"x\": [null, 380.0, 340.0, 1470.0, 210.0, 208.0], \"xaxis\": \"x\", \"y\": [3.9, 4.2, 3.8, 3.6, 3.8, 3.9], \"yaxis\": \"y\"}, {\"hoverlabel\": {\"namelength\": 0}, \"hovertemplate\": \"<b>%{hovertext}</b><br><br>brand=Dell<br>price=%{x}<br>average_customer_reviews=%{marker.size}\", \"hovertext\": [\"Dell\"], \"legendgroup\": \"Dell\", \"marker\": {\"color\": \"#FFA15A\", \"size\": [3.5], \"sizemode\": \"area\", \"sizeref\": 0.005, \"symbol\": \"circle\"}, \"mode\": \"markers\", \"name\": \"Dell\", \"showlegend\": true, \"type\": \"scatter\", \"x\": [400.0], \"xaxis\": \"x\", \"y\": [3.5], \"yaxis\": \"y\"}, {\"hoverlabel\": {\"namelength\": 0}, \"hovertemplate\": \"<b>%{hovertext}</b><br><br>brand=Samsung<br>price=%{x}<br>average_customer_reviews=%{marker.size}\", \"hovertext\": [\"Samsung\"], \"legendgroup\": \"Samsung\", \"marker\": {\"color\": \"#19d3f3\", \"size\": [4.3], \"sizemode\": \"area\", \"sizeref\": 0.005, \"symbol\": \"circle\"}, \"mode\": \"markers\", \"name\": \"Samsung\", \"showlegend\": true, \"type\": \"scatter\", \"x\": [215.0], \"xaxis\": \"x\", \"y\": [4.3], \"yaxis\": \"y\"}],\n",
       "                        {\"coloraxis\": {\"showscale\": false}, \"font\": {\"color\": \"black\", \"size\": 20}, \"height\": 400, \"legend\": {\"itemsizing\": \"constant\", \"title\": {\"text\": \"Brand\"}, \"tracegroupgap\": 0}, \"margin\": {\"b\": 0, \"l\": 5, \"r\": 5, \"t\": 10}, \"template\": {\"data\": {\"bar\": [{\"error_x\": {\"color\": \"#2a3f5f\"}, \"error_y\": {\"color\": \"#2a3f5f\"}, \"marker\": {\"line\": {\"color\": \"#E5ECF6\", \"width\": 0.5}}, \"type\": \"bar\"}], \"barpolar\": [{\"marker\": {\"line\": {\"color\": \"#E5ECF6\", \"width\": 0.5}}, \"type\": \"barpolar\"}], \"carpet\": [{\"aaxis\": {\"endlinecolor\": \"#2a3f5f\", \"gridcolor\": \"white\", \"linecolor\": \"white\", \"minorgridcolor\": \"white\", \"startlinecolor\": \"#2a3f5f\"}, \"baxis\": {\"endlinecolor\": \"#2a3f5f\", \"gridcolor\": \"white\", \"linecolor\": \"white\", \"minorgridcolor\": \"white\", \"startlinecolor\": \"#2a3f5f\"}, \"type\": \"carpet\"}], \"choropleth\": [{\"colorbar\": {\"outlinewidth\": 0, \"ticks\": \"\"}, \"type\": \"choropleth\"}], \"contour\": [{\"colorbar\": {\"outlinewidth\": 0, \"ticks\": \"\"}, \"colorscale\": [[0.0, \"#0d0887\"], [0.1111111111111111, \"#46039f\"], [0.2222222222222222, \"#7201a8\"], [0.3333333333333333, \"#9c179e\"], [0.4444444444444444, \"#bd3786\"], [0.5555555555555556, \"#d8576b\"], [0.6666666666666666, \"#ed7953\"], [0.7777777777777778, \"#fb9f3a\"], [0.8888888888888888, \"#fdca26\"], [1.0, \"#f0f921\"]], \"type\": \"contour\"}], \"contourcarpet\": [{\"colorbar\": {\"outlinewidth\": 0, \"ticks\": \"\"}, \"type\": \"contourcarpet\"}], \"heatmap\": [{\"colorbar\": {\"outlinewidth\": 0, \"ticks\": \"\"}, \"colorscale\": [[0.0, \"#0d0887\"], [0.1111111111111111, \"#46039f\"], [0.2222222222222222, \"#7201a8\"], [0.3333333333333333, \"#9c179e\"], [0.4444444444444444, \"#bd3786\"], [0.5555555555555556, \"#d8576b\"], [0.6666666666666666, \"#ed7953\"], [0.7777777777777778, \"#fb9f3a\"], [0.8888888888888888, \"#fdca26\"], [1.0, \"#f0f921\"]], \"type\": \"heatmap\"}], \"heatmapgl\": [{\"colorbar\": {\"outlinewidth\": 0, \"ticks\": \"\"}, \"colorscale\": [[0.0, \"#0d0887\"], [0.1111111111111111, \"#46039f\"], [0.2222222222222222, \"#7201a8\"], [0.3333333333333333, \"#9c179e\"], [0.4444444444444444, \"#bd3786\"], [0.5555555555555556, \"#d8576b\"], [0.6666666666666666, \"#ed7953\"], [0.7777777777777778, \"#fb9f3a\"], [0.8888888888888888, \"#fdca26\"], [1.0, \"#f0f921\"]], \"type\": \"heatmapgl\"}], \"histogram\": [{\"marker\": {\"colorbar\": {\"outlinewidth\": 0, \"ticks\": \"\"}}, \"type\": \"histogram\"}], \"histogram2d\": [{\"colorbar\": {\"outlinewidth\": 0, \"ticks\": \"\"}, \"colorscale\": [[0.0, \"#0d0887\"], [0.1111111111111111, \"#46039f\"], [0.2222222222222222, \"#7201a8\"], [0.3333333333333333, \"#9c179e\"], [0.4444444444444444, \"#bd3786\"], [0.5555555555555556, \"#d8576b\"], [0.6666666666666666, \"#ed7953\"], [0.7777777777777778, \"#fb9f3a\"], [0.8888888888888888, \"#fdca26\"], [1.0, \"#f0f921\"]], \"type\": \"histogram2d\"}], \"histogram2dcontour\": [{\"colorbar\": {\"outlinewidth\": 0, \"ticks\": \"\"}, \"colorscale\": [[0.0, \"#0d0887\"], [0.1111111111111111, \"#46039f\"], [0.2222222222222222, \"#7201a8\"], [0.3333333333333333, \"#9c179e\"], [0.4444444444444444, \"#bd3786\"], [0.5555555555555556, \"#d8576b\"], [0.6666666666666666, \"#ed7953\"], [0.7777777777777778, \"#fb9f3a\"], [0.8888888888888888, \"#fdca26\"], [1.0, \"#f0f921\"]], \"type\": \"histogram2dcontour\"}], \"mesh3d\": [{\"colorbar\": {\"outlinewidth\": 0, \"ticks\": \"\"}, \"type\": \"mesh3d\"}], \"parcoords\": [{\"line\": {\"colorbar\": {\"outlinewidth\": 0, \"ticks\": \"\"}}, \"type\": \"parcoords\"}], \"pie\": [{\"automargin\": true, \"type\": \"pie\"}], \"scatter\": [{\"marker\": {\"colorbar\": {\"outlinewidth\": 0, \"ticks\": \"\"}}, \"type\": \"scatter\"}], \"scatter3d\": [{\"line\": {\"colorbar\": {\"outlinewidth\": 0, \"ticks\": \"\"}}, \"marker\": {\"colorbar\": {\"outlinewidth\": 0, \"ticks\": \"\"}}, \"type\": \"scatter3d\"}], \"scattercarpet\": [{\"marker\": {\"colorbar\": {\"outlinewidth\": 0, \"ticks\": \"\"}}, \"type\": \"scattercarpet\"}], \"scattergeo\": [{\"marker\": {\"colorbar\": {\"outlinewidth\": 0, \"ticks\": \"\"}}, \"type\": \"scattergeo\"}], \"scattergl\": [{\"marker\": {\"colorbar\": {\"outlinewidth\": 0, \"ticks\": \"\"}}, \"type\": \"scattergl\"}], \"scattermapbox\": [{\"marker\": {\"colorbar\": {\"outlinewidth\": 0, \"ticks\": \"\"}}, \"type\": \"scattermapbox\"}], \"scatterpolar\": [{\"marker\": {\"colorbar\": {\"outlinewidth\": 0, \"ticks\": \"\"}}, \"type\": \"scatterpolar\"}], \"scatterpolargl\": [{\"marker\": {\"colorbar\": {\"outlinewidth\": 0, \"ticks\": \"\"}}, \"type\": \"scatterpolargl\"}], \"scatterternary\": [{\"marker\": {\"colorbar\": {\"outlinewidth\": 0, \"ticks\": \"\"}}, \"type\": \"scatterternary\"}], \"surface\": [{\"colorbar\": {\"outlinewidth\": 0, \"ticks\": \"\"}, \"colorscale\": [[0.0, \"#0d0887\"], [0.1111111111111111, \"#46039f\"], [0.2222222222222222, \"#7201a8\"], [0.3333333333333333, \"#9c179e\"], [0.4444444444444444, \"#bd3786\"], [0.5555555555555556, \"#d8576b\"], [0.6666666666666666, \"#ed7953\"], [0.7777777777777778, \"#fb9f3a\"], [0.8888888888888888, \"#fdca26\"], [1.0, \"#f0f921\"]], \"type\": \"surface\"}], \"table\": [{\"cells\": {\"fill\": {\"color\": \"#EBF0F8\"}, \"line\": {\"color\": \"white\"}}, \"header\": {\"fill\": {\"color\": \"#C8D4E3\"}, \"line\": {\"color\": \"white\"}}, \"type\": \"table\"}]}, \"layout\": {\"annotationdefaults\": {\"arrowcolor\": \"#2a3f5f\", \"arrowhead\": 0, \"arrowwidth\": 1}, \"coloraxis\": {\"colorbar\": {\"outlinewidth\": 0, \"ticks\": \"\"}}, \"colorscale\": {\"diverging\": [[0, \"#8e0152\"], [0.1, \"#c51b7d\"], [0.2, \"#de77ae\"], [0.3, \"#f1b6da\"], [0.4, \"#fde0ef\"], [0.5, \"#f7f7f7\"], [0.6, \"#e6f5d0\"], [0.7, \"#b8e186\"], [0.8, \"#7fbc41\"], [0.9, \"#4d9221\"], [1, \"#276419\"]], \"sequential\": [[0.0, \"#0d0887\"], [0.1111111111111111, \"#46039f\"], [0.2222222222222222, \"#7201a8\"], [0.3333333333333333, \"#9c179e\"], [0.4444444444444444, \"#bd3786\"], [0.5555555555555556, \"#d8576b\"], [0.6666666666666666, \"#ed7953\"], [0.7777777777777778, \"#fb9f3a\"], [0.8888888888888888, \"#fdca26\"], [1.0, \"#f0f921\"]], \"sequentialminus\": [[0.0, \"#0d0887\"], [0.1111111111111111, \"#46039f\"], [0.2222222222222222, \"#7201a8\"], [0.3333333333333333, \"#9c179e\"], [0.4444444444444444, \"#bd3786\"], [0.5555555555555556, \"#d8576b\"], [0.6666666666666666, \"#ed7953\"], [0.7777777777777778, \"#fb9f3a\"], [0.8888888888888888, \"#fdca26\"], [1.0, \"#f0f921\"]]}, \"colorway\": [\"#636efa\", \"#EF553B\", \"#00cc96\", \"#ab63fa\", \"#FFA15A\", \"#19d3f3\", \"#FF6692\", \"#B6E880\", \"#FF97FF\", \"#FECB52\"], \"font\": {\"color\": \"#2a3f5f\"}, \"geo\": {\"bgcolor\": \"white\", \"lakecolor\": \"white\", \"landcolor\": \"#E5ECF6\", \"showlakes\": true, \"showland\": true, \"subunitcolor\": \"white\"}, \"hoverlabel\": {\"align\": \"left\"}, \"hovermode\": \"closest\", \"mapbox\": {\"style\": \"light\"}, \"paper_bgcolor\": \"white\", \"plot_bgcolor\": \"#E5ECF6\", \"polar\": {\"angularaxis\": {\"gridcolor\": \"white\", \"linecolor\": \"white\", \"ticks\": \"\"}, \"bgcolor\": \"#E5ECF6\", \"radialaxis\": {\"gridcolor\": \"white\", \"linecolor\": \"white\", \"ticks\": \"\"}}, \"scene\": {\"xaxis\": {\"backgroundcolor\": \"#E5ECF6\", \"gridcolor\": \"white\", \"gridwidth\": 2, \"linecolor\": \"white\", \"showbackground\": true, \"ticks\": \"\", \"zerolinecolor\": \"white\"}, \"yaxis\": {\"backgroundcolor\": \"#E5ECF6\", \"gridcolor\": \"white\", \"gridwidth\": 2, \"linecolor\": \"white\", \"showbackground\": true, \"ticks\": \"\", \"zerolinecolor\": \"white\"}, \"zaxis\": {\"backgroundcolor\": \"#E5ECF6\", \"gridcolor\": \"white\", \"gridwidth\": 2, \"linecolor\": \"white\", \"showbackground\": true, \"ticks\": \"\", \"zerolinecolor\": \"white\"}}, \"shapedefaults\": {\"line\": {\"color\": \"#2a3f5f\"}}, \"ternary\": {\"aaxis\": {\"gridcolor\": \"white\", \"linecolor\": \"white\", \"ticks\": \"\"}, \"baxis\": {\"gridcolor\": \"white\", \"linecolor\": \"white\", \"ticks\": \"\"}, \"bgcolor\": \"#E5ECF6\", \"caxis\": {\"gridcolor\": \"white\", \"linecolor\": \"white\", \"ticks\": \"\"}}, \"title\": {\"x\": 0.05}, \"xaxis\": {\"automargin\": true, \"gridcolor\": \"white\", \"linecolor\": \"white\", \"ticks\": \"\", \"title\": {\"standoff\": 15}, \"zerolinecolor\": \"white\", \"zerolinewidth\": 2}, \"yaxis\": {\"automargin\": true, \"gridcolor\": \"white\", \"linecolor\": \"white\", \"ticks\": \"\", \"title\": {\"standoff\": 15}, \"zerolinecolor\": \"white\", \"zerolinewidth\": 2}}}, \"uniformtext\": {\"minsize\": 8, \"mode\": \"hide\"}, \"width\": 1000, \"xaxis\": {\"anchor\": \"y\", \"domain\": [0.0, 1.0], \"tickangle\": 0, \"tickfont\": {\"size\": 15}, \"title\": {\"font\": {\"size\": 18}, \"text\": \"Prices ($)\"}}, \"yaxis\": {\"anchor\": \"x\", \"domain\": [0.0, 1.0], \"tickfont\": {\"size\": 13}, \"title\": {\"font\": {\"size\": 18}, \"text\": \"Avg. customer reviews (1-5)\"}}},\n",
       "                        {\"responsive\": true}\n",
       "                    ).then(function(){\n",
       "                            \n",
       "var gd = document.getElementById('d52960ea-4e24-494b-85af-16a3fcf34d15');\n",
       "var x = new MutationObserver(function (mutations, observer) {{\n",
       "        var display = window.getComputedStyle(gd).display;\n",
       "        if (!display || display === 'none') {{\n",
       "            console.log([gd, 'removed!']);\n",
       "            Plotly.purge(gd);\n",
       "            observer.disconnect();\n",
       "        }}\n",
       "}});\n",
       "\n",
       "// Listen for the removal of the full notebook cells\n",
       "var notebookContainer = gd.closest('#notebook-container');\n",
       "if (notebookContainer) {{\n",
       "    x.observe(notebookContainer, {childList: true});\n",
       "}}\n",
       "\n",
       "// Listen for the clearing of the current output cell\n",
       "var outputEl = gd.closest('.output');\n",
       "if (outputEl) {{\n",
       "    x.observe(outputEl, {childList: true});\n",
       "}}\n",
       "\n",
       "                        })\n",
       "                };\n",
       "                });\n",
       "            </script>\n",
       "        </div>"
      ]
     },
     "metadata": {},
     "output_type": "display_data"
    }
   ],
   "source": [
    "import pandas as pd\n",
    "import plotly.express as px\n",
    "import plotly.graph_objs as go\n",
    "\n",
    "data = pd.read_json('./0Figuras/amazon_data.json')\n",
    "fig = px.scatter(data, x=\"price\", y=\"average_customer_reviews\",\n",
    "                size=\"average_customer_reviews\", color=\"brand\",\n",
    "                hover_name=\"brand\", log_x=False, size_max=30)\n",
    "fig.update_layout(\n",
    "        width=1000, height=400,\n",
    "        margin=go.layout.Margin(l=5, r=5, t=10, b=0), xaxis_tickangle=0,\n",
    "        uniformtext_minsize=8, uniformtext_mode='hide', coloraxis_showscale=False,\n",
    "        yaxis=dict(title='Avg. customer reviews (1-5)', titlefont_size=18, tickfont_size=13),\n",
    "        xaxis=dict(title='Prices ($)', titlefont_size=18, tickfont_size=15),\n",
    "        font=dict(size=20, color=\"black\"),\n",
    "        legend_title=\"Brand\")"
   ]
  },
  {
   "cell_type": "markdown",
   "metadata": {
    "slideshow": {
     "slide_type": "slide"
    }
   },
   "source": [
    "<div style=\"text-align:center; color: white; background-color:#007bff\">\n",
    "    <span style=\"font-family:Georgia; font-size:1.4em; font-weight:bold\">\n",
    "        Cloud design for high availability\n",
    "    </span>\n",
    "</div>\n",
    "<div style=\"text-align:center;\">\n",
    "    <span style=\"font-family:Georgia; font-size:1em;\">\n",
    "        This is the latest deployment of the Dashboard\n",
    "    </span>    \n",
    "</div>\n",
    "<div style=\"background-color:white; padding: 1pt\">\n",
    "    <img src=\"0Figuras/cloud_architecture_diagram2.svg\" alt=\"drawing\" style=\"width:65%; display:block; margin-left:auto; margin-right: auto;\"/>\n",
    "</div>"
   ]
  },
  {
   "cell_type": "markdown",
   "metadata": {
    "slideshow": {
     "slide_type": "slide"
    }
   },
   "source": [
    "<div style=\"text-align:center; color: white; background-color:#007bff\">\n",
    "    <span style=\"font-family:Georgia; font-size:1.4em; font-weight:bold\">\n",
    "        Cloud design of a Three-tier architecture for high availability\n",
    "    </span>\n",
    "</div>\n",
    "<!-- <div style=\"text-align:center;\">\n",
    "    <span style=\"font-family:Georgia; font-size:1em;\">\n",
    "        This is the latest deployment of the Dashboard\n",
    "    </span> -->\n",
    "</div>\n",
    "<div style=\"background-color:white; padding: 1pt\">\n",
    "    <img src=\"0Figuras/cloud_architecture_diagram.svg\" alt=\"drawing\" style=\"width:52%; display:block; margin-left:auto; margin-right: auto;\"/>\n",
    "</div>"
   ]
  }
 ],
 "metadata": {
  "celltoolbar": "Diaporama",
  "kernelspec": {
   "display_name": "Python 3",
   "language": "python",
   "name": "python3"
  },
  "language_info": {
   "codemirror_mode": {
    "name": "ipython",
    "version": 3
   },
   "file_extension": ".py",
   "mimetype": "text/x-python",
   "name": "python",
   "nbconvert_exporter": "python",
   "pygments_lexer": "ipython3",
   "version": "3.7.4"
  }
 },
 "nbformat": 4,
 "nbformat_minor": 2
}
