{
 "cells": [
  {
   "cell_type": "markdown",
   "metadata": {},
   "source": [
    "# Lexicon-based Sentiment Analysis"
   ]
  },
  {
   "cell_type": "markdown",
   "metadata": {},
   "source": [
    "## Data preparation"
   ]
  },
  {
   "cell_type": "markdown",
   "metadata": {},
   "source": [
    "### From the raw data"
   ]
  },
  {
   "cell_type": "markdown",
   "metadata": {},
   "source": [
    "#### Loading the data"
   ]
  },
  {
   "cell_type": "code",
   "execution_count": null,
   "metadata": {},
   "outputs": [],
   "source": [
    "import pandas as pd\n",
    "\n",
    "# After extracting the data from Amazon using scrapy, we have stored the data into a simple json text file.\n",
    "# Importing the data from the json text file into a pandas dataframe:\n",
    "amazon_data = pd.read_json('/home/adelo/1-system/1-disco_local/1-mis_archivos/1-pe/1-ciencia/1-computer_science_an_IT/2-data_science/1-Amazon_Laptops_Dashboard/amazon_data.json')\n",
    "\n",
    "# amazon_data[['ASIN','price','average_customer_reviews','number_reviews','number_ratings','tech_details','reviews']]\n",
    "amazon_data"
   ]
  },
  {
   "cell_type": "markdown",
   "metadata": {},
   "source": [
    "#### Formatting"
   ]
  },
  {
   "cell_type": "code",
   "execution_count": null,
   "metadata": {},
   "outputs": [],
   "source": [
    "# The following function takes a numeric string (<class 'str'>), removes any comma or dollar characters (\",\" \"$\") and\n",
    "# returns a numeric float value (<class 'float'>):\n",
    "def format_cleaner(val):\n",
    "    return float(val.replace(',','').replace('$',''))\n",
    "\n",
    "# After loading the data from the json file, every «review» entry is a dictionary type value that is \n",
    "# composed of several fields: customer name, rating, date, title, and the text of the review itself.\n",
    "# Here we extract the relevant details (title and the text of the review itself) and create \n",
    "# a new simplified dataframe with just the columns we need to facilitate the handling \n",
    "title      = []\n",
    "text       = []\n",
    "title_text = []\n",
    "rating     = []\n",
    "brand      = []\n",
    "price      = []\n",
    "length_title_text  = []\n",
    "\n",
    "for i in range(amazon_data.shape[0]):\n",
    "    for j in range(len(amazon_data['reviews'][i])):\n",
    "        title_val  = amazon_data['reviews'][i][j]['title']\n",
    "        text_val   = amazon_data['reviews'][i][j]['review_text']\n",
    "        title_text_val = title_val+' '+text_val\n",
    "        \n",
    "        rating_val = amazon_data['reviews'][i][j]['rating']\n",
    "        rating_val = rating_val.split()\n",
    "        rating_val = format_cleaner(rating_val[0])\n",
    "\n",
    "        brand_value = amazon_data['tech_details'][i]['Brand Name'].title()\n",
    "        if brand_value == 'Hp':\n",
    "            brand_value = brand_value.upper()\n",
    "\n",
    "        price_value = amazon_data['price'][i]\n",
    "        price_value = round(format_cleaner(price_value)) if pd.notnull(price_value) else price_value\n",
    "\n",
    "        title.append(title_val)\n",
    "        text.append(text_val)\n",
    "        title_text.append(title_text_val)\n",
    "        rating.append(rating_val)\n",
    "        brand.append(brand_value)\n",
    "        price.append(price_value)\n",
    "        length_title_text.append(len(title_text_val))\n",
    "\n",
    "my_reviews = pd.DataFrame({'title'             : title,\n",
    "                           'text'              : text,\n",
    "                           'title_text'        : title_text,\n",
    "                           'length_title_text' : length_title_text,\n",
    "                           'rating'            : rating,\n",
    "                           'brand'             : brand,\n",
    "                           'price'             : price})\n",
    "\n",
    "my_reviews"
   ]
  },
  {
   "cell_type": "markdown",
   "metadata": {},
   "source": [
    "### Loading the prepared and processed data created in data_analysis1.ipynb"
   ]
  },
  {
   "cell_type": "code",
   "execution_count": null,
   "metadata": {},
   "outputs": [],
   "source": [
    "import pandas as pd\n",
    "\n",
    "amazon_data = pd.read_json('./amazon_data.json', precise_float=True)\n",
    "amazon_data"
   ]
  },
  {
   "cell_type": "markdown",
   "metadata": {},
   "source": [
    "#### Preparing a reviews dataset"
   ]
  },
  {
   "cell_type": "code",
   "execution_count": null,
   "metadata": {},
   "outputs": [],
   "source": [
    "# https://stackoverflow.com/questions/38895856/python-pandas-how-to-compile-all-lists-in-a-column-into-one-unique-list\n",
    "\n",
    "# This function returns a list\n",
    "def concaLists(serie_entry):\n",
    "        return [value for lista in serie_entry.tolist() for value in lista]\n",
    "\n",
    "# This function return a dataset with only review details with sentiment analysis\n",
    "def createSentimentDf(data):\n",
    "    brand, series, price  = [], [], []\n",
    "    for  n  in  range(len(data)):\n",
    "        brand  += [data['brand'].iloc[n]]  * data['number_of_reviews'].iloc[n] \n",
    "        series += [data['series'].iloc[n]] * data['number_of_reviews'].iloc[n] \n",
    "        price  += [data['price'].iloc[n]]  * data['number_of_reviews'].iloc[n] \n",
    "\n",
    "    return   pd.DataFrame({'title'                            : concaLists(data['review_title']),\n",
    "                           'text'                             : concaLists(data['review_text']),\n",
    "                           'title_text'                       : concaLists(data['review_title_text']),\n",
    "                           'rating'                           : concaLists(data['review_rating']),\n",
    "                           'polarity_title_textblob'          : concaLists(data['polarity_title_textblob']),\n",
    "                           'subjectivity_title_textblob'      : concaLists(data['subjectivity_title_textblob']),\n",
    "                           'polarity_title_vader'             : concaLists(data['polarity_title_vader']),\n",
    "                           'polarity_text_textblob'           : concaLists(data['polarity_text_textblob']),\n",
    "                           'subjectivity_text_textblob'       : concaLists(data['subjectivity_text_textblob']),\n",
    "                           'polarity_text_vader'              : concaLists(data['polarity_text_vader']),\n",
    "                           'polarity_title_text_textblob'     : concaLists(data['polarity_title_text_textblob']),\n",
    "                           'subjectivity_title_text_textblob' : concaLists(data['subjectivity_title_text_textblob']),\n",
    "                           'polarity_title_text_vader'        : concaLists(data['polarity_title_text_vader']),\n",
    "                           'emotions'                         : concaLists(data['emotions']),\n",
    "                           'length_title_text'                : concaLists(data['length_title_text']),\n",
    "                           'brand'                            : brand,\n",
    "                           'series'                           : series,\n",
    "                           'price'                            : price\n",
    "                           })\n",
    "\n",
    "my_reviews = createSentimentDf(amazon_data)\n",
    "my_reviews"
   ]
  },
  {
   "cell_type": "markdown",
   "metadata": {},
   "source": [
    "## Exploratory Data Analysis"
   ]
  },
  {
   "cell_type": "code",
   "execution_count": null,
   "metadata": {
    "scrolled": true
   },
   "outputs": [],
   "source": [
    "# Describe\n",
    "my_reviews.describe()"
   ]
  },
  {
   "cell_type": "code",
   "execution_count": 85,
   "metadata": {
    "scrolled": false
   },
   "outputs": [
    {
     "output_type": "display_data",
     "data": {
      "text/html": "        <script type=\"text/javascript\">\n        window.PlotlyConfig = {MathJaxConfig: 'local'};\n        if (window.MathJax) {MathJax.Hub.Config({SVG: {font: \"STIX-Web\"}});}\n        if (typeof require !== 'undefined') {\n        require.undef(\"plotly\");\n        requirejs.config({\n            paths: {\n                'plotly': ['https://cdn.plot.ly/plotly-latest.min']\n            }\n        });\n        require(['plotly'], function(Plotly) {\n            window._Plotly = Plotly;\n        });\n        }\n        </script>\n        "
     },
     "metadata": {}
    },
    {
     "output_type": "display_data",
     "data": {
      "application/vnd.plotly.v1+json": {
       "config": {
        "plotlyServerURL": "https://plot.ly"
       },
       "data": [
        {
         "alignmentgroup": "True",
         "bingroup": "x",
         "hoverlabel": {
          "namelength": 0
         },
         "hovertemplate": "label=positive<br>length_title_text=%{x}<br>count=%{y}",
         "legendgroup": "positive",
         "marker": {
          "color": "#636efa",
          "opacity": 0.75
         },
         "name": "positive",
         "nbinsx": 150,
         "offsetgroup": "positive",
         "orientation": "v",
         "showlegend": true,
         "type": "histogram",
         "x": [
          2846,
          198,
          4715,
          70,
          59,
          938,
          505,
          33,
          598,
          223,
          292,
          624,
          501,
          235,
          906,
          539,
          237,
          334,
          1651,
          163,
          3681,
          85,
          156,
          92,
          30,
          35,
          300,
          186,
          22,
          256,
          281,
          17,
          223,
          53,
          72,
          201,
          414,
          145,
          1725,
          54,
          23,
          35,
          75,
          50,
          23,
          42,
          43,
          46,
          35,
          105,
          50,
          55,
          107,
          52,
          114,
          45,
          61,
          333,
          78,
          269,
          69,
          48,
          229,
          93,
          79,
          132,
          67,
          159,
          48,
          53,
          42,
          17,
          25,
          89,
          39,
          129,
          322,
          437,
          3324,
          609,
          1693,
          1182,
          59,
          717,
          487,
          523,
          679,
          1572,
          719,
          500,
          724,
          427,
          327,
          1395,
          389,
          60,
          1817,
          594,
          355,
          5726,
          921,
          1325,
          2469,
          734,
          1462,
          764,
          2135,
          1212,
          1405,
          1992,
          643,
          4343,
          338,
          394,
          808,
          561,
          163,
          170,
          148,
          344,
          115,
          343,
          130,
          137,
          149,
          295,
          324,
          186,
          349,
          240,
          72,
          407,
          491,
          418,
          247,
          494,
          780,
          316,
          719,
          157,
          446,
          302,
          377,
          637,
          299,
          292,
          267,
          236,
          251,
          45,
          79,
          87,
          508,
          2859,
          455,
          856,
          716,
          815,
          629,
          1876,
          1163,
          2244,
          929,
          1481,
          124,
          1219,
          1473,
          954,
          998,
          3114,
          260,
          632,
          90,
          2578,
          1286,
          842,
          3541,
          549,
          1106,
          470,
          1174,
          1985,
          345,
          1444,
          1734,
          1418,
          330,
          1120,
          2101,
          898,
          1679,
          3247,
          868,
          1309,
          1377,
          2535,
          480,
          374,
          777,
          2213,
          1586,
          263,
          823,
          1858,
          179,
          1510,
          587,
          1994,
          482,
          3730,
          517,
          681,
          339,
          611,
          1205,
          1172,
          1050,
          1031,
          975,
          1751,
          856,
          830,
          1199,
          759,
          57,
          477,
          48,
          995,
          576,
          715,
          177,
          1281,
          332,
          635,
          185,
          451,
          449,
          308,
          444,
          291,
          432,
          426,
          54,
          655,
          616,
          821,
          1395,
          17,
          5349,
          102,
          3265,
          161,
          430,
          274,
          7406,
          1756,
          2456,
          628,
          1486,
          819,
          688,
          935,
          272,
          249,
          473,
          489,
          108,
          74,
          70,
          113,
          87,
          49,
          52,
          57,
          482,
          1278,
          904,
          1921,
          897,
          236,
          605,
          70,
          72,
          148,
          222,
          317,
          222,
          286,
          85,
          166,
          162,
          84,
          34,
          68,
          186,
          28,
          72,
          48,
          178,
          4262,
          442,
          1912,
          161,
          279,
          80,
          40,
          199,
          40,
          52,
          223,
          205,
          164,
          87,
          272,
          178,
          86,
          152,
          73,
          151,
          164,
          435,
          353,
          294,
          315,
          578,
          445,
          401,
          405,
          216,
          295,
          225,
          220,
          479,
          94,
          47,
          145,
          183,
          140,
          132,
          141,
          65,
          98,
          11,
          33,
          27,
          34,
          105,
          145,
          75,
          2638,
          1104,
          5200,
          3036,
          2332,
          772,
          951,
          42,
          19,
          65,
          34,
          151,
          199,
          124,
          75,
          3254,
          14,
          58,
          45,
          173,
          50,
          38,
          19,
          72,
          33,
          583,
          569,
          1580,
          376,
          197,
          138,
          398,
          279,
          227,
          252,
          258,
          295,
          249,
          186,
          157,
          141,
          290,
          133,
          220,
          216,
          689,
          532,
          488,
          115,
          541,
          841,
          46,
          549,
          904,
          601,
          415,
          710,
          353,
          291,
          268,
          363,
          599,
          379,
          175,
          67,
          191,
          129,
          477,
          167,
          311,
          361,
          465,
          141,
          406,
          445,
          710,
          606,
          375,
          48,
          726,
          120,
          617,
          996,
          587,
          515,
          76,
          166,
          136,
          116,
          163,
          78,
          318,
          80,
          1145,
          104,
          196,
          78,
          95,
          85,
          192,
          1030,
          1321,
          3899,
          351,
          440,
          233,
          385,
          317,
          343,
          280,
          264,
          82,
          331,
          113,
          112,
          207,
          216,
          58,
          159,
          454,
          581,
          1531,
          282,
          988,
          2191,
          1177,
          497,
          1023,
          892,
          5028,
          658,
          714,
          406,
          697,
          385,
          555,
          565,
          325,
          114,
          229,
          191,
          41,
          52,
          74,
          185,
          145,
          40,
          126,
          105,
          79,
          114,
          39,
          89,
          103,
          37,
          38,
          58,
          49,
          195,
          143,
          97,
          80,
          82,
          58,
          59,
          305,
          17,
          41,
          17,
          53,
          251,
          92,
          93,
          24,
          98,
          1848,
          643,
          2487,
          1376,
          1341,
          649,
          1054,
          1064,
          4234,
          184,
          2362,
          919,
          787,
          639,
          878,
          1054,
          756,
          330,
          962,
          1747,
          295,
          754,
          701,
          2197,
          1239,
          1236,
          1207,
          734,
          1387,
          1714,
          447,
          1197,
          1399,
          634,
          356,
          832,
          1732,
          4614,
          666,
          627,
          791,
          1587,
          440,
          517,
          513,
          159,
          754,
          2470,
          293,
          698,
          443,
          604,
          651,
          428,
          1149,
          1096,
          577,
          1962,
          678,
          513,
          794,
          950,
          817,
          454,
          449,
          1290,
          594,
          1770,
          794,
          1081,
          1727,
          752,
          625,
          420,
          448,
          1348,
          1033,
          427,
          1051,
          1081,
          984,
          3465,
          3810,
          362,
          2071,
          2060,
          1270,
          1144,
          990,
          2335,
          1140,
          2483,
          638,
          1510,
          889,
          1226,
          5230,
          737,
          6958,
          428,
          1670,
          1800,
          1536,
          1402,
          8147,
          4302,
          1075,
          1048,
          890,
          536,
          583,
          1525,
          1280,
          626,
          1367,
          1236,
          968,
          948,
          1338,
          1214,
          896,
          945,
          578,
          671,
          956,
          272,
          366,
          994,
          1639,
          2546,
          2001,
          2526,
          5616,
          859,
          1595,
          1657,
          4926,
          2512,
          1197,
          471,
          1224,
          367,
          492,
          743,
          1243,
          568,
          621,
          777,
          1789,
          2261,
          1187,
          1269,
          2395,
          751,
          801,
          642,
          442,
          339,
          1212,
          1285,
          525,
          482,
          483,
          309,
          574,
          662,
          500,
          444,
          1350,
          965,
          608,
          1596,
          439,
          2071,
          767,
          1359,
          1071,
          1556,
          929,
          2384,
          1219,
          2071,
          814,
          562,
          489,
          472,
          645,
          1042,
          387,
          521,
          541,
          433,
          260,
          393,
          373,
          206,
          264,
          116,
          10490,
          3293,
          1850,
          6939,
          3347,
          3974,
          224,
          565,
          1807,
          283,
          151,
          314,
          27,
          375,
          469,
          332,
          553,
          877,
          1031,
          667,
          664,
          431,
          389,
          155,
          488,
          511,
          752,
          1565,
          21,
          820,
          121,
          99,
          155,
          91,
          131,
          197,
          198,
          175,
          166,
          169,
          285,
          113,
          131,
          129,
          102,
          116,
          106,
          158,
          895,
          316,
          406,
          787,
          189,
          604,
          571,
          401,
          981,
          1108,
          742,
          463,
          240,
          316,
          297,
          529,
          277,
          127,
          274,
          90,
          68,
          147,
          15,
          60,
          89,
          31,
          109,
          58,
          94,
          96,
          121,
          58,
          26,
          32,
          40,
          51,
          57,
          21,
          86,
          74,
          194,
          33,
          99,
          45,
          46,
          23,
          125,
          53,
          171,
          65,
          41,
          113,
          174,
          108,
          517,
          681,
          601,
          1664,
          910,
          1015,
          971,
          1760,
          1953,
          1419,
          1198,
          2415,
          1047,
          745,
          226,
          983,
          2190,
          2034,
          963,
          1823,
          2746,
          1004,
          2879,
          2139,
          279,
          1632,
          989,
          880,
          197,
          1348,
          1645,
          1950,
          1333,
          2119,
          2628,
          3733,
          1704,
          1405,
          1231,
          1189,
          1741,
          779,
          1184,
          1670,
          1163,
          869,
          905,
          430,
          1039,
          1400,
          262,
          907,
          881,
          513,
          688,
          1171,
          656,
          652,
          1139,
          1075,
          1095,
          850,
          797,
          847,
          495,
          1012,
          957,
          958,
          2121,
          1184,
          4429,
          1180,
          1384,
          702,
          1311,
          1609,
          176,
          1569,
          799,
          283,
          1125,
          1072,
          1180,
          793,
          386,
          559,
          1250,
          1848,
          1062,
          294,
          892,
          1162,
          463,
          1250,
          950,
          2611,
          175,
          1061,
          1385,
          512,
          228,
          2381,
          1109,
          531,
          885,
          1887,
          644,
          607,
          440,
          476,
          1867,
          3015,
          434,
          1185,
          872,
          803,
          831,
          392,
          2101,
          696,
          273,
          707,
          8950,
          2692,
          2123,
          677,
          1251,
          1381,
          1265,
          733,
          1113,
          2322,
          1645,
          927,
          275,
          1078,
          902,
          1874,
          412,
          853,
          1436,
          1116,
          450,
          646,
          1005,
          1326,
          94,
          454,
          1383,
          1075,
          1536,
          4328,
          375,
          866,
          1585,
          1580,
          626,
          794,
          535,
          695,
          696,
          507,
          116,
          470,
          224,
          718,
          304,
          283,
          73,
          666,
          522,
          1736,
          737,
          737,
          613,
          1730,
          3387,
          2676,
          1616,
          2075,
          424,
          378,
          658,
          995,
          1536,
          710,
          1787,
          734,
          266,
          117,
          186,
          377,
          16,
          19,
          28,
          28,
          16,
          21,
          943,
          159,
          68,
          9,
          127,
          27,
          953,
          1431,
          522,
          13,
          120,
          196,
          46,
          88,
          323,
          73,
          331,
          18,
          227,
          130,
          104,
          193,
          111,
          200,
          102,
          16,
          34,
          1296,
          284,
          406,
          902,
          148,
          263,
          248,
          56,
          164,
          168,
          170,
          112,
          170,
          205,
          9,
          290,
          83,
          19,
          73,
          321,
          145,
          1375,
          604,
          1604,
          782,
          19,
          1168,
          1168,
          1848,
          1338,
          505,
          1690,
          387,
          287,
          760,
          1149,
          387,
          280,
          15,
          172,
          110,
          1656,
          633,
          730,
          4446,
          722,
          2399,
          2030,
          1015,
          526,
          1025,
          319,
          300,
          2248,
          3064,
          1880,
          3421,
          624,
          781,
          1976,
          1770,
          116,
          88,
          19,
          3245,
          4571,
          2987,
          5906,
          2656,
          1122,
          1965,
          1943,
          1373,
          1233,
          966,
          792,
          932,
          1134,
          1225,
          1178,
          738,
          790,
          977,
          1374,
          861,
          657,
          353,
          436,
          650,
          857,
          1331,
          1077,
          1482,
          905,
          601,
          921,
          1525,
          731,
          755,
          2742,
          2866,
          894,
          955,
          955,
          3790,
          898,
          868,
          727,
          3086,
          1644,
          1034,
          861,
          1721,
          502,
          771,
          686,
          893,
          1116,
          607,
          601,
          776,
          590,
          473,
          470,
          617,
          712,
          386,
          431,
          658,
          393,
          790,
          954,
          1040,
          677,
          1285,
          466,
          814,
          831,
          734,
          2036,
          627,
          733,
          887,
          645,
          806,
          589,
          666,
          697,
          1304,
          585,
          1496,
          96,
          370,
          669,
          42,
          466,
          12,
          559,
          38,
          50,
          722,
          1044,
          487,
          428,
          84,
          1159,
          758,
          865,
          492,
          142,
          793,
          804,
          599,
          199,
          76,
          67,
          73,
          1358,
          603,
          1379,
          1032,
          178,
          153,
          100,
          58,
          78,
          21,
          175,
          59,
          54,
          441,
          726,
          579,
          92,
          253,
          99,
          617,
          102,
          54,
          138,
          489,
          411,
          395,
          711,
          233,
          538,
          413,
          601,
          134,
          542,
          383,
          125,
          517,
          61,
          37,
          22,
          37,
          623,
          479,
          301,
          152,
          494,
          318,
          953,
          21,
          50,
          45,
          224,
          52,
          25,
          92,
          36,
          64,
          31,
          28,
          42,
          27,
          27,
          48,
          23,
          195,
          26,
          48,
          133,
          211,
          73,
          1280,
          234,
          1427,
          572,
          571,
          1015,
          971,
          181,
          641,
          244,
          1666,
          1403,
          1140,
          235,
          1177,
          223,
          3909,
          308,
          1767,
          125,
          471,
          704,
          1339,
          282,
          1002,
          746,
          594,
          444,
          1504,
          405,
          200,
          1345,
          2037,
          794,
          285,
          1606,
          602,
          302,
          1080,
          958,
          5503,
          790,
          1650,
          868,
          743,
          1058,
          867,
          272,
          1379,
          618,
          1185,
          580,
          749,
          953,
          785,
          991,
          1588,
          1993,
          917,
          922,
          1258,
          1366,
          1631,
          1489,
          1680,
          559,
          591,
          1083,
          920,
          333,
          766,
          433,
          631,
          251,
          1377,
          9,
          1949,
          2488,
          567,
          227,
          693,
          754,
          511,
          630,
          1143,
          749,
          471,
          376,
          1093,
          289,
          296,
          1347,
          727,
          10039,
          1067,
          3392,
          959,
          57,
          285,
          1112,
          287,
          213,
          3126,
          1671,
          164,
          1224,
          932,
          411,
          1097,
          419,
          2147,
          2743,
          4488,
          4040,
          184,
          376,
          366,
          251,
          279,
          223,
          491,
          375,
          380,
          740,
          1850,
          1079,
          7919,
          853,
          1131,
          915,
          1221,
          838,
          251,
          2313,
          213,
          1136,
          492,
          588,
          508,
          163,
          2246,
          918,
          886,
          398,
          897,
          640,
          3316,
          1127,
          1211,
          82,
          1602,
          8283,
          1501,
          1638,
          226,
          32,
          40,
          329,
          111,
          106,
          102,
          341,
          304,
          207,
          80,
          74,
          151,
          158,
          402,
          335,
          360,
          265,
          119,
          5,
          137,
          106,
          279,
          303,
          21,
          35,
          420,
          339,
          291,
          366,
          73,
          55,
          68,
          120,
          150,
          250,
          54,
          87,
          33,
          57,
          40,
          110,
          26,
          161,
          142,
          19,
          139,
          154,
          89,
          173,
          10,
          39,
          152,
          45,
          84,
          12,
          199,
          25,
          48,
          144,
          53,
          21,
          85,
          459,
          455,
          468,
          1170,
          262,
          236,
          38,
          385,
          236,
          373,
          196,
          125,
          236,
          327,
          403,
          309,
          514,
          494,
          2213,
          926,
          749,
          588,
          110,
          657,
          773,
          1185,
          1082,
          696,
          2507,
          239,
          615,
          126,
          81,
          860,
          81,
          23,
          1008,
          224,
          221,
          1347,
          59,
          577,
          104,
          693,
          260,
          46,
          445,
          161,
          439,
          2325,
          27,
          38,
          42,
          107,
          62,
          87,
          76,
          61,
          116,
          21,
          78,
          28,
          38,
          74,
          19,
          155,
          238,
          185,
          224,
          215,
          347,
          332,
          161,
          251,
          334,
          200,
          164,
          304,
          170,
          244,
          382,
          160,
          276,
          32,
          560,
          313,
          648,
          182,
          476,
          27,
          110,
          294,
          394,
          142,
          214,
          522,
          108,
          27,
          96,
          96,
          60,
          240,
          62,
          92,
          303,
          127,
          94,
          75,
          18,
          89,
          112,
          167,
          105,
          298,
          131,
          99,
          48,
          141,
          52,
          341,
          324,
          126,
          95,
          125,
          984,
          48,
          68,
          99,
          187,
          789,
          4367,
          2664,
          38,
          64,
          133,
          126,
          122,
          287,
          83,
          185,
          95,
          42,
          219,
          182,
          41,
          903,
          343,
          28,
          87,
          160,
          345,
          2314,
          50,
          64,
          39,
          522,
          360,
          261,
          470,
          279,
          239,
          99,
          543,
          99,
          163,
          266,
          71,
          202,
          472,
          63,
          707,
          23,
          129,
          123,
          515,
          149,
          140,
          103,
          1343,
          32,
          82,
          42,
          176,
          456,
          87,
          461,
          413,
          1247,
          273,
          136,
          71,
          71,
          2857,
          86,
          104,
          25,
          124,
          33,
          14,
          128,
          44,
          51,
          61,
          373,
          1970,
          93,
          44,
          1313,
          202,
          243,
          43,
          1200,
          171,
          54,
          54,
          5244,
          77,
          116,
          35,
          93,
          9667,
          2291,
          981,
          1902,
          966,
          1205,
          242,
          312,
          1974,
          285,
          422,
          472,
          670,
          341,
          1541,
          666,
          950,
          1015,
          1028,
          2767,
          924,
          921,
          1537,
          1244,
          3008,
          2505,
          957,
          1185,
          56,
          84,
          76,
          366,
          282,
          951,
          259,
          351,
          55,
          284,
          637,
          350,
          513,
          462,
          151,
          36,
          193,
          196,
          147,
          142,
          169,
          189,
          374,
          39,
          119,
          7566,
          467,
          1975,
          3655,
          29,
          294,
          329,
          117,
          215,
          387,
          280,
          293,
          157,
          1662,
          107,
          277,
          240,
          1066,
          279,
          198,
          242,
          221,
          210,
          673,
          310,
          1422,
          112,
          304,
          150,
          824,
          352,
          434,
          358,
          372,
          237,
          470,
          427,
          912,
          311,
          209,
          1853,
          2272,
          812,
          574,
          86,
          120,
          124,
          155,
          41,
          228,
          90,
          22,
          133,
          3090,
          75,
          234,
          205,
          229,
          968,
          3347,
          14,
          837,
          114,
          227,
          1947,
          175,
          64,
          739,
          18,
          39,
          315,
          17,
          122,
          177,
          100,
          2291,
          1585,
          2760,
          1381,
          5169,
          5348,
          2123,
          1545,
          1475,
          94,
          1385,
          265,
          1255,
          414,
          620,
          1036,
          194,
          993,
          888,
          56,
          84,
          60,
          735,
          640,
          1796,
          63,
          164,
          484,
          73,
          1309,
          3007,
          300,
          353,
          172,
          267,
          834,
          486,
          782,
          1258,
          625,
          1064,
          319,
          452,
          570,
          456,
          1335,
          525,
          696,
          630,
          545,
          145,
          355,
          1288,
          456,
          58,
          1595,
          745,
          1231,
          1614,
          292,
          218,
          574,
          323,
          508,
          347,
          37,
          195,
          126,
          1136,
          60,
          677,
          319,
          124,
          496,
          248,
          1441,
          441,
          331,
          248,
          91,
          273,
          405,
          271,
          76,
          297,
          207,
          269,
          494,
          8,
          999,
          105,
          300,
          241,
          1070,
          1105,
          445,
          641,
          5,
          1148,
          26,
          116,
          112,
          560,
          605,
          642,
          416,
          462,
          84,
          542,
          79,
          9,
          33,
          22,
          194,
          506,
          1390,
          4078,
          894,
          430,
          117,
          59,
          47,
          116,
          169,
          68,
          611,
          168,
          767,
          192,
          557,
          30,
          288,
          708,
          1290,
          1532,
          1644,
          784,
          129,
          690,
          294,
          158,
          44,
          315,
          168,
          291,
          16,
          372,
          410,
          1186,
          110,
          708,
          1757,
          183,
          437,
          29,
          238,
          18,
          218,
          1459,
          86,
          21,
          221,
          258,
          119,
          115,
          402,
          158,
          446,
          18,
          280,
          135,
          148,
          138,
          179,
          259,
          24,
          1151,
          134,
          346,
          122,
          1407,
          108,
          53,
          73,
          65,
          17,
          87,
          63,
          173,
          20,
          97,
          64,
          92,
          88,
          28,
          89,
          18,
          171,
          105,
          65,
          7,
          122,
          73,
          59,
          57,
          54,
          297,
          250,
          14,
          2134,
          84,
          993,
          551,
          315,
          540,
          309,
          237,
          808,
          252,
          233,
          569,
          354,
          546,
          576,
          270,
          73,
          375,
          250,
          264,
          926,
          728,
          501,
          172,
          1774,
          178,
          1486,
          721,
          927,
          457,
          741,
          951,
          423,
          70,
          523,
          428,
          264,
          402,
          452,
          118,
          222,
          454,
          275,
          217,
          60,
          308,
          151,
          358,
          342,
          223,
          461,
          479
         ],
         "xaxis": "x",
         "yaxis": "y"
        },
        {
         "alignmentgroup": "True",
         "hoverlabel": {
          "namelength": 0
         },
         "hovertemplate": "label=positive<br>length_title_text=%{x}",
         "legendgroup": "positive",
         "marker": {
          "color": "#636efa"
         },
         "name": "positive",
         "notched": true,
         "offsetgroup": "positive",
         "showlegend": false,
         "type": "box",
         "x": [
          2846,
          198,
          4715,
          70,
          59,
          938,
          505,
          33,
          598,
          223,
          292,
          624,
          501,
          235,
          906,
          539,
          237,
          334,
          1651,
          163,
          3681,
          85,
          156,
          92,
          30,
          35,
          300,
          186,
          22,
          256,
          281,
          17,
          223,
          53,
          72,
          201,
          414,
          145,
          1725,
          54,
          23,
          35,
          75,
          50,
          23,
          42,
          43,
          46,
          35,
          105,
          50,
          55,
          107,
          52,
          114,
          45,
          61,
          333,
          78,
          269,
          69,
          48,
          229,
          93,
          79,
          132,
          67,
          159,
          48,
          53,
          42,
          17,
          25,
          89,
          39,
          129,
          322,
          437,
          3324,
          609,
          1693,
          1182,
          59,
          717,
          487,
          523,
          679,
          1572,
          719,
          500,
          724,
          427,
          327,
          1395,
          389,
          60,
          1817,
          594,
          355,
          5726,
          921,
          1325,
          2469,
          734,
          1462,
          764,
          2135,
          1212,
          1405,
          1992,
          643,
          4343,
          338,
          394,
          808,
          561,
          163,
          170,
          148,
          344,
          115,
          343,
          130,
          137,
          149,
          295,
          324,
          186,
          349,
          240,
          72,
          407,
          491,
          418,
          247,
          494,
          780,
          316,
          719,
          157,
          446,
          302,
          377,
          637,
          299,
          292,
          267,
          236,
          251,
          45,
          79,
          87,
          508,
          2859,
          455,
          856,
          716,
          815,
          629,
          1876,
          1163,
          2244,
          929,
          1481,
          124,
          1219,
          1473,
          954,
          998,
          3114,
          260,
          632,
          90,
          2578,
          1286,
          842,
          3541,
          549,
          1106,
          470,
          1174,
          1985,
          345,
          1444,
          1734,
          1418,
          330,
          1120,
          2101,
          898,
          1679,
          3247,
          868,
          1309,
          1377,
          2535,
          480,
          374,
          777,
          2213,
          1586,
          263,
          823,
          1858,
          179,
          1510,
          587,
          1994,
          482,
          3730,
          517,
          681,
          339,
          611,
          1205,
          1172,
          1050,
          1031,
          975,
          1751,
          856,
          830,
          1199,
          759,
          57,
          477,
          48,
          995,
          576,
          715,
          177,
          1281,
          332,
          635,
          185,
          451,
          449,
          308,
          444,
          291,
          432,
          426,
          54,
          655,
          616,
          821,
          1395,
          17,
          5349,
          102,
          3265,
          161,
          430,
          274,
          7406,
          1756,
          2456,
          628,
          1486,
          819,
          688,
          935,
          272,
          249,
          473,
          489,
          108,
          74,
          70,
          113,
          87,
          49,
          52,
          57,
          482,
          1278,
          904,
          1921,
          897,
          236,
          605,
          70,
          72,
          148,
          222,
          317,
          222,
          286,
          85,
          166,
          162,
          84,
          34,
          68,
          186,
          28,
          72,
          48,
          178,
          4262,
          442,
          1912,
          161,
          279,
          80,
          40,
          199,
          40,
          52,
          223,
          205,
          164,
          87,
          272,
          178,
          86,
          152,
          73,
          151,
          164,
          435,
          353,
          294,
          315,
          578,
          445,
          401,
          405,
          216,
          295,
          225,
          220,
          479,
          94,
          47,
          145,
          183,
          140,
          132,
          141,
          65,
          98,
          11,
          33,
          27,
          34,
          105,
          145,
          75,
          2638,
          1104,
          5200,
          3036,
          2332,
          772,
          951,
          42,
          19,
          65,
          34,
          151,
          199,
          124,
          75,
          3254,
          14,
          58,
          45,
          173,
          50,
          38,
          19,
          72,
          33,
          583,
          569,
          1580,
          376,
          197,
          138,
          398,
          279,
          227,
          252,
          258,
          295,
          249,
          186,
          157,
          141,
          290,
          133,
          220,
          216,
          689,
          532,
          488,
          115,
          541,
          841,
          46,
          549,
          904,
          601,
          415,
          710,
          353,
          291,
          268,
          363,
          599,
          379,
          175,
          67,
          191,
          129,
          477,
          167,
          311,
          361,
          465,
          141,
          406,
          445,
          710,
          606,
          375,
          48,
          726,
          120,
          617,
          996,
          587,
          515,
          76,
          166,
          136,
          116,
          163,
          78,
          318,
          80,
          1145,
          104,
          196,
          78,
          95,
          85,
          192,
          1030,
          1321,
          3899,
          351,
          440,
          233,
          385,
          317,
          343,
          280,
          264,
          82,
          331,
          113,
          112,
          207,
          216,
          58,
          159,
          454,
          581,
          1531,
          282,
          988,
          2191,
          1177,
          497,
          1023,
          892,
          5028,
          658,
          714,
          406,
          697,
          385,
          555,
          565,
          325,
          114,
          229,
          191,
          41,
          52,
          74,
          185,
          145,
          40,
          126,
          105,
          79,
          114,
          39,
          89,
          103,
          37,
          38,
          58,
          49,
          195,
          143,
          97,
          80,
          82,
          58,
          59,
          305,
          17,
          41,
          17,
          53,
          251,
          92,
          93,
          24,
          98,
          1848,
          643,
          2487,
          1376,
          1341,
          649,
          1054,
          1064,
          4234,
          184,
          2362,
          919,
          787,
          639,
          878,
          1054,
          756,
          330,
          962,
          1747,
          295,
          754,
          701,
          2197,
          1239,
          1236,
          1207,
          734,
          1387,
          1714,
          447,
          1197,
          1399,
          634,
          356,
          832,
          1732,
          4614,
          666,
          627,
          791,
          1587,
          440,
          517,
          513,
          159,
          754,
          2470,
          293,
          698,
          443,
          604,
          651,
          428,
          1149,
          1096,
          577,
          1962,
          678,
          513,
          794,
          950,
          817,
          454,
          449,
          1290,
          594,
          1770,
          794,
          1081,
          1727,
          752,
          625,
          420,
          448,
          1348,
          1033,
          427,
          1051,
          1081,
          984,
          3465,
          3810,
          362,
          2071,
          2060,
          1270,
          1144,
          990,
          2335,
          1140,
          2483,
          638,
          1510,
          889,
          1226,
          5230,
          737,
          6958,
          428,
          1670,
          1800,
          1536,
          1402,
          8147,
          4302,
          1075,
          1048,
          890,
          536,
          583,
          1525,
          1280,
          626,
          1367,
          1236,
          968,
          948,
          1338,
          1214,
          896,
          945,
          578,
          671,
          956,
          272,
          366,
          994,
          1639,
          2546,
          2001,
          2526,
          5616,
          859,
          1595,
          1657,
          4926,
          2512,
          1197,
          471,
          1224,
          367,
          492,
          743,
          1243,
          568,
          621,
          777,
          1789,
          2261,
          1187,
          1269,
          2395,
          751,
          801,
          642,
          442,
          339,
          1212,
          1285,
          525,
          482,
          483,
          309,
          574,
          662,
          500,
          444,
          1350,
          965,
          608,
          1596,
          439,
          2071,
          767,
          1359,
          1071,
          1556,
          929,
          2384,
          1219,
          2071,
          814,
          562,
          489,
          472,
          645,
          1042,
          387,
          521,
          541,
          433,
          260,
          393,
          373,
          206,
          264,
          116,
          10490,
          3293,
          1850,
          6939,
          3347,
          3974,
          224,
          565,
          1807,
          283,
          151,
          314,
          27,
          375,
          469,
          332,
          553,
          877,
          1031,
          667,
          664,
          431,
          389,
          155,
          488,
          511,
          752,
          1565,
          21,
          820,
          121,
          99,
          155,
          91,
          131,
          197,
          198,
          175,
          166,
          169,
          285,
          113,
          131,
          129,
          102,
          116,
          106,
          158,
          895,
          316,
          406,
          787,
          189,
          604,
          571,
          401,
          981,
          1108,
          742,
          463,
          240,
          316,
          297,
          529,
          277,
          127,
          274,
          90,
          68,
          147,
          15,
          60,
          89,
          31,
          109,
          58,
          94,
          96,
          121,
          58,
          26,
          32,
          40,
          51,
          57,
          21,
          86,
          74,
          194,
          33,
          99,
          45,
          46,
          23,
          125,
          53,
          171,
          65,
          41,
          113,
          174,
          108,
          517,
          681,
          601,
          1664,
          910,
          1015,
          971,
          1760,
          1953,
          1419,
          1198,
          2415,
          1047,
          745,
          226,
          983,
          2190,
          2034,
          963,
          1823,
          2746,
          1004,
          2879,
          2139,
          279,
          1632,
          989,
          880,
          197,
          1348,
          1645,
          1950,
          1333,
          2119,
          2628,
          3733,
          1704,
          1405,
          1231,
          1189,
          1741,
          779,
          1184,
          1670,
          1163,
          869,
          905,
          430,
          1039,
          1400,
          262,
          907,
          881,
          513,
          688,
          1171,
          656,
          652,
          1139,
          1075,
          1095,
          850,
          797,
          847,
          495,
          1012,
          957,
          958,
          2121,
          1184,
          4429,
          1180,
          1384,
          702,
          1311,
          1609,
          176,
          1569,
          799,
          283,
          1125,
          1072,
          1180,
          793,
          386,
          559,
          1250,
          1848,
          1062,
          294,
          892,
          1162,
          463,
          1250,
          950,
          2611,
          175,
          1061,
          1385,
          512,
          228,
          2381,
          1109,
          531,
          885,
          1887,
          644,
          607,
          440,
          476,
          1867,
          3015,
          434,
          1185,
          872,
          803,
          831,
          392,
          2101,
          696,
          273,
          707,
          8950,
          2692,
          2123,
          677,
          1251,
          1381,
          1265,
          733,
          1113,
          2322,
          1645,
          927,
          275,
          1078,
          902,
          1874,
          412,
          853,
          1436,
          1116,
          450,
          646,
          1005,
          1326,
          94,
          454,
          1383,
          1075,
          1536,
          4328,
          375,
          866,
          1585,
          1580,
          626,
          794,
          535,
          695,
          696,
          507,
          116,
          470,
          224,
          718,
          304,
          283,
          73,
          666,
          522,
          1736,
          737,
          737,
          613,
          1730,
          3387,
          2676,
          1616,
          2075,
          424,
          378,
          658,
          995,
          1536,
          710,
          1787,
          734,
          266,
          117,
          186,
          377,
          16,
          19,
          28,
          28,
          16,
          21,
          943,
          159,
          68,
          9,
          127,
          27,
          953,
          1431,
          522,
          13,
          120,
          196,
          46,
          88,
          323,
          73,
          331,
          18,
          227,
          130,
          104,
          193,
          111,
          200,
          102,
          16,
          34,
          1296,
          284,
          406,
          902,
          148,
          263,
          248,
          56,
          164,
          168,
          170,
          112,
          170,
          205,
          9,
          290,
          83,
          19,
          73,
          321,
          145,
          1375,
          604,
          1604,
          782,
          19,
          1168,
          1168,
          1848,
          1338,
          505,
          1690,
          387,
          287,
          760,
          1149,
          387,
          280,
          15,
          172,
          110,
          1656,
          633,
          730,
          4446,
          722,
          2399,
          2030,
          1015,
          526,
          1025,
          319,
          300,
          2248,
          3064,
          1880,
          3421,
          624,
          781,
          1976,
          1770,
          116,
          88,
          19,
          3245,
          4571,
          2987,
          5906,
          2656,
          1122,
          1965,
          1943,
          1373,
          1233,
          966,
          792,
          932,
          1134,
          1225,
          1178,
          738,
          790,
          977,
          1374,
          861,
          657,
          353,
          436,
          650,
          857,
          1331,
          1077,
          1482,
          905,
          601,
          921,
          1525,
          731,
          755,
          2742,
          2866,
          894,
          955,
          955,
          3790,
          898,
          868,
          727,
          3086,
          1644,
          1034,
          861,
          1721,
          502,
          771,
          686,
          893,
          1116,
          607,
          601,
          776,
          590,
          473,
          470,
          617,
          712,
          386,
          431,
          658,
          393,
          790,
          954,
          1040,
          677,
          1285,
          466,
          814,
          831,
          734,
          2036,
          627,
          733,
          887,
          645,
          806,
          589,
          666,
          697,
          1304,
          585,
          1496,
          96,
          370,
          669,
          42,
          466,
          12,
          559,
          38,
          50,
          722,
          1044,
          487,
          428,
          84,
          1159,
          758,
          865,
          492,
          142,
          793,
          804,
          599,
          199,
          76,
          67,
          73,
          1358,
          603,
          1379,
          1032,
          178,
          153,
          100,
          58,
          78,
          21,
          175,
          59,
          54,
          441,
          726,
          579,
          92,
          253,
          99,
          617,
          102,
          54,
          138,
          489,
          411,
          395,
          711,
          233,
          538,
          413,
          601,
          134,
          542,
          383,
          125,
          517,
          61,
          37,
          22,
          37,
          623,
          479,
          301,
          152,
          494,
          318,
          953,
          21,
          50,
          45,
          224,
          52,
          25,
          92,
          36,
          64,
          31,
          28,
          42,
          27,
          27,
          48,
          23,
          195,
          26,
          48,
          133,
          211,
          73,
          1280,
          234,
          1427,
          572,
          571,
          1015,
          971,
          181,
          641,
          244,
          1666,
          1403,
          1140,
          235,
          1177,
          223,
          3909,
          308,
          1767,
          125,
          471,
          704,
          1339,
          282,
          1002,
          746,
          594,
          444,
          1504,
          405,
          200,
          1345,
          2037,
          794,
          285,
          1606,
          602,
          302,
          1080,
          958,
          5503,
          790,
          1650,
          868,
          743,
          1058,
          867,
          272,
          1379,
          618,
          1185,
          580,
          749,
          953,
          785,
          991,
          1588,
          1993,
          917,
          922,
          1258,
          1366,
          1631,
          1489,
          1680,
          559,
          591,
          1083,
          920,
          333,
          766,
          433,
          631,
          251,
          1377,
          9,
          1949,
          2488,
          567,
          227,
          693,
          754,
          511,
          630,
          1143,
          749,
          471,
          376,
          1093,
          289,
          296,
          1347,
          727,
          10039,
          1067,
          3392,
          959,
          57,
          285,
          1112,
          287,
          213,
          3126,
          1671,
          164,
          1224,
          932,
          411,
          1097,
          419,
          2147,
          2743,
          4488,
          4040,
          184,
          376,
          366,
          251,
          279,
          223,
          491,
          375,
          380,
          740,
          1850,
          1079,
          7919,
          853,
          1131,
          915,
          1221,
          838,
          251,
          2313,
          213,
          1136,
          492,
          588,
          508,
          163,
          2246,
          918,
          886,
          398,
          897,
          640,
          3316,
          1127,
          1211,
          82,
          1602,
          8283,
          1501,
          1638,
          226,
          32,
          40,
          329,
          111,
          106,
          102,
          341,
          304,
          207,
          80,
          74,
          151,
          158,
          402,
          335,
          360,
          265,
          119,
          5,
          137,
          106,
          279,
          303,
          21,
          35,
          420,
          339,
          291,
          366,
          73,
          55,
          68,
          120,
          150,
          250,
          54,
          87,
          33,
          57,
          40,
          110,
          26,
          161,
          142,
          19,
          139,
          154,
          89,
          173,
          10,
          39,
          152,
          45,
          84,
          12,
          199,
          25,
          48,
          144,
          53,
          21,
          85,
          459,
          455,
          468,
          1170,
          262,
          236,
          38,
          385,
          236,
          373,
          196,
          125,
          236,
          327,
          403,
          309,
          514,
          494,
          2213,
          926,
          749,
          588,
          110,
          657,
          773,
          1185,
          1082,
          696,
          2507,
          239,
          615,
          126,
          81,
          860,
          81,
          23,
          1008,
          224,
          221,
          1347,
          59,
          577,
          104,
          693,
          260,
          46,
          445,
          161,
          439,
          2325,
          27,
          38,
          42,
          107,
          62,
          87,
          76,
          61,
          116,
          21,
          78,
          28,
          38,
          74,
          19,
          155,
          238,
          185,
          224,
          215,
          347,
          332,
          161,
          251,
          334,
          200,
          164,
          304,
          170,
          244,
          382,
          160,
          276,
          32,
          560,
          313,
          648,
          182,
          476,
          27,
          110,
          294,
          394,
          142,
          214,
          522,
          108,
          27,
          96,
          96,
          60,
          240,
          62,
          92,
          303,
          127,
          94,
          75,
          18,
          89,
          112,
          167,
          105,
          298,
          131,
          99,
          48,
          141,
          52,
          341,
          324,
          126,
          95,
          125,
          984,
          48,
          68,
          99,
          187,
          789,
          4367,
          2664,
          38,
          64,
          133,
          126,
          122,
          287,
          83,
          185,
          95,
          42,
          219,
          182,
          41,
          903,
          343,
          28,
          87,
          160,
          345,
          2314,
          50,
          64,
          39,
          522,
          360,
          261,
          470,
          279,
          239,
          99,
          543,
          99,
          163,
          266,
          71,
          202,
          472,
          63,
          707,
          23,
          129,
          123,
          515,
          149,
          140,
          103,
          1343,
          32,
          82,
          42,
          176,
          456,
          87,
          461,
          413,
          1247,
          273,
          136,
          71,
          71,
          2857,
          86,
          104,
          25,
          124,
          33,
          14,
          128,
          44,
          51,
          61,
          373,
          1970,
          93,
          44,
          1313,
          202,
          243,
          43,
          1200,
          171,
          54,
          54,
          5244,
          77,
          116,
          35,
          93,
          9667,
          2291,
          981,
          1902,
          966,
          1205,
          242,
          312,
          1974,
          285,
          422,
          472,
          670,
          341,
          1541,
          666,
          950,
          1015,
          1028,
          2767,
          924,
          921,
          1537,
          1244,
          3008,
          2505,
          957,
          1185,
          56,
          84,
          76,
          366,
          282,
          951,
          259,
          351,
          55,
          284,
          637,
          350,
          513,
          462,
          151,
          36,
          193,
          196,
          147,
          142,
          169,
          189,
          374,
          39,
          119,
          7566,
          467,
          1975,
          3655,
          29,
          294,
          329,
          117,
          215,
          387,
          280,
          293,
          157,
          1662,
          107,
          277,
          240,
          1066,
          279,
          198,
          242,
          221,
          210,
          673,
          310,
          1422,
          112,
          304,
          150,
          824,
          352,
          434,
          358,
          372,
          237,
          470,
          427,
          912,
          311,
          209,
          1853,
          2272,
          812,
          574,
          86,
          120,
          124,
          155,
          41,
          228,
          90,
          22,
          133,
          3090,
          75,
          234,
          205,
          229,
          968,
          3347,
          14,
          837,
          114,
          227,
          1947,
          175,
          64,
          739,
          18,
          39,
          315,
          17,
          122,
          177,
          100,
          2291,
          1585,
          2760,
          1381,
          5169,
          5348,
          2123,
          1545,
          1475,
          94,
          1385,
          265,
          1255,
          414,
          620,
          1036,
          194,
          993,
          888,
          56,
          84,
          60,
          735,
          640,
          1796,
          63,
          164,
          484,
          73,
          1309,
          3007,
          300,
          353,
          172,
          267,
          834,
          486,
          782,
          1258,
          625,
          1064,
          319,
          452,
          570,
          456,
          1335,
          525,
          696,
          630,
          545,
          145,
          355,
          1288,
          456,
          58,
          1595,
          745,
          1231,
          1614,
          292,
          218,
          574,
          323,
          508,
          347,
          37,
          195,
          126,
          1136,
          60,
          677,
          319,
          124,
          496,
          248,
          1441,
          441,
          331,
          248,
          91,
          273,
          405,
          271,
          76,
          297,
          207,
          269,
          494,
          8,
          999,
          105,
          300,
          241,
          1070,
          1105,
          445,
          641,
          5,
          1148,
          26,
          116,
          112,
          560,
          605,
          642,
          416,
          462,
          84,
          542,
          79,
          9,
          33,
          22,
          194,
          506,
          1390,
          4078,
          894,
          430,
          117,
          59,
          47,
          116,
          169,
          68,
          611,
          168,
          767,
          192,
          557,
          30,
          288,
          708,
          1290,
          1532,
          1644,
          784,
          129,
          690,
          294,
          158,
          44,
          315,
          168,
          291,
          16,
          372,
          410,
          1186,
          110,
          708,
          1757,
          183,
          437,
          29,
          238,
          18,
          218,
          1459,
          86,
          21,
          221,
          258,
          119,
          115,
          402,
          158,
          446,
          18,
          280,
          135,
          148,
          138,
          179,
          259,
          24,
          1151,
          134,
          346,
          122,
          1407,
          108,
          53,
          73,
          65,
          17,
          87,
          63,
          173,
          20,
          97,
          64,
          92,
          88,
          28,
          89,
          18,
          171,
          105,
          65,
          7,
          122,
          73,
          59,
          57,
          54,
          297,
          250,
          14,
          2134,
          84,
          993,
          551,
          315,
          540,
          309,
          237,
          808,
          252,
          233,
          569,
          354,
          546,
          576,
          270,
          73,
          375,
          250,
          264,
          926,
          728,
          501,
          172,
          1774,
          178,
          1486,
          721,
          927,
          457,
          741,
          951,
          423,
          70,
          523,
          428,
          264,
          402,
          452,
          118,
          222,
          454,
          275,
          217,
          60,
          308,
          151,
          358,
          342,
          223,
          461,
          479
         ],
         "xaxis": "x2",
         "yaxis": "y2"
        },
        {
         "alignmentgroup": "True",
         "bingroup": "x",
         "hoverlabel": {
          "namelength": 0
         },
         "hovertemplate": "label=negative<br>length_title_text=%{x}<br>count=%{y}",
         "legendgroup": "negative",
         "marker": {
          "color": "#EF553B",
          "opacity": 0.75
         },
         "name": "negative",
         "nbinsx": 150,
         "offsetgroup": "negative",
         "orientation": "v",
         "showlegend": true,
         "type": "histogram",
         "x": [
          194,
          2385,
          421,
          1958,
          187,
          475,
          219,
          121,
          149,
          234,
          1219,
          65,
          1792,
          380,
          823,
          396,
          101,
          3705,
          43,
          416,
          432,
          1873,
          663,
          653,
          533,
          3729,
          1702,
          201,
          675,
          918,
          236,
          359,
          107,
          157,
          181,
          451,
          2590,
          855,
          406,
          325,
          25,
          93,
          377,
          421,
          680,
          509,
          85,
          954,
          1424,
          139,
          274,
          122,
          327,
          79,
          2504,
          148,
          77,
          432,
          403,
          1263,
          246,
          1731,
          2342,
          462,
          306,
          953,
          1043,
          492,
          591,
          86,
          140,
          2530,
          74,
          184,
          669,
          460,
          245,
          589,
          502,
          40,
          83,
          194,
          84,
          1180,
          159,
          418,
          655,
          39,
          1195,
          363,
          340,
          408,
          355,
          464,
          93,
          277,
          185,
          341,
          974,
          194,
          423,
          378,
          499,
          142,
          230,
          274,
          801,
          483,
          181,
          196,
          828,
          86,
          334,
          335,
          876,
          153,
          106,
          464,
          270,
          137,
          566,
          168,
          422,
          189,
          276,
          180,
          2012,
          209,
          285,
          1431,
          589,
          886,
          348,
          183,
          134,
          432,
          503,
          1115,
          178,
          14,
          437,
          1109,
          105,
          2423,
          2556,
          1484,
          255,
          557,
          255,
          3365,
          1759,
          1078,
          440,
          351,
          482,
          804,
          888,
          322,
          184,
          499,
          1323,
          948,
          476,
          28,
          120,
          356,
          235,
          714,
          955,
          543,
          2069,
          928,
          996,
          497,
          415,
          234,
          468,
          1070,
          418,
          249,
          399,
          515,
          366,
          444,
          466,
          68,
          613,
          220,
          307,
          947,
          376,
          123,
          254,
          358,
          179,
          46,
          196,
          74,
          765,
          49,
          423,
          521,
          689,
          82,
          571,
          159,
          323,
          410,
          773,
          333,
          1476,
          873,
          1809,
          617,
          960,
          522,
          1001,
          472,
          352,
          635,
          671,
          474,
          788,
          576,
          405,
          515,
          621,
          291,
          470,
          259,
          292,
          130,
          62,
          652,
          1215,
          258,
          61,
          447,
          277,
          49,
          199,
          91,
          334,
          309,
          813,
          472,
          872,
          419,
          283,
          460,
          440,
          2810,
          955,
          207,
          203,
          457,
          980,
          1210,
          1673,
          649,
          416,
          309,
          288,
          131,
          72,
          452,
          819,
          182,
          173,
          684,
          634,
          42,
          419,
          660,
          336,
          109,
          1240,
          993,
          854,
          1207,
          1123,
          657,
          48,
          347,
          68,
          554,
          368,
          923,
          118,
          458,
          136,
          94,
          334,
          327,
          338,
          174,
          3283,
          471,
          290,
          155,
          122,
          634,
          326,
          169,
          382,
          260,
          553,
          169,
          441,
          253,
          285,
          219,
          109,
          262,
          301,
          370,
          52,
          603,
          363,
          291,
          400,
          326,
          193,
          207,
          700,
          215,
          215,
          487,
          197,
          524,
          336,
          328,
          212,
          297,
          335,
          884,
          827,
          218,
          217,
          165,
          330,
          261,
          762,
          157,
          3207,
          592,
          45,
          91,
          325,
          259,
          1382,
          27,
          1404,
          149,
          1127,
          650,
          1588,
          2149,
          344,
          176,
          207,
          711,
          141,
          59,
          537,
          732,
          238,
          169,
          1143,
          597,
          931,
          419,
          115,
          506,
          352,
          505,
          71,
          679,
          309,
          897,
          893,
          778,
          515,
          80,
          152,
          285,
          1934,
          2046,
          1032,
          195,
          456,
          682,
          71,
          1156,
          837,
          355,
          521,
          616,
          595,
          1107,
          626,
          259,
          196,
          958,
          952,
          1721,
          165,
          2451,
          441,
          1881,
          605,
          1273,
          446,
          209,
          795,
          901,
          401,
          537,
          812,
          752,
          411,
          411,
          439,
          373,
          964,
          905,
          3389,
          122,
          253,
          488,
          117,
          214,
          283,
          210,
          406,
          122,
          419,
          1074,
          51,
          315,
          388,
          1236,
          170,
          1291,
          126,
          552,
          412,
          547,
          282,
          1530,
          1492,
          1147,
          359,
          858,
          464,
          314,
          99,
          186,
          702,
          1686,
          973,
          496,
          1221,
          1350,
          253,
          363,
          224,
          93,
          264,
          555,
          108,
          449,
          62,
          382,
          132,
          208,
          236,
          96,
          404,
          800,
          564,
          466,
          823,
          515,
          580,
          1488,
          476,
          189,
          262,
          41,
          326,
          1311,
          911,
          723,
          823,
          745,
          957,
          541,
          183,
          289,
          246,
          1100,
          1190,
          358,
          48,
          145,
          205,
          234,
          4065,
          217,
          1572,
          777,
          133,
          2960,
          292,
          520,
          991,
          214,
          247,
          400,
          727,
          231,
          102,
          230,
          142,
          179,
          312,
          438,
          321,
          290,
          444,
          179,
          214,
          117,
          2007,
          136,
          970,
          28,
          935,
          809,
          935,
          460,
          601,
          912,
          1232,
          1837,
          550,
          1210,
          606,
          1033,
          603,
          1015,
          2249,
          722,
          944,
          158,
          299,
          946,
          216,
          515,
          1022,
          1807,
          1743,
          1457,
          750,
          234,
          245,
          552,
          795,
          684,
          390,
          933,
          457,
          277,
          559,
          719,
          397,
          225,
          282,
          1889,
          178,
          581,
          443,
          309,
          1021,
          750,
          836,
          852,
          650,
          422,
          374,
          783,
          767,
          201,
          837,
          53,
          584,
          692,
          766,
          484,
          194,
          2894,
          2091,
          2028,
          375,
          457,
          766,
          335,
          631,
          403,
          727,
          1011,
          134
         ],
         "xaxis": "x",
         "yaxis": "y"
        },
        {
         "alignmentgroup": "True",
         "hoverlabel": {
          "namelength": 0
         },
         "hovertemplate": "label=negative<br>length_title_text=%{x}",
         "legendgroup": "negative",
         "marker": {
          "color": "#EF553B"
         },
         "name": "negative",
         "notched": true,
         "offsetgroup": "negative",
         "showlegend": false,
         "type": "box",
         "x": [
          194,
          2385,
          421,
          1958,
          187,
          475,
          219,
          121,
          149,
          234,
          1219,
          65,
          1792,
          380,
          823,
          396,
          101,
          3705,
          43,
          416,
          432,
          1873,
          663,
          653,
          533,
          3729,
          1702,
          201,
          675,
          918,
          236,
          359,
          107,
          157,
          181,
          451,
          2590,
          855,
          406,
          325,
          25,
          93,
          377,
          421,
          680,
          509,
          85,
          954,
          1424,
          139,
          274,
          122,
          327,
          79,
          2504,
          148,
          77,
          432,
          403,
          1263,
          246,
          1731,
          2342,
          462,
          306,
          953,
          1043,
          492,
          591,
          86,
          140,
          2530,
          74,
          184,
          669,
          460,
          245,
          589,
          502,
          40,
          83,
          194,
          84,
          1180,
          159,
          418,
          655,
          39,
          1195,
          363,
          340,
          408,
          355,
          464,
          93,
          277,
          185,
          341,
          974,
          194,
          423,
          378,
          499,
          142,
          230,
          274,
          801,
          483,
          181,
          196,
          828,
          86,
          334,
          335,
          876,
          153,
          106,
          464,
          270,
          137,
          566,
          168,
          422,
          189,
          276,
          180,
          2012,
          209,
          285,
          1431,
          589,
          886,
          348,
          183,
          134,
          432,
          503,
          1115,
          178,
          14,
          437,
          1109,
          105,
          2423,
          2556,
          1484,
          255,
          557,
          255,
          3365,
          1759,
          1078,
          440,
          351,
          482,
          804,
          888,
          322,
          184,
          499,
          1323,
          948,
          476,
          28,
          120,
          356,
          235,
          714,
          955,
          543,
          2069,
          928,
          996,
          497,
          415,
          234,
          468,
          1070,
          418,
          249,
          399,
          515,
          366,
          444,
          466,
          68,
          613,
          220,
          307,
          947,
          376,
          123,
          254,
          358,
          179,
          46,
          196,
          74,
          765,
          49,
          423,
          521,
          689,
          82,
          571,
          159,
          323,
          410,
          773,
          333,
          1476,
          873,
          1809,
          617,
          960,
          522,
          1001,
          472,
          352,
          635,
          671,
          474,
          788,
          576,
          405,
          515,
          621,
          291,
          470,
          259,
          292,
          130,
          62,
          652,
          1215,
          258,
          61,
          447,
          277,
          49,
          199,
          91,
          334,
          309,
          813,
          472,
          872,
          419,
          283,
          460,
          440,
          2810,
          955,
          207,
          203,
          457,
          980,
          1210,
          1673,
          649,
          416,
          309,
          288,
          131,
          72,
          452,
          819,
          182,
          173,
          684,
          634,
          42,
          419,
          660,
          336,
          109,
          1240,
          993,
          854,
          1207,
          1123,
          657,
          48,
          347,
          68,
          554,
          368,
          923,
          118,
          458,
          136,
          94,
          334,
          327,
          338,
          174,
          3283,
          471,
          290,
          155,
          122,
          634,
          326,
          169,
          382,
          260,
          553,
          169,
          441,
          253,
          285,
          219,
          109,
          262,
          301,
          370,
          52,
          603,
          363,
          291,
          400,
          326,
          193,
          207,
          700,
          215,
          215,
          487,
          197,
          524,
          336,
          328,
          212,
          297,
          335,
          884,
          827,
          218,
          217,
          165,
          330,
          261,
          762,
          157,
          3207,
          592,
          45,
          91,
          325,
          259,
          1382,
          27,
          1404,
          149,
          1127,
          650,
          1588,
          2149,
          344,
          176,
          207,
          711,
          141,
          59,
          537,
          732,
          238,
          169,
          1143,
          597,
          931,
          419,
          115,
          506,
          352,
          505,
          71,
          679,
          309,
          897,
          893,
          778,
          515,
          80,
          152,
          285,
          1934,
          2046,
          1032,
          195,
          456,
          682,
          71,
          1156,
          837,
          355,
          521,
          616,
          595,
          1107,
          626,
          259,
          196,
          958,
          952,
          1721,
          165,
          2451,
          441,
          1881,
          605,
          1273,
          446,
          209,
          795,
          901,
          401,
          537,
          812,
          752,
          411,
          411,
          439,
          373,
          964,
          905,
          3389,
          122,
          253,
          488,
          117,
          214,
          283,
          210,
          406,
          122,
          419,
          1074,
          51,
          315,
          388,
          1236,
          170,
          1291,
          126,
          552,
          412,
          547,
          282,
          1530,
          1492,
          1147,
          359,
          858,
          464,
          314,
          99,
          186,
          702,
          1686,
          973,
          496,
          1221,
          1350,
          253,
          363,
          224,
          93,
          264,
          555,
          108,
          449,
          62,
          382,
          132,
          208,
          236,
          96,
          404,
          800,
          564,
          466,
          823,
          515,
          580,
          1488,
          476,
          189,
          262,
          41,
          326,
          1311,
          911,
          723,
          823,
          745,
          957,
          541,
          183,
          289,
          246,
          1100,
          1190,
          358,
          48,
          145,
          205,
          234,
          4065,
          217,
          1572,
          777,
          133,
          2960,
          292,
          520,
          991,
          214,
          247,
          400,
          727,
          231,
          102,
          230,
          142,
          179,
          312,
          438,
          321,
          290,
          444,
          179,
          214,
          117,
          2007,
          136,
          970,
          28,
          935,
          809,
          935,
          460,
          601,
          912,
          1232,
          1837,
          550,
          1210,
          606,
          1033,
          603,
          1015,
          2249,
          722,
          944,
          158,
          299,
          946,
          216,
          515,
          1022,
          1807,
          1743,
          1457,
          750,
          234,
          245,
          552,
          795,
          684,
          390,
          933,
          457,
          277,
          559,
          719,
          397,
          225,
          282,
          1889,
          178,
          581,
          443,
          309,
          1021,
          750,
          836,
          852,
          650,
          422,
          374,
          783,
          767,
          201,
          837,
          53,
          584,
          692,
          766,
          484,
          194,
          2894,
          2091,
          2028,
          375,
          457,
          766,
          335,
          631,
          403,
          727,
          1011,
          134
         ],
         "xaxis": "x2",
         "yaxis": "y2"
        }
       ],
       "layout": {
        "barmode": "overlay",
        "coloraxis": {
         "showscale": false
        },
        "font": {
         "color": "black",
         "size": 15
        },
        "height": 500,
        "legend": {
         "font": {
          "size": 15
         },
         "title": {
          "text": "<span style=\"font-weight:bold; font-size:18px\">2734</span> <span style=\"font-weight:normal; font-size:18px\"> customer reviews</span><br /><span style=\"color:blue\">   2121 (78%)</span><br /><span style=\"color:red\">   613 (22%)</span>"
         },
         "tracegroupgap": 0,
         "x": 0.81,
         "y": 0.7
        },
        "margin": {
         "b": 0,
         "l": 0,
         "r": 40,
         "t": 0
        },
        "template": {
         "data": {
          "bar": [
           {
            "error_x": {
             "color": "#2a3f5f"
            },
            "error_y": {
             "color": "#2a3f5f"
            },
            "marker": {
             "line": {
              "color": "#E5ECF6",
              "width": 0.5
             }
            },
            "type": "bar"
           }
          ],
          "barpolar": [
           {
            "marker": {
             "line": {
              "color": "#E5ECF6",
              "width": 0.5
             }
            },
            "type": "barpolar"
           }
          ],
          "carpet": [
           {
            "aaxis": {
             "endlinecolor": "#2a3f5f",
             "gridcolor": "white",
             "linecolor": "white",
             "minorgridcolor": "white",
             "startlinecolor": "#2a3f5f"
            },
            "baxis": {
             "endlinecolor": "#2a3f5f",
             "gridcolor": "white",
             "linecolor": "white",
             "minorgridcolor": "white",
             "startlinecolor": "#2a3f5f"
            },
            "type": "carpet"
           }
          ],
          "choropleth": [
           {
            "colorbar": {
             "outlinewidth": 0,
             "ticks": ""
            },
            "type": "choropleth"
           }
          ],
          "contour": [
           {
            "colorbar": {
             "outlinewidth": 0,
             "ticks": ""
            },
            "colorscale": [
             [
              0,
              "#0d0887"
             ],
             [
              0.1111111111111111,
              "#46039f"
             ],
             [
              0.2222222222222222,
              "#7201a8"
             ],
             [
              0.3333333333333333,
              "#9c179e"
             ],
             [
              0.4444444444444444,
              "#bd3786"
             ],
             [
              0.5555555555555556,
              "#d8576b"
             ],
             [
              0.6666666666666666,
              "#ed7953"
             ],
             [
              0.7777777777777778,
              "#fb9f3a"
             ],
             [
              0.8888888888888888,
              "#fdca26"
             ],
             [
              1,
              "#f0f921"
             ]
            ],
            "type": "contour"
           }
          ],
          "contourcarpet": [
           {
            "colorbar": {
             "outlinewidth": 0,
             "ticks": ""
            },
            "type": "contourcarpet"
           }
          ],
          "heatmap": [
           {
            "colorbar": {
             "outlinewidth": 0,
             "ticks": ""
            },
            "colorscale": [
             [
              0,
              "#0d0887"
             ],
             [
              0.1111111111111111,
              "#46039f"
             ],
             [
              0.2222222222222222,
              "#7201a8"
             ],
             [
              0.3333333333333333,
              "#9c179e"
             ],
             [
              0.4444444444444444,
              "#bd3786"
             ],
             [
              0.5555555555555556,
              "#d8576b"
             ],
             [
              0.6666666666666666,
              "#ed7953"
             ],
             [
              0.7777777777777778,
              "#fb9f3a"
             ],
             [
              0.8888888888888888,
              "#fdca26"
             ],
             [
              1,
              "#f0f921"
             ]
            ],
            "type": "heatmap"
           }
          ],
          "heatmapgl": [
           {
            "colorbar": {
             "outlinewidth": 0,
             "ticks": ""
            },
            "colorscale": [
             [
              0,
              "#0d0887"
             ],
             [
              0.1111111111111111,
              "#46039f"
             ],
             [
              0.2222222222222222,
              "#7201a8"
             ],
             [
              0.3333333333333333,
              "#9c179e"
             ],
             [
              0.4444444444444444,
              "#bd3786"
             ],
             [
              0.5555555555555556,
              "#d8576b"
             ],
             [
              0.6666666666666666,
              "#ed7953"
             ],
             [
              0.7777777777777778,
              "#fb9f3a"
             ],
             [
              0.8888888888888888,
              "#fdca26"
             ],
             [
              1,
              "#f0f921"
             ]
            ],
            "type": "heatmapgl"
           }
          ],
          "histogram": [
           {
            "marker": {
             "colorbar": {
              "outlinewidth": 0,
              "ticks": ""
             }
            },
            "type": "histogram"
           }
          ],
          "histogram2d": [
           {
            "colorbar": {
             "outlinewidth": 0,
             "ticks": ""
            },
            "colorscale": [
             [
              0,
              "#0d0887"
             ],
             [
              0.1111111111111111,
              "#46039f"
             ],
             [
              0.2222222222222222,
              "#7201a8"
             ],
             [
              0.3333333333333333,
              "#9c179e"
             ],
             [
              0.4444444444444444,
              "#bd3786"
             ],
             [
              0.5555555555555556,
              "#d8576b"
             ],
             [
              0.6666666666666666,
              "#ed7953"
             ],
             [
              0.7777777777777778,
              "#fb9f3a"
             ],
             [
              0.8888888888888888,
              "#fdca26"
             ],
             [
              1,
              "#f0f921"
             ]
            ],
            "type": "histogram2d"
           }
          ],
          "histogram2dcontour": [
           {
            "colorbar": {
             "outlinewidth": 0,
             "ticks": ""
            },
            "colorscale": [
             [
              0,
              "#0d0887"
             ],
             [
              0.1111111111111111,
              "#46039f"
             ],
             [
              0.2222222222222222,
              "#7201a8"
             ],
             [
              0.3333333333333333,
              "#9c179e"
             ],
             [
              0.4444444444444444,
              "#bd3786"
             ],
             [
              0.5555555555555556,
              "#d8576b"
             ],
             [
              0.6666666666666666,
              "#ed7953"
             ],
             [
              0.7777777777777778,
              "#fb9f3a"
             ],
             [
              0.8888888888888888,
              "#fdca26"
             ],
             [
              1,
              "#f0f921"
             ]
            ],
            "type": "histogram2dcontour"
           }
          ],
          "mesh3d": [
           {
            "colorbar": {
             "outlinewidth": 0,
             "ticks": ""
            },
            "type": "mesh3d"
           }
          ],
          "parcoords": [
           {
            "line": {
             "colorbar": {
              "outlinewidth": 0,
              "ticks": ""
             }
            },
            "type": "parcoords"
           }
          ],
          "pie": [
           {
            "automargin": true,
            "type": "pie"
           }
          ],
          "scatter": [
           {
            "marker": {
             "colorbar": {
              "outlinewidth": 0,
              "ticks": ""
             }
            },
            "type": "scatter"
           }
          ],
          "scatter3d": [
           {
            "line": {
             "colorbar": {
              "outlinewidth": 0,
              "ticks": ""
             }
            },
            "marker": {
             "colorbar": {
              "outlinewidth": 0,
              "ticks": ""
             }
            },
            "type": "scatter3d"
           }
          ],
          "scattercarpet": [
           {
            "marker": {
             "colorbar": {
              "outlinewidth": 0,
              "ticks": ""
             }
            },
            "type": "scattercarpet"
           }
          ],
          "scattergeo": [
           {
            "marker": {
             "colorbar": {
              "outlinewidth": 0,
              "ticks": ""
             }
            },
            "type": "scattergeo"
           }
          ],
          "scattergl": [
           {
            "marker": {
             "colorbar": {
              "outlinewidth": 0,
              "ticks": ""
             }
            },
            "type": "scattergl"
           }
          ],
          "scattermapbox": [
           {
            "marker": {
             "colorbar": {
              "outlinewidth": 0,
              "ticks": ""
             }
            },
            "type": "scattermapbox"
           }
          ],
          "scatterpolar": [
           {
            "marker": {
             "colorbar": {
              "outlinewidth": 0,
              "ticks": ""
             }
            },
            "type": "scatterpolar"
           }
          ],
          "scatterpolargl": [
           {
            "marker": {
             "colorbar": {
              "outlinewidth": 0,
              "ticks": ""
             }
            },
            "type": "scatterpolargl"
           }
          ],
          "scatterternary": [
           {
            "marker": {
             "colorbar": {
              "outlinewidth": 0,
              "ticks": ""
             }
            },
            "type": "scatterternary"
           }
          ],
          "surface": [
           {
            "colorbar": {
             "outlinewidth": 0,
             "ticks": ""
            },
            "colorscale": [
             [
              0,
              "#0d0887"
             ],
             [
              0.1111111111111111,
              "#46039f"
             ],
             [
              0.2222222222222222,
              "#7201a8"
             ],
             [
              0.3333333333333333,
              "#9c179e"
             ],
             [
              0.4444444444444444,
              "#bd3786"
             ],
             [
              0.5555555555555556,
              "#d8576b"
             ],
             [
              0.6666666666666666,
              "#ed7953"
             ],
             [
              0.7777777777777778,
              "#fb9f3a"
             ],
             [
              0.8888888888888888,
              "#fdca26"
             ],
             [
              1,
              "#f0f921"
             ]
            ],
            "type": "surface"
           }
          ],
          "table": [
           {
            "cells": {
             "fill": {
              "color": "#EBF0F8"
             },
             "line": {
              "color": "white"
             }
            },
            "header": {
             "fill": {
              "color": "#C8D4E3"
             },
             "line": {
              "color": "white"
             }
            },
            "type": "table"
           }
          ]
         },
         "layout": {
          "annotationdefaults": {
           "arrowcolor": "#2a3f5f",
           "arrowhead": 0,
           "arrowwidth": 1
          },
          "coloraxis": {
           "colorbar": {
            "outlinewidth": 0,
            "ticks": ""
           }
          },
          "colorscale": {
           "diverging": [
            [
             0,
             "#8e0152"
            ],
            [
             0.1,
             "#c51b7d"
            ],
            [
             0.2,
             "#de77ae"
            ],
            [
             0.3,
             "#f1b6da"
            ],
            [
             0.4,
             "#fde0ef"
            ],
            [
             0.5,
             "#f7f7f7"
            ],
            [
             0.6,
             "#e6f5d0"
            ],
            [
             0.7,
             "#b8e186"
            ],
            [
             0.8,
             "#7fbc41"
            ],
            [
             0.9,
             "#4d9221"
            ],
            [
             1,
             "#276419"
            ]
           ],
           "sequential": [
            [
             0,
             "#0d0887"
            ],
            [
             0.1111111111111111,
             "#46039f"
            ],
            [
             0.2222222222222222,
             "#7201a8"
            ],
            [
             0.3333333333333333,
             "#9c179e"
            ],
            [
             0.4444444444444444,
             "#bd3786"
            ],
            [
             0.5555555555555556,
             "#d8576b"
            ],
            [
             0.6666666666666666,
             "#ed7953"
            ],
            [
             0.7777777777777778,
             "#fb9f3a"
            ],
            [
             0.8888888888888888,
             "#fdca26"
            ],
            [
             1,
             "#f0f921"
            ]
           ],
           "sequentialminus": [
            [
             0,
             "#0d0887"
            ],
            [
             0.1111111111111111,
             "#46039f"
            ],
            [
             0.2222222222222222,
             "#7201a8"
            ],
            [
             0.3333333333333333,
             "#9c179e"
            ],
            [
             0.4444444444444444,
             "#bd3786"
            ],
            [
             0.5555555555555556,
             "#d8576b"
            ],
            [
             0.6666666666666666,
             "#ed7953"
            ],
            [
             0.7777777777777778,
             "#fb9f3a"
            ],
            [
             0.8888888888888888,
             "#fdca26"
            ],
            [
             1,
             "#f0f921"
            ]
           ]
          },
          "colorway": [
           "#636efa",
           "#EF553B",
           "#00cc96",
           "#ab63fa",
           "#FFA15A",
           "#19d3f3",
           "#FF6692",
           "#B6E880",
           "#FF97FF",
           "#FECB52"
          ],
          "font": {
           "color": "#2a3f5f"
          },
          "geo": {
           "bgcolor": "white",
           "lakecolor": "white",
           "landcolor": "#E5ECF6",
           "showlakes": true,
           "showland": true,
           "subunitcolor": "white"
          },
          "hoverlabel": {
           "align": "left"
          },
          "hovermode": "closest",
          "mapbox": {
           "style": "light"
          },
          "paper_bgcolor": "white",
          "plot_bgcolor": "#E5ECF6",
          "polar": {
           "angularaxis": {
            "gridcolor": "white",
            "linecolor": "white",
            "ticks": ""
           },
           "bgcolor": "#E5ECF6",
           "radialaxis": {
            "gridcolor": "white",
            "linecolor": "white",
            "ticks": ""
           }
          },
          "scene": {
           "xaxis": {
            "backgroundcolor": "#E5ECF6",
            "gridcolor": "white",
            "gridwidth": 2,
            "linecolor": "white",
            "showbackground": true,
            "ticks": "",
            "zerolinecolor": "white"
           },
           "yaxis": {
            "backgroundcolor": "#E5ECF6",
            "gridcolor": "white",
            "gridwidth": 2,
            "linecolor": "white",
            "showbackground": true,
            "ticks": "",
            "zerolinecolor": "white"
           },
           "zaxis": {
            "backgroundcolor": "#E5ECF6",
            "gridcolor": "white",
            "gridwidth": 2,
            "linecolor": "white",
            "showbackground": true,
            "ticks": "",
            "zerolinecolor": "white"
           }
          },
          "shapedefaults": {
           "line": {
            "color": "#2a3f5f"
           }
          },
          "ternary": {
           "aaxis": {
            "gridcolor": "white",
            "linecolor": "white",
            "ticks": ""
           },
           "baxis": {
            "gridcolor": "white",
            "linecolor": "white",
            "ticks": ""
           },
           "bgcolor": "#E5ECF6",
           "caxis": {
            "gridcolor": "white",
            "linecolor": "white",
            "ticks": ""
           }
          },
          "title": {
           "x": 0.05
          },
          "xaxis": {
           "automargin": true,
           "gridcolor": "white",
           "linecolor": "white",
           "ticks": "",
           "title": {
            "standoff": 15
           },
           "zerolinecolor": "white",
           "zerolinewidth": 2
          },
          "yaxis": {
           "automargin": true,
           "gridcolor": "white",
           "linecolor": "white",
           "ticks": "",
           "title": {
            "standoff": 15
           },
           "zerolinecolor": "white",
           "zerolinewidth": 2
          }
         }
        },
        "uniformtext": {
         "minsize": 8,
         "mode": "hide"
        },
        "width": 1000,
        "xaxis": {
         "anchor": "y",
         "domain": [
          0,
          1
         ],
         "tickangle": 0,
         "tickfont": {
          "size": 15
         },
         "title": {
          "font": {
           "size": 15
          },
          "text": "Review length (number of characters)"
         }
        },
        "xaxis2": {
         "anchor": "y2",
         "domain": [
          0,
          1
         ],
         "matches": "x",
         "showgrid": true,
         "showticklabels": false
        },
        "yaxis": {
         "anchor": "x",
         "domain": [
          0,
          0.7326
         ],
         "tickfont": {
          "size": 15
         },
         "title": {
          "font": {
           "size": 15
          },
          "text": "Count"
         }
        },
        "yaxis2": {
         "anchor": "x2",
         "domain": [
          0.7426,
          1
         ],
         "matches": "y2",
         "showgrid": false,
         "showline": false,
         "showticklabels": false,
         "ticks": ""
        }
       }
      },
      "text/html": "<div>\n        \n        \n            <div id=\"2ec18544-1f4a-4474-992a-d9a2f3d303e1\" class=\"plotly-graph-div\" style=\"height:500px; width:1000px;\"></div>\n            <script type=\"text/javascript\">\n                require([\"plotly\"], function(Plotly) {\n                    window.PLOTLYENV=window.PLOTLYENV || {};\n                    \n                if (document.getElementById(\"2ec18544-1f4a-4474-992a-d9a2f3d303e1\")) {\n                    Plotly.newPlot(\n                        '2ec18544-1f4a-4474-992a-d9a2f3d303e1',\n                        [{\"alignmentgroup\": \"True\", \"bingroup\": \"x\", \"hoverlabel\": {\"namelength\": 0}, \"hovertemplate\": \"label=positive<br>length_title_text=%{x}<br>count=%{y}\", \"legendgroup\": \"positive\", \"marker\": {\"color\": \"#636efa\", \"opacity\": 0.75}, \"name\": \"positive\", \"nbinsx\": 150, \"offsetgroup\": \"positive\", \"orientation\": \"v\", \"showlegend\": true, \"type\": \"histogram\", \"x\": [2846, 198, 4715, 70, 59, 938, 505, 33, 598, 223, 292, 624, 501, 235, 906, 539, 237, 334, 1651, 163, 3681, 85, 156, 92, 30, 35, 300, 186, 22, 256, 281, 17, 223, 53, 72, 201, 414, 145, 1725, 54, 23, 35, 75, 50, 23, 42, 43, 46, 35, 105, 50, 55, 107, 52, 114, 45, 61, 333, 78, 269, 69, 48, 229, 93, 79, 132, 67, 159, 48, 53, 42, 17, 25, 89, 39, 129, 322, 437, 3324, 609, 1693, 1182, 59, 717, 487, 523, 679, 1572, 719, 500, 724, 427, 327, 1395, 389, 60, 1817, 594, 355, 5726, 921, 1325, 2469, 734, 1462, 764, 2135, 1212, 1405, 1992, 643, 4343, 338, 394, 808, 561, 163, 170, 148, 344, 115, 343, 130, 137, 149, 295, 324, 186, 349, 240, 72, 407, 491, 418, 247, 494, 780, 316, 719, 157, 446, 302, 377, 637, 299, 292, 267, 236, 251, 45, 79, 87, 508, 2859, 455, 856, 716, 815, 629, 1876, 1163, 2244, 929, 1481, 124, 1219, 1473, 954, 998, 3114, 260, 632, 90, 2578, 1286, 842, 3541, 549, 1106, 470, 1174, 1985, 345, 1444, 1734, 1418, 330, 1120, 2101, 898, 1679, 3247, 868, 1309, 1377, 2535, 480, 374, 777, 2213, 1586, 263, 823, 1858, 179, 1510, 587, 1994, 482, 3730, 517, 681, 339, 611, 1205, 1172, 1050, 1031, 975, 1751, 856, 830, 1199, 759, 57, 477, 48, 995, 576, 715, 177, 1281, 332, 635, 185, 451, 449, 308, 444, 291, 432, 426, 54, 655, 616, 821, 1395, 17, 5349, 102, 3265, 161, 430, 274, 7406, 1756, 2456, 628, 1486, 819, 688, 935, 272, 249, 473, 489, 108, 74, 70, 113, 87, 49, 52, 57, 482, 1278, 904, 1921, 897, 236, 605, 70, 72, 148, 222, 317, 222, 286, 85, 166, 162, 84, 34, 68, 186, 28, 72, 48, 178, 4262, 442, 1912, 161, 279, 80, 40, 199, 40, 52, 223, 205, 164, 87, 272, 178, 86, 152, 73, 151, 164, 435, 353, 294, 315, 578, 445, 401, 405, 216, 295, 225, 220, 479, 94, 47, 145, 183, 140, 132, 141, 65, 98, 11, 33, 27, 34, 105, 145, 75, 2638, 1104, 5200, 3036, 2332, 772, 951, 42, 19, 65, 34, 151, 199, 124, 75, 3254, 14, 58, 45, 173, 50, 38, 19, 72, 33, 583, 569, 1580, 376, 197, 138, 398, 279, 227, 252, 258, 295, 249, 186, 157, 141, 290, 133, 220, 216, 689, 532, 488, 115, 541, 841, 46, 549, 904, 601, 415, 710, 353, 291, 268, 363, 599, 379, 175, 67, 191, 129, 477, 167, 311, 361, 465, 141, 406, 445, 710, 606, 375, 48, 726, 120, 617, 996, 587, 515, 76, 166, 136, 116, 163, 78, 318, 80, 1145, 104, 196, 78, 95, 85, 192, 1030, 1321, 3899, 351, 440, 233, 385, 317, 343, 280, 264, 82, 331, 113, 112, 207, 216, 58, 159, 454, 581, 1531, 282, 988, 2191, 1177, 497, 1023, 892, 5028, 658, 714, 406, 697, 385, 555, 565, 325, 114, 229, 191, 41, 52, 74, 185, 145, 40, 126, 105, 79, 114, 39, 89, 103, 37, 38, 58, 49, 195, 143, 97, 80, 82, 58, 59, 305, 17, 41, 17, 53, 251, 92, 93, 24, 98, 1848, 643, 2487, 1376, 1341, 649, 1054, 1064, 4234, 184, 2362, 919, 787, 639, 878, 1054, 756, 330, 962, 1747, 295, 754, 701, 2197, 1239, 1236, 1207, 734, 1387, 1714, 447, 1197, 1399, 634, 356, 832, 1732, 4614, 666, 627, 791, 1587, 440, 517, 513, 159, 754, 2470, 293, 698, 443, 604, 651, 428, 1149, 1096, 577, 1962, 678, 513, 794, 950, 817, 454, 449, 1290, 594, 1770, 794, 1081, 1727, 752, 625, 420, 448, 1348, 1033, 427, 1051, 1081, 984, 3465, 3810, 362, 2071, 2060, 1270, 1144, 990, 2335, 1140, 2483, 638, 1510, 889, 1226, 5230, 737, 6958, 428, 1670, 1800, 1536, 1402, 8147, 4302, 1075, 1048, 890, 536, 583, 1525, 1280, 626, 1367, 1236, 968, 948, 1338, 1214, 896, 945, 578, 671, 956, 272, 366, 994, 1639, 2546, 2001, 2526, 5616, 859, 1595, 1657, 4926, 2512, 1197, 471, 1224, 367, 492, 743, 1243, 568, 621, 777, 1789, 2261, 1187, 1269, 2395, 751, 801, 642, 442, 339, 1212, 1285, 525, 482, 483, 309, 574, 662, 500, 444, 1350, 965, 608, 1596, 439, 2071, 767, 1359, 1071, 1556, 929, 2384, 1219, 2071, 814, 562, 489, 472, 645, 1042, 387, 521, 541, 433, 260, 393, 373, 206, 264, 116, 10490, 3293, 1850, 6939, 3347, 3974, 224, 565, 1807, 283, 151, 314, 27, 375, 469, 332, 553, 877, 1031, 667, 664, 431, 389, 155, 488, 511, 752, 1565, 21, 820, 121, 99, 155, 91, 131, 197, 198, 175, 166, 169, 285, 113, 131, 129, 102, 116, 106, 158, 895, 316, 406, 787, 189, 604, 571, 401, 981, 1108, 742, 463, 240, 316, 297, 529, 277, 127, 274, 90, 68, 147, 15, 60, 89, 31, 109, 58, 94, 96, 121, 58, 26, 32, 40, 51, 57, 21, 86, 74, 194, 33, 99, 45, 46, 23, 125, 53, 171, 65, 41, 113, 174, 108, 517, 681, 601, 1664, 910, 1015, 971, 1760, 1953, 1419, 1198, 2415, 1047, 745, 226, 983, 2190, 2034, 963, 1823, 2746, 1004, 2879, 2139, 279, 1632, 989, 880, 197, 1348, 1645, 1950, 1333, 2119, 2628, 3733, 1704, 1405, 1231, 1189, 1741, 779, 1184, 1670, 1163, 869, 905, 430, 1039, 1400, 262, 907, 881, 513, 688, 1171, 656, 652, 1139, 1075, 1095, 850, 797, 847, 495, 1012, 957, 958, 2121, 1184, 4429, 1180, 1384, 702, 1311, 1609, 176, 1569, 799, 283, 1125, 1072, 1180, 793, 386, 559, 1250, 1848, 1062, 294, 892, 1162, 463, 1250, 950, 2611, 175, 1061, 1385, 512, 228, 2381, 1109, 531, 885, 1887, 644, 607, 440, 476, 1867, 3015, 434, 1185, 872, 803, 831, 392, 2101, 696, 273, 707, 8950, 2692, 2123, 677, 1251, 1381, 1265, 733, 1113, 2322, 1645, 927, 275, 1078, 902, 1874, 412, 853, 1436, 1116, 450, 646, 1005, 1326, 94, 454, 1383, 1075, 1536, 4328, 375, 866, 1585, 1580, 626, 794, 535, 695, 696, 507, 116, 470, 224, 718, 304, 283, 73, 666, 522, 1736, 737, 737, 613, 1730, 3387, 2676, 1616, 2075, 424, 378, 658, 995, 1536, 710, 1787, 734, 266, 117, 186, 377, 16, 19, 28, 28, 16, 21, 943, 159, 68, 9, 127, 27, 953, 1431, 522, 13, 120, 196, 46, 88, 323, 73, 331, 18, 227, 130, 104, 193, 111, 200, 102, 16, 34, 1296, 284, 406, 902, 148, 263, 248, 56, 164, 168, 170, 112, 170, 205, 9, 290, 83, 19, 73, 321, 145, 1375, 604, 1604, 782, 19, 1168, 1168, 1848, 1338, 505, 1690, 387, 287, 760, 1149, 387, 280, 15, 172, 110, 1656, 633, 730, 4446, 722, 2399, 2030, 1015, 526, 1025, 319, 300, 2248, 3064, 1880, 3421, 624, 781, 1976, 1770, 116, 88, 19, 3245, 4571, 2987, 5906, 2656, 1122, 1965, 1943, 1373, 1233, 966, 792, 932, 1134, 1225, 1178, 738, 790, 977, 1374, 861, 657, 353, 436, 650, 857, 1331, 1077, 1482, 905, 601, 921, 1525, 731, 755, 2742, 2866, 894, 955, 955, 3790, 898, 868, 727, 3086, 1644, 1034, 861, 1721, 502, 771, 686, 893, 1116, 607, 601, 776, 590, 473, 470, 617, 712, 386, 431, 658, 393, 790, 954, 1040, 677, 1285, 466, 814, 831, 734, 2036, 627, 733, 887, 645, 806, 589, 666, 697, 1304, 585, 1496, 96, 370, 669, 42, 466, 12, 559, 38, 50, 722, 1044, 487, 428, 84, 1159, 758, 865, 492, 142, 793, 804, 599, 199, 76, 67, 73, 1358, 603, 1379, 1032, 178, 153, 100, 58, 78, 21, 175, 59, 54, 441, 726, 579, 92, 253, 99, 617, 102, 54, 138, 489, 411, 395, 711, 233, 538, 413, 601, 134, 542, 383, 125, 517, 61, 37, 22, 37, 623, 479, 301, 152, 494, 318, 953, 21, 50, 45, 224, 52, 25, 92, 36, 64, 31, 28, 42, 27, 27, 48, 23, 195, 26, 48, 133, 211, 73, 1280, 234, 1427, 572, 571, 1015, 971, 181, 641, 244, 1666, 1403, 1140, 235, 1177, 223, 3909, 308, 1767, 125, 471, 704, 1339, 282, 1002, 746, 594, 444, 1504, 405, 200, 1345, 2037, 794, 285, 1606, 602, 302, 1080, 958, 5503, 790, 1650, 868, 743, 1058, 867, 272, 1379, 618, 1185, 580, 749, 953, 785, 991, 1588, 1993, 917, 922, 1258, 1366, 1631, 1489, 1680, 559, 591, 1083, 920, 333, 766, 433, 631, 251, 1377, 9, 1949, 2488, 567, 227, 693, 754, 511, 630, 1143, 749, 471, 376, 1093, 289, 296, 1347, 727, 10039, 1067, 3392, 959, 57, 285, 1112, 287, 213, 3126, 1671, 164, 1224, 932, 411, 1097, 419, 2147, 2743, 4488, 4040, 184, 376, 366, 251, 279, 223, 491, 375, 380, 740, 1850, 1079, 7919, 853, 1131, 915, 1221, 838, 251, 2313, 213, 1136, 492, 588, 508, 163, 2246, 918, 886, 398, 897, 640, 3316, 1127, 1211, 82, 1602, 8283, 1501, 1638, 226, 32, 40, 329, 111, 106, 102, 341, 304, 207, 80, 74, 151, 158, 402, 335, 360, 265, 119, 5, 137, 106, 279, 303, 21, 35, 420, 339, 291, 366, 73, 55, 68, 120, 150, 250, 54, 87, 33, 57, 40, 110, 26, 161, 142, 19, 139, 154, 89, 173, 10, 39, 152, 45, 84, 12, 199, 25, 48, 144, 53, 21, 85, 459, 455, 468, 1170, 262, 236, 38, 385, 236, 373, 196, 125, 236, 327, 403, 309, 514, 494, 2213, 926, 749, 588, 110, 657, 773, 1185, 1082, 696, 2507, 239, 615, 126, 81, 860, 81, 23, 1008, 224, 221, 1347, 59, 577, 104, 693, 260, 46, 445, 161, 439, 2325, 27, 38, 42, 107, 62, 87, 76, 61, 116, 21, 78, 28, 38, 74, 19, 155, 238, 185, 224, 215, 347, 332, 161, 251, 334, 200, 164, 304, 170, 244, 382, 160, 276, 32, 560, 313, 648, 182, 476, 27, 110, 294, 394, 142, 214, 522, 108, 27, 96, 96, 60, 240, 62, 92, 303, 127, 94, 75, 18, 89, 112, 167, 105, 298, 131, 99, 48, 141, 52, 341, 324, 126, 95, 125, 984, 48, 68, 99, 187, 789, 4367, 2664, 38, 64, 133, 126, 122, 287, 83, 185, 95, 42, 219, 182, 41, 903, 343, 28, 87, 160, 345, 2314, 50, 64, 39, 522, 360, 261, 470, 279, 239, 99, 543, 99, 163, 266, 71, 202, 472, 63, 707, 23, 129, 123, 515, 149, 140, 103, 1343, 32, 82, 42, 176, 456, 87, 461, 413, 1247, 273, 136, 71, 71, 2857, 86, 104, 25, 124, 33, 14, 128, 44, 51, 61, 373, 1970, 93, 44, 1313, 202, 243, 43, 1200, 171, 54, 54, 5244, 77, 116, 35, 93, 9667, 2291, 981, 1902, 966, 1205, 242, 312, 1974, 285, 422, 472, 670, 341, 1541, 666, 950, 1015, 1028, 2767, 924, 921, 1537, 1244, 3008, 2505, 957, 1185, 56, 84, 76, 366, 282, 951, 259, 351, 55, 284, 637, 350, 513, 462, 151, 36, 193, 196, 147, 142, 169, 189, 374, 39, 119, 7566, 467, 1975, 3655, 29, 294, 329, 117, 215, 387, 280, 293, 157, 1662, 107, 277, 240, 1066, 279, 198, 242, 221, 210, 673, 310, 1422, 112, 304, 150, 824, 352, 434, 358, 372, 237, 470, 427, 912, 311, 209, 1853, 2272, 812, 574, 86, 120, 124, 155, 41, 228, 90, 22, 133, 3090, 75, 234, 205, 229, 968, 3347, 14, 837, 114, 227, 1947, 175, 64, 739, 18, 39, 315, 17, 122, 177, 100, 2291, 1585, 2760, 1381, 5169, 5348, 2123, 1545, 1475, 94, 1385, 265, 1255, 414, 620, 1036, 194, 993, 888, 56, 84, 60, 735, 640, 1796, 63, 164, 484, 73, 1309, 3007, 300, 353, 172, 267, 834, 486, 782, 1258, 625, 1064, 319, 452, 570, 456, 1335, 525, 696, 630, 545, 145, 355, 1288, 456, 58, 1595, 745, 1231, 1614, 292, 218, 574, 323, 508, 347, 37, 195, 126, 1136, 60, 677, 319, 124, 496, 248, 1441, 441, 331, 248, 91, 273, 405, 271, 76, 297, 207, 269, 494, 8, 999, 105, 300, 241, 1070, 1105, 445, 641, 5, 1148, 26, 116, 112, 560, 605, 642, 416, 462, 84, 542, 79, 9, 33, 22, 194, 506, 1390, 4078, 894, 430, 117, 59, 47, 116, 169, 68, 611, 168, 767, 192, 557, 30, 288, 708, 1290, 1532, 1644, 784, 129, 690, 294, 158, 44, 315, 168, 291, 16, 372, 410, 1186, 110, 708, 1757, 183, 437, 29, 238, 18, 218, 1459, 86, 21, 221, 258, 119, 115, 402, 158, 446, 18, 280, 135, 148, 138, 179, 259, 24, 1151, 134, 346, 122, 1407, 108, 53, 73, 65, 17, 87, 63, 173, 20, 97, 64, 92, 88, 28, 89, 18, 171, 105, 65, 7, 122, 73, 59, 57, 54, 297, 250, 14, 2134, 84, 993, 551, 315, 540, 309, 237, 808, 252, 233, 569, 354, 546, 576, 270, 73, 375, 250, 264, 926, 728, 501, 172, 1774, 178, 1486, 721, 927, 457, 741, 951, 423, 70, 523, 428, 264, 402, 452, 118, 222, 454, 275, 217, 60, 308, 151, 358, 342, 223, 461, 479], \"xaxis\": \"x\", \"yaxis\": \"y\"}, {\"alignmentgroup\": \"True\", \"hoverlabel\": {\"namelength\": 0}, \"hovertemplate\": \"label=positive<br>length_title_text=%{x}\", \"legendgroup\": \"positive\", \"marker\": {\"color\": \"#636efa\"}, \"name\": \"positive\", \"notched\": true, \"offsetgroup\": \"positive\", \"showlegend\": false, \"type\": \"box\", \"x\": [2846, 198, 4715, 70, 59, 938, 505, 33, 598, 223, 292, 624, 501, 235, 906, 539, 237, 334, 1651, 163, 3681, 85, 156, 92, 30, 35, 300, 186, 22, 256, 281, 17, 223, 53, 72, 201, 414, 145, 1725, 54, 23, 35, 75, 50, 23, 42, 43, 46, 35, 105, 50, 55, 107, 52, 114, 45, 61, 333, 78, 269, 69, 48, 229, 93, 79, 132, 67, 159, 48, 53, 42, 17, 25, 89, 39, 129, 322, 437, 3324, 609, 1693, 1182, 59, 717, 487, 523, 679, 1572, 719, 500, 724, 427, 327, 1395, 389, 60, 1817, 594, 355, 5726, 921, 1325, 2469, 734, 1462, 764, 2135, 1212, 1405, 1992, 643, 4343, 338, 394, 808, 561, 163, 170, 148, 344, 115, 343, 130, 137, 149, 295, 324, 186, 349, 240, 72, 407, 491, 418, 247, 494, 780, 316, 719, 157, 446, 302, 377, 637, 299, 292, 267, 236, 251, 45, 79, 87, 508, 2859, 455, 856, 716, 815, 629, 1876, 1163, 2244, 929, 1481, 124, 1219, 1473, 954, 998, 3114, 260, 632, 90, 2578, 1286, 842, 3541, 549, 1106, 470, 1174, 1985, 345, 1444, 1734, 1418, 330, 1120, 2101, 898, 1679, 3247, 868, 1309, 1377, 2535, 480, 374, 777, 2213, 1586, 263, 823, 1858, 179, 1510, 587, 1994, 482, 3730, 517, 681, 339, 611, 1205, 1172, 1050, 1031, 975, 1751, 856, 830, 1199, 759, 57, 477, 48, 995, 576, 715, 177, 1281, 332, 635, 185, 451, 449, 308, 444, 291, 432, 426, 54, 655, 616, 821, 1395, 17, 5349, 102, 3265, 161, 430, 274, 7406, 1756, 2456, 628, 1486, 819, 688, 935, 272, 249, 473, 489, 108, 74, 70, 113, 87, 49, 52, 57, 482, 1278, 904, 1921, 897, 236, 605, 70, 72, 148, 222, 317, 222, 286, 85, 166, 162, 84, 34, 68, 186, 28, 72, 48, 178, 4262, 442, 1912, 161, 279, 80, 40, 199, 40, 52, 223, 205, 164, 87, 272, 178, 86, 152, 73, 151, 164, 435, 353, 294, 315, 578, 445, 401, 405, 216, 295, 225, 220, 479, 94, 47, 145, 183, 140, 132, 141, 65, 98, 11, 33, 27, 34, 105, 145, 75, 2638, 1104, 5200, 3036, 2332, 772, 951, 42, 19, 65, 34, 151, 199, 124, 75, 3254, 14, 58, 45, 173, 50, 38, 19, 72, 33, 583, 569, 1580, 376, 197, 138, 398, 279, 227, 252, 258, 295, 249, 186, 157, 141, 290, 133, 220, 216, 689, 532, 488, 115, 541, 841, 46, 549, 904, 601, 415, 710, 353, 291, 268, 363, 599, 379, 175, 67, 191, 129, 477, 167, 311, 361, 465, 141, 406, 445, 710, 606, 375, 48, 726, 120, 617, 996, 587, 515, 76, 166, 136, 116, 163, 78, 318, 80, 1145, 104, 196, 78, 95, 85, 192, 1030, 1321, 3899, 351, 440, 233, 385, 317, 343, 280, 264, 82, 331, 113, 112, 207, 216, 58, 159, 454, 581, 1531, 282, 988, 2191, 1177, 497, 1023, 892, 5028, 658, 714, 406, 697, 385, 555, 565, 325, 114, 229, 191, 41, 52, 74, 185, 145, 40, 126, 105, 79, 114, 39, 89, 103, 37, 38, 58, 49, 195, 143, 97, 80, 82, 58, 59, 305, 17, 41, 17, 53, 251, 92, 93, 24, 98, 1848, 643, 2487, 1376, 1341, 649, 1054, 1064, 4234, 184, 2362, 919, 787, 639, 878, 1054, 756, 330, 962, 1747, 295, 754, 701, 2197, 1239, 1236, 1207, 734, 1387, 1714, 447, 1197, 1399, 634, 356, 832, 1732, 4614, 666, 627, 791, 1587, 440, 517, 513, 159, 754, 2470, 293, 698, 443, 604, 651, 428, 1149, 1096, 577, 1962, 678, 513, 794, 950, 817, 454, 449, 1290, 594, 1770, 794, 1081, 1727, 752, 625, 420, 448, 1348, 1033, 427, 1051, 1081, 984, 3465, 3810, 362, 2071, 2060, 1270, 1144, 990, 2335, 1140, 2483, 638, 1510, 889, 1226, 5230, 737, 6958, 428, 1670, 1800, 1536, 1402, 8147, 4302, 1075, 1048, 890, 536, 583, 1525, 1280, 626, 1367, 1236, 968, 948, 1338, 1214, 896, 945, 578, 671, 956, 272, 366, 994, 1639, 2546, 2001, 2526, 5616, 859, 1595, 1657, 4926, 2512, 1197, 471, 1224, 367, 492, 743, 1243, 568, 621, 777, 1789, 2261, 1187, 1269, 2395, 751, 801, 642, 442, 339, 1212, 1285, 525, 482, 483, 309, 574, 662, 500, 444, 1350, 965, 608, 1596, 439, 2071, 767, 1359, 1071, 1556, 929, 2384, 1219, 2071, 814, 562, 489, 472, 645, 1042, 387, 521, 541, 433, 260, 393, 373, 206, 264, 116, 10490, 3293, 1850, 6939, 3347, 3974, 224, 565, 1807, 283, 151, 314, 27, 375, 469, 332, 553, 877, 1031, 667, 664, 431, 389, 155, 488, 511, 752, 1565, 21, 820, 121, 99, 155, 91, 131, 197, 198, 175, 166, 169, 285, 113, 131, 129, 102, 116, 106, 158, 895, 316, 406, 787, 189, 604, 571, 401, 981, 1108, 742, 463, 240, 316, 297, 529, 277, 127, 274, 90, 68, 147, 15, 60, 89, 31, 109, 58, 94, 96, 121, 58, 26, 32, 40, 51, 57, 21, 86, 74, 194, 33, 99, 45, 46, 23, 125, 53, 171, 65, 41, 113, 174, 108, 517, 681, 601, 1664, 910, 1015, 971, 1760, 1953, 1419, 1198, 2415, 1047, 745, 226, 983, 2190, 2034, 963, 1823, 2746, 1004, 2879, 2139, 279, 1632, 989, 880, 197, 1348, 1645, 1950, 1333, 2119, 2628, 3733, 1704, 1405, 1231, 1189, 1741, 779, 1184, 1670, 1163, 869, 905, 430, 1039, 1400, 262, 907, 881, 513, 688, 1171, 656, 652, 1139, 1075, 1095, 850, 797, 847, 495, 1012, 957, 958, 2121, 1184, 4429, 1180, 1384, 702, 1311, 1609, 176, 1569, 799, 283, 1125, 1072, 1180, 793, 386, 559, 1250, 1848, 1062, 294, 892, 1162, 463, 1250, 950, 2611, 175, 1061, 1385, 512, 228, 2381, 1109, 531, 885, 1887, 644, 607, 440, 476, 1867, 3015, 434, 1185, 872, 803, 831, 392, 2101, 696, 273, 707, 8950, 2692, 2123, 677, 1251, 1381, 1265, 733, 1113, 2322, 1645, 927, 275, 1078, 902, 1874, 412, 853, 1436, 1116, 450, 646, 1005, 1326, 94, 454, 1383, 1075, 1536, 4328, 375, 866, 1585, 1580, 626, 794, 535, 695, 696, 507, 116, 470, 224, 718, 304, 283, 73, 666, 522, 1736, 737, 737, 613, 1730, 3387, 2676, 1616, 2075, 424, 378, 658, 995, 1536, 710, 1787, 734, 266, 117, 186, 377, 16, 19, 28, 28, 16, 21, 943, 159, 68, 9, 127, 27, 953, 1431, 522, 13, 120, 196, 46, 88, 323, 73, 331, 18, 227, 130, 104, 193, 111, 200, 102, 16, 34, 1296, 284, 406, 902, 148, 263, 248, 56, 164, 168, 170, 112, 170, 205, 9, 290, 83, 19, 73, 321, 145, 1375, 604, 1604, 782, 19, 1168, 1168, 1848, 1338, 505, 1690, 387, 287, 760, 1149, 387, 280, 15, 172, 110, 1656, 633, 730, 4446, 722, 2399, 2030, 1015, 526, 1025, 319, 300, 2248, 3064, 1880, 3421, 624, 781, 1976, 1770, 116, 88, 19, 3245, 4571, 2987, 5906, 2656, 1122, 1965, 1943, 1373, 1233, 966, 792, 932, 1134, 1225, 1178, 738, 790, 977, 1374, 861, 657, 353, 436, 650, 857, 1331, 1077, 1482, 905, 601, 921, 1525, 731, 755, 2742, 2866, 894, 955, 955, 3790, 898, 868, 727, 3086, 1644, 1034, 861, 1721, 502, 771, 686, 893, 1116, 607, 601, 776, 590, 473, 470, 617, 712, 386, 431, 658, 393, 790, 954, 1040, 677, 1285, 466, 814, 831, 734, 2036, 627, 733, 887, 645, 806, 589, 666, 697, 1304, 585, 1496, 96, 370, 669, 42, 466, 12, 559, 38, 50, 722, 1044, 487, 428, 84, 1159, 758, 865, 492, 142, 793, 804, 599, 199, 76, 67, 73, 1358, 603, 1379, 1032, 178, 153, 100, 58, 78, 21, 175, 59, 54, 441, 726, 579, 92, 253, 99, 617, 102, 54, 138, 489, 411, 395, 711, 233, 538, 413, 601, 134, 542, 383, 125, 517, 61, 37, 22, 37, 623, 479, 301, 152, 494, 318, 953, 21, 50, 45, 224, 52, 25, 92, 36, 64, 31, 28, 42, 27, 27, 48, 23, 195, 26, 48, 133, 211, 73, 1280, 234, 1427, 572, 571, 1015, 971, 181, 641, 244, 1666, 1403, 1140, 235, 1177, 223, 3909, 308, 1767, 125, 471, 704, 1339, 282, 1002, 746, 594, 444, 1504, 405, 200, 1345, 2037, 794, 285, 1606, 602, 302, 1080, 958, 5503, 790, 1650, 868, 743, 1058, 867, 272, 1379, 618, 1185, 580, 749, 953, 785, 991, 1588, 1993, 917, 922, 1258, 1366, 1631, 1489, 1680, 559, 591, 1083, 920, 333, 766, 433, 631, 251, 1377, 9, 1949, 2488, 567, 227, 693, 754, 511, 630, 1143, 749, 471, 376, 1093, 289, 296, 1347, 727, 10039, 1067, 3392, 959, 57, 285, 1112, 287, 213, 3126, 1671, 164, 1224, 932, 411, 1097, 419, 2147, 2743, 4488, 4040, 184, 376, 366, 251, 279, 223, 491, 375, 380, 740, 1850, 1079, 7919, 853, 1131, 915, 1221, 838, 251, 2313, 213, 1136, 492, 588, 508, 163, 2246, 918, 886, 398, 897, 640, 3316, 1127, 1211, 82, 1602, 8283, 1501, 1638, 226, 32, 40, 329, 111, 106, 102, 341, 304, 207, 80, 74, 151, 158, 402, 335, 360, 265, 119, 5, 137, 106, 279, 303, 21, 35, 420, 339, 291, 366, 73, 55, 68, 120, 150, 250, 54, 87, 33, 57, 40, 110, 26, 161, 142, 19, 139, 154, 89, 173, 10, 39, 152, 45, 84, 12, 199, 25, 48, 144, 53, 21, 85, 459, 455, 468, 1170, 262, 236, 38, 385, 236, 373, 196, 125, 236, 327, 403, 309, 514, 494, 2213, 926, 749, 588, 110, 657, 773, 1185, 1082, 696, 2507, 239, 615, 126, 81, 860, 81, 23, 1008, 224, 221, 1347, 59, 577, 104, 693, 260, 46, 445, 161, 439, 2325, 27, 38, 42, 107, 62, 87, 76, 61, 116, 21, 78, 28, 38, 74, 19, 155, 238, 185, 224, 215, 347, 332, 161, 251, 334, 200, 164, 304, 170, 244, 382, 160, 276, 32, 560, 313, 648, 182, 476, 27, 110, 294, 394, 142, 214, 522, 108, 27, 96, 96, 60, 240, 62, 92, 303, 127, 94, 75, 18, 89, 112, 167, 105, 298, 131, 99, 48, 141, 52, 341, 324, 126, 95, 125, 984, 48, 68, 99, 187, 789, 4367, 2664, 38, 64, 133, 126, 122, 287, 83, 185, 95, 42, 219, 182, 41, 903, 343, 28, 87, 160, 345, 2314, 50, 64, 39, 522, 360, 261, 470, 279, 239, 99, 543, 99, 163, 266, 71, 202, 472, 63, 707, 23, 129, 123, 515, 149, 140, 103, 1343, 32, 82, 42, 176, 456, 87, 461, 413, 1247, 273, 136, 71, 71, 2857, 86, 104, 25, 124, 33, 14, 128, 44, 51, 61, 373, 1970, 93, 44, 1313, 202, 243, 43, 1200, 171, 54, 54, 5244, 77, 116, 35, 93, 9667, 2291, 981, 1902, 966, 1205, 242, 312, 1974, 285, 422, 472, 670, 341, 1541, 666, 950, 1015, 1028, 2767, 924, 921, 1537, 1244, 3008, 2505, 957, 1185, 56, 84, 76, 366, 282, 951, 259, 351, 55, 284, 637, 350, 513, 462, 151, 36, 193, 196, 147, 142, 169, 189, 374, 39, 119, 7566, 467, 1975, 3655, 29, 294, 329, 117, 215, 387, 280, 293, 157, 1662, 107, 277, 240, 1066, 279, 198, 242, 221, 210, 673, 310, 1422, 112, 304, 150, 824, 352, 434, 358, 372, 237, 470, 427, 912, 311, 209, 1853, 2272, 812, 574, 86, 120, 124, 155, 41, 228, 90, 22, 133, 3090, 75, 234, 205, 229, 968, 3347, 14, 837, 114, 227, 1947, 175, 64, 739, 18, 39, 315, 17, 122, 177, 100, 2291, 1585, 2760, 1381, 5169, 5348, 2123, 1545, 1475, 94, 1385, 265, 1255, 414, 620, 1036, 194, 993, 888, 56, 84, 60, 735, 640, 1796, 63, 164, 484, 73, 1309, 3007, 300, 353, 172, 267, 834, 486, 782, 1258, 625, 1064, 319, 452, 570, 456, 1335, 525, 696, 630, 545, 145, 355, 1288, 456, 58, 1595, 745, 1231, 1614, 292, 218, 574, 323, 508, 347, 37, 195, 126, 1136, 60, 677, 319, 124, 496, 248, 1441, 441, 331, 248, 91, 273, 405, 271, 76, 297, 207, 269, 494, 8, 999, 105, 300, 241, 1070, 1105, 445, 641, 5, 1148, 26, 116, 112, 560, 605, 642, 416, 462, 84, 542, 79, 9, 33, 22, 194, 506, 1390, 4078, 894, 430, 117, 59, 47, 116, 169, 68, 611, 168, 767, 192, 557, 30, 288, 708, 1290, 1532, 1644, 784, 129, 690, 294, 158, 44, 315, 168, 291, 16, 372, 410, 1186, 110, 708, 1757, 183, 437, 29, 238, 18, 218, 1459, 86, 21, 221, 258, 119, 115, 402, 158, 446, 18, 280, 135, 148, 138, 179, 259, 24, 1151, 134, 346, 122, 1407, 108, 53, 73, 65, 17, 87, 63, 173, 20, 97, 64, 92, 88, 28, 89, 18, 171, 105, 65, 7, 122, 73, 59, 57, 54, 297, 250, 14, 2134, 84, 993, 551, 315, 540, 309, 237, 808, 252, 233, 569, 354, 546, 576, 270, 73, 375, 250, 264, 926, 728, 501, 172, 1774, 178, 1486, 721, 927, 457, 741, 951, 423, 70, 523, 428, 264, 402, 452, 118, 222, 454, 275, 217, 60, 308, 151, 358, 342, 223, 461, 479], \"xaxis\": \"x2\", \"yaxis\": \"y2\"}, {\"alignmentgroup\": \"True\", \"bingroup\": \"x\", \"hoverlabel\": {\"namelength\": 0}, \"hovertemplate\": \"label=negative<br>length_title_text=%{x}<br>count=%{y}\", \"legendgroup\": \"negative\", \"marker\": {\"color\": \"#EF553B\", \"opacity\": 0.75}, \"name\": \"negative\", \"nbinsx\": 150, \"offsetgroup\": \"negative\", \"orientation\": \"v\", \"showlegend\": true, \"type\": \"histogram\", \"x\": [194, 2385, 421, 1958, 187, 475, 219, 121, 149, 234, 1219, 65, 1792, 380, 823, 396, 101, 3705, 43, 416, 432, 1873, 663, 653, 533, 3729, 1702, 201, 675, 918, 236, 359, 107, 157, 181, 451, 2590, 855, 406, 325, 25, 93, 377, 421, 680, 509, 85, 954, 1424, 139, 274, 122, 327, 79, 2504, 148, 77, 432, 403, 1263, 246, 1731, 2342, 462, 306, 953, 1043, 492, 591, 86, 140, 2530, 74, 184, 669, 460, 245, 589, 502, 40, 83, 194, 84, 1180, 159, 418, 655, 39, 1195, 363, 340, 408, 355, 464, 93, 277, 185, 341, 974, 194, 423, 378, 499, 142, 230, 274, 801, 483, 181, 196, 828, 86, 334, 335, 876, 153, 106, 464, 270, 137, 566, 168, 422, 189, 276, 180, 2012, 209, 285, 1431, 589, 886, 348, 183, 134, 432, 503, 1115, 178, 14, 437, 1109, 105, 2423, 2556, 1484, 255, 557, 255, 3365, 1759, 1078, 440, 351, 482, 804, 888, 322, 184, 499, 1323, 948, 476, 28, 120, 356, 235, 714, 955, 543, 2069, 928, 996, 497, 415, 234, 468, 1070, 418, 249, 399, 515, 366, 444, 466, 68, 613, 220, 307, 947, 376, 123, 254, 358, 179, 46, 196, 74, 765, 49, 423, 521, 689, 82, 571, 159, 323, 410, 773, 333, 1476, 873, 1809, 617, 960, 522, 1001, 472, 352, 635, 671, 474, 788, 576, 405, 515, 621, 291, 470, 259, 292, 130, 62, 652, 1215, 258, 61, 447, 277, 49, 199, 91, 334, 309, 813, 472, 872, 419, 283, 460, 440, 2810, 955, 207, 203, 457, 980, 1210, 1673, 649, 416, 309, 288, 131, 72, 452, 819, 182, 173, 684, 634, 42, 419, 660, 336, 109, 1240, 993, 854, 1207, 1123, 657, 48, 347, 68, 554, 368, 923, 118, 458, 136, 94, 334, 327, 338, 174, 3283, 471, 290, 155, 122, 634, 326, 169, 382, 260, 553, 169, 441, 253, 285, 219, 109, 262, 301, 370, 52, 603, 363, 291, 400, 326, 193, 207, 700, 215, 215, 487, 197, 524, 336, 328, 212, 297, 335, 884, 827, 218, 217, 165, 330, 261, 762, 157, 3207, 592, 45, 91, 325, 259, 1382, 27, 1404, 149, 1127, 650, 1588, 2149, 344, 176, 207, 711, 141, 59, 537, 732, 238, 169, 1143, 597, 931, 419, 115, 506, 352, 505, 71, 679, 309, 897, 893, 778, 515, 80, 152, 285, 1934, 2046, 1032, 195, 456, 682, 71, 1156, 837, 355, 521, 616, 595, 1107, 626, 259, 196, 958, 952, 1721, 165, 2451, 441, 1881, 605, 1273, 446, 209, 795, 901, 401, 537, 812, 752, 411, 411, 439, 373, 964, 905, 3389, 122, 253, 488, 117, 214, 283, 210, 406, 122, 419, 1074, 51, 315, 388, 1236, 170, 1291, 126, 552, 412, 547, 282, 1530, 1492, 1147, 359, 858, 464, 314, 99, 186, 702, 1686, 973, 496, 1221, 1350, 253, 363, 224, 93, 264, 555, 108, 449, 62, 382, 132, 208, 236, 96, 404, 800, 564, 466, 823, 515, 580, 1488, 476, 189, 262, 41, 326, 1311, 911, 723, 823, 745, 957, 541, 183, 289, 246, 1100, 1190, 358, 48, 145, 205, 234, 4065, 217, 1572, 777, 133, 2960, 292, 520, 991, 214, 247, 400, 727, 231, 102, 230, 142, 179, 312, 438, 321, 290, 444, 179, 214, 117, 2007, 136, 970, 28, 935, 809, 935, 460, 601, 912, 1232, 1837, 550, 1210, 606, 1033, 603, 1015, 2249, 722, 944, 158, 299, 946, 216, 515, 1022, 1807, 1743, 1457, 750, 234, 245, 552, 795, 684, 390, 933, 457, 277, 559, 719, 397, 225, 282, 1889, 178, 581, 443, 309, 1021, 750, 836, 852, 650, 422, 374, 783, 767, 201, 837, 53, 584, 692, 766, 484, 194, 2894, 2091, 2028, 375, 457, 766, 335, 631, 403, 727, 1011, 134], \"xaxis\": \"x\", \"yaxis\": \"y\"}, {\"alignmentgroup\": \"True\", \"hoverlabel\": {\"namelength\": 0}, \"hovertemplate\": \"label=negative<br>length_title_text=%{x}\", \"legendgroup\": \"negative\", \"marker\": {\"color\": \"#EF553B\"}, \"name\": \"negative\", \"notched\": true, \"offsetgroup\": \"negative\", \"showlegend\": false, \"type\": \"box\", \"x\": [194, 2385, 421, 1958, 187, 475, 219, 121, 149, 234, 1219, 65, 1792, 380, 823, 396, 101, 3705, 43, 416, 432, 1873, 663, 653, 533, 3729, 1702, 201, 675, 918, 236, 359, 107, 157, 181, 451, 2590, 855, 406, 325, 25, 93, 377, 421, 680, 509, 85, 954, 1424, 139, 274, 122, 327, 79, 2504, 148, 77, 432, 403, 1263, 246, 1731, 2342, 462, 306, 953, 1043, 492, 591, 86, 140, 2530, 74, 184, 669, 460, 245, 589, 502, 40, 83, 194, 84, 1180, 159, 418, 655, 39, 1195, 363, 340, 408, 355, 464, 93, 277, 185, 341, 974, 194, 423, 378, 499, 142, 230, 274, 801, 483, 181, 196, 828, 86, 334, 335, 876, 153, 106, 464, 270, 137, 566, 168, 422, 189, 276, 180, 2012, 209, 285, 1431, 589, 886, 348, 183, 134, 432, 503, 1115, 178, 14, 437, 1109, 105, 2423, 2556, 1484, 255, 557, 255, 3365, 1759, 1078, 440, 351, 482, 804, 888, 322, 184, 499, 1323, 948, 476, 28, 120, 356, 235, 714, 955, 543, 2069, 928, 996, 497, 415, 234, 468, 1070, 418, 249, 399, 515, 366, 444, 466, 68, 613, 220, 307, 947, 376, 123, 254, 358, 179, 46, 196, 74, 765, 49, 423, 521, 689, 82, 571, 159, 323, 410, 773, 333, 1476, 873, 1809, 617, 960, 522, 1001, 472, 352, 635, 671, 474, 788, 576, 405, 515, 621, 291, 470, 259, 292, 130, 62, 652, 1215, 258, 61, 447, 277, 49, 199, 91, 334, 309, 813, 472, 872, 419, 283, 460, 440, 2810, 955, 207, 203, 457, 980, 1210, 1673, 649, 416, 309, 288, 131, 72, 452, 819, 182, 173, 684, 634, 42, 419, 660, 336, 109, 1240, 993, 854, 1207, 1123, 657, 48, 347, 68, 554, 368, 923, 118, 458, 136, 94, 334, 327, 338, 174, 3283, 471, 290, 155, 122, 634, 326, 169, 382, 260, 553, 169, 441, 253, 285, 219, 109, 262, 301, 370, 52, 603, 363, 291, 400, 326, 193, 207, 700, 215, 215, 487, 197, 524, 336, 328, 212, 297, 335, 884, 827, 218, 217, 165, 330, 261, 762, 157, 3207, 592, 45, 91, 325, 259, 1382, 27, 1404, 149, 1127, 650, 1588, 2149, 344, 176, 207, 711, 141, 59, 537, 732, 238, 169, 1143, 597, 931, 419, 115, 506, 352, 505, 71, 679, 309, 897, 893, 778, 515, 80, 152, 285, 1934, 2046, 1032, 195, 456, 682, 71, 1156, 837, 355, 521, 616, 595, 1107, 626, 259, 196, 958, 952, 1721, 165, 2451, 441, 1881, 605, 1273, 446, 209, 795, 901, 401, 537, 812, 752, 411, 411, 439, 373, 964, 905, 3389, 122, 253, 488, 117, 214, 283, 210, 406, 122, 419, 1074, 51, 315, 388, 1236, 170, 1291, 126, 552, 412, 547, 282, 1530, 1492, 1147, 359, 858, 464, 314, 99, 186, 702, 1686, 973, 496, 1221, 1350, 253, 363, 224, 93, 264, 555, 108, 449, 62, 382, 132, 208, 236, 96, 404, 800, 564, 466, 823, 515, 580, 1488, 476, 189, 262, 41, 326, 1311, 911, 723, 823, 745, 957, 541, 183, 289, 246, 1100, 1190, 358, 48, 145, 205, 234, 4065, 217, 1572, 777, 133, 2960, 292, 520, 991, 214, 247, 400, 727, 231, 102, 230, 142, 179, 312, 438, 321, 290, 444, 179, 214, 117, 2007, 136, 970, 28, 935, 809, 935, 460, 601, 912, 1232, 1837, 550, 1210, 606, 1033, 603, 1015, 2249, 722, 944, 158, 299, 946, 216, 515, 1022, 1807, 1743, 1457, 750, 234, 245, 552, 795, 684, 390, 933, 457, 277, 559, 719, 397, 225, 282, 1889, 178, 581, 443, 309, 1021, 750, 836, 852, 650, 422, 374, 783, 767, 201, 837, 53, 584, 692, 766, 484, 194, 2894, 2091, 2028, 375, 457, 766, 335, 631, 403, 727, 1011, 134], \"xaxis\": \"x2\", \"yaxis\": \"y2\"}],\n                        {\"barmode\": \"overlay\", \"coloraxis\": {\"showscale\": false}, \"font\": {\"color\": \"black\", \"size\": 15}, \"height\": 500, \"legend\": {\"font\": {\"size\": 15}, \"title\": {\"text\": \"<span style=\\\"font-weight:bold; font-size:18px\\\">2734</span> <span style=\\\"font-weight:normal; font-size:18px\\\"> customer reviews</span><br /><span style=\\\"color:blue\\\">   2121 (78%)</span><br /><span style=\\\"color:red\\\">   613 (22%)</span>\"}, \"tracegroupgap\": 0, \"x\": 0.81, \"y\": 0.7}, \"margin\": {\"b\": 0, \"l\": 0, \"r\": 40, \"t\": 0}, \"template\": {\"data\": {\"bar\": [{\"error_x\": {\"color\": \"#2a3f5f\"}, \"error_y\": {\"color\": \"#2a3f5f\"}, \"marker\": {\"line\": {\"color\": \"#E5ECF6\", \"width\": 0.5}}, \"type\": \"bar\"}], \"barpolar\": [{\"marker\": {\"line\": {\"color\": \"#E5ECF6\", \"width\": 0.5}}, \"type\": \"barpolar\"}], \"carpet\": [{\"aaxis\": {\"endlinecolor\": \"#2a3f5f\", \"gridcolor\": \"white\", \"linecolor\": \"white\", \"minorgridcolor\": \"white\", \"startlinecolor\": \"#2a3f5f\"}, \"baxis\": {\"endlinecolor\": \"#2a3f5f\", \"gridcolor\": \"white\", \"linecolor\": \"white\", \"minorgridcolor\": \"white\", \"startlinecolor\": \"#2a3f5f\"}, \"type\": \"carpet\"}], \"choropleth\": [{\"colorbar\": {\"outlinewidth\": 0, \"ticks\": \"\"}, \"type\": \"choropleth\"}], \"contour\": [{\"colorbar\": {\"outlinewidth\": 0, \"ticks\": \"\"}, \"colorscale\": [[0.0, \"#0d0887\"], [0.1111111111111111, \"#46039f\"], [0.2222222222222222, \"#7201a8\"], [0.3333333333333333, \"#9c179e\"], [0.4444444444444444, \"#bd3786\"], [0.5555555555555556, \"#d8576b\"], [0.6666666666666666, \"#ed7953\"], [0.7777777777777778, \"#fb9f3a\"], [0.8888888888888888, \"#fdca26\"], [1.0, \"#f0f921\"]], \"type\": \"contour\"}], \"contourcarpet\": [{\"colorbar\": {\"outlinewidth\": 0, \"ticks\": \"\"}, \"type\": \"contourcarpet\"}], \"heatmap\": [{\"colorbar\": {\"outlinewidth\": 0, \"ticks\": \"\"}, \"colorscale\": [[0.0, \"#0d0887\"], [0.1111111111111111, \"#46039f\"], [0.2222222222222222, \"#7201a8\"], [0.3333333333333333, \"#9c179e\"], [0.4444444444444444, \"#bd3786\"], [0.5555555555555556, \"#d8576b\"], [0.6666666666666666, \"#ed7953\"], [0.7777777777777778, \"#fb9f3a\"], [0.8888888888888888, \"#fdca26\"], [1.0, \"#f0f921\"]], \"type\": \"heatmap\"}], \"heatmapgl\": [{\"colorbar\": {\"outlinewidth\": 0, \"ticks\": \"\"}, \"colorscale\": [[0.0, \"#0d0887\"], [0.1111111111111111, \"#46039f\"], [0.2222222222222222, \"#7201a8\"], [0.3333333333333333, \"#9c179e\"], [0.4444444444444444, \"#bd3786\"], [0.5555555555555556, \"#d8576b\"], [0.6666666666666666, \"#ed7953\"], [0.7777777777777778, \"#fb9f3a\"], [0.8888888888888888, \"#fdca26\"], [1.0, \"#f0f921\"]], \"type\": \"heatmapgl\"}], \"histogram\": [{\"marker\": {\"colorbar\": {\"outlinewidth\": 0, \"ticks\": \"\"}}, \"type\": \"histogram\"}], \"histogram2d\": [{\"colorbar\": {\"outlinewidth\": 0, \"ticks\": \"\"}, \"colorscale\": [[0.0, \"#0d0887\"], [0.1111111111111111, \"#46039f\"], [0.2222222222222222, \"#7201a8\"], [0.3333333333333333, \"#9c179e\"], [0.4444444444444444, \"#bd3786\"], [0.5555555555555556, \"#d8576b\"], [0.6666666666666666, \"#ed7953\"], [0.7777777777777778, \"#fb9f3a\"], [0.8888888888888888, \"#fdca26\"], [1.0, \"#f0f921\"]], \"type\": \"histogram2d\"}], \"histogram2dcontour\": [{\"colorbar\": {\"outlinewidth\": 0, \"ticks\": \"\"}, \"colorscale\": [[0.0, \"#0d0887\"], [0.1111111111111111, \"#46039f\"], [0.2222222222222222, \"#7201a8\"], [0.3333333333333333, \"#9c179e\"], [0.4444444444444444, \"#bd3786\"], [0.5555555555555556, \"#d8576b\"], [0.6666666666666666, \"#ed7953\"], [0.7777777777777778, \"#fb9f3a\"], [0.8888888888888888, \"#fdca26\"], [1.0, \"#f0f921\"]], \"type\": \"histogram2dcontour\"}], \"mesh3d\": [{\"colorbar\": {\"outlinewidth\": 0, \"ticks\": \"\"}, \"type\": \"mesh3d\"}], \"parcoords\": [{\"line\": {\"colorbar\": {\"outlinewidth\": 0, \"ticks\": \"\"}}, \"type\": \"parcoords\"}], \"pie\": [{\"automargin\": true, \"type\": \"pie\"}], \"scatter\": [{\"marker\": {\"colorbar\": {\"outlinewidth\": 0, \"ticks\": \"\"}}, \"type\": \"scatter\"}], \"scatter3d\": [{\"line\": {\"colorbar\": {\"outlinewidth\": 0, \"ticks\": \"\"}}, \"marker\": {\"colorbar\": {\"outlinewidth\": 0, \"ticks\": \"\"}}, \"type\": \"scatter3d\"}], \"scattercarpet\": [{\"marker\": {\"colorbar\": {\"outlinewidth\": 0, \"ticks\": \"\"}}, \"type\": \"scattercarpet\"}], \"scattergeo\": [{\"marker\": {\"colorbar\": {\"outlinewidth\": 0, \"ticks\": \"\"}}, \"type\": \"scattergeo\"}], \"scattergl\": [{\"marker\": {\"colorbar\": {\"outlinewidth\": 0, \"ticks\": \"\"}}, \"type\": \"scattergl\"}], \"scattermapbox\": [{\"marker\": {\"colorbar\": {\"outlinewidth\": 0, \"ticks\": \"\"}}, \"type\": \"scattermapbox\"}], \"scatterpolar\": [{\"marker\": {\"colorbar\": {\"outlinewidth\": 0, \"ticks\": \"\"}}, \"type\": \"scatterpolar\"}], \"scatterpolargl\": [{\"marker\": {\"colorbar\": {\"outlinewidth\": 0, \"ticks\": \"\"}}, \"type\": \"scatterpolargl\"}], \"scatterternary\": [{\"marker\": {\"colorbar\": {\"outlinewidth\": 0, \"ticks\": \"\"}}, \"type\": \"scatterternary\"}], \"surface\": [{\"colorbar\": {\"outlinewidth\": 0, \"ticks\": \"\"}, \"colorscale\": [[0.0, \"#0d0887\"], [0.1111111111111111, \"#46039f\"], [0.2222222222222222, \"#7201a8\"], [0.3333333333333333, \"#9c179e\"], [0.4444444444444444, \"#bd3786\"], [0.5555555555555556, \"#d8576b\"], [0.6666666666666666, \"#ed7953\"], [0.7777777777777778, \"#fb9f3a\"], [0.8888888888888888, \"#fdca26\"], [1.0, \"#f0f921\"]], \"type\": \"surface\"}], \"table\": [{\"cells\": {\"fill\": {\"color\": \"#EBF0F8\"}, \"line\": {\"color\": \"white\"}}, \"header\": {\"fill\": {\"color\": \"#C8D4E3\"}, \"line\": {\"color\": \"white\"}}, \"type\": \"table\"}]}, \"layout\": {\"annotationdefaults\": {\"arrowcolor\": \"#2a3f5f\", \"arrowhead\": 0, \"arrowwidth\": 1}, \"coloraxis\": {\"colorbar\": {\"outlinewidth\": 0, \"ticks\": \"\"}}, \"colorscale\": {\"diverging\": [[0, \"#8e0152\"], [0.1, \"#c51b7d\"], [0.2, \"#de77ae\"], [0.3, \"#f1b6da\"], [0.4, \"#fde0ef\"], [0.5, \"#f7f7f7\"], [0.6, \"#e6f5d0\"], [0.7, \"#b8e186\"], [0.8, \"#7fbc41\"], [0.9, \"#4d9221\"], [1, \"#276419\"]], \"sequential\": [[0.0, \"#0d0887\"], [0.1111111111111111, \"#46039f\"], [0.2222222222222222, \"#7201a8\"], [0.3333333333333333, \"#9c179e\"], [0.4444444444444444, \"#bd3786\"], [0.5555555555555556, \"#d8576b\"], [0.6666666666666666, \"#ed7953\"], [0.7777777777777778, \"#fb9f3a\"], [0.8888888888888888, \"#fdca26\"], [1.0, \"#f0f921\"]], \"sequentialminus\": [[0.0, \"#0d0887\"], [0.1111111111111111, \"#46039f\"], [0.2222222222222222, \"#7201a8\"], [0.3333333333333333, \"#9c179e\"], [0.4444444444444444, \"#bd3786\"], [0.5555555555555556, \"#d8576b\"], [0.6666666666666666, \"#ed7953\"], [0.7777777777777778, \"#fb9f3a\"], [0.8888888888888888, \"#fdca26\"], [1.0, \"#f0f921\"]]}, \"colorway\": [\"#636efa\", \"#EF553B\", \"#00cc96\", \"#ab63fa\", \"#FFA15A\", \"#19d3f3\", \"#FF6692\", \"#B6E880\", \"#FF97FF\", \"#FECB52\"], \"font\": {\"color\": \"#2a3f5f\"}, \"geo\": {\"bgcolor\": \"white\", \"lakecolor\": \"white\", \"landcolor\": \"#E5ECF6\", \"showlakes\": true, \"showland\": true, \"subunitcolor\": \"white\"}, \"hoverlabel\": {\"align\": \"left\"}, \"hovermode\": \"closest\", \"mapbox\": {\"style\": \"light\"}, \"paper_bgcolor\": \"white\", \"plot_bgcolor\": \"#E5ECF6\", \"polar\": {\"angularaxis\": {\"gridcolor\": \"white\", \"linecolor\": \"white\", \"ticks\": \"\"}, \"bgcolor\": \"#E5ECF6\", \"radialaxis\": {\"gridcolor\": \"white\", \"linecolor\": \"white\", \"ticks\": \"\"}}, \"scene\": {\"xaxis\": {\"backgroundcolor\": \"#E5ECF6\", \"gridcolor\": \"white\", \"gridwidth\": 2, \"linecolor\": \"white\", \"showbackground\": true, \"ticks\": \"\", \"zerolinecolor\": \"white\"}, \"yaxis\": {\"backgroundcolor\": \"#E5ECF6\", \"gridcolor\": \"white\", \"gridwidth\": 2, \"linecolor\": \"white\", \"showbackground\": true, \"ticks\": \"\", \"zerolinecolor\": \"white\"}, \"zaxis\": {\"backgroundcolor\": \"#E5ECF6\", \"gridcolor\": \"white\", \"gridwidth\": 2, \"linecolor\": \"white\", \"showbackground\": true, \"ticks\": \"\", \"zerolinecolor\": \"white\"}}, \"shapedefaults\": {\"line\": {\"color\": \"#2a3f5f\"}}, \"ternary\": {\"aaxis\": {\"gridcolor\": \"white\", \"linecolor\": \"white\", \"ticks\": \"\"}, \"baxis\": {\"gridcolor\": \"white\", \"linecolor\": \"white\", \"ticks\": \"\"}, \"bgcolor\": \"#E5ECF6\", \"caxis\": {\"gridcolor\": \"white\", \"linecolor\": \"white\", \"ticks\": \"\"}}, \"title\": {\"x\": 0.05}, \"xaxis\": {\"automargin\": true, \"gridcolor\": \"white\", \"linecolor\": \"white\", \"ticks\": \"\", \"title\": {\"standoff\": 15}, \"zerolinecolor\": \"white\", \"zerolinewidth\": 2}, \"yaxis\": {\"automargin\": true, \"gridcolor\": \"white\", \"linecolor\": \"white\", \"ticks\": \"\", \"title\": {\"standoff\": 15}, \"zerolinecolor\": \"white\", \"zerolinewidth\": 2}}}, \"uniformtext\": {\"minsize\": 8, \"mode\": \"hide\"}, \"width\": 1000, \"xaxis\": {\"anchor\": \"y\", \"domain\": [0.0, 1.0], \"tickangle\": 0, \"tickfont\": {\"size\": 15}, \"title\": {\"font\": {\"size\": 15}, \"text\": \"Review length (number of characters)\"}}, \"xaxis2\": {\"anchor\": \"y2\", \"domain\": [0.0, 1.0], \"matches\": \"x\", \"showgrid\": true, \"showticklabels\": false}, \"yaxis\": {\"anchor\": \"x\", \"domain\": [0.0, 0.7326], \"tickfont\": {\"size\": 15}, \"title\": {\"font\": {\"size\": 15}, \"text\": \"Count\"}}, \"yaxis2\": {\"anchor\": \"x2\", \"domain\": [0.7426, 1.0], \"matches\": \"y2\", \"showgrid\": false, \"showline\": false, \"showticklabels\": false, \"ticks\": \"\"}},\n                        {\"responsive\": true}\n                    ).then(function(){\n                            \nvar gd = document.getElementById('2ec18544-1f4a-4474-992a-d9a2f3d303e1');\nvar x = new MutationObserver(function (mutations, observer) {{\n        var display = window.getComputedStyle(gd).display;\n        if (!display || display === 'none') {{\n            console.log([gd, 'removed!']);\n            Plotly.purge(gd);\n            observer.disconnect();\n        }}\n}});\n\n// Listen for the removal of the full notebook cells\nvar notebookContainer = gd.closest('#notebook-container');\nif (notebookContainer) {{\n    x.observe(notebookContainer, {childList: true});\n}}\n\n// Listen for the clearing of the current output cell\nvar outputEl = gd.closest('.output');\nif (outputEl) {{\n    x.observe(outputEl, {childList: true});\n}}\n\n                        })\n                };\n                });\n            </script>\n        </div>"
     },
     "metadata": {}
    }
   ],
   "source": [
    "# Visulizing the data by ploting a histogram\n",
    "\n",
    "# https://plotly.com/python/distplot/#combined-statistical-representations-with-pxhistogram\n",
    "# https://plotly.com/python/histograms/#choosing-the-number-of-bins\n",
    "# https://plotly.github.io/plotly.py-docs/generated/plotly.express.histogram.html\n",
    "# https://plotly.github.io/plotly.py-docs/generated/plotly.graph_objects.Histogram.html\n",
    "\n",
    "# This allows use plotly in Junype-notebook\n",
    "import cufflinks as cf\n",
    "from plotly.offline import download_plotlyjs, init_notebook_mode, plot, iplot\n",
    "init_notebook_mode(connected=True)\n",
    "\n",
    "import plotly.express as px\n",
    "import plotly.graph_objs as go\n",
    "\n",
    "def review_length_histogram(df,column_rating,column_length,labeled=None):\n",
    "    if labeled == None:\n",
    "        df = df[df[column_rating] != 3]\n",
    "        df['label'] = ['positive' if rating > 3 else 'negative' for rating in df[column_rating] ]\n",
    "\n",
    "    df = df.sort_values(by=['label'], ascending=False)\n",
    "    n_reviews = len(df)\n",
    "    n_pos = len(df[df['label'] == 'positive'])\n",
    "    n_neg = len(df[df['label'] == 'negative'])\n",
    "    n_pos_percent = round((n_pos*100)/n_reviews)\n",
    "    n_neg_percent = round((n_neg*100)/n_reviews)\n",
    "\n",
    "    fig = px.histogram(df, x=column_length, color=\"label\",  barmode=\"overlay\", nbins=150, opacity=0.75, \n",
    "                    marginal=\"box\",)  # or violin, rug)\n",
    "    fig.update_layout(\n",
    "            margin=go.layout.Margin(l=0, r=40, t=0, b=0), xaxis_tickangle=0,\n",
    "            uniformtext_minsize=8, uniformtext_mode='hide', coloraxis_showscale=False, height=500, width=1000,\n",
    "            yaxis=dict(\n",
    "                title='Count',\n",
    "                titlefont_size=15,\n",
    "                tickfont_size=15,\n",
    "            ),\n",
    "            xaxis=dict(\n",
    "                title='Review length (number of characters)',\n",
    "                titlefont_size=15,\n",
    "                tickfont_size=15,\n",
    "            ),\n",
    "            font=dict(\n",
    "                size=15,\n",
    "                color=\"black\"\n",
    "            ),\n",
    "            legend=dict(\n",
    "                y=0.7,\n",
    "                x=0.81,\n",
    "                title='<span style=\"font-weight:bold; font-size:18px\">{}</span> <span style=\"font-weight:normal; font-size:18px\"> customer reviews</span><br /><span style=\"color:blue\">   {} ({}%)</span><br /><span style=\"color:red\">   {} ({}%)</span>'.format(n_reviews, n_pos, n_pos_percent, n_neg, n_neg_percent),\n",
    "                font=dict(\n",
    "                    size=15,\n",
    "                ),\n",
    "            ),\n",
    "        )\n",
    "    return fig\n",
    "\n",
    "\n",
    "fig = review_length_histogram(my_reviews,'rating','length_title_text')\n",
    "fig"
   ]
  },
  {
   "cell_type": "markdown",
   "metadata": {},
   "source": [
    "## Text Pre-processing\n",
    "* **Removing punctuation:**\n",
    " * Punctuation: We will remove all punctuation char found the «string» library.\n",
    " \n",
    "* **Removing stopwords:**\n",
    " * Our stopwords will be composed by:\n",
    "  - The common stopwords defined in the nltk library \n",
    "  - Some particular stopwords related to our data:\n",
    "    * Brand names: There is no point in analyzing brand names. For instance, in a Lenovo review, the customer will use the word ``Lenovo'' many times, but this fact does not contribute anything to the analysis. \n",
    "    * Laptop synonyms: laptop, computer, machine, etc.\n",
    "    * Some no-official contractions that are not in the nltk library: Im dont Ive, etc.\n",
    "\n",
    "* **Tokenization**\n"
   ]
  },
  {
   "cell_type": "code",
   "execution_count": null,
   "metadata": {},
   "outputs": [],
   "source": [
    "# This function «pre_processing» has been defining in «utils.py». It can no be defined in this file because we are passing this function as an argument to our pipeline machine learning model. So, in order to be able to save the ML model on disc for later use, the functions passed to the pipeline must be defined in another file and imported here (from utils import pre_processing)\n",
    "from utils import pre_processing\n",
    "# We also need to import the libraries that «pre_processing()» is using. This are the libraries used in «pre_processing()»:\n",
    "import nltk\n",
    "import string\n",
    "nltk.data.path.append('/home/adelo/.nltk/nltk_data')\n",
    "from nltk.corpus import stopwords\n",
    "\n",
    "\"\"\"\n",
    "\n",
    "import nltk\n",
    "import string\n",
    "nltk.data.path.append('/home/adelo/.nltk/nltk_data')\n",
    "from nltk.corpus import stopwords\n",
    "\n",
    "stopwords_brands_additionals = ['computer','computers','laptop','laptops','thing','things','machine','machines','im','dont','ive']\n",
    "stopwords_total  = stopwords.words('english') + stopwords_brands_additionals\n",
    "\n",
    "# The following function takes a string and an optional argument «tokenize»:\n",
    "# * It removes punctuation and stopwords from the string entered\n",
    "# * If the «tokenize» argument if not specified, the string will be tokenized so it will return \n",
    "#   a list of the word without punctuation or stopwords\n",
    "# * If a tokenize argument is specified, the string will NOT be tokenized, so it will return\n",
    "#   a string without punctuation or stopwords\n",
    "def pre_processing(texto,tokenize=None):\n",
    "    # Removing punctuation:\n",
    "    text_process = ''.join([ char for char in texto if char not in string.punctuation ])\n",
    "    # Removing Stopwords:\n",
    "    text_process = ' '.join([ word for word in text_process.split() if word.lower() not in stopwords_total ])\n",
    "    if tokenize == None:\n",
    "        return [word for word in text_process.split()]\n",
    "    else:\n",
    "        return text_process\n",
    "    \n",
    "\n",
    "# Example of applying the function «pre_processing()»:\n",
    "display(my_reviews['title_text'].head())\n",
    "display(my_reviews['title_text'].head().apply(lambda val: pre_processing(val,'no_tokenize')))\n",
    "\n",
    "# Here is how we would apply the function «pre_processing()» to a column over the entire dataframe.\n",
    "# However, we won't do that in this stage because we need a raw text for the Sentiment Analysis\n",
    "# my_reviews['title']      = my_reviews['title'].apply(lambda val: pre_processing(val,'no_tokenize'))\n",
    "# my_reviews['text']       = my_reviews['text'].apply(lambda val: pre_processing(val,'no_tokenize'))\n",
    "# my_reviews['title_text'] = my_reviews['title_text'].apply(lambda val: pre_processing(val,'no_tokenize'))\n",
    "# display(my_reviews)\n",
    "\n",
    "\"\"\""
   ]
  },
  {
   "cell_type": "markdown",
   "metadata": {},
   "source": [
    "## Performing the Lexicon-based Sentiment Analysis\n",
    "* We are performing a Lexicon-based Sentiment Analysis using two popular Python libraries: **TextBlob** and **Vader Sentiment**.\n",
    "\n",
    "NOTICE**** that if you have loaded the «processed data» created in «data_analysis.ipynb» this step doesn't need to be performed cause the «processed data» already includes the sentiment analysis"
   ]
  },
  {
   "cell_type": "code",
   "execution_count": null,
   "metadata": {},
   "outputs": [],
   "source": [
    "from textblob import TextBlob\n",
    "\n",
    "from vaderSentiment.vaderSentiment import SentimentIntensityAnalyzer\n",
    "analyser = SentimentIntensityAnalyzer()\n",
    "\n",
    "# Sentiment polarity and Subjectivity using TextBlob\n",
    "my_reviews['polarity_title_text_textblob']     = [round(TextBlob(review).sentiment.polarity, 5)     for review in my_reviews['title_text']]\n",
    "my_reviews['subjectivity_title_text_textblob'] = [round(TextBlob(review).sentiment.subjectivity, 5) for review in my_reviews['title_text']]\n",
    "\n",
    "# Sentiment polarity using Vader Sentiment\n",
    "my_reviews['polarity_title_text_vader']        = [analyser.polarity_scores(review)['compound']      for review in my_reviews['title_text']]\n",
    "my_reviews"
   ]
  },
  {
   "cell_type": "code",
   "execution_count": null,
   "metadata": {},
   "outputs": [],
   "source": [
    "# This function takes the «reviews dataframe with sentiment polarities» and a «sentiment_library» argument:\n",
    "#  * Removes the neutral reviews based on the customer rating (an Amazon customer\n",
    "#    rating of 3 is considered a neutral review),\n",
    "#  * Labels the Sentiment polarity as «positive» or «negative» depending on the polarity score\n",
    "#    given by TextBlob or Vader.\n",
    "#  * Return a new dataframe with 2 columns: \n",
    "#     - The true sentiment given by the «Amazon customer rating» (y_true)\n",
    "#     - The predicted Sentiment given by the Sentiment Analysis library (y_pred)\n",
    "\n",
    "def getSentimentAnalysis(reviews_sent_polarities, sentiment_library):\n",
    "\n",
    "    if sentiment_library == 'textblob':\n",
    "        polarity_columns = 'polarity_title_text_textblob'\n",
    "        # Here we remove the neutral entries\n",
    "        sent_analysis_df = reviews_sent_polarities[ (reviews_sent_polarities['rating'] != 3) ][['title_text','rating',polarity_columns]]\n",
    "        # display(sent_analysis_df)\n",
    "        # Because we have alredy removed the neutral entris and so there are no «rating = 3» or «polarity_title_text_textblob = 0», we can select the «positive» and «negative» polarities this way:\n",
    "        sent_analysis_df['rating'] = ['positive' if polarity > 3 else 'negative' for polarity in sent_analysis_df['rating'].tolist()]\n",
    "        sent_analysis_df[polarity_columns] = ['positive' if polarity > 0 else 'negative' for polarity in sent_analysis_df[polarity_columns].tolist()]\n",
    "        # display(sent_analysis_df)\n",
    "\n",
    "    elif sentiment_library == 'vader':\n",
    "        polarity_columns = 'polarity_title_text_vader'\n",
    "        sent_analysis_df = reviews_sent_polarities[ (reviews_sent_polarities['rating'] != 3) ][['title_text','rating',polarity_columns]]\n",
    "        # display(sent_analysis_df)\n",
    "        sent_analysis_df['rating'] = ['positive' if polarity > 3 else 'negative' for polarity in sent_analysis_df['rating'].tolist()]\n",
    "        sent_analysis_df[polarity_columns] = ['positive' if polarity > 0 else 'negative' for polarity in sent_analysis_df[polarity_columns].tolist()]\n",
    "        # display(sent_analysis_df)\n",
    "\n",
    "    else:\n",
    "        polarity_columns = 'subjectivity_title_text_textblob'\n",
    "        sent_analysis_df = reviews_sent_polarities[ (reviews_sent_polarities['rating'] != 3) ][['title_text','rating',polarity_columns]]\n",
    "        # display(sent_analysis_df)\n",
    "        sent_analysis_df['rating'] = ['positive' if polarity > 3 else 'negative' for polarity in sent_analysis_df['rating'].tolist()]\n",
    "        sent_analysis_df[polarity_columns] = ['objective' if subjectivity > 0.5 else 'subjective' for subjectivity in sent_analysis_df[polarity_columns].tolist()]\n",
    "        # display(sent_analysis_df)\n",
    "\n",
    "    return sent_analysis_df\n",
    "\n",
    "my_reviews_sent_textblob = getSentimentAnalysis(my_reviews, 'vader')\n",
    "my_reviews_sent_textblob"
   ]
  },
  {
   "cell_type": "markdown",
   "metadata": {},
   "source": [
    "## Evaluation of the Lexicon-based Sentiment Analysis "
   ]
  },
  {
   "cell_type": "markdown",
   "metadata": {},
   "source": [
    "### Confusion Matrix"
   ]
  },
  {
   "cell_type": "code",
   "execution_count": null,
   "metadata": {},
   "outputs": [],
   "source": [
    "# https://plotly.com/python/annotated-heatmap/#simple-annotated-heatmap\n",
    "# https://stackoverflow.com/questions/60860121/plotly-how-to-make-an-annotated-confusion-matrix-using-a-heatmap\n",
    "\n",
    "import plotly.figure_factory as ff\n",
    "from sklearn.metrics import confusion_matrix\n",
    "\n",
    "# This function takes:\n",
    "# * y_true: The Amazon customer rating («positive» / «negative»)\n",
    "# * y_pred: the Sentiment polarity («positive» / «negative») predicted\n",
    "# Return nice visualization of the Confusion Matrix using a Heatmap chart\n",
    "def ConfusionMatrixHeatmap(y_true, y_pred):\n",
    "    cm = pd.DataFrame(\n",
    "        confusion_matrix(y_true, y_pred, labels=['positive','negative']), \n",
    "        index   = ['Actual:positive',    'Actual:negative'   ], \n",
    "        columns = ['Predicted:positive', 'Predicted:negative'],\n",
    "    )\n",
    "\n",
    "    TP = cm['Predicted:positive']['Actual:positive']\n",
    "    FN = cm['Predicted:negative']['Actual:positive']\n",
    "    FP = cm['Predicted:positive']['Actual:negative']\n",
    "    TN = cm['Predicted:negative']['Actual:negative']\n",
    "\n",
    "    cm_anotations = [['TP<br />{}'.format(TP),'FN<br />{}'.format(FN)],\n",
    "                    ['FP<br />{}'.format(FP),'TN<br />{}'.format(TN)]]\n",
    "    cm_colors = [[0,1],[1,0]]\n",
    "    fig = ff.create_annotated_heatmap(\n",
    "        cm_colors, \n",
    "        x=['Positive', 'Negative'], \n",
    "        y=['Positive', 'Negative'], \n",
    "        annotation_text=cm_anotations, \n",
    "        colorscale = [[0, '#6495ED'], [1, '#b35050']],\n",
    "    )\n",
    "    fig['layout']['yaxis']['autorange'] = \"reversed\"\n",
    "    fig.update_layout(\n",
    "        yaxis=dict(\n",
    "                title='Current  value',\n",
    "                titlefont_size=20,\n",
    "                tickfont_size=20,\n",
    "                color=\"black\",\n",
    "        ),\n",
    "        xaxis=dict(\n",
    "                title='Predicted  value',\n",
    "                titlefont_size=20,\n",
    "                tickfont_size=20,\n",
    "                color=\"black\",\n",
    "        ),\n",
    "        font=dict(\n",
    "            size=25,\n",
    "        )\n",
    "    )\n",
    "    fig.update_layout(margin=dict(t=1, b=1, r=1, l=1), yaxis_tickangle=-90)\n",
    "\n",
    "    return fig"
   ]
  },
  {
   "cell_type": "code",
   "execution_count": null,
   "metadata": {},
   "outputs": [],
   "source": [
    "my_reviews_sent_textblob = getSentimentAnalysis(my_reviews, 'textblob')\n",
    "my_reviews_sent_vader    = getSentimentAnalysis(my_reviews, 'vader')\n",
    "\n",
    "fig_conf_matrix_textblob = ConfusionMatrixHeatmap(my_reviews_sent_textblob['rating'], my_reviews_sent_textblob['polarity_title_text_textblob'])\n",
    "display(fig_conf_matrix_textblob)\n",
    "fig_conf_matrix_vader = ConfusionMatrixHeatmap(my_reviews_sent_vader['rating'], my_reviews_sent_vader['polarity_title_text_vader'])\n",
    "display(fig_conf_matrix_vader)"
   ]
  },
  {
   "cell_type": "markdown",
   "metadata": {},
   "source": [
    "#### Confusion Matrix pie chart"
   ]
  },
  {
   "cell_type": "code",
   "execution_count": null,
   "metadata": {},
   "outputs": [],
   "source": [
    "def confusion_matrix_pie_chart(y_true, y_pred):\n",
    "    cm = pd.DataFrame(\n",
    "        confusion_matrix(y_true, y_pred, labels=['positive','negative']), \n",
    "        index   = ['Actual:positive',    'Actual:negative'   ], \n",
    "        columns = ['Predicted:positive', 'Predicted:negative'],\n",
    "    )\n",
    "    \n",
    "    TP = cm['Predicted:positive']['Actual:positive']\n",
    "    FN = cm['Predicted:negative']['Actual:positive']\n",
    "    FP = cm['Predicted:positive']['Actual:negative']\n",
    "    TN = cm['Predicted:negative']['Actual:negative']\n",
    "    \n",
    "    values = [TP,    TN,   FP,   FN]\n",
    "    labels = ['TP', 'TN', 'FP', 'FN']\n",
    "\n",
    "    fig = go.Figure(data=[go.Pie(labels=labels, values=values, direction='clockwise', sort=False )])\n",
    "    fig.update_layout(\n",
    "        margin=go.layout.Margin(l=0, r=0, t=10, b=10),\n",
    "        showlegend=False,\n",
    "        # annotations=[dict(text=title1, x=0.5, y=0.5, font_size=title1_size, showarrow=False)]\n",
    "    )\n",
    "    fig.update_traces(textinfo='label+percent', textfont_size=18, \n",
    "                      marker=dict(colors=['#6495ED','#007bff','#b35050','#9c2828']) )\n",
    "    \n",
    "    return fig"
   ]
  },
  {
   "cell_type": "code",
   "execution_count": null,
   "metadata": {},
   "outputs": [],
   "source": [
    "my_reviews_sent_textblob = getSentimentAnalysis(my_reviews, 'textblob')\n",
    "my_reviews_sent_vader    = getSentimentAnalysis(my_reviews, 'vader')\n",
    "\n",
    "fig = confusion_matrix_pie_chart(my_reviews_sent_textblob['rating'], my_reviews_sent_textblob['polarity_title_text_textblob'])\n",
    "display(fig)\n",
    "fig = confusion_matrix_pie_chart(my_reviews_sent_vader['rating'], my_reviews_sent_vader['polarity_title_text_vader'])\n",
    "display(fig)"
   ]
  },
  {
   "cell_type": "markdown",
   "metadata": {},
   "source": [
    "### Classification report"
   ]
  },
  {
   "cell_type": "code",
   "execution_count": null,
   "metadata": {},
   "outputs": [],
   "source": [
    "# https://scikit-learn.org/stable/modules/generated/sklearn.metrics.classification_report.html\n",
    "# Note that in binary classification, recall of the positive class is also known as \"sensitivity\"; recall of the negative class is \"specificity\".\n",
    "   \n",
    "import numpy as np\n",
    "import plotly.figure_factory as ff\n",
    "\n",
    "from sklearn.metrics import classification_report\n",
    "\n",
    "def classif_report_heatmap(y_true, y_pred):\n",
    "   print('\\nClassification report:')\n",
    "   \n",
    "   classif_report_string = classification_report(y_true, y_pred, labels=['positive','negative'], output_dict=False)\n",
    "   classif_report_dic    = classification_report(y_true, y_pred, labels=['positive','negative'], output_dict=True)\n",
    "\n",
    "   classif_report_colors = np.array([[\n",
    "                  round(classif_report_dic['positive']['precision'],2),\n",
    "                  classif_report_dic['positive']['recall'],\n",
    "                  classif_report_dic['positive']['f1-score'],\n",
    "                  .0\n",
    "               ],\n",
    "               [\n",
    "                  classif_report_dic['negative']['precision'],\n",
    "                  classif_report_dic['negative']['recall'],\n",
    "                  classif_report_dic['negative']['f1-score'],\n",
    "                  .0\n",
    "               ],\n",
    "               [\n",
    "                  .0,\n",
    "                  .0,\n",
    "                  .0,\n",
    "                  .0,\n",
    "               ],\n",
    "               [\n",
    "                  .0,\n",
    "                  .0,\n",
    "                  classif_report_dic['accuracy'],\n",
    "                  .0,\n",
    "               ],\n",
    "               [\n",
    "                  classif_report_dic['macro avg']['precision'],\n",
    "                  classif_report_dic['macro avg']['recall'],\n",
    "                  classif_report_dic['macro avg']['f1-score'],\n",
    "                  .0\n",
    "               ],\n",
    "               [\n",
    "                  classif_report_dic['weighted avg']['precision'],\n",
    "                  classif_report_dic['weighted avg']['recall'],\n",
    "                  classif_report_dic['weighted avg']['f1-score'],\n",
    "                  .0\n",
    "               ]])\n",
    "\n",
    "   classif_report_colors = np.round(np.array(classif_report_colors), 2)\n",
    "\n",
    "   classif_report_anotations = [ [str(value) for value in fila] for fila in classif_report_colors]\n",
    "\n",
    "   classif_report_anotations[2]    = [' ' for a in classif_report_anotations[2]]\n",
    "   classif_report_anotations[3][0] =  ' '\n",
    "   classif_report_anotations[3][1] =  ' '\n",
    "\n",
    "   classif_report_anotations[0][3] = classif_report_dic['positive']['support']\n",
    "   classif_report_anotations[1][3] = classif_report_dic['negative']['support']\n",
    "   classif_report_anotations[3][3] = classif_report_dic['macro avg']['support']\n",
    "   classif_report_anotations[4][3] = classif_report_dic['macro avg']['support']\n",
    "   classif_report_anotations[5][3] = classif_report_dic['weighted avg']['support']\n",
    "\n",
    "   fig = ff.create_annotated_heatmap(\n",
    "      classif_report_colors, \n",
    "      x=['precision','recall','f1-score','support'],\n",
    "      y=['positive','negative',' ','accuracy','macro avg','weighted avg'], \n",
    "      annotation_text=classif_report_anotations, \n",
    "      colorscale=[[ 0,  'white'],\n",
    "                  [.01, 'red'],\n",
    "                  [.3,  '#f75454'],\n",
    "                  [.5,  '#eb8d8d'],\n",
    "                  [.7,  '#a5bdfa'],\n",
    "                  [.8,  '#779bf7'],\n",
    "                  [.9,  '#366eff'],\n",
    "                  [ 1,  '#0048ff']]\n",
    "   )\n",
    "   fig['layout']['yaxis']['autorange'] = \"reversed\"\n",
    "   fig.update_layout(\n",
    "      yaxis=dict(\n",
    "               titlefont_size=25,\n",
    "               tickfont_size=18,\n",
    "               color=\"black\",\n",
    "      ),\n",
    "      xaxis=dict(\n",
    "               titlefont_size=25,\n",
    "               tickfont_size=18,\n",
    "               color=\"black\",\n",
    "      ),\n",
    "      font=dict(\n",
    "         size=20,\n",
    "      ),\n",
    "      margin=dict(t=20, b=20, r=20, l=20)\n",
    "   )\n",
    "   fig['data'][0]['showscale'] = True\n",
    "   return fig"
   ]
  },
  {
   "cell_type": "code",
   "execution_count": null,
   "metadata": {
    "tags": []
   },
   "outputs": [],
   "source": [
    "my_reviews_sent_textblob = getSentimentAnalysis(my_reviews, 'textblob')\n",
    "my_reviews_subj_textblob = getSentimentAnalysis(my_reviews, 'subjective')\n",
    "my_reviews_sent_vader    = getSentimentAnalysis(my_reviews, 'vader')\n",
    "\n",
    "fig = classif_report_heatmap(my_reviews_sent_textblob['rating'], my_reviews_sent_textblob['polarity_title_text_textblob'])\n",
    "display(fig)\n",
    "fig = classif_report_heatmap(my_reviews_sent_vader['rating'], my_reviews_sent_vader['polarity_title_text_vader'])\n",
    "display(fig)"
   ]
  },
  {
   "cell_type": "markdown",
   "metadata": {},
   "source": [
    "### A common visualization of sentiment polarities"
   ]
  },
  {
   "cell_type": "code",
   "execution_count": null,
   "metadata": {},
   "outputs": [],
   "source": [
    "import plotly.graph_objects as go\n",
    "\n",
    "def sentimetsDonutChart(y, labels, title1, title1_size, colors):\n",
    "    \n",
    "    if labels[0] == 'Pos.':\n",
    "        n_pos = len(y[y == 'positive'])\n",
    "        n_neg = len(y[y == 'negative'])\n",
    "    else:\n",
    "        n_pos = len(y[y == 'objective'])\n",
    "        n_neg = len(y[y == 'subjective'])\n",
    "            \n",
    "    values = [n_pos, n_neg]\n",
    "\n",
    "    fig = go.Figure(data=[go.Pie(labels=labels, values=values, hole=.5)])\n",
    "    fig.update_layout(\n",
    "        margin=go.layout.Margin(l=0, r=0, t=10, b=10),\n",
    "        showlegend=False,\n",
    "        annotations=[dict(text=title1, x=0.5, y=0.5, font_size=title1_size, showarrow=False)])\n",
    "    fig.update_traces(textinfo='label+percent', textfont_size=18, \n",
    "                      marker=dict(colors=colors) )\n",
    "    return fig"
   ]
  },
  {
   "cell_type": "code",
   "execution_count": null,
   "metadata": {
    "scrolled": false,
    "tags": []
   },
   "outputs": [],
   "source": [
    "my_reviews_sent_textblob = getSentimentAnalysis(my_reviews, 'textblob')\n",
    "my_reviews_subj_textblob = getSentimentAnalysis(my_reviews, 'subjective')\n",
    "my_reviews_sent_vader    = getSentimentAnalysis(my_reviews, 'vader')\n",
    "\n",
    "display(sentimetsDonutChart(my_reviews_sent_textblob['rating'],                           ['Pos.','Neg.'], 'Customer<br />rating', 20, ['#007bff','#9c2828'] ))\n",
    "display(sentimetsDonutChart(my_reviews_sent_textblob['polarity_title_text_textblob'],     ['Pos.','Neg.'],  'Polarity',            20, ['#6495ed','#b35050'] ))\n",
    "display(sentimetsDonutChart(my_reviews_subj_textblob['subjectivity_title_text_textblob'], ['Obj.','Subj.'], 'Subjectivity',        20, ['#6868a3','#9cba95'] ))\n",
    "display(sentimetsDonutChart(my_reviews_sent_vader['polarity_title_text_vader'],           ['Pos.','Neg.'],  'Polarity',            20, ['#6495ed','#b35050'] ))"
   ]
  },
  {
   "cell_type": "markdown",
   "metadata": {},
   "source": [
    "## Emotion analysis using the NRC Lexicon"
   ]
  },
  {
   "cell_type": "code",
   "execution_count": null,
   "metadata": {},
   "outputs": [],
   "source": [
    "# https://plotly.com/python/bar-charts/https://plotly.com/python/bar-charts/\n",
    "\n",
    "import numpy as np\n",
    "import plotly.graph_objs as go\n",
    "\n",
    "# This function allows us to perform the emotion analysis from a string\n",
    "def emotionsBarChart(text):\n",
    "    filepath = ('NRC-Sentiment-Emotion-Lexicons/'\n",
    "                'NRC-Emotion-Lexicon-v0.92/'\n",
    "                'NRC-Emotion-Lexicon-Wordlevel-v0.92.txt')\n",
    "            \n",
    "    lexiEmo_df0  = pd.read_csv(filepath,\n",
    "                            names=[\"word\", \"emotion\", \"association\"],\n",
    "                            sep='\\t')\n",
    "\n",
    "    lexiEmo_df  = lexiEmo_df0.pivot(index='word',\n",
    "                                    columns='emotion',\n",
    "                                    values='association').reset_index()\n",
    "\n",
    "    counterEmo = pd.Series(data=np.zeros(11).astype(int),index=lexiEmo_df.columns)\n",
    "    counterEmo.drop(index=['word'],inplace=True)\n",
    "\n",
    "    text_list = [word for word in text.split()]\n",
    "\n",
    "    for palabra in text_list:\n",
    "        if palabra in lexiEmo_df['word'].tolist():\n",
    "            i = lexiEmo_df.index[lexiEmo_df['word'] == palabra].tolist()\n",
    "            vectorEmo = lexiEmo_df.iloc[i[0]]\n",
    "            vectorEmo.drop(index=['word'],inplace=True)\n",
    "            counterEmo = counterEmo + vectorEmo\n",
    "\n",
    "    counterEmo_df = pd.DataFrame(counterEmo)\n",
    "    counterEmo_df = counterEmo_df.rename(columns={0:'count'})\n",
    "    counterEmo_df = counterEmo_df.reset_index()\n",
    "\n",
    "    counterEmo_df = counterEmo_df.sort_values(by=['count'],ascending=True)\n",
    "\n",
    "    fig = go.Figure([\n",
    "        go.Bar(\n",
    "            x=counterEmo_df['count'], y=counterEmo_df['emotion'], orientation='h', text='count'\n",
    "        )\n",
    "    ])\n",
    "    fig.update_layout(\n",
    "        margin=go.layout.Margin(l=5, r=5, t=5, b=5),\n",
    "        uniformtext_minsize=8, uniformtext_mode='hide',\n",
    "        font=dict(\n",
    "            size=17,\n",
    "            color=\"black\"\n",
    "        )\n",
    "    )\n",
    "    fig.update_yaxes(automargin=True)\n",
    "    fig.update_traces(marker_color='#007bff')\n",
    "\n",
    "    return fig\n",
    "    \n",
    "\n",
    "# Emotions in HP Laptop reviews\n",
    "brand  = ['HP']\n",
    "reviews_text_brand = ' '.join(my_reviews.query('brand in @brand')['title_text'].tolist())\n",
    "\n",
    "emoChart = emotionsBarChart(reviews_text_brand)\n",
    "emoChart"
   ]
  },
  {
   "cell_type": "code",
   "execution_count": null,
   "metadata": {},
   "outputs": [],
   "source": [
    "import numpy as np\n",
    "import plotly.graph_objs as go\n",
    "\n",
    "# This function, unlike the one above, allows plotting the Emotion analysis using the vector of emotions related to the review. \n",
    "# In «data_analysis.ipynb» we are performing the emotion analysis for all the reviews and storing the corresponding emotion vector for each entry. \n",
    "# This has been done because this analysis requires considerable computational time. So, if this analysis is performed in real-time when running the Web application, this would make the Web Application very slow.\n",
    "def emotionsBarChart(sentiment_df):\n",
    "    emo = pd.Series([np.array(lista) for lista in sentiment_df['emotions']])\n",
    "    emoSum = emo.sum()\n",
    "    counterEmo_df = pd.DataFrame({'emotion': 'anger anticipation disgust fear joy negative positive sadness surprise trust'.split(),\n",
    "                                  'count':    emoSum})\n",
    "    counterEmo_df = counterEmo_df.sort_values(by=['count'],ascending=True)\n",
    "\n",
    "    fig = go.Figure([\n",
    "        go.Bar(\n",
    "            x=counterEmo_df['count'], y=counterEmo_df['emotion'], orientation='h', text='count'\n",
    "        )\n",
    "    ])\n",
    "    fig.update_layout(\n",
    "        # autosize=False,\n",
    "        margin=go.layout.Margin(l=5, r=5, t=5, b=5),\n",
    "        uniformtext_minsize=8, uniformtext_mode='hide',\n",
    "        font=dict(\n",
    "            # family=\"Courier New, monospace\",\n",
    "            size=17,\n",
    "            color=\"black\"\n",
    "        )\n",
    "    )\n",
    "    fig.update_yaxes(automargin=True)\n",
    "    fig.update_traces(marker_color='#007bff')\n",
    "\n",
    "    return fig\n",
    "\n",
    "# Emotions in HP Laptop reviews\n",
    "brand  = ['HP']\n",
    "my_reviews_brand = my_reviews.query('brand in @brand')\n",
    "\n",
    "emoChart = emotionsBarChart(my_reviews_brand)\n",
    "emoChart"
   ]
  },
  {
   "cell_type": "markdown",
   "metadata": {},
   "source": [
    "# Supervised Machine Learning Model for Sentiment Analysis"
   ]
  },
  {
   "cell_type": "markdown",
   "metadata": {},
   "source": [
    "## A Supervised Model using «my_reviews» dataset\n",
    "* We will first create a model using our small Amazon Reviews Dataset («my_reviews»)"
   ]
  },
  {
   "cell_type": "markdown",
   "metadata": {},
   "source": [
    "### Data preparation"
   ]
  },
  {
   "cell_type": "code",
   "execution_count": null,
   "metadata": {},
   "outputs": [],
   "source": [
    "# Removing neutral reviews and labeling the data\n",
    "# ==============================================\n",
    "\n",
    "# This function takes our raw review dataframe, removes the neutral reviews\n",
    "# and returns a simplified dataframe with only the columns we need for this phase:\n",
    "#  * A column named «review» that is the original «title_tex» columns in our raw dataframe\n",
    "#  * A column named «label»  that is the labeled columns («positive» / «negative») of the \n",
    "#    original «rating» column of our raw dataframe\n",
    "#  * A column named «length» that is the original «title_text_length» in our raw dataframe\n",
    "\n",
    "def labeling_data(data, column_review, column_rating, column_length=None):\n",
    "    # Let's create a simplified data frame containing only the columns we need for this part\n",
    "    \n",
    "    if column_length == None:\n",
    "        data_labeled = data[[column_review,column_rating]]\n",
    "    else:\n",
    "        data_labeled = data[[column_review,column_rating,column_length]]\n",
    "\n",
    "    # We will get rid of neutral reviews\n",
    "    data_labeled = data_labeled[data_labeled[column_rating] != 3]\n",
    "\n",
    "    # Let's name our «rating» columns as «label» and give it «positive» or «negative» value depending on the customer \n",
    "    # rating:\n",
    "    data_labeled['label'] = [ 'positive' if rating > 3 else 'negative' for rating in data_labeled[column_rating] ]\n",
    "    \n",
    "    if column_length == None:\n",
    "        data_labeled = data_labeled.rename(columns={column_review:'review'})\n",
    "        data_labeled = data_labeled[['review','label']]\n",
    "    else:\n",
    "        data_labeled = data_labeled.rename(columns={column_review:'review',column_length: 'length'})\n",
    "        data_labeled = data_labeled[['review','label','length']]\n",
    "\n",
    "    return data_labeled\n",
    "\n",
    "\n",
    "my_reviews_ml = labeling_data(my_reviews, 'title_text', 'rating', 'length_title_text')\n",
    "my_reviews_ml"
   ]
  },
  {
   "cell_type": "markdown",
   "metadata": {},
   "source": [
    "### Building a Supervised Naive Bayes Model step by step\n",
    "* We will first build the model step by step and performing a series of test so we can understand the process"
   ]
  },
  {
   "cell_type": "code",
   "execution_count": null,
   "metadata": {
    "tags": []
   },
   "outputs": [],
   "source": [
    "# Text pre-processing and Tokenization\n",
    "# ====================================\n",
    "# We will use the «pre_processing» function created above; «pre_processing». It will be passed as an argument\n",
    "# to the CountVectorizer object\n",
    "\n",
    "\n",
    "\n",
    "# Data splitting\n",
    "# ==============\n",
    "from sklearn.model_selection import train_test_split\n",
    "train, test = train_test_split(my_reviews_ml, test_size=.3, random_state=0)\n",
    "# display(train)\n",
    "# display(test)\n",
    "\n",
    "\n",
    "\n",
    "# Creating a «Bag-of-Words\n",
    "# ========================\n",
    "from sklearn.feature_extraction.text import CountVectorizer\n",
    "\n",
    "#  This create a «Bag-of-Words (bow) transformed object» (It is not the resulting DTM yet)\n",
    "# There are a lot of arguments and parameters that can be passed to the CountVectorizer. In this case we will just specify the analyzer to be our own previously defined «tokenize» function:\n",
    "# Might take a while...\n",
    "\n",
    "# This creates a bow transformed object\n",
    "train_bow_transformer = CountVectorizer(analyzer=pre_processing).fit(train['review'])\n",
    "\n",
    "## Let's performe some test in the bow transformed object\n",
    "##* Print total number of vocab words:\n",
    "#print(len(train_bow_transformer.vocabulary_))\n",
    "\n",
    "##* Let's take one review and get its bag-of-words counts as a vector, putting to use our new train_bow_transformer:\n",
    "#train_review4 = train['review'][3]\n",
    "#print(train_review4)\n",
    "\n",
    "##* Now let's see its vector representation:\n",
    "#train_bow4 = train_bow_transformer.transform([train_review4])\n",
    "#print(train_bow4 )\n",
    "#print(train_bow4.shape)\n",
    "\n",
    "##* Let's go ahead and check and confirm which ones appear twice:\n",
    "#print(train_bow_transformer.get_feature_names()[15989])\n",
    "\n",
    "# Now we can use «.transform» on our «Bag-of-Words (bow) transformed object» and transform the entire DataFrame of reviews.\n",
    "train_bow = train_bow_transformer.transform(train['review'])\n",
    "\n",
    "## Let's go ahead and check out how the bag-of-words counts for the entire review corpus is a large, sparse matrix:\n",
    "#print('Shape of Sparse Matrix: ',        train_bow.shape)\n",
    "#print('Amount of Non-Zero occurences: ', train_bow.nnz)\n",
    "\n",
    "#sparsity = (100.0 * train_bow.nnz / (train_bow.shape[0] * train_bow.shape[1]))\n",
    "#print('sparsity: {}'.format(round(sparsity)))\n",
    "\n",
    "\n",
    "\n",
    "# Term weighting and Normalization using TF-IDF\n",
    "# =============================================\n",
    "\n",
    "#* Using TfidfTransformer method from Scikit-learn to compute the TF-IDF\n",
    "#  Term weighting and Normalization can be done with TF-IDF, using scikit-learn's TfidfTransformer\n",
    "\n",
    "from sklearn.feature_extraction.text import TfidfTransformer\n",
    "\n",
    "# This creates a train_tfidf_transformer object\n",
    "train_tfidf_transformer = TfidfTransformer().fit(train_bow)\n",
    "\n",
    "## Let's performe some test in the train_tfidf_transformer object\n",
    "##train_tfidf4 = train_tfidf_transformer.transform(train_bow4)\n",
    "##print(train_tfidf4)\n",
    "\n",
    "## We'll go ahead and check what is the IDF (inverse document frequency) of the word \"looking\"?\n",
    "#print(train_tfidf_transformer.idf_[train_bow_transformer.vocabulary_['looking']])\n",
    "\n",
    "# To transform the entire bag-of-words corpus into TF-IDF corpus:\n",
    "train_tfidf = train_tfidf_transformer.transform(train_bow)\n",
    "#print(train_tfidf.shape)\n",
    "\n",
    "\n",
    "\n",
    "# Training the model\n",
    "# ==================\n",
    "# Naive Bayes classifier using scikit-learn\n",
    "\n",
    "from sklearn.naive_bayes import MultinomialNB\n",
    "\n",
    "# Creating the naive bayes model\n",
    "naive_bayes_model = MultinomialNB().fit(train_tfidf, train['label'])\n",
    "\n",
    "## Let's try classifying our single random review and checking how we do:\n",
    "#print('Predicted:', naive_bayes_model.predict(train_tfidf4)[0])\n",
    "#print('Expected:',  train.label[3])\n",
    "\n",
    "\n",
    "\n",
    "# Let's classifying our train data\n",
    "# ================================\n",
    "train_predictions = naive_bayes_model.predict(train_tfidf)\n",
    "\n",
    "\n",
    "# Let's classifying our test data\n",
    "# ===============================\n",
    "test_bow = train_bow_transformer.transform(test['review'])\n",
    "test_tfidf_transformer = TfidfTransformer().fit(test_bow)\n",
    "test_tfidf = test_tfidf_transformer.transform(test_bow)\n",
    "test_predictions = naive_bayes_model.predict(test_tfidf)\n"
   ]
  },
  {
   "cell_type": "markdown",
   "metadata": {},
   "source": [
    "### Building a Supervised Naive Bayes Model using «Pipeline»\n",
    "* To simplify the process above, we can use «Pipeline»"
   ]
  },
  {
   "cell_type": "code",
   "execution_count": null,
   "metadata": {
    "scrolled": false,
    "tags": []
   },
   "outputs": [],
   "source": [
    "from sklearn.model_selection import train_test_split\n",
    "from sklearn.feature_extraction.text import CountVectorizer\n",
    "from sklearn.feature_extraction.text import TfidfTransformer\n",
    "from sklearn.naive_bayes import MultinomialNB\n",
    "from sklearn.pipeline import Pipeline\n",
    "\n",
    "\n",
    "# Preparint the dataset\n",
    "my_reviews_ml = labeling_data(my_reviews, 'title_text', 'rating')\n",
    "\n",
    "\n",
    "# Data spliting\n",
    "x = my_reviews_ml['review']\n",
    "y = my_reviews_ml['label']\n",
    "x_train, x_test, y_train, y_test = train_test_split(x, y, test_size=0.3, random_state=0)\n",
    "\n",
    "\n",
    "# Creating a Naive Bayes classifier Pipeline\n",
    "nbayes_model_my_reviews = Pipeline([\n",
    "    ('bow',        CountVectorizer(analyzer=pre_processing)),  # Creating a «Bag-of-Words and Text pre-processing and Tokenization\n",
    "    ('tfidf',      TfidfTransformer()), # Term weighting and Normalization using TF-IDF\n",
    "    ('classifier', MultinomialNB()),    # Training Naive Bayes classifier using scikit-learn\n",
    "])\n",
    "\n",
    "\n",
    "# Creating the Naive Bayes classifier\n",
    "nbayes_model_my_reviews.fit(x_train,y_train)\n",
    "\n",
    "\n",
    "# y_train_pred = nbayes_model_my_reviews.predict(x_train)\n",
    "#\n",
    "# display(ConfusionMatrixHeatmap(y_train, y_train_pred))\n",
    "# display(confusion_matrix_pie_chart(y_train, y_train_pred))\n",
    "# display(classif_report_heatmap(y_train, y_train_pred))"
   ]
  },
  {
   "cell_type": "markdown",
   "metadata": {},
   "source": [
    "### Classifying our test data"
   ]
  },
  {
   "cell_type": "code",
   "execution_count": null,
   "metadata": {
    "scrolled": true
   },
   "outputs": [],
   "source": [
    "# Using the model created to classify our test data\n",
    "y_test_pred  = nbayes_model_my_reviews.predict(x_test)\n",
    "# y_test_pred"
   ]
  },
  {
   "cell_type": "markdown",
   "metadata": {},
   "source": [
    "### Model evaluation"
   ]
  },
  {
   "cell_type": "code",
   "execution_count": null,
   "metadata": {
    "tags": []
   },
   "outputs": [],
   "source": [
    "display(ConfusionMatrixHeatmap(y_test, y_test_pred))\n",
    "display(confusion_matrix_pie_chart(y_test, y_test_pred))\n",
    "display(classif_report_heatmap(y_test, y_test_pred))"
   ]
  },
  {
   "cell_type": "markdown",
   "metadata": {},
   "source": [
    "## A Supervised Model using the «reviews_wang» dataset\n",
    "* In this second part we will created a Supervised Naive Bayes model using an Amazon review dataset from [Wang et al (2010)]\n",
    "  \n",
    "  The dataset has been taken from http://sifaka.cs.uiuc.edu/~wang296/Data/index.html\n",
    "    * We have taken the dataset named «Six Categories of Amazon Product Reviews» in the above link.\n",
    "    * To simplify the data, from that dataset, we have only taken the Laptop reviews\n",
    "    * There is a total of 40,762 Laptop reviews"
   ]
  },
  {
   "cell_type": "markdown",
   "metadata": {},
   "source": [
    "### Data preparation"
   ]
  },
  {
   "cell_type": "markdown",
   "metadata": {},
   "source": [
    "#### Loading the data"
   ]
  },
  {
   "cell_type": "code",
   "execution_count": null,
   "metadata": {
    "tags": []
   },
   "outputs": [],
   "source": [
    "# https://stackoverflow.com/questions/30539679/python-read-several-json-files-from-a-folder\n",
    "    \n",
    "import os, json\n",
    "import pandas as pd\n",
    "\n",
    "path_to_json = '/home/adelo/1-system/1-disco_local/1-mis_archivos/1-pe/1-ciencia/1-computer_science_an_IT/2-data_science/1-Amazon_Laptops_Dashboard/0AmazonLaptopsDashboard/DataAnalysis/AmazonReviews-Hongning_Wang_2010/laptops/'\n",
    "json_files = [pos_json for pos_json in os.listdir(path_to_json) if pos_json.endswith('.json')]\n",
    "\n",
    "reviews_wang = pd.DataFrame(columns=['reviews'])\n",
    "\n",
    "for index, js in enumerate(json_files):\n",
    "    with open(os.path.join(path_to_json, js)) as json_file:\n",
    "        json_text = json.load(json_file)\n",
    "        reviews   = json_text['Reviews']\n",
    "        reviews_wang.loc[index] = [reviews]\n",
    "\n",
    "display(reviews_wang)"
   ]
  },
  {
   "cell_type": "markdown",
   "metadata": {},
   "source": [
    "#### Formating "
   ]
  },
  {
   "cell_type": "code",
   "execution_count": null,
   "metadata": {
    "scrolled": true
   },
   "outputs": [],
   "source": [
    "title      = []\n",
    "text       = []\n",
    "title_text = []\n",
    "rating     = []\n",
    "length     = []\n",
    "for lista in reviews_wang['reviews']:\n",
    "    if lista != 0:\n",
    "        for dic in lista:\n",
    "            title_value      = dic['Title']\n",
    "            text_value       = dic['Content']\n",
    "            title_text_value = '{} {}'.format(title_value,text_value)\n",
    "            rating_value     = dic['Overall']\n",
    "            length_value     = len(title_text_value)\n",
    "\n",
    "            title.append(title_value)\n",
    "            text.append(text_value)\n",
    "            title_text.append(title_text_value)\n",
    "            rating.append(rating_value)\n",
    "            length.append(length_value)\n",
    "\n",
    "reviews_wang = pd.DataFrame({'title'      : title,\n",
    "                             'text'       : text,\n",
    "                             'title_text' : title_text,\n",
    "                             'rating'     : rating,\n",
    "                             'length'     : length})\n",
    "\n",
    "reviews_wang['rating'] = reviews_wang['rating'].apply(lambda val: round(format_cleaner(val)))\n",
    "reviews_wang"
   ]
  },
  {
   "cell_type": "markdown",
   "metadata": {},
   "source": [
    "#### Removes the neutral reviews and labeling the data («positive» / «negative»)\n",
    "* We are using the **labeling_data()** function created above"
   ]
  },
  {
   "cell_type": "code",
   "execution_count": null,
   "metadata": {
    "scrolled": true
   },
   "outputs": [],
   "source": [
    "reviews_wang = labeling_data(reviews_wang,'title_text', 'rating','length')\n",
    "reviews_wang"
   ]
  },
  {
   "cell_type": "markdown",
   "metadata": {},
   "source": [
    "### Exploratory Data Analysis"
   ]
  },
  {
   "cell_type": "code",
   "execution_count": null,
   "metadata": {
    "scrolled": false
   },
   "outputs": [],
   "source": [
    "review_length_histogram(reviews_wang,'label','length','labeled')"
   ]
  },
  {
   "cell_type": "markdown",
   "metadata": {},
   "source": [
    "### Balancing the data"
   ]
  },
  {
   "cell_type": "code",
   "execution_count": null,
   "metadata": {},
   "outputs": [],
   "source": [
    "# This function takes a dataframe with the format returned by the labeling_data() function and \n",
    "# balance «positives» and «negatives» reviews. To do so, \n",
    "#  * It counts the number of positive\n",
    "#  * It removes rows from the class that has more reviews (it removes the shorters reviews) so both \n",
    "#    classes will have the same number of reviews\n",
    "# This is done because in many cases the balance between classes is an important factor when building\n",
    "# a Supervised Model\n",
    "\n",
    "def balance_pos_neg(data):\n",
    "    reviews_pos = data[data['label'] == 'positive']\n",
    "    reviews_pos = reviews_pos.sort_values(by=['length'], ascending=False)\n",
    "\n",
    "    reviews_neg = data[data['label'] == 'negative']\n",
    "    reviews_neg = reviews_neg.sort_values(by=['length'], ascending=False)\n",
    "\n",
    "    len_pos_neg = [len(reviews_pos),len(reviews_neg)]\n",
    "    min_len = min(len_pos_neg)\n",
    "\n",
    "    reviews_pos = reviews_pos[0:min_len]\n",
    "    reviews_neg = reviews_neg[0:min_len]\n",
    "\n",
    "    reviews_balanced = pd.concat([reviews_pos,reviews_neg],axis=0,ignore_index=False)\n",
    "    reviews_balanced = reviews_balanced.sort_index()\n",
    "    \n",
    "    return reviews_balanced"
   ]
  },
  {
   "cell_type": "code",
   "execution_count": null,
   "metadata": {},
   "outputs": [],
   "source": [
    "reviews_wang_balanced = balance_pos_neg(reviews_wang)\n",
    "reviews_wang_balanced\n",
    "review_length_histogram(reviews_wang_balanced,'label','length','labeled')"
   ]
  },
  {
   "cell_type": "markdown",
   "metadata": {},
   "source": [
    "### Building the Naive Bayes Model using the «reviews_wang» dataset"
   ]
  },
  {
   "cell_type": "code",
   "execution_count": null,
   "metadata": {
    "scrolled": true,
    "tags": []
   },
   "outputs": [],
   "source": [
    "from sklearn.model_selection import train_test_split\n",
    "from sklearn.feature_extraction.text import CountVectorizer\n",
    "from sklearn.feature_extraction.text import TfidfTransformer\n",
    "from sklearn.naive_bayes import MultinomialNB\n",
    "from sklearn.pipeline import Pipeline\n",
    "\n",
    "# This function «pre_processing» has been defining in «utils.py». It can no be defined in this file because we are passing this function as an argument to our pipeline machine learning model. So, in order to be able to save the ML model on disc for later use, the functions passed to the pipeline must be defined in another file and imported here (from utils import pre_processing)\n",
    "from utils import pre_processing\n",
    "# We also need to import the libraries that «pre_processing()» is using. This are the libraries used in «pre_processing()»:\n",
    "import nltk\n",
    "import string\n",
    "nltk.data.path.append('/home/adelo/.nltk/nltk_data')\n",
    "from nltk.corpus import stopwords\n",
    "# Because we are going to save the model on disc (Model persistence), the function pre_processing() must be called from a different file. It can not be defined in this file where we are creating the model.\n",
    "from utils import pre_processing\n",
    "\n",
    "\n",
    "# Data spliting\n",
    "x = reviews_wang_balanced['review']\n",
    "y = reviews_wang_balanced['label']\n",
    "x_train, x_test, y_train, y_test = train_test_split(x, y, test_size=0.3, random_state=0)\n",
    "\n",
    "\n",
    "# Creating a Naive Bayes classifier Pipeline\n",
    "nbayes_model_wang = Pipeline([\n",
    "    ('bow',        CountVectorizer(analyzer=pre_processing)),\n",
    "    ('tfidf',      TfidfTransformer()),\n",
    "    ('classifier', MultinomialNB()),\n",
    "])\n",
    "\n",
    "\n",
    "# Creating the Naive Bayes classifier\n",
    "nbayes_model_wang.fit(x_train,y_train)"
   ]
  },
  {
   "cell_type": "markdown",
   "metadata": {},
   "source": [
    "### Classifying our test data"
   ]
  },
  {
   "cell_type": "code",
   "execution_count": null,
   "metadata": {},
   "outputs": [],
   "source": [
    "# Using the model created to classify our test data\n",
    "y_test_pred  = nbayes_model_wang.predict(x_test)\n",
    "y_test_pred"
   ]
  },
  {
   "cell_type": "markdown",
   "metadata": {},
   "source": [
    "### Model evaluation"
   ]
  },
  {
   "cell_type": "code",
   "execution_count": null,
   "metadata": {
    "scrolled": false,
    "tags": []
   },
   "outputs": [],
   "source": [
    "display(ConfusionMatrixHeatmap(y_test, y_test_pred))\n",
    "display(confusion_matrix_pie_chart(y_test, y_test_pred))\n",
    "display(classif_report_heatmap(y_test, y_test_pred))"
   ]
  },
  {
   "cell_type": "markdown",
   "metadata": {},
   "source": [
    "### Classifying «my_reviews» dataset and evaluating the results\n",
    "* Here we are using the Model created with the «reviews_wang» dataset to classify «my_reviews» dataset\n",
    "* Testing a model using another dataset (not a portion of the same dataset reserved as test data) is always a better way to evaluate the performance of a model."
   ]
  },
  {
   "cell_type": "code",
   "execution_count": null,
   "metadata": {
    "tags": []
   },
   "outputs": [],
   "source": [
    "my_reviews_ml = labeling_data(my_reviews,'title_text', 'rating')\n",
    "\n",
    "x_test = my_reviews_ml['review']\n",
    "y_test = my_reviews_ml['label']\n",
    "\n",
    "y_test_pred = nbayes_model_wang.predict(x_test)\n",
    "\n",
    "display(ConfusionMatrixHeatmap(y_test, y_test_pred))\n",
    "display(confusion_matrix_pie_chart(y_test, y_test_pred))\n",
    "display(classif_report_heatmap(y_test, y_test_pred))"
   ]
  },
  {
   "cell_type": "markdown",
   "metadata": {},
   "source": [
    "### Model persistence - Saving the model on disc for future use\n",
    "* https://scikit-learn.org/stable/modules/model_persistence.html\n",
    "* https://stackabuse.com/scikit-learn-save-and-restore-models/\n",
    "* https://rebeccabilbro.github.io/module-main-has-no-attribute/\n",
    "\n",
    "\n",
    "* For scikit-learn models, this can be do with 2 libraries: https://scikit-learn.org/stable/modules/model_persistence.html\n",
    "  * pickle\n",
    "  * joblib\n",
    "\n",
    "* Here I show how to do it with pickle.\n",
    "* IT IS EXTREMELY IMPORTANT TO be aware of the error resolved here https://rebeccabilbro.github.io/module-main-has-no-attribute/\n",
    "  * If we are saving a model built with pipelines, and in our pipelines we are using a function defining for ourself in the same file, the model saved is not going to work if you call it from another script. So it is very important that the functions used in the pipelene are defined in another script, not in the same file where the model is created so these functiona have to be imported in the script where we are creating the model. This way, the model created will work when we call it from another script."
   ]
  },
  {
   "cell_type": "code",
   "execution_count": null,
   "metadata": {},
   "outputs": [],
   "source": [
    "import pickle\n",
    "\n",
    "# Save to file in the current working directory\n",
    "\n",
    "# This function «pre_processing» has been defining in «utils.py». It can no be defined in this file because we are passing this function as an argument to our pipeline machine learning model. So, in order to be able to save the ML model on disc for later use, the functions passed to the pipeline must be defined in another file and imported here (from utils import pre_processing)\n",
    "from utils import pre_processing\n",
    "# We also need to import the libraries that «pre_processing()» is using. This are the libraries used in «pre_processing()»:\n",
    "import nltk\n",
    "import string\n",
    "nltk.data.path.append('/home/adelo/.nltk/nltk_data')\n",
    "from nltk.corpus import stopwords\n",
    "# Because we are going to save the model on disc (Model persistence), the function pre_processing() must be called from a different file. It can not be defined in this file where we are creating the model.\n",
    "\n",
    "\n",
    "# Save to file in the current working directory\n",
    "pkl_filename = \"nbayes_model_wang.pkl\"\n",
    "with open(pkl_filename, 'wb') as file:\n",
    "    pickle.dump(nbayes_model_wang, file)"
   ]
  },
  {
   "cell_type": "code",
   "execution_count": null,
   "metadata": {},
   "outputs": [],
   "source": [
    "# Load from file\n",
    "with open(pkl_filename, 'rb') as file:\n",
    "    nbayes_model_wang_pickle = pickle.load(file)"
   ]
  },
  {
   "cell_type": "code",
   "execution_count": 86,
   "metadata": {
    "tags": []
   },
   "outputs": [
    {
     "output_type": "display_data",
     "data": {
      "application/vnd.plotly.v1+json": {
       "config": {
        "plotlyServerURL": "https://plot.ly"
       },
       "data": [
        {
         "colorscale": [
          [
           0,
           "#6495ED"
          ],
          [
           1,
           "#b35050"
          ]
         ],
         "reversescale": false,
         "showscale": false,
         "type": "heatmap",
         "x": [
          "Positive",
          "Negative"
         ],
         "y": [
          "Positive",
          "Negative"
         ],
         "z": [
          [
           0,
           1
          ],
          [
           1,
           0
          ]
         ]
        }
       ],
       "layout": {
        "annotations": [
         {
          "font": {
           "color": "#FFFFFF"
          },
          "showarrow": false,
          "text": "TP<br />2014",
          "x": "Positive",
          "xref": "x",
          "y": "Positive",
          "yref": "y"
         },
         {
          "font": {
           "color": "#FFFFFF"
          },
          "showarrow": false,
          "text": "FN<br />107",
          "x": "Negative",
          "xref": "x",
          "y": "Positive",
          "yref": "y"
         },
         {
          "font": {
           "color": "#FFFFFF"
          },
          "showarrow": false,
          "text": "FP<br />239",
          "x": "Positive",
          "xref": "x",
          "y": "Negative",
          "yref": "y"
         },
         {
          "font": {
           "color": "#FFFFFF"
          },
          "showarrow": false,
          "text": "TN<br />374",
          "x": "Negative",
          "xref": "x",
          "y": "Negative",
          "yref": "y"
         }
        ],
        "font": {
         "size": 25
        },
        "margin": {
         "b": 1,
         "l": 1,
         "r": 1,
         "t": 1
        },
        "template": {
         "data": {
          "bar": [
           {
            "error_x": {
             "color": "#2a3f5f"
            },
            "error_y": {
             "color": "#2a3f5f"
            },
            "marker": {
             "line": {
              "color": "#E5ECF6",
              "width": 0.5
             }
            },
            "type": "bar"
           }
          ],
          "barpolar": [
           {
            "marker": {
             "line": {
              "color": "#E5ECF6",
              "width": 0.5
             }
            },
            "type": "barpolar"
           }
          ],
          "carpet": [
           {
            "aaxis": {
             "endlinecolor": "#2a3f5f",
             "gridcolor": "white",
             "linecolor": "white",
             "minorgridcolor": "white",
             "startlinecolor": "#2a3f5f"
            },
            "baxis": {
             "endlinecolor": "#2a3f5f",
             "gridcolor": "white",
             "linecolor": "white",
             "minorgridcolor": "white",
             "startlinecolor": "#2a3f5f"
            },
            "type": "carpet"
           }
          ],
          "choropleth": [
           {
            "colorbar": {
             "outlinewidth": 0,
             "ticks": ""
            },
            "type": "choropleth"
           }
          ],
          "contour": [
           {
            "colorbar": {
             "outlinewidth": 0,
             "ticks": ""
            },
            "colorscale": [
             [
              0,
              "#0d0887"
             ],
             [
              0.1111111111111111,
              "#46039f"
             ],
             [
              0.2222222222222222,
              "#7201a8"
             ],
             [
              0.3333333333333333,
              "#9c179e"
             ],
             [
              0.4444444444444444,
              "#bd3786"
             ],
             [
              0.5555555555555556,
              "#d8576b"
             ],
             [
              0.6666666666666666,
              "#ed7953"
             ],
             [
              0.7777777777777778,
              "#fb9f3a"
             ],
             [
              0.8888888888888888,
              "#fdca26"
             ],
             [
              1,
              "#f0f921"
             ]
            ],
            "type": "contour"
           }
          ],
          "contourcarpet": [
           {
            "colorbar": {
             "outlinewidth": 0,
             "ticks": ""
            },
            "type": "contourcarpet"
           }
          ],
          "heatmap": [
           {
            "colorbar": {
             "outlinewidth": 0,
             "ticks": ""
            },
            "colorscale": [
             [
              0,
              "#0d0887"
             ],
             [
              0.1111111111111111,
              "#46039f"
             ],
             [
              0.2222222222222222,
              "#7201a8"
             ],
             [
              0.3333333333333333,
              "#9c179e"
             ],
             [
              0.4444444444444444,
              "#bd3786"
             ],
             [
              0.5555555555555556,
              "#d8576b"
             ],
             [
              0.6666666666666666,
              "#ed7953"
             ],
             [
              0.7777777777777778,
              "#fb9f3a"
             ],
             [
              0.8888888888888888,
              "#fdca26"
             ],
             [
              1,
              "#f0f921"
             ]
            ],
            "type": "heatmap"
           }
          ],
          "heatmapgl": [
           {
            "colorbar": {
             "outlinewidth": 0,
             "ticks": ""
            },
            "colorscale": [
             [
              0,
              "#0d0887"
             ],
             [
              0.1111111111111111,
              "#46039f"
             ],
             [
              0.2222222222222222,
              "#7201a8"
             ],
             [
              0.3333333333333333,
              "#9c179e"
             ],
             [
              0.4444444444444444,
              "#bd3786"
             ],
             [
              0.5555555555555556,
              "#d8576b"
             ],
             [
              0.6666666666666666,
              "#ed7953"
             ],
             [
              0.7777777777777778,
              "#fb9f3a"
             ],
             [
              0.8888888888888888,
              "#fdca26"
             ],
             [
              1,
              "#f0f921"
             ]
            ],
            "type": "heatmapgl"
           }
          ],
          "histogram": [
           {
            "marker": {
             "colorbar": {
              "outlinewidth": 0,
              "ticks": ""
             }
            },
            "type": "histogram"
           }
          ],
          "histogram2d": [
           {
            "colorbar": {
             "outlinewidth": 0,
             "ticks": ""
            },
            "colorscale": [
             [
              0,
              "#0d0887"
             ],
             [
              0.1111111111111111,
              "#46039f"
             ],
             [
              0.2222222222222222,
              "#7201a8"
             ],
             [
              0.3333333333333333,
              "#9c179e"
             ],
             [
              0.4444444444444444,
              "#bd3786"
             ],
             [
              0.5555555555555556,
              "#d8576b"
             ],
             [
              0.6666666666666666,
              "#ed7953"
             ],
             [
              0.7777777777777778,
              "#fb9f3a"
             ],
             [
              0.8888888888888888,
              "#fdca26"
             ],
             [
              1,
              "#f0f921"
             ]
            ],
            "type": "histogram2d"
           }
          ],
          "histogram2dcontour": [
           {
            "colorbar": {
             "outlinewidth": 0,
             "ticks": ""
            },
            "colorscale": [
             [
              0,
              "#0d0887"
             ],
             [
              0.1111111111111111,
              "#46039f"
             ],
             [
              0.2222222222222222,
              "#7201a8"
             ],
             [
              0.3333333333333333,
              "#9c179e"
             ],
             [
              0.4444444444444444,
              "#bd3786"
             ],
             [
              0.5555555555555556,
              "#d8576b"
             ],
             [
              0.6666666666666666,
              "#ed7953"
             ],
             [
              0.7777777777777778,
              "#fb9f3a"
             ],
             [
              0.8888888888888888,
              "#fdca26"
             ],
             [
              1,
              "#f0f921"
             ]
            ],
            "type": "histogram2dcontour"
           }
          ],
          "mesh3d": [
           {
            "colorbar": {
             "outlinewidth": 0,
             "ticks": ""
            },
            "type": "mesh3d"
           }
          ],
          "parcoords": [
           {
            "line": {
             "colorbar": {
              "outlinewidth": 0,
              "ticks": ""
             }
            },
            "type": "parcoords"
           }
          ],
          "pie": [
           {
            "automargin": true,
            "type": "pie"
           }
          ],
          "scatter": [
           {
            "marker": {
             "colorbar": {
              "outlinewidth": 0,
              "ticks": ""
             }
            },
            "type": "scatter"
           }
          ],
          "scatter3d": [
           {
            "line": {
             "colorbar": {
              "outlinewidth": 0,
              "ticks": ""
             }
            },
            "marker": {
             "colorbar": {
              "outlinewidth": 0,
              "ticks": ""
             }
            },
            "type": "scatter3d"
           }
          ],
          "scattercarpet": [
           {
            "marker": {
             "colorbar": {
              "outlinewidth": 0,
              "ticks": ""
             }
            },
            "type": "scattercarpet"
           }
          ],
          "scattergeo": [
           {
            "marker": {
             "colorbar": {
              "outlinewidth": 0,
              "ticks": ""
             }
            },
            "type": "scattergeo"
           }
          ],
          "scattergl": [
           {
            "marker": {
             "colorbar": {
              "outlinewidth": 0,
              "ticks": ""
             }
            },
            "type": "scattergl"
           }
          ],
          "scattermapbox": [
           {
            "marker": {
             "colorbar": {
              "outlinewidth": 0,
              "ticks": ""
             }
            },
            "type": "scattermapbox"
           }
          ],
          "scatterpolar": [
           {
            "marker": {
             "colorbar": {
              "outlinewidth": 0,
              "ticks": ""
             }
            },
            "type": "scatterpolar"
           }
          ],
          "scatterpolargl": [
           {
            "marker": {
             "colorbar": {
              "outlinewidth": 0,
              "ticks": ""
             }
            },
            "type": "scatterpolargl"
           }
          ],
          "scatterternary": [
           {
            "marker": {
             "colorbar": {
              "outlinewidth": 0,
              "ticks": ""
             }
            },
            "type": "scatterternary"
           }
          ],
          "surface": [
           {
            "colorbar": {
             "outlinewidth": 0,
             "ticks": ""
            },
            "colorscale": [
             [
              0,
              "#0d0887"
             ],
             [
              0.1111111111111111,
              "#46039f"
             ],
             [
              0.2222222222222222,
              "#7201a8"
             ],
             [
              0.3333333333333333,
              "#9c179e"
             ],
             [
              0.4444444444444444,
              "#bd3786"
             ],
             [
              0.5555555555555556,
              "#d8576b"
             ],
             [
              0.6666666666666666,
              "#ed7953"
             ],
             [
              0.7777777777777778,
              "#fb9f3a"
             ],
             [
              0.8888888888888888,
              "#fdca26"
             ],
             [
              1,
              "#f0f921"
             ]
            ],
            "type": "surface"
           }
          ],
          "table": [
           {
            "cells": {
             "fill": {
              "color": "#EBF0F8"
             },
             "line": {
              "color": "white"
             }
            },
            "header": {
             "fill": {
              "color": "#C8D4E3"
             },
             "line": {
              "color": "white"
             }
            },
            "type": "table"
           }
          ]
         },
         "layout": {
          "annotationdefaults": {
           "arrowcolor": "#2a3f5f",
           "arrowhead": 0,
           "arrowwidth": 1
          },
          "coloraxis": {
           "colorbar": {
            "outlinewidth": 0,
            "ticks": ""
           }
          },
          "colorscale": {
           "diverging": [
            [
             0,
             "#8e0152"
            ],
            [
             0.1,
             "#c51b7d"
            ],
            [
             0.2,
             "#de77ae"
            ],
            [
             0.3,
             "#f1b6da"
            ],
            [
             0.4,
             "#fde0ef"
            ],
            [
             0.5,
             "#f7f7f7"
            ],
            [
             0.6,
             "#e6f5d0"
            ],
            [
             0.7,
             "#b8e186"
            ],
            [
             0.8,
             "#7fbc41"
            ],
            [
             0.9,
             "#4d9221"
            ],
            [
             1,
             "#276419"
            ]
           ],
           "sequential": [
            [
             0,
             "#0d0887"
            ],
            [
             0.1111111111111111,
             "#46039f"
            ],
            [
             0.2222222222222222,
             "#7201a8"
            ],
            [
             0.3333333333333333,
             "#9c179e"
            ],
            [
             0.4444444444444444,
             "#bd3786"
            ],
            [
             0.5555555555555556,
             "#d8576b"
            ],
            [
             0.6666666666666666,
             "#ed7953"
            ],
            [
             0.7777777777777778,
             "#fb9f3a"
            ],
            [
             0.8888888888888888,
             "#fdca26"
            ],
            [
             1,
             "#f0f921"
            ]
           ],
           "sequentialminus": [
            [
             0,
             "#0d0887"
            ],
            [
             0.1111111111111111,
             "#46039f"
            ],
            [
             0.2222222222222222,
             "#7201a8"
            ],
            [
             0.3333333333333333,
             "#9c179e"
            ],
            [
             0.4444444444444444,
             "#bd3786"
            ],
            [
             0.5555555555555556,
             "#d8576b"
            ],
            [
             0.6666666666666666,
             "#ed7953"
            ],
            [
             0.7777777777777778,
             "#fb9f3a"
            ],
            [
             0.8888888888888888,
             "#fdca26"
            ],
            [
             1,
             "#f0f921"
            ]
           ]
          },
          "colorway": [
           "#636efa",
           "#EF553B",
           "#00cc96",
           "#ab63fa",
           "#FFA15A",
           "#19d3f3",
           "#FF6692",
           "#B6E880",
           "#FF97FF",
           "#FECB52"
          ],
          "font": {
           "color": "#2a3f5f"
          },
          "geo": {
           "bgcolor": "white",
           "lakecolor": "white",
           "landcolor": "#E5ECF6",
           "showlakes": true,
           "showland": true,
           "subunitcolor": "white"
          },
          "hoverlabel": {
           "align": "left"
          },
          "hovermode": "closest",
          "mapbox": {
           "style": "light"
          },
          "paper_bgcolor": "white",
          "plot_bgcolor": "#E5ECF6",
          "polar": {
           "angularaxis": {
            "gridcolor": "white",
            "linecolor": "white",
            "ticks": ""
           },
           "bgcolor": "#E5ECF6",
           "radialaxis": {
            "gridcolor": "white",
            "linecolor": "white",
            "ticks": ""
           }
          },
          "scene": {
           "xaxis": {
            "backgroundcolor": "#E5ECF6",
            "gridcolor": "white",
            "gridwidth": 2,
            "linecolor": "white",
            "showbackground": true,
            "ticks": "",
            "zerolinecolor": "white"
           },
           "yaxis": {
            "backgroundcolor": "#E5ECF6",
            "gridcolor": "white",
            "gridwidth": 2,
            "linecolor": "white",
            "showbackground": true,
            "ticks": "",
            "zerolinecolor": "white"
           },
           "zaxis": {
            "backgroundcolor": "#E5ECF6",
            "gridcolor": "white",
            "gridwidth": 2,
            "linecolor": "white",
            "showbackground": true,
            "ticks": "",
            "zerolinecolor": "white"
           }
          },
          "shapedefaults": {
           "line": {
            "color": "#2a3f5f"
           }
          },
          "ternary": {
           "aaxis": {
            "gridcolor": "white",
            "linecolor": "white",
            "ticks": ""
           },
           "baxis": {
            "gridcolor": "white",
            "linecolor": "white",
            "ticks": ""
           },
           "bgcolor": "#E5ECF6",
           "caxis": {
            "gridcolor": "white",
            "linecolor": "white",
            "ticks": ""
           }
          },
          "title": {
           "x": 0.05
          },
          "xaxis": {
           "automargin": true,
           "gridcolor": "white",
           "linecolor": "white",
           "ticks": "",
           "title": {
            "standoff": 15
           },
           "zerolinecolor": "white",
           "zerolinewidth": 2
          },
          "yaxis": {
           "automargin": true,
           "gridcolor": "white",
           "linecolor": "white",
           "ticks": "",
           "title": {
            "standoff": 15
           },
           "zerolinecolor": "white",
           "zerolinewidth": 2
          }
         }
        },
        "xaxis": {
         "color": "black",
         "dtick": 1,
         "gridcolor": "rgb(0, 0, 0)",
         "side": "top",
         "tickfont": {
          "size": 20
         },
         "ticks": "",
         "title": {
          "font": {
           "size": 20
          },
          "text": "Predicted  value"
         }
        },
        "yaxis": {
         "autorange": "reversed",
         "color": "black",
         "dtick": 1,
         "tickangle": -90,
         "tickfont": {
          "size": 20
         },
         "ticks": "",
         "ticksuffix": "  ",
         "title": {
          "font": {
           "size": 20
          },
          "text": "Current  value"
         }
        }
       }
      },
      "text/html": "<div>\n        \n        \n            <div id=\"6d3f2734-a57f-477c-bc63-372f76a9f1a3\" class=\"plotly-graph-div\" style=\"height:525px; width:100%;\"></div>\n            <script type=\"text/javascript\">\n                require([\"plotly\"], function(Plotly) {\n                    window.PLOTLYENV=window.PLOTLYENV || {};\n                    \n                if (document.getElementById(\"6d3f2734-a57f-477c-bc63-372f76a9f1a3\")) {\n                    Plotly.newPlot(\n                        '6d3f2734-a57f-477c-bc63-372f76a9f1a3',\n                        [{\"colorscale\": [[0, \"#6495ED\"], [1, \"#b35050\"]], \"reversescale\": false, \"showscale\": false, \"type\": \"heatmap\", \"x\": [\"Positive\", \"Negative\"], \"y\": [\"Positive\", \"Negative\"], \"z\": [[0, 1], [1, 0]]}],\n                        {\"annotations\": [{\"font\": {\"color\": \"#FFFFFF\"}, \"showarrow\": false, \"text\": \"TP<br />2014\", \"x\": \"Positive\", \"xref\": \"x\", \"y\": \"Positive\", \"yref\": \"y\"}, {\"font\": {\"color\": \"#FFFFFF\"}, \"showarrow\": false, \"text\": \"FN<br />107\", \"x\": \"Negative\", \"xref\": \"x\", \"y\": \"Positive\", \"yref\": \"y\"}, {\"font\": {\"color\": \"#FFFFFF\"}, \"showarrow\": false, \"text\": \"FP<br />239\", \"x\": \"Positive\", \"xref\": \"x\", \"y\": \"Negative\", \"yref\": \"y\"}, {\"font\": {\"color\": \"#FFFFFF\"}, \"showarrow\": false, \"text\": \"TN<br />374\", \"x\": \"Negative\", \"xref\": \"x\", \"y\": \"Negative\", \"yref\": \"y\"}], \"font\": {\"size\": 25}, \"margin\": {\"b\": 1, \"l\": 1, \"r\": 1, \"t\": 1}, \"template\": {\"data\": {\"bar\": [{\"error_x\": {\"color\": \"#2a3f5f\"}, \"error_y\": {\"color\": \"#2a3f5f\"}, \"marker\": {\"line\": {\"color\": \"#E5ECF6\", \"width\": 0.5}}, \"type\": \"bar\"}], \"barpolar\": [{\"marker\": {\"line\": {\"color\": \"#E5ECF6\", \"width\": 0.5}}, \"type\": \"barpolar\"}], \"carpet\": [{\"aaxis\": {\"endlinecolor\": \"#2a3f5f\", \"gridcolor\": \"white\", \"linecolor\": \"white\", \"minorgridcolor\": \"white\", \"startlinecolor\": \"#2a3f5f\"}, \"baxis\": {\"endlinecolor\": \"#2a3f5f\", \"gridcolor\": \"white\", \"linecolor\": \"white\", \"minorgridcolor\": \"white\", \"startlinecolor\": \"#2a3f5f\"}, \"type\": \"carpet\"}], \"choropleth\": [{\"colorbar\": {\"outlinewidth\": 0, \"ticks\": \"\"}, \"type\": \"choropleth\"}], \"contour\": [{\"colorbar\": {\"outlinewidth\": 0, \"ticks\": \"\"}, \"colorscale\": [[0.0, \"#0d0887\"], [0.1111111111111111, \"#46039f\"], [0.2222222222222222, \"#7201a8\"], [0.3333333333333333, \"#9c179e\"], [0.4444444444444444, \"#bd3786\"], [0.5555555555555556, \"#d8576b\"], [0.6666666666666666, \"#ed7953\"], [0.7777777777777778, \"#fb9f3a\"], [0.8888888888888888, \"#fdca26\"], [1.0, \"#f0f921\"]], \"type\": \"contour\"}], \"contourcarpet\": [{\"colorbar\": {\"outlinewidth\": 0, \"ticks\": \"\"}, \"type\": \"contourcarpet\"}], \"heatmap\": [{\"colorbar\": {\"outlinewidth\": 0, \"ticks\": \"\"}, \"colorscale\": [[0.0, \"#0d0887\"], [0.1111111111111111, \"#46039f\"], [0.2222222222222222, \"#7201a8\"], [0.3333333333333333, \"#9c179e\"], [0.4444444444444444, \"#bd3786\"], [0.5555555555555556, \"#d8576b\"], [0.6666666666666666, \"#ed7953\"], [0.7777777777777778, \"#fb9f3a\"], [0.8888888888888888, \"#fdca26\"], [1.0, \"#f0f921\"]], \"type\": \"heatmap\"}], \"heatmapgl\": [{\"colorbar\": {\"outlinewidth\": 0, \"ticks\": \"\"}, \"colorscale\": [[0.0, \"#0d0887\"], [0.1111111111111111, \"#46039f\"], [0.2222222222222222, \"#7201a8\"], [0.3333333333333333, \"#9c179e\"], [0.4444444444444444, \"#bd3786\"], [0.5555555555555556, \"#d8576b\"], [0.6666666666666666, \"#ed7953\"], [0.7777777777777778, \"#fb9f3a\"], [0.8888888888888888, \"#fdca26\"], [1.0, \"#f0f921\"]], \"type\": \"heatmapgl\"}], \"histogram\": [{\"marker\": {\"colorbar\": {\"outlinewidth\": 0, \"ticks\": \"\"}}, \"type\": \"histogram\"}], \"histogram2d\": [{\"colorbar\": {\"outlinewidth\": 0, \"ticks\": \"\"}, \"colorscale\": [[0.0, \"#0d0887\"], [0.1111111111111111, \"#46039f\"], [0.2222222222222222, \"#7201a8\"], [0.3333333333333333, \"#9c179e\"], [0.4444444444444444, \"#bd3786\"], [0.5555555555555556, \"#d8576b\"], [0.6666666666666666, \"#ed7953\"], [0.7777777777777778, \"#fb9f3a\"], [0.8888888888888888, \"#fdca26\"], [1.0, \"#f0f921\"]], \"type\": \"histogram2d\"}], \"histogram2dcontour\": [{\"colorbar\": {\"outlinewidth\": 0, \"ticks\": \"\"}, \"colorscale\": [[0.0, \"#0d0887\"], [0.1111111111111111, \"#46039f\"], [0.2222222222222222, \"#7201a8\"], [0.3333333333333333, \"#9c179e\"], [0.4444444444444444, \"#bd3786\"], [0.5555555555555556, \"#d8576b\"], [0.6666666666666666, \"#ed7953\"], [0.7777777777777778, \"#fb9f3a\"], [0.8888888888888888, \"#fdca26\"], [1.0, \"#f0f921\"]], \"type\": \"histogram2dcontour\"}], \"mesh3d\": [{\"colorbar\": {\"outlinewidth\": 0, \"ticks\": \"\"}, \"type\": \"mesh3d\"}], \"parcoords\": [{\"line\": {\"colorbar\": {\"outlinewidth\": 0, \"ticks\": \"\"}}, \"type\": \"parcoords\"}], \"pie\": [{\"automargin\": true, \"type\": \"pie\"}], \"scatter\": [{\"marker\": {\"colorbar\": {\"outlinewidth\": 0, \"ticks\": \"\"}}, \"type\": \"scatter\"}], \"scatter3d\": [{\"line\": {\"colorbar\": {\"outlinewidth\": 0, \"ticks\": \"\"}}, \"marker\": {\"colorbar\": {\"outlinewidth\": 0, \"ticks\": \"\"}}, \"type\": \"scatter3d\"}], \"scattercarpet\": [{\"marker\": {\"colorbar\": {\"outlinewidth\": 0, \"ticks\": \"\"}}, \"type\": \"scattercarpet\"}], \"scattergeo\": [{\"marker\": {\"colorbar\": {\"outlinewidth\": 0, \"ticks\": \"\"}}, \"type\": \"scattergeo\"}], \"scattergl\": [{\"marker\": {\"colorbar\": {\"outlinewidth\": 0, \"ticks\": \"\"}}, \"type\": \"scattergl\"}], \"scattermapbox\": [{\"marker\": {\"colorbar\": {\"outlinewidth\": 0, \"ticks\": \"\"}}, \"type\": \"scattermapbox\"}], \"scatterpolar\": [{\"marker\": {\"colorbar\": {\"outlinewidth\": 0, \"ticks\": \"\"}}, \"type\": \"scatterpolar\"}], \"scatterpolargl\": [{\"marker\": {\"colorbar\": {\"outlinewidth\": 0, \"ticks\": \"\"}}, \"type\": \"scatterpolargl\"}], \"scatterternary\": [{\"marker\": {\"colorbar\": {\"outlinewidth\": 0, \"ticks\": \"\"}}, \"type\": \"scatterternary\"}], \"surface\": [{\"colorbar\": {\"outlinewidth\": 0, \"ticks\": \"\"}, \"colorscale\": [[0.0, \"#0d0887\"], [0.1111111111111111, \"#46039f\"], [0.2222222222222222, \"#7201a8\"], [0.3333333333333333, \"#9c179e\"], [0.4444444444444444, \"#bd3786\"], [0.5555555555555556, \"#d8576b\"], [0.6666666666666666, \"#ed7953\"], [0.7777777777777778, \"#fb9f3a\"], [0.8888888888888888, \"#fdca26\"], [1.0, \"#f0f921\"]], \"type\": \"surface\"}], \"table\": [{\"cells\": {\"fill\": {\"color\": \"#EBF0F8\"}, \"line\": {\"color\": \"white\"}}, \"header\": {\"fill\": {\"color\": \"#C8D4E3\"}, \"line\": {\"color\": \"white\"}}, \"type\": \"table\"}]}, \"layout\": {\"annotationdefaults\": {\"arrowcolor\": \"#2a3f5f\", \"arrowhead\": 0, \"arrowwidth\": 1}, \"coloraxis\": {\"colorbar\": {\"outlinewidth\": 0, \"ticks\": \"\"}}, \"colorscale\": {\"diverging\": [[0, \"#8e0152\"], [0.1, \"#c51b7d\"], [0.2, \"#de77ae\"], [0.3, \"#f1b6da\"], [0.4, \"#fde0ef\"], [0.5, \"#f7f7f7\"], [0.6, \"#e6f5d0\"], [0.7, \"#b8e186\"], [0.8, \"#7fbc41\"], [0.9, \"#4d9221\"], [1, \"#276419\"]], \"sequential\": [[0.0, \"#0d0887\"], [0.1111111111111111, \"#46039f\"], [0.2222222222222222, \"#7201a8\"], [0.3333333333333333, \"#9c179e\"], [0.4444444444444444, \"#bd3786\"], [0.5555555555555556, \"#d8576b\"], [0.6666666666666666, \"#ed7953\"], [0.7777777777777778, \"#fb9f3a\"], [0.8888888888888888, \"#fdca26\"], [1.0, \"#f0f921\"]], \"sequentialminus\": [[0.0, \"#0d0887\"], [0.1111111111111111, \"#46039f\"], [0.2222222222222222, \"#7201a8\"], [0.3333333333333333, \"#9c179e\"], [0.4444444444444444, \"#bd3786\"], [0.5555555555555556, \"#d8576b\"], [0.6666666666666666, \"#ed7953\"], [0.7777777777777778, \"#fb9f3a\"], [0.8888888888888888, \"#fdca26\"], [1.0, \"#f0f921\"]]}, \"colorway\": [\"#636efa\", \"#EF553B\", \"#00cc96\", \"#ab63fa\", \"#FFA15A\", \"#19d3f3\", \"#FF6692\", \"#B6E880\", \"#FF97FF\", \"#FECB52\"], \"font\": {\"color\": \"#2a3f5f\"}, \"geo\": {\"bgcolor\": \"white\", \"lakecolor\": \"white\", \"landcolor\": \"#E5ECF6\", \"showlakes\": true, \"showland\": true, \"subunitcolor\": \"white\"}, \"hoverlabel\": {\"align\": \"left\"}, \"hovermode\": \"closest\", \"mapbox\": {\"style\": \"light\"}, \"paper_bgcolor\": \"white\", \"plot_bgcolor\": \"#E5ECF6\", \"polar\": {\"angularaxis\": {\"gridcolor\": \"white\", \"linecolor\": \"white\", \"ticks\": \"\"}, \"bgcolor\": \"#E5ECF6\", \"radialaxis\": {\"gridcolor\": \"white\", \"linecolor\": \"white\", \"ticks\": \"\"}}, \"scene\": {\"xaxis\": {\"backgroundcolor\": \"#E5ECF6\", \"gridcolor\": \"white\", \"gridwidth\": 2, \"linecolor\": \"white\", \"showbackground\": true, \"ticks\": \"\", \"zerolinecolor\": \"white\"}, \"yaxis\": {\"backgroundcolor\": \"#E5ECF6\", \"gridcolor\": \"white\", \"gridwidth\": 2, \"linecolor\": \"white\", \"showbackground\": true, \"ticks\": \"\", \"zerolinecolor\": \"white\"}, \"zaxis\": {\"backgroundcolor\": \"#E5ECF6\", \"gridcolor\": \"white\", \"gridwidth\": 2, \"linecolor\": \"white\", \"showbackground\": true, \"ticks\": \"\", \"zerolinecolor\": \"white\"}}, \"shapedefaults\": {\"line\": {\"color\": \"#2a3f5f\"}}, \"ternary\": {\"aaxis\": {\"gridcolor\": \"white\", \"linecolor\": \"white\", \"ticks\": \"\"}, \"baxis\": {\"gridcolor\": \"white\", \"linecolor\": \"white\", \"ticks\": \"\"}, \"bgcolor\": \"#E5ECF6\", \"caxis\": {\"gridcolor\": \"white\", \"linecolor\": \"white\", \"ticks\": \"\"}}, \"title\": {\"x\": 0.05}, \"xaxis\": {\"automargin\": true, \"gridcolor\": \"white\", \"linecolor\": \"white\", \"ticks\": \"\", \"title\": {\"standoff\": 15}, \"zerolinecolor\": \"white\", \"zerolinewidth\": 2}, \"yaxis\": {\"automargin\": true, \"gridcolor\": \"white\", \"linecolor\": \"white\", \"ticks\": \"\", \"title\": {\"standoff\": 15}, \"zerolinecolor\": \"white\", \"zerolinewidth\": 2}}}, \"xaxis\": {\"color\": \"black\", \"dtick\": 1, \"gridcolor\": \"rgb(0, 0, 0)\", \"side\": \"top\", \"tickfont\": {\"size\": 20}, \"ticks\": \"\", \"title\": {\"font\": {\"size\": 20}, \"text\": \"Predicted  value\"}}, \"yaxis\": {\"autorange\": \"reversed\", \"color\": \"black\", \"dtick\": 1, \"tickangle\": -90, \"tickfont\": {\"size\": 20}, \"ticks\": \"\", \"ticksuffix\": \"  \", \"title\": {\"font\": {\"size\": 20}, \"text\": \"Current  value\"}}},\n                        {\"responsive\": true}\n                    ).then(function(){\n                            \nvar gd = document.getElementById('6d3f2734-a57f-477c-bc63-372f76a9f1a3');\nvar x = new MutationObserver(function (mutations, observer) {{\n        var display = window.getComputedStyle(gd).display;\n        if (!display || display === 'none') {{\n            console.log([gd, 'removed!']);\n            Plotly.purge(gd);\n            observer.disconnect();\n        }}\n}});\n\n// Listen for the removal of the full notebook cells\nvar notebookContainer = gd.closest('#notebook-container');\nif (notebookContainer) {{\n    x.observe(notebookContainer, {childList: true});\n}}\n\n// Listen for the clearing of the current output cell\nvar outputEl = gd.closest('.output');\nif (outputEl) {{\n    x.observe(outputEl, {childList: true});\n}}\n\n                        })\n                };\n                });\n            </script>\n        </div>"
     },
     "metadata": {}
    },
    {
     "output_type": "display_data",
     "data": {
      "application/vnd.plotly.v1+json": {
       "config": {
        "plotlyServerURL": "https://plot.ly"
       },
       "data": [
        {
         "direction": "clockwise",
         "labels": [
          "TP",
          "TN",
          "FP",
          "FN"
         ],
         "marker": {
          "colors": [
           "#6495ED",
           "#007bff",
           "#b35050",
           "#9c2828"
          ]
         },
         "sort": false,
         "textfont": {
          "size": 18
         },
         "textinfo": "label+percent",
         "type": "pie",
         "values": [
          2014,
          374,
          239,
          107
         ]
        }
       ],
       "layout": {
        "margin": {
         "b": 10,
         "l": 0,
         "r": 0,
         "t": 10
        },
        "showlegend": false,
        "template": {
         "data": {
          "bar": [
           {
            "error_x": {
             "color": "#2a3f5f"
            },
            "error_y": {
             "color": "#2a3f5f"
            },
            "marker": {
             "line": {
              "color": "#E5ECF6",
              "width": 0.5
             }
            },
            "type": "bar"
           }
          ],
          "barpolar": [
           {
            "marker": {
             "line": {
              "color": "#E5ECF6",
              "width": 0.5
             }
            },
            "type": "barpolar"
           }
          ],
          "carpet": [
           {
            "aaxis": {
             "endlinecolor": "#2a3f5f",
             "gridcolor": "white",
             "linecolor": "white",
             "minorgridcolor": "white",
             "startlinecolor": "#2a3f5f"
            },
            "baxis": {
             "endlinecolor": "#2a3f5f",
             "gridcolor": "white",
             "linecolor": "white",
             "minorgridcolor": "white",
             "startlinecolor": "#2a3f5f"
            },
            "type": "carpet"
           }
          ],
          "choropleth": [
           {
            "colorbar": {
             "outlinewidth": 0,
             "ticks": ""
            },
            "type": "choropleth"
           }
          ],
          "contour": [
           {
            "colorbar": {
             "outlinewidth": 0,
             "ticks": ""
            },
            "colorscale": [
             [
              0,
              "#0d0887"
             ],
             [
              0.1111111111111111,
              "#46039f"
             ],
             [
              0.2222222222222222,
              "#7201a8"
             ],
             [
              0.3333333333333333,
              "#9c179e"
             ],
             [
              0.4444444444444444,
              "#bd3786"
             ],
             [
              0.5555555555555556,
              "#d8576b"
             ],
             [
              0.6666666666666666,
              "#ed7953"
             ],
             [
              0.7777777777777778,
              "#fb9f3a"
             ],
             [
              0.8888888888888888,
              "#fdca26"
             ],
             [
              1,
              "#f0f921"
             ]
            ],
            "type": "contour"
           }
          ],
          "contourcarpet": [
           {
            "colorbar": {
             "outlinewidth": 0,
             "ticks": ""
            },
            "type": "contourcarpet"
           }
          ],
          "heatmap": [
           {
            "colorbar": {
             "outlinewidth": 0,
             "ticks": ""
            },
            "colorscale": [
             [
              0,
              "#0d0887"
             ],
             [
              0.1111111111111111,
              "#46039f"
             ],
             [
              0.2222222222222222,
              "#7201a8"
             ],
             [
              0.3333333333333333,
              "#9c179e"
             ],
             [
              0.4444444444444444,
              "#bd3786"
             ],
             [
              0.5555555555555556,
              "#d8576b"
             ],
             [
              0.6666666666666666,
              "#ed7953"
             ],
             [
              0.7777777777777778,
              "#fb9f3a"
             ],
             [
              0.8888888888888888,
              "#fdca26"
             ],
             [
              1,
              "#f0f921"
             ]
            ],
            "type": "heatmap"
           }
          ],
          "heatmapgl": [
           {
            "colorbar": {
             "outlinewidth": 0,
             "ticks": ""
            },
            "colorscale": [
             [
              0,
              "#0d0887"
             ],
             [
              0.1111111111111111,
              "#46039f"
             ],
             [
              0.2222222222222222,
              "#7201a8"
             ],
             [
              0.3333333333333333,
              "#9c179e"
             ],
             [
              0.4444444444444444,
              "#bd3786"
             ],
             [
              0.5555555555555556,
              "#d8576b"
             ],
             [
              0.6666666666666666,
              "#ed7953"
             ],
             [
              0.7777777777777778,
              "#fb9f3a"
             ],
             [
              0.8888888888888888,
              "#fdca26"
             ],
             [
              1,
              "#f0f921"
             ]
            ],
            "type": "heatmapgl"
           }
          ],
          "histogram": [
           {
            "marker": {
             "colorbar": {
              "outlinewidth": 0,
              "ticks": ""
             }
            },
            "type": "histogram"
           }
          ],
          "histogram2d": [
           {
            "colorbar": {
             "outlinewidth": 0,
             "ticks": ""
            },
            "colorscale": [
             [
              0,
              "#0d0887"
             ],
             [
              0.1111111111111111,
              "#46039f"
             ],
             [
              0.2222222222222222,
              "#7201a8"
             ],
             [
              0.3333333333333333,
              "#9c179e"
             ],
             [
              0.4444444444444444,
              "#bd3786"
             ],
             [
              0.5555555555555556,
              "#d8576b"
             ],
             [
              0.6666666666666666,
              "#ed7953"
             ],
             [
              0.7777777777777778,
              "#fb9f3a"
             ],
             [
              0.8888888888888888,
              "#fdca26"
             ],
             [
              1,
              "#f0f921"
             ]
            ],
            "type": "histogram2d"
           }
          ],
          "histogram2dcontour": [
           {
            "colorbar": {
             "outlinewidth": 0,
             "ticks": ""
            },
            "colorscale": [
             [
              0,
              "#0d0887"
             ],
             [
              0.1111111111111111,
              "#46039f"
             ],
             [
              0.2222222222222222,
              "#7201a8"
             ],
             [
              0.3333333333333333,
              "#9c179e"
             ],
             [
              0.4444444444444444,
              "#bd3786"
             ],
             [
              0.5555555555555556,
              "#d8576b"
             ],
             [
              0.6666666666666666,
              "#ed7953"
             ],
             [
              0.7777777777777778,
              "#fb9f3a"
             ],
             [
              0.8888888888888888,
              "#fdca26"
             ],
             [
              1,
              "#f0f921"
             ]
            ],
            "type": "histogram2dcontour"
           }
          ],
          "mesh3d": [
           {
            "colorbar": {
             "outlinewidth": 0,
             "ticks": ""
            },
            "type": "mesh3d"
           }
          ],
          "parcoords": [
           {
            "line": {
             "colorbar": {
              "outlinewidth": 0,
              "ticks": ""
             }
            },
            "type": "parcoords"
           }
          ],
          "pie": [
           {
            "automargin": true,
            "type": "pie"
           }
          ],
          "scatter": [
           {
            "marker": {
             "colorbar": {
              "outlinewidth": 0,
              "ticks": ""
             }
            },
            "type": "scatter"
           }
          ],
          "scatter3d": [
           {
            "line": {
             "colorbar": {
              "outlinewidth": 0,
              "ticks": ""
             }
            },
            "marker": {
             "colorbar": {
              "outlinewidth": 0,
              "ticks": ""
             }
            },
            "type": "scatter3d"
           }
          ],
          "scattercarpet": [
           {
            "marker": {
             "colorbar": {
              "outlinewidth": 0,
              "ticks": ""
             }
            },
            "type": "scattercarpet"
           }
          ],
          "scattergeo": [
           {
            "marker": {
             "colorbar": {
              "outlinewidth": 0,
              "ticks": ""
             }
            },
            "type": "scattergeo"
           }
          ],
          "scattergl": [
           {
            "marker": {
             "colorbar": {
              "outlinewidth": 0,
              "ticks": ""
             }
            },
            "type": "scattergl"
           }
          ],
          "scattermapbox": [
           {
            "marker": {
             "colorbar": {
              "outlinewidth": 0,
              "ticks": ""
             }
            },
            "type": "scattermapbox"
           }
          ],
          "scatterpolar": [
           {
            "marker": {
             "colorbar": {
              "outlinewidth": 0,
              "ticks": ""
             }
            },
            "type": "scatterpolar"
           }
          ],
          "scatterpolargl": [
           {
            "marker": {
             "colorbar": {
              "outlinewidth": 0,
              "ticks": ""
             }
            },
            "type": "scatterpolargl"
           }
          ],
          "scatterternary": [
           {
            "marker": {
             "colorbar": {
              "outlinewidth": 0,
              "ticks": ""
             }
            },
            "type": "scatterternary"
           }
          ],
          "surface": [
           {
            "colorbar": {
             "outlinewidth": 0,
             "ticks": ""
            },
            "colorscale": [
             [
              0,
              "#0d0887"
             ],
             [
              0.1111111111111111,
              "#46039f"
             ],
             [
              0.2222222222222222,
              "#7201a8"
             ],
             [
              0.3333333333333333,
              "#9c179e"
             ],
             [
              0.4444444444444444,
              "#bd3786"
             ],
             [
              0.5555555555555556,
              "#d8576b"
             ],
             [
              0.6666666666666666,
              "#ed7953"
             ],
             [
              0.7777777777777778,
              "#fb9f3a"
             ],
             [
              0.8888888888888888,
              "#fdca26"
             ],
             [
              1,
              "#f0f921"
             ]
            ],
            "type": "surface"
           }
          ],
          "table": [
           {
            "cells": {
             "fill": {
              "color": "#EBF0F8"
             },
             "line": {
              "color": "white"
             }
            },
            "header": {
             "fill": {
              "color": "#C8D4E3"
             },
             "line": {
              "color": "white"
             }
            },
            "type": "table"
           }
          ]
         },
         "layout": {
          "annotationdefaults": {
           "arrowcolor": "#2a3f5f",
           "arrowhead": 0,
           "arrowwidth": 1
          },
          "coloraxis": {
           "colorbar": {
            "outlinewidth": 0,
            "ticks": ""
           }
          },
          "colorscale": {
           "diverging": [
            [
             0,
             "#8e0152"
            ],
            [
             0.1,
             "#c51b7d"
            ],
            [
             0.2,
             "#de77ae"
            ],
            [
             0.3,
             "#f1b6da"
            ],
            [
             0.4,
             "#fde0ef"
            ],
            [
             0.5,
             "#f7f7f7"
            ],
            [
             0.6,
             "#e6f5d0"
            ],
            [
             0.7,
             "#b8e186"
            ],
            [
             0.8,
             "#7fbc41"
            ],
            [
             0.9,
             "#4d9221"
            ],
            [
             1,
             "#276419"
            ]
           ],
           "sequential": [
            [
             0,
             "#0d0887"
            ],
            [
             0.1111111111111111,
             "#46039f"
            ],
            [
             0.2222222222222222,
             "#7201a8"
            ],
            [
             0.3333333333333333,
             "#9c179e"
            ],
            [
             0.4444444444444444,
             "#bd3786"
            ],
            [
             0.5555555555555556,
             "#d8576b"
            ],
            [
             0.6666666666666666,
             "#ed7953"
            ],
            [
             0.7777777777777778,
             "#fb9f3a"
            ],
            [
             0.8888888888888888,
             "#fdca26"
            ],
            [
             1,
             "#f0f921"
            ]
           ],
           "sequentialminus": [
            [
             0,
             "#0d0887"
            ],
            [
             0.1111111111111111,
             "#46039f"
            ],
            [
             0.2222222222222222,
             "#7201a8"
            ],
            [
             0.3333333333333333,
             "#9c179e"
            ],
            [
             0.4444444444444444,
             "#bd3786"
            ],
            [
             0.5555555555555556,
             "#d8576b"
            ],
            [
             0.6666666666666666,
             "#ed7953"
            ],
            [
             0.7777777777777778,
             "#fb9f3a"
            ],
            [
             0.8888888888888888,
             "#fdca26"
            ],
            [
             1,
             "#f0f921"
            ]
           ]
          },
          "colorway": [
           "#636efa",
           "#EF553B",
           "#00cc96",
           "#ab63fa",
           "#FFA15A",
           "#19d3f3",
           "#FF6692",
           "#B6E880",
           "#FF97FF",
           "#FECB52"
          ],
          "font": {
           "color": "#2a3f5f"
          },
          "geo": {
           "bgcolor": "white",
           "lakecolor": "white",
           "landcolor": "#E5ECF6",
           "showlakes": true,
           "showland": true,
           "subunitcolor": "white"
          },
          "hoverlabel": {
           "align": "left"
          },
          "hovermode": "closest",
          "mapbox": {
           "style": "light"
          },
          "paper_bgcolor": "white",
          "plot_bgcolor": "#E5ECF6",
          "polar": {
           "angularaxis": {
            "gridcolor": "white",
            "linecolor": "white",
            "ticks": ""
           },
           "bgcolor": "#E5ECF6",
           "radialaxis": {
            "gridcolor": "white",
            "linecolor": "white",
            "ticks": ""
           }
          },
          "scene": {
           "xaxis": {
            "backgroundcolor": "#E5ECF6",
            "gridcolor": "white",
            "gridwidth": 2,
            "linecolor": "white",
            "showbackground": true,
            "ticks": "",
            "zerolinecolor": "white"
           },
           "yaxis": {
            "backgroundcolor": "#E5ECF6",
            "gridcolor": "white",
            "gridwidth": 2,
            "linecolor": "white",
            "showbackground": true,
            "ticks": "",
            "zerolinecolor": "white"
           },
           "zaxis": {
            "backgroundcolor": "#E5ECF6",
            "gridcolor": "white",
            "gridwidth": 2,
            "linecolor": "white",
            "showbackground": true,
            "ticks": "",
            "zerolinecolor": "white"
           }
          },
          "shapedefaults": {
           "line": {
            "color": "#2a3f5f"
           }
          },
          "ternary": {
           "aaxis": {
            "gridcolor": "white",
            "linecolor": "white",
            "ticks": ""
           },
           "baxis": {
            "gridcolor": "white",
            "linecolor": "white",
            "ticks": ""
           },
           "bgcolor": "#E5ECF6",
           "caxis": {
            "gridcolor": "white",
            "linecolor": "white",
            "ticks": ""
           }
          },
          "title": {
           "x": 0.05
          },
          "xaxis": {
           "automargin": true,
           "gridcolor": "white",
           "linecolor": "white",
           "ticks": "",
           "title": {
            "standoff": 15
           },
           "zerolinecolor": "white",
           "zerolinewidth": 2
          },
          "yaxis": {
           "automargin": true,
           "gridcolor": "white",
           "linecolor": "white",
           "ticks": "",
           "title": {
            "standoff": 15
           },
           "zerolinecolor": "white",
           "zerolinewidth": 2
          }
         }
        }
       }
      },
      "text/html": "<div>\n        \n        \n            <div id=\"11a80996-dd77-40d7-8604-bb0a078670ec\" class=\"plotly-graph-div\" style=\"height:525px; width:100%;\"></div>\n            <script type=\"text/javascript\">\n                require([\"plotly\"], function(Plotly) {\n                    window.PLOTLYENV=window.PLOTLYENV || {};\n                    \n                if (document.getElementById(\"11a80996-dd77-40d7-8604-bb0a078670ec\")) {\n                    Plotly.newPlot(\n                        '11a80996-dd77-40d7-8604-bb0a078670ec',\n                        [{\"direction\": \"clockwise\", \"labels\": [\"TP\", \"TN\", \"FP\", \"FN\"], \"marker\": {\"colors\": [\"#6495ED\", \"#007bff\", \"#b35050\", \"#9c2828\"]}, \"sort\": false, \"textfont\": {\"size\": 18}, \"textinfo\": \"label+percent\", \"type\": \"pie\", \"values\": [2014, 374, 239, 107]}],\n                        {\"margin\": {\"b\": 10, \"l\": 0, \"r\": 0, \"t\": 10}, \"showlegend\": false, \"template\": {\"data\": {\"bar\": [{\"error_x\": {\"color\": \"#2a3f5f\"}, \"error_y\": {\"color\": \"#2a3f5f\"}, \"marker\": {\"line\": {\"color\": \"#E5ECF6\", \"width\": 0.5}}, \"type\": \"bar\"}], \"barpolar\": [{\"marker\": {\"line\": {\"color\": \"#E5ECF6\", \"width\": 0.5}}, \"type\": \"barpolar\"}], \"carpet\": [{\"aaxis\": {\"endlinecolor\": \"#2a3f5f\", \"gridcolor\": \"white\", \"linecolor\": \"white\", \"minorgridcolor\": \"white\", \"startlinecolor\": \"#2a3f5f\"}, \"baxis\": {\"endlinecolor\": \"#2a3f5f\", \"gridcolor\": \"white\", \"linecolor\": \"white\", \"minorgridcolor\": \"white\", \"startlinecolor\": \"#2a3f5f\"}, \"type\": \"carpet\"}], \"choropleth\": [{\"colorbar\": {\"outlinewidth\": 0, \"ticks\": \"\"}, \"type\": \"choropleth\"}], \"contour\": [{\"colorbar\": {\"outlinewidth\": 0, \"ticks\": \"\"}, \"colorscale\": [[0.0, \"#0d0887\"], [0.1111111111111111, \"#46039f\"], [0.2222222222222222, \"#7201a8\"], [0.3333333333333333, \"#9c179e\"], [0.4444444444444444, \"#bd3786\"], [0.5555555555555556, \"#d8576b\"], [0.6666666666666666, \"#ed7953\"], [0.7777777777777778, \"#fb9f3a\"], [0.8888888888888888, \"#fdca26\"], [1.0, \"#f0f921\"]], \"type\": \"contour\"}], \"contourcarpet\": [{\"colorbar\": {\"outlinewidth\": 0, \"ticks\": \"\"}, \"type\": \"contourcarpet\"}], \"heatmap\": [{\"colorbar\": {\"outlinewidth\": 0, \"ticks\": \"\"}, \"colorscale\": [[0.0, \"#0d0887\"], [0.1111111111111111, \"#46039f\"], [0.2222222222222222, \"#7201a8\"], [0.3333333333333333, \"#9c179e\"], [0.4444444444444444, \"#bd3786\"], [0.5555555555555556, \"#d8576b\"], [0.6666666666666666, \"#ed7953\"], [0.7777777777777778, \"#fb9f3a\"], [0.8888888888888888, \"#fdca26\"], [1.0, \"#f0f921\"]], \"type\": \"heatmap\"}], \"heatmapgl\": [{\"colorbar\": {\"outlinewidth\": 0, \"ticks\": \"\"}, \"colorscale\": [[0.0, \"#0d0887\"], [0.1111111111111111, \"#46039f\"], [0.2222222222222222, \"#7201a8\"], [0.3333333333333333, \"#9c179e\"], [0.4444444444444444, \"#bd3786\"], [0.5555555555555556, \"#d8576b\"], [0.6666666666666666, \"#ed7953\"], [0.7777777777777778, \"#fb9f3a\"], [0.8888888888888888, \"#fdca26\"], [1.0, \"#f0f921\"]], \"type\": \"heatmapgl\"}], \"histogram\": [{\"marker\": {\"colorbar\": {\"outlinewidth\": 0, \"ticks\": \"\"}}, \"type\": \"histogram\"}], \"histogram2d\": [{\"colorbar\": {\"outlinewidth\": 0, \"ticks\": \"\"}, \"colorscale\": [[0.0, \"#0d0887\"], [0.1111111111111111, \"#46039f\"], [0.2222222222222222, \"#7201a8\"], [0.3333333333333333, \"#9c179e\"], [0.4444444444444444, \"#bd3786\"], [0.5555555555555556, \"#d8576b\"], [0.6666666666666666, \"#ed7953\"], [0.7777777777777778, \"#fb9f3a\"], [0.8888888888888888, \"#fdca26\"], [1.0, \"#f0f921\"]], \"type\": \"histogram2d\"}], \"histogram2dcontour\": [{\"colorbar\": {\"outlinewidth\": 0, \"ticks\": \"\"}, \"colorscale\": [[0.0, \"#0d0887\"], [0.1111111111111111, \"#46039f\"], [0.2222222222222222, \"#7201a8\"], [0.3333333333333333, \"#9c179e\"], [0.4444444444444444, \"#bd3786\"], [0.5555555555555556, \"#d8576b\"], [0.6666666666666666, \"#ed7953\"], [0.7777777777777778, \"#fb9f3a\"], [0.8888888888888888, \"#fdca26\"], [1.0, \"#f0f921\"]], \"type\": \"histogram2dcontour\"}], \"mesh3d\": [{\"colorbar\": {\"outlinewidth\": 0, \"ticks\": \"\"}, \"type\": \"mesh3d\"}], \"parcoords\": [{\"line\": {\"colorbar\": {\"outlinewidth\": 0, \"ticks\": \"\"}}, \"type\": \"parcoords\"}], \"pie\": [{\"automargin\": true, \"type\": \"pie\"}], \"scatter\": [{\"marker\": {\"colorbar\": {\"outlinewidth\": 0, \"ticks\": \"\"}}, \"type\": \"scatter\"}], \"scatter3d\": [{\"line\": {\"colorbar\": {\"outlinewidth\": 0, \"ticks\": \"\"}}, \"marker\": {\"colorbar\": {\"outlinewidth\": 0, \"ticks\": \"\"}}, \"type\": \"scatter3d\"}], \"scattercarpet\": [{\"marker\": {\"colorbar\": {\"outlinewidth\": 0, \"ticks\": \"\"}}, \"type\": \"scattercarpet\"}], \"scattergeo\": [{\"marker\": {\"colorbar\": {\"outlinewidth\": 0, \"ticks\": \"\"}}, \"type\": \"scattergeo\"}], \"scattergl\": [{\"marker\": {\"colorbar\": {\"outlinewidth\": 0, \"ticks\": \"\"}}, \"type\": \"scattergl\"}], \"scattermapbox\": [{\"marker\": {\"colorbar\": {\"outlinewidth\": 0, \"ticks\": \"\"}}, \"type\": \"scattermapbox\"}], \"scatterpolar\": [{\"marker\": {\"colorbar\": {\"outlinewidth\": 0, \"ticks\": \"\"}}, \"type\": \"scatterpolar\"}], \"scatterpolargl\": [{\"marker\": {\"colorbar\": {\"outlinewidth\": 0, \"ticks\": \"\"}}, \"type\": \"scatterpolargl\"}], \"scatterternary\": [{\"marker\": {\"colorbar\": {\"outlinewidth\": 0, \"ticks\": \"\"}}, \"type\": \"scatterternary\"}], \"surface\": [{\"colorbar\": {\"outlinewidth\": 0, \"ticks\": \"\"}, \"colorscale\": [[0.0, \"#0d0887\"], [0.1111111111111111, \"#46039f\"], [0.2222222222222222, \"#7201a8\"], [0.3333333333333333, \"#9c179e\"], [0.4444444444444444, \"#bd3786\"], [0.5555555555555556, \"#d8576b\"], [0.6666666666666666, \"#ed7953\"], [0.7777777777777778, \"#fb9f3a\"], [0.8888888888888888, \"#fdca26\"], [1.0, \"#f0f921\"]], \"type\": \"surface\"}], \"table\": [{\"cells\": {\"fill\": {\"color\": \"#EBF0F8\"}, \"line\": {\"color\": \"white\"}}, \"header\": {\"fill\": {\"color\": \"#C8D4E3\"}, \"line\": {\"color\": \"white\"}}, \"type\": \"table\"}]}, \"layout\": {\"annotationdefaults\": {\"arrowcolor\": \"#2a3f5f\", \"arrowhead\": 0, \"arrowwidth\": 1}, \"coloraxis\": {\"colorbar\": {\"outlinewidth\": 0, \"ticks\": \"\"}}, \"colorscale\": {\"diverging\": [[0, \"#8e0152\"], [0.1, \"#c51b7d\"], [0.2, \"#de77ae\"], [0.3, \"#f1b6da\"], [0.4, \"#fde0ef\"], [0.5, \"#f7f7f7\"], [0.6, \"#e6f5d0\"], [0.7, \"#b8e186\"], [0.8, \"#7fbc41\"], [0.9, \"#4d9221\"], [1, \"#276419\"]], \"sequential\": [[0.0, \"#0d0887\"], [0.1111111111111111, \"#46039f\"], [0.2222222222222222, \"#7201a8\"], [0.3333333333333333, \"#9c179e\"], [0.4444444444444444, \"#bd3786\"], [0.5555555555555556, \"#d8576b\"], [0.6666666666666666, \"#ed7953\"], [0.7777777777777778, \"#fb9f3a\"], [0.8888888888888888, \"#fdca26\"], [1.0, \"#f0f921\"]], \"sequentialminus\": [[0.0, \"#0d0887\"], [0.1111111111111111, \"#46039f\"], [0.2222222222222222, \"#7201a8\"], [0.3333333333333333, \"#9c179e\"], [0.4444444444444444, \"#bd3786\"], [0.5555555555555556, \"#d8576b\"], [0.6666666666666666, \"#ed7953\"], [0.7777777777777778, \"#fb9f3a\"], [0.8888888888888888, \"#fdca26\"], [1.0, \"#f0f921\"]]}, \"colorway\": [\"#636efa\", \"#EF553B\", \"#00cc96\", \"#ab63fa\", \"#FFA15A\", \"#19d3f3\", \"#FF6692\", \"#B6E880\", \"#FF97FF\", \"#FECB52\"], \"font\": {\"color\": \"#2a3f5f\"}, \"geo\": {\"bgcolor\": \"white\", \"lakecolor\": \"white\", \"landcolor\": \"#E5ECF6\", \"showlakes\": true, \"showland\": true, \"subunitcolor\": \"white\"}, \"hoverlabel\": {\"align\": \"left\"}, \"hovermode\": \"closest\", \"mapbox\": {\"style\": \"light\"}, \"paper_bgcolor\": \"white\", \"plot_bgcolor\": \"#E5ECF6\", \"polar\": {\"angularaxis\": {\"gridcolor\": \"white\", \"linecolor\": \"white\", \"ticks\": \"\"}, \"bgcolor\": \"#E5ECF6\", \"radialaxis\": {\"gridcolor\": \"white\", \"linecolor\": \"white\", \"ticks\": \"\"}}, \"scene\": {\"xaxis\": {\"backgroundcolor\": \"#E5ECF6\", \"gridcolor\": \"white\", \"gridwidth\": 2, \"linecolor\": \"white\", \"showbackground\": true, \"ticks\": \"\", \"zerolinecolor\": \"white\"}, \"yaxis\": {\"backgroundcolor\": \"#E5ECF6\", \"gridcolor\": \"white\", \"gridwidth\": 2, \"linecolor\": \"white\", \"showbackground\": true, \"ticks\": \"\", \"zerolinecolor\": \"white\"}, \"zaxis\": {\"backgroundcolor\": \"#E5ECF6\", \"gridcolor\": \"white\", \"gridwidth\": 2, \"linecolor\": \"white\", \"showbackground\": true, \"ticks\": \"\", \"zerolinecolor\": \"white\"}}, \"shapedefaults\": {\"line\": {\"color\": \"#2a3f5f\"}}, \"ternary\": {\"aaxis\": {\"gridcolor\": \"white\", \"linecolor\": \"white\", \"ticks\": \"\"}, \"baxis\": {\"gridcolor\": \"white\", \"linecolor\": \"white\", \"ticks\": \"\"}, \"bgcolor\": \"#E5ECF6\", \"caxis\": {\"gridcolor\": \"white\", \"linecolor\": \"white\", \"ticks\": \"\"}}, \"title\": {\"x\": 0.05}, \"xaxis\": {\"automargin\": true, \"gridcolor\": \"white\", \"linecolor\": \"white\", \"ticks\": \"\", \"title\": {\"standoff\": 15}, \"zerolinecolor\": \"white\", \"zerolinewidth\": 2}, \"yaxis\": {\"automargin\": true, \"gridcolor\": \"white\", \"linecolor\": \"white\", \"ticks\": \"\", \"title\": {\"standoff\": 15}, \"zerolinecolor\": \"white\", \"zerolinewidth\": 2}}}},\n                        {\"responsive\": true}\n                    ).then(function(){\n                            \nvar gd = document.getElementById('11a80996-dd77-40d7-8604-bb0a078670ec');\nvar x = new MutationObserver(function (mutations, observer) {{\n        var display = window.getComputedStyle(gd).display;\n        if (!display || display === 'none') {{\n            console.log([gd, 'removed!']);\n            Plotly.purge(gd);\n            observer.disconnect();\n        }}\n}});\n\n// Listen for the removal of the full notebook cells\nvar notebookContainer = gd.closest('#notebook-container');\nif (notebookContainer) {{\n    x.observe(notebookContainer, {childList: true});\n}}\n\n// Listen for the clearing of the current output cell\nvar outputEl = gd.closest('.output');\nif (outputEl) {{\n    x.observe(outputEl, {childList: true});\n}}\n\n                        })\n                };\n                });\n            </script>\n        </div>"
     },
     "metadata": {}
    },
    {
     "output_type": "stream",
     "name": "stdout",
     "text": "\nClassification report:\n"
    },
    {
     "output_type": "display_data",
     "data": {
      "application/vnd.plotly.v1+json": {
       "config": {
        "plotlyServerURL": "https://plot.ly"
       },
       "data": [
        {
         "colorscale": [
          [
           0,
           "white"
          ],
          [
           0.01,
           "red"
          ],
          [
           0.3,
           "#f75454"
          ],
          [
           0.5,
           "#eb8d8d"
          ],
          [
           0.7,
           "#a5bdfa"
          ],
          [
           0.8,
           "#779bf7"
          ],
          [
           0.9,
           "#366eff"
          ],
          [
           1,
           "#0048ff"
          ]
         ],
         "reversescale": false,
         "showscale": true,
         "type": "heatmap",
         "x": [
          "precision",
          "recall",
          "f1-score",
          "support"
         ],
         "y": [
          "positive",
          "negative",
          " ",
          "accuracy",
          "macro avg",
          "weighted avg"
         ],
         "z": [
          [
           0.89,
           0.95,
           0.92,
           0
          ],
          [
           0.78,
           0.61,
           0.68,
           0
          ],
          [
           0,
           0,
           0,
           0
          ],
          [
           0,
           0,
           0.87,
           0
          ],
          [
           0.84,
           0.78,
           0.8,
           0
          ],
          [
           0.87,
           0.87,
           0.87,
           0
          ]
         ]
        }
       ],
       "layout": {
        "annotations": [
         {
          "font": {
           "color": "#FFFFFF"
          },
          "showarrow": false,
          "text": "0.89",
          "x": "precision",
          "xref": "x",
          "y": "positive",
          "yref": "y"
         },
         {
          "font": {
           "color": "#FFFFFF"
          },
          "showarrow": false,
          "text": "0.95",
          "x": "recall",
          "xref": "x",
          "y": "positive",
          "yref": "y"
         },
         {
          "font": {
           "color": "#FFFFFF"
          },
          "showarrow": false,
          "text": "0.92",
          "x": "f1-score",
          "xref": "x",
          "y": "positive",
          "yref": "y"
         },
         {
          "font": {
           "color": "#000000"
          },
          "showarrow": false,
          "text": "2121",
          "x": "support",
          "xref": "x",
          "y": "positive",
          "yref": "y"
         },
         {
          "font": {
           "color": "#FFFFFF"
          },
          "showarrow": false,
          "text": "0.78",
          "x": "precision",
          "xref": "x",
          "y": "negative",
          "yref": "y"
         },
         {
          "font": {
           "color": "#FFFFFF"
          },
          "showarrow": false,
          "text": "0.61",
          "x": "recall",
          "xref": "x",
          "y": "negative",
          "yref": "y"
         },
         {
          "font": {
           "color": "#FFFFFF"
          },
          "showarrow": false,
          "text": "0.68",
          "x": "f1-score",
          "xref": "x",
          "y": "negative",
          "yref": "y"
         },
         {
          "font": {
           "color": "#000000"
          },
          "showarrow": false,
          "text": "613",
          "x": "support",
          "xref": "x",
          "y": "negative",
          "yref": "y"
         },
         {
          "font": {
           "color": "#000000"
          },
          "showarrow": false,
          "text": " ",
          "x": "precision",
          "xref": "x",
          "y": " ",
          "yref": "y"
         },
         {
          "font": {
           "color": "#000000"
          },
          "showarrow": false,
          "text": " ",
          "x": "recall",
          "xref": "x",
          "y": " ",
          "yref": "y"
         },
         {
          "font": {
           "color": "#000000"
          },
          "showarrow": false,
          "text": " ",
          "x": "f1-score",
          "xref": "x",
          "y": " ",
          "yref": "y"
         },
         {
          "font": {
           "color": "#000000"
          },
          "showarrow": false,
          "text": " ",
          "x": "support",
          "xref": "x",
          "y": " ",
          "yref": "y"
         },
         {
          "font": {
           "color": "#000000"
          },
          "showarrow": false,
          "text": " ",
          "x": "precision",
          "xref": "x",
          "y": "accuracy",
          "yref": "y"
         },
         {
          "font": {
           "color": "#000000"
          },
          "showarrow": false,
          "text": " ",
          "x": "recall",
          "xref": "x",
          "y": "accuracy",
          "yref": "y"
         },
         {
          "font": {
           "color": "#FFFFFF"
          },
          "showarrow": false,
          "text": "0.87",
          "x": "f1-score",
          "xref": "x",
          "y": "accuracy",
          "yref": "y"
         },
         {
          "font": {
           "color": "#000000"
          },
          "showarrow": false,
          "text": "2734",
          "x": "support",
          "xref": "x",
          "y": "accuracy",
          "yref": "y"
         },
         {
          "font": {
           "color": "#FFFFFF"
          },
          "showarrow": false,
          "text": "0.84",
          "x": "precision",
          "xref": "x",
          "y": "macro avg",
          "yref": "y"
         },
         {
          "font": {
           "color": "#FFFFFF"
          },
          "showarrow": false,
          "text": "0.78",
          "x": "recall",
          "xref": "x",
          "y": "macro avg",
          "yref": "y"
         },
         {
          "font": {
           "color": "#FFFFFF"
          },
          "showarrow": false,
          "text": "0.8",
          "x": "f1-score",
          "xref": "x",
          "y": "macro avg",
          "yref": "y"
         },
         {
          "font": {
           "color": "#000000"
          },
          "showarrow": false,
          "text": "2734",
          "x": "support",
          "xref": "x",
          "y": "macro avg",
          "yref": "y"
         },
         {
          "font": {
           "color": "#FFFFFF"
          },
          "showarrow": false,
          "text": "0.87",
          "x": "precision",
          "xref": "x",
          "y": "weighted avg",
          "yref": "y"
         },
         {
          "font": {
           "color": "#FFFFFF"
          },
          "showarrow": false,
          "text": "0.87",
          "x": "recall",
          "xref": "x",
          "y": "weighted avg",
          "yref": "y"
         },
         {
          "font": {
           "color": "#FFFFFF"
          },
          "showarrow": false,
          "text": "0.87",
          "x": "f1-score",
          "xref": "x",
          "y": "weighted avg",
          "yref": "y"
         },
         {
          "font": {
           "color": "#000000"
          },
          "showarrow": false,
          "text": "2734",
          "x": "support",
          "xref": "x",
          "y": "weighted avg",
          "yref": "y"
         }
        ],
        "font": {
         "size": 20
        },
        "margin": {
         "b": 20,
         "l": 20,
         "r": 20,
         "t": 20
        },
        "template": {
         "data": {
          "bar": [
           {
            "error_x": {
             "color": "#2a3f5f"
            },
            "error_y": {
             "color": "#2a3f5f"
            },
            "marker": {
             "line": {
              "color": "#E5ECF6",
              "width": 0.5
             }
            },
            "type": "bar"
           }
          ],
          "barpolar": [
           {
            "marker": {
             "line": {
              "color": "#E5ECF6",
              "width": 0.5
             }
            },
            "type": "barpolar"
           }
          ],
          "carpet": [
           {
            "aaxis": {
             "endlinecolor": "#2a3f5f",
             "gridcolor": "white",
             "linecolor": "white",
             "minorgridcolor": "white",
             "startlinecolor": "#2a3f5f"
            },
            "baxis": {
             "endlinecolor": "#2a3f5f",
             "gridcolor": "white",
             "linecolor": "white",
             "minorgridcolor": "white",
             "startlinecolor": "#2a3f5f"
            },
            "type": "carpet"
           }
          ],
          "choropleth": [
           {
            "colorbar": {
             "outlinewidth": 0,
             "ticks": ""
            },
            "type": "choropleth"
           }
          ],
          "contour": [
           {
            "colorbar": {
             "outlinewidth": 0,
             "ticks": ""
            },
            "colorscale": [
             [
              0,
              "#0d0887"
             ],
             [
              0.1111111111111111,
              "#46039f"
             ],
             [
              0.2222222222222222,
              "#7201a8"
             ],
             [
              0.3333333333333333,
              "#9c179e"
             ],
             [
              0.4444444444444444,
              "#bd3786"
             ],
             [
              0.5555555555555556,
              "#d8576b"
             ],
             [
              0.6666666666666666,
              "#ed7953"
             ],
             [
              0.7777777777777778,
              "#fb9f3a"
             ],
             [
              0.8888888888888888,
              "#fdca26"
             ],
             [
              1,
              "#f0f921"
             ]
            ],
            "type": "contour"
           }
          ],
          "contourcarpet": [
           {
            "colorbar": {
             "outlinewidth": 0,
             "ticks": ""
            },
            "type": "contourcarpet"
           }
          ],
          "heatmap": [
           {
            "colorbar": {
             "outlinewidth": 0,
             "ticks": ""
            },
            "colorscale": [
             [
              0,
              "#0d0887"
             ],
             [
              0.1111111111111111,
              "#46039f"
             ],
             [
              0.2222222222222222,
              "#7201a8"
             ],
             [
              0.3333333333333333,
              "#9c179e"
             ],
             [
              0.4444444444444444,
              "#bd3786"
             ],
             [
              0.5555555555555556,
              "#d8576b"
             ],
             [
              0.6666666666666666,
              "#ed7953"
             ],
             [
              0.7777777777777778,
              "#fb9f3a"
             ],
             [
              0.8888888888888888,
              "#fdca26"
             ],
             [
              1,
              "#f0f921"
             ]
            ],
            "type": "heatmap"
           }
          ],
          "heatmapgl": [
           {
            "colorbar": {
             "outlinewidth": 0,
             "ticks": ""
            },
            "colorscale": [
             [
              0,
              "#0d0887"
             ],
             [
              0.1111111111111111,
              "#46039f"
             ],
             [
              0.2222222222222222,
              "#7201a8"
             ],
             [
              0.3333333333333333,
              "#9c179e"
             ],
             [
              0.4444444444444444,
              "#bd3786"
             ],
             [
              0.5555555555555556,
              "#d8576b"
             ],
             [
              0.6666666666666666,
              "#ed7953"
             ],
             [
              0.7777777777777778,
              "#fb9f3a"
             ],
             [
              0.8888888888888888,
              "#fdca26"
             ],
             [
              1,
              "#f0f921"
             ]
            ],
            "type": "heatmapgl"
           }
          ],
          "histogram": [
           {
            "marker": {
             "colorbar": {
              "outlinewidth": 0,
              "ticks": ""
             }
            },
            "type": "histogram"
           }
          ],
          "histogram2d": [
           {
            "colorbar": {
             "outlinewidth": 0,
             "ticks": ""
            },
            "colorscale": [
             [
              0,
              "#0d0887"
             ],
             [
              0.1111111111111111,
              "#46039f"
             ],
             [
              0.2222222222222222,
              "#7201a8"
             ],
             [
              0.3333333333333333,
              "#9c179e"
             ],
             [
              0.4444444444444444,
              "#bd3786"
             ],
             [
              0.5555555555555556,
              "#d8576b"
             ],
             [
              0.6666666666666666,
              "#ed7953"
             ],
             [
              0.7777777777777778,
              "#fb9f3a"
             ],
             [
              0.8888888888888888,
              "#fdca26"
             ],
             [
              1,
              "#f0f921"
             ]
            ],
            "type": "histogram2d"
           }
          ],
          "histogram2dcontour": [
           {
            "colorbar": {
             "outlinewidth": 0,
             "ticks": ""
            },
            "colorscale": [
             [
              0,
              "#0d0887"
             ],
             [
              0.1111111111111111,
              "#46039f"
             ],
             [
              0.2222222222222222,
              "#7201a8"
             ],
             [
              0.3333333333333333,
              "#9c179e"
             ],
             [
              0.4444444444444444,
              "#bd3786"
             ],
             [
              0.5555555555555556,
              "#d8576b"
             ],
             [
              0.6666666666666666,
              "#ed7953"
             ],
             [
              0.7777777777777778,
              "#fb9f3a"
             ],
             [
              0.8888888888888888,
              "#fdca26"
             ],
             [
              1,
              "#f0f921"
             ]
            ],
            "type": "histogram2dcontour"
           }
          ],
          "mesh3d": [
           {
            "colorbar": {
             "outlinewidth": 0,
             "ticks": ""
            },
            "type": "mesh3d"
           }
          ],
          "parcoords": [
           {
            "line": {
             "colorbar": {
              "outlinewidth": 0,
              "ticks": ""
             }
            },
            "type": "parcoords"
           }
          ],
          "pie": [
           {
            "automargin": true,
            "type": "pie"
           }
          ],
          "scatter": [
           {
            "marker": {
             "colorbar": {
              "outlinewidth": 0,
              "ticks": ""
             }
            },
            "type": "scatter"
           }
          ],
          "scatter3d": [
           {
            "line": {
             "colorbar": {
              "outlinewidth": 0,
              "ticks": ""
             }
            },
            "marker": {
             "colorbar": {
              "outlinewidth": 0,
              "ticks": ""
             }
            },
            "type": "scatter3d"
           }
          ],
          "scattercarpet": [
           {
            "marker": {
             "colorbar": {
              "outlinewidth": 0,
              "ticks": ""
             }
            },
            "type": "scattercarpet"
           }
          ],
          "scattergeo": [
           {
            "marker": {
             "colorbar": {
              "outlinewidth": 0,
              "ticks": ""
             }
            },
            "type": "scattergeo"
           }
          ],
          "scattergl": [
           {
            "marker": {
             "colorbar": {
              "outlinewidth": 0,
              "ticks": ""
             }
            },
            "type": "scattergl"
           }
          ],
          "scattermapbox": [
           {
            "marker": {
             "colorbar": {
              "outlinewidth": 0,
              "ticks": ""
             }
            },
            "type": "scattermapbox"
           }
          ],
          "scatterpolar": [
           {
            "marker": {
             "colorbar": {
              "outlinewidth": 0,
              "ticks": ""
             }
            },
            "type": "scatterpolar"
           }
          ],
          "scatterpolargl": [
           {
            "marker": {
             "colorbar": {
              "outlinewidth": 0,
              "ticks": ""
             }
            },
            "type": "scatterpolargl"
           }
          ],
          "scatterternary": [
           {
            "marker": {
             "colorbar": {
              "outlinewidth": 0,
              "ticks": ""
             }
            },
            "type": "scatterternary"
           }
          ],
          "surface": [
           {
            "colorbar": {
             "outlinewidth": 0,
             "ticks": ""
            },
            "colorscale": [
             [
              0,
              "#0d0887"
             ],
             [
              0.1111111111111111,
              "#46039f"
             ],
             [
              0.2222222222222222,
              "#7201a8"
             ],
             [
              0.3333333333333333,
              "#9c179e"
             ],
             [
              0.4444444444444444,
              "#bd3786"
             ],
             [
              0.5555555555555556,
              "#d8576b"
             ],
             [
              0.6666666666666666,
              "#ed7953"
             ],
             [
              0.7777777777777778,
              "#fb9f3a"
             ],
             [
              0.8888888888888888,
              "#fdca26"
             ],
             [
              1,
              "#f0f921"
             ]
            ],
            "type": "surface"
           }
          ],
          "table": [
           {
            "cells": {
             "fill": {
              "color": "#EBF0F8"
             },
             "line": {
              "color": "white"
             }
            },
            "header": {
             "fill": {
              "color": "#C8D4E3"
             },
             "line": {
              "color": "white"
             }
            },
            "type": "table"
           }
          ]
         },
         "layout": {
          "annotationdefaults": {
           "arrowcolor": "#2a3f5f",
           "arrowhead": 0,
           "arrowwidth": 1
          },
          "coloraxis": {
           "colorbar": {
            "outlinewidth": 0,
            "ticks": ""
           }
          },
          "colorscale": {
           "diverging": [
            [
             0,
             "#8e0152"
            ],
            [
             0.1,
             "#c51b7d"
            ],
            [
             0.2,
             "#de77ae"
            ],
            [
             0.3,
             "#f1b6da"
            ],
            [
             0.4,
             "#fde0ef"
            ],
            [
             0.5,
             "#f7f7f7"
            ],
            [
             0.6,
             "#e6f5d0"
            ],
            [
             0.7,
             "#b8e186"
            ],
            [
             0.8,
             "#7fbc41"
            ],
            [
             0.9,
             "#4d9221"
            ],
            [
             1,
             "#276419"
            ]
           ],
           "sequential": [
            [
             0,
             "#0d0887"
            ],
            [
             0.1111111111111111,
             "#46039f"
            ],
            [
             0.2222222222222222,
             "#7201a8"
            ],
            [
             0.3333333333333333,
             "#9c179e"
            ],
            [
             0.4444444444444444,
             "#bd3786"
            ],
            [
             0.5555555555555556,
             "#d8576b"
            ],
            [
             0.6666666666666666,
             "#ed7953"
            ],
            [
             0.7777777777777778,
             "#fb9f3a"
            ],
            [
             0.8888888888888888,
             "#fdca26"
            ],
            [
             1,
             "#f0f921"
            ]
           ],
           "sequentialminus": [
            [
             0,
             "#0d0887"
            ],
            [
             0.1111111111111111,
             "#46039f"
            ],
            [
             0.2222222222222222,
             "#7201a8"
            ],
            [
             0.3333333333333333,
             "#9c179e"
            ],
            [
             0.4444444444444444,
             "#bd3786"
            ],
            [
             0.5555555555555556,
             "#d8576b"
            ],
            [
             0.6666666666666666,
             "#ed7953"
            ],
            [
             0.7777777777777778,
             "#fb9f3a"
            ],
            [
             0.8888888888888888,
             "#fdca26"
            ],
            [
             1,
             "#f0f921"
            ]
           ]
          },
          "colorway": [
           "#636efa",
           "#EF553B",
           "#00cc96",
           "#ab63fa",
           "#FFA15A",
           "#19d3f3",
           "#FF6692",
           "#B6E880",
           "#FF97FF",
           "#FECB52"
          ],
          "font": {
           "color": "#2a3f5f"
          },
          "geo": {
           "bgcolor": "white",
           "lakecolor": "white",
           "landcolor": "#E5ECF6",
           "showlakes": true,
           "showland": true,
           "subunitcolor": "white"
          },
          "hoverlabel": {
           "align": "left"
          },
          "hovermode": "closest",
          "mapbox": {
           "style": "light"
          },
          "paper_bgcolor": "white",
          "plot_bgcolor": "#E5ECF6",
          "polar": {
           "angularaxis": {
            "gridcolor": "white",
            "linecolor": "white",
            "ticks": ""
           },
           "bgcolor": "#E5ECF6",
           "radialaxis": {
            "gridcolor": "white",
            "linecolor": "white",
            "ticks": ""
           }
          },
          "scene": {
           "xaxis": {
            "backgroundcolor": "#E5ECF6",
            "gridcolor": "white",
            "gridwidth": 2,
            "linecolor": "white",
            "showbackground": true,
            "ticks": "",
            "zerolinecolor": "white"
           },
           "yaxis": {
            "backgroundcolor": "#E5ECF6",
            "gridcolor": "white",
            "gridwidth": 2,
            "linecolor": "white",
            "showbackground": true,
            "ticks": "",
            "zerolinecolor": "white"
           },
           "zaxis": {
            "backgroundcolor": "#E5ECF6",
            "gridcolor": "white",
            "gridwidth": 2,
            "linecolor": "white",
            "showbackground": true,
            "ticks": "",
            "zerolinecolor": "white"
           }
          },
          "shapedefaults": {
           "line": {
            "color": "#2a3f5f"
           }
          },
          "ternary": {
           "aaxis": {
            "gridcolor": "white",
            "linecolor": "white",
            "ticks": ""
           },
           "baxis": {
            "gridcolor": "white",
            "linecolor": "white",
            "ticks": ""
           },
           "bgcolor": "#E5ECF6",
           "caxis": {
            "gridcolor": "white",
            "linecolor": "white",
            "ticks": ""
           }
          },
          "title": {
           "x": 0.05
          },
          "xaxis": {
           "automargin": true,
           "gridcolor": "white",
           "linecolor": "white",
           "ticks": "",
           "title": {
            "standoff": 15
           },
           "zerolinecolor": "white",
           "zerolinewidth": 2
          },
          "yaxis": {
           "automargin": true,
           "gridcolor": "white",
           "linecolor": "white",
           "ticks": "",
           "title": {
            "standoff": 15
           },
           "zerolinecolor": "white",
           "zerolinewidth": 2
          }
         }
        },
        "xaxis": {
         "color": "black",
         "dtick": 1,
         "gridcolor": "rgb(0, 0, 0)",
         "side": "top",
         "tickfont": {
          "size": 18
         },
         "ticks": "",
         "title": {
          "font": {
           "size": 25
          }
         }
        },
        "yaxis": {
         "autorange": "reversed",
         "color": "black",
         "dtick": 1,
         "tickfont": {
          "size": 18
         },
         "ticks": "",
         "ticksuffix": "  ",
         "title": {
          "font": {
           "size": 25
          }
         }
        }
       }
      },
      "text/html": "<div>\n        \n        \n            <div id=\"e839d55e-00da-4cac-b261-1d92d6f9d5d4\" class=\"plotly-graph-div\" style=\"height:525px; width:100%;\"></div>\n            <script type=\"text/javascript\">\n                require([\"plotly\"], function(Plotly) {\n                    window.PLOTLYENV=window.PLOTLYENV || {};\n                    \n                if (document.getElementById(\"e839d55e-00da-4cac-b261-1d92d6f9d5d4\")) {\n                    Plotly.newPlot(\n                        'e839d55e-00da-4cac-b261-1d92d6f9d5d4',\n                        [{\"colorscale\": [[0, \"white\"], [0.01, \"red\"], [0.3, \"#f75454\"], [0.5, \"#eb8d8d\"], [0.7, \"#a5bdfa\"], [0.8, \"#779bf7\"], [0.9, \"#366eff\"], [1, \"#0048ff\"]], \"reversescale\": false, \"showscale\": true, \"type\": \"heatmap\", \"x\": [\"precision\", \"recall\", \"f1-score\", \"support\"], \"y\": [\"positive\", \"negative\", \" \", \"accuracy\", \"macro avg\", \"weighted avg\"], \"z\": [[0.89, 0.95, 0.92, 0.0], [0.78, 0.61, 0.68, 0.0], [0.0, 0.0, 0.0, 0.0], [0.0, 0.0, 0.87, 0.0], [0.84, 0.78, 0.8, 0.0], [0.87, 0.87, 0.87, 0.0]]}],\n                        {\"annotations\": [{\"font\": {\"color\": \"#FFFFFF\"}, \"showarrow\": false, \"text\": \"0.89\", \"x\": \"precision\", \"xref\": \"x\", \"y\": \"positive\", \"yref\": \"y\"}, {\"font\": {\"color\": \"#FFFFFF\"}, \"showarrow\": false, \"text\": \"0.95\", \"x\": \"recall\", \"xref\": \"x\", \"y\": \"positive\", \"yref\": \"y\"}, {\"font\": {\"color\": \"#FFFFFF\"}, \"showarrow\": false, \"text\": \"0.92\", \"x\": \"f1-score\", \"xref\": \"x\", \"y\": \"positive\", \"yref\": \"y\"}, {\"font\": {\"color\": \"#000000\"}, \"showarrow\": false, \"text\": \"2121\", \"x\": \"support\", \"xref\": \"x\", \"y\": \"positive\", \"yref\": \"y\"}, {\"font\": {\"color\": \"#FFFFFF\"}, \"showarrow\": false, \"text\": \"0.78\", \"x\": \"precision\", \"xref\": \"x\", \"y\": \"negative\", \"yref\": \"y\"}, {\"font\": {\"color\": \"#FFFFFF\"}, \"showarrow\": false, \"text\": \"0.61\", \"x\": \"recall\", \"xref\": \"x\", \"y\": \"negative\", \"yref\": \"y\"}, {\"font\": {\"color\": \"#FFFFFF\"}, \"showarrow\": false, \"text\": \"0.68\", \"x\": \"f1-score\", \"xref\": \"x\", \"y\": \"negative\", \"yref\": \"y\"}, {\"font\": {\"color\": \"#000000\"}, \"showarrow\": false, \"text\": \"613\", \"x\": \"support\", \"xref\": \"x\", \"y\": \"negative\", \"yref\": \"y\"}, {\"font\": {\"color\": \"#000000\"}, \"showarrow\": false, \"text\": \" \", \"x\": \"precision\", \"xref\": \"x\", \"y\": \" \", \"yref\": \"y\"}, {\"font\": {\"color\": \"#000000\"}, \"showarrow\": false, \"text\": \" \", \"x\": \"recall\", \"xref\": \"x\", \"y\": \" \", \"yref\": \"y\"}, {\"font\": {\"color\": \"#000000\"}, \"showarrow\": false, \"text\": \" \", \"x\": \"f1-score\", \"xref\": \"x\", \"y\": \" \", \"yref\": \"y\"}, {\"font\": {\"color\": \"#000000\"}, \"showarrow\": false, \"text\": \" \", \"x\": \"support\", \"xref\": \"x\", \"y\": \" \", \"yref\": \"y\"}, {\"font\": {\"color\": \"#000000\"}, \"showarrow\": false, \"text\": \" \", \"x\": \"precision\", \"xref\": \"x\", \"y\": \"accuracy\", \"yref\": \"y\"}, {\"font\": {\"color\": \"#000000\"}, \"showarrow\": false, \"text\": \" \", \"x\": \"recall\", \"xref\": \"x\", \"y\": \"accuracy\", \"yref\": \"y\"}, {\"font\": {\"color\": \"#FFFFFF\"}, \"showarrow\": false, \"text\": \"0.87\", \"x\": \"f1-score\", \"xref\": \"x\", \"y\": \"accuracy\", \"yref\": \"y\"}, {\"font\": {\"color\": \"#000000\"}, \"showarrow\": false, \"text\": \"2734\", \"x\": \"support\", \"xref\": \"x\", \"y\": \"accuracy\", \"yref\": \"y\"}, {\"font\": {\"color\": \"#FFFFFF\"}, \"showarrow\": false, \"text\": \"0.84\", \"x\": \"precision\", \"xref\": \"x\", \"y\": \"macro avg\", \"yref\": \"y\"}, {\"font\": {\"color\": \"#FFFFFF\"}, \"showarrow\": false, \"text\": \"0.78\", \"x\": \"recall\", \"xref\": \"x\", \"y\": \"macro avg\", \"yref\": \"y\"}, {\"font\": {\"color\": \"#FFFFFF\"}, \"showarrow\": false, \"text\": \"0.8\", \"x\": \"f1-score\", \"xref\": \"x\", \"y\": \"macro avg\", \"yref\": \"y\"}, {\"font\": {\"color\": \"#000000\"}, \"showarrow\": false, \"text\": \"2734\", \"x\": \"support\", \"xref\": \"x\", \"y\": \"macro avg\", \"yref\": \"y\"}, {\"font\": {\"color\": \"#FFFFFF\"}, \"showarrow\": false, \"text\": \"0.87\", \"x\": \"precision\", \"xref\": \"x\", \"y\": \"weighted avg\", \"yref\": \"y\"}, {\"font\": {\"color\": \"#FFFFFF\"}, \"showarrow\": false, \"text\": \"0.87\", \"x\": \"recall\", \"xref\": \"x\", \"y\": \"weighted avg\", \"yref\": \"y\"}, {\"font\": {\"color\": \"#FFFFFF\"}, \"showarrow\": false, \"text\": \"0.87\", \"x\": \"f1-score\", \"xref\": \"x\", \"y\": \"weighted avg\", \"yref\": \"y\"}, {\"font\": {\"color\": \"#000000\"}, \"showarrow\": false, \"text\": \"2734\", \"x\": \"support\", \"xref\": \"x\", \"y\": \"weighted avg\", \"yref\": \"y\"}], \"font\": {\"size\": 20}, \"margin\": {\"b\": 20, \"l\": 20, \"r\": 20, \"t\": 20}, \"template\": {\"data\": {\"bar\": [{\"error_x\": {\"color\": \"#2a3f5f\"}, \"error_y\": {\"color\": \"#2a3f5f\"}, \"marker\": {\"line\": {\"color\": \"#E5ECF6\", \"width\": 0.5}}, \"type\": \"bar\"}], \"barpolar\": [{\"marker\": {\"line\": {\"color\": \"#E5ECF6\", \"width\": 0.5}}, \"type\": \"barpolar\"}], \"carpet\": [{\"aaxis\": {\"endlinecolor\": \"#2a3f5f\", \"gridcolor\": \"white\", \"linecolor\": \"white\", \"minorgridcolor\": \"white\", \"startlinecolor\": \"#2a3f5f\"}, \"baxis\": {\"endlinecolor\": \"#2a3f5f\", \"gridcolor\": \"white\", \"linecolor\": \"white\", \"minorgridcolor\": \"white\", \"startlinecolor\": \"#2a3f5f\"}, \"type\": \"carpet\"}], \"choropleth\": [{\"colorbar\": {\"outlinewidth\": 0, \"ticks\": \"\"}, \"type\": \"choropleth\"}], \"contour\": [{\"colorbar\": {\"outlinewidth\": 0, \"ticks\": \"\"}, \"colorscale\": [[0.0, \"#0d0887\"], [0.1111111111111111, \"#46039f\"], [0.2222222222222222, \"#7201a8\"], [0.3333333333333333, \"#9c179e\"], [0.4444444444444444, \"#bd3786\"], [0.5555555555555556, \"#d8576b\"], [0.6666666666666666, \"#ed7953\"], [0.7777777777777778, \"#fb9f3a\"], [0.8888888888888888, \"#fdca26\"], [1.0, \"#f0f921\"]], \"type\": \"contour\"}], \"contourcarpet\": [{\"colorbar\": {\"outlinewidth\": 0, \"ticks\": \"\"}, \"type\": \"contourcarpet\"}], \"heatmap\": [{\"colorbar\": {\"outlinewidth\": 0, \"ticks\": \"\"}, \"colorscale\": [[0.0, \"#0d0887\"], [0.1111111111111111, \"#46039f\"], [0.2222222222222222, \"#7201a8\"], [0.3333333333333333, \"#9c179e\"], [0.4444444444444444, \"#bd3786\"], [0.5555555555555556, \"#d8576b\"], [0.6666666666666666, \"#ed7953\"], [0.7777777777777778, \"#fb9f3a\"], [0.8888888888888888, \"#fdca26\"], [1.0, \"#f0f921\"]], \"type\": \"heatmap\"}], \"heatmapgl\": [{\"colorbar\": {\"outlinewidth\": 0, \"ticks\": \"\"}, \"colorscale\": [[0.0, \"#0d0887\"], [0.1111111111111111, \"#46039f\"], [0.2222222222222222, \"#7201a8\"], [0.3333333333333333, \"#9c179e\"], [0.4444444444444444, \"#bd3786\"], [0.5555555555555556, \"#d8576b\"], [0.6666666666666666, \"#ed7953\"], [0.7777777777777778, \"#fb9f3a\"], [0.8888888888888888, \"#fdca26\"], [1.0, \"#f0f921\"]], \"type\": \"heatmapgl\"}], \"histogram\": [{\"marker\": {\"colorbar\": {\"outlinewidth\": 0, \"ticks\": \"\"}}, \"type\": \"histogram\"}], \"histogram2d\": [{\"colorbar\": {\"outlinewidth\": 0, \"ticks\": \"\"}, \"colorscale\": [[0.0, \"#0d0887\"], [0.1111111111111111, \"#46039f\"], [0.2222222222222222, \"#7201a8\"], [0.3333333333333333, \"#9c179e\"], [0.4444444444444444, \"#bd3786\"], [0.5555555555555556, \"#d8576b\"], [0.6666666666666666, \"#ed7953\"], [0.7777777777777778, \"#fb9f3a\"], [0.8888888888888888, \"#fdca26\"], [1.0, \"#f0f921\"]], \"type\": \"histogram2d\"}], \"histogram2dcontour\": [{\"colorbar\": {\"outlinewidth\": 0, \"ticks\": \"\"}, \"colorscale\": [[0.0, \"#0d0887\"], [0.1111111111111111, \"#46039f\"], [0.2222222222222222, \"#7201a8\"], [0.3333333333333333, \"#9c179e\"], [0.4444444444444444, \"#bd3786\"], [0.5555555555555556, \"#d8576b\"], [0.6666666666666666, \"#ed7953\"], [0.7777777777777778, \"#fb9f3a\"], [0.8888888888888888, \"#fdca26\"], [1.0, \"#f0f921\"]], \"type\": \"histogram2dcontour\"}], \"mesh3d\": [{\"colorbar\": {\"outlinewidth\": 0, \"ticks\": \"\"}, \"type\": \"mesh3d\"}], \"parcoords\": [{\"line\": {\"colorbar\": {\"outlinewidth\": 0, \"ticks\": \"\"}}, \"type\": \"parcoords\"}], \"pie\": [{\"automargin\": true, \"type\": \"pie\"}], \"scatter\": [{\"marker\": {\"colorbar\": {\"outlinewidth\": 0, \"ticks\": \"\"}}, \"type\": \"scatter\"}], \"scatter3d\": [{\"line\": {\"colorbar\": {\"outlinewidth\": 0, \"ticks\": \"\"}}, \"marker\": {\"colorbar\": {\"outlinewidth\": 0, \"ticks\": \"\"}}, \"type\": \"scatter3d\"}], \"scattercarpet\": [{\"marker\": {\"colorbar\": {\"outlinewidth\": 0, \"ticks\": \"\"}}, \"type\": \"scattercarpet\"}], \"scattergeo\": [{\"marker\": {\"colorbar\": {\"outlinewidth\": 0, \"ticks\": \"\"}}, \"type\": \"scattergeo\"}], \"scattergl\": [{\"marker\": {\"colorbar\": {\"outlinewidth\": 0, \"ticks\": \"\"}}, \"type\": \"scattergl\"}], \"scattermapbox\": [{\"marker\": {\"colorbar\": {\"outlinewidth\": 0, \"ticks\": \"\"}}, \"type\": \"scattermapbox\"}], \"scatterpolar\": [{\"marker\": {\"colorbar\": {\"outlinewidth\": 0, \"ticks\": \"\"}}, \"type\": \"scatterpolar\"}], \"scatterpolargl\": [{\"marker\": {\"colorbar\": {\"outlinewidth\": 0, \"ticks\": \"\"}}, \"type\": \"scatterpolargl\"}], \"scatterternary\": [{\"marker\": {\"colorbar\": {\"outlinewidth\": 0, \"ticks\": \"\"}}, \"type\": \"scatterternary\"}], \"surface\": [{\"colorbar\": {\"outlinewidth\": 0, \"ticks\": \"\"}, \"colorscale\": [[0.0, \"#0d0887\"], [0.1111111111111111, \"#46039f\"], [0.2222222222222222, \"#7201a8\"], [0.3333333333333333, \"#9c179e\"], [0.4444444444444444, \"#bd3786\"], [0.5555555555555556, \"#d8576b\"], [0.6666666666666666, \"#ed7953\"], [0.7777777777777778, \"#fb9f3a\"], [0.8888888888888888, \"#fdca26\"], [1.0, \"#f0f921\"]], \"type\": \"surface\"}], \"table\": [{\"cells\": {\"fill\": {\"color\": \"#EBF0F8\"}, \"line\": {\"color\": \"white\"}}, \"header\": {\"fill\": {\"color\": \"#C8D4E3\"}, \"line\": {\"color\": \"white\"}}, \"type\": \"table\"}]}, \"layout\": {\"annotationdefaults\": {\"arrowcolor\": \"#2a3f5f\", \"arrowhead\": 0, \"arrowwidth\": 1}, \"coloraxis\": {\"colorbar\": {\"outlinewidth\": 0, \"ticks\": \"\"}}, \"colorscale\": {\"diverging\": [[0, \"#8e0152\"], [0.1, \"#c51b7d\"], [0.2, \"#de77ae\"], [0.3, \"#f1b6da\"], [0.4, \"#fde0ef\"], [0.5, \"#f7f7f7\"], [0.6, \"#e6f5d0\"], [0.7, \"#b8e186\"], [0.8, \"#7fbc41\"], [0.9, \"#4d9221\"], [1, \"#276419\"]], \"sequential\": [[0.0, \"#0d0887\"], [0.1111111111111111, \"#46039f\"], [0.2222222222222222, \"#7201a8\"], [0.3333333333333333, \"#9c179e\"], [0.4444444444444444, \"#bd3786\"], [0.5555555555555556, \"#d8576b\"], [0.6666666666666666, \"#ed7953\"], [0.7777777777777778, \"#fb9f3a\"], [0.8888888888888888, \"#fdca26\"], [1.0, \"#f0f921\"]], \"sequentialminus\": [[0.0, \"#0d0887\"], [0.1111111111111111, \"#46039f\"], [0.2222222222222222, \"#7201a8\"], [0.3333333333333333, \"#9c179e\"], [0.4444444444444444, \"#bd3786\"], [0.5555555555555556, \"#d8576b\"], [0.6666666666666666, \"#ed7953\"], [0.7777777777777778, \"#fb9f3a\"], [0.8888888888888888, \"#fdca26\"], [1.0, \"#f0f921\"]]}, \"colorway\": [\"#636efa\", \"#EF553B\", \"#00cc96\", \"#ab63fa\", \"#FFA15A\", \"#19d3f3\", \"#FF6692\", \"#B6E880\", \"#FF97FF\", \"#FECB52\"], \"font\": {\"color\": \"#2a3f5f\"}, \"geo\": {\"bgcolor\": \"white\", \"lakecolor\": \"white\", \"landcolor\": \"#E5ECF6\", \"showlakes\": true, \"showland\": true, \"subunitcolor\": \"white\"}, \"hoverlabel\": {\"align\": \"left\"}, \"hovermode\": \"closest\", \"mapbox\": {\"style\": \"light\"}, \"paper_bgcolor\": \"white\", \"plot_bgcolor\": \"#E5ECF6\", \"polar\": {\"angularaxis\": {\"gridcolor\": \"white\", \"linecolor\": \"white\", \"ticks\": \"\"}, \"bgcolor\": \"#E5ECF6\", \"radialaxis\": {\"gridcolor\": \"white\", \"linecolor\": \"white\", \"ticks\": \"\"}}, \"scene\": {\"xaxis\": {\"backgroundcolor\": \"#E5ECF6\", \"gridcolor\": \"white\", \"gridwidth\": 2, \"linecolor\": \"white\", \"showbackground\": true, \"ticks\": \"\", \"zerolinecolor\": \"white\"}, \"yaxis\": {\"backgroundcolor\": \"#E5ECF6\", \"gridcolor\": \"white\", \"gridwidth\": 2, \"linecolor\": \"white\", \"showbackground\": true, \"ticks\": \"\", \"zerolinecolor\": \"white\"}, \"zaxis\": {\"backgroundcolor\": \"#E5ECF6\", \"gridcolor\": \"white\", \"gridwidth\": 2, \"linecolor\": \"white\", \"showbackground\": true, \"ticks\": \"\", \"zerolinecolor\": \"white\"}}, \"shapedefaults\": {\"line\": {\"color\": \"#2a3f5f\"}}, \"ternary\": {\"aaxis\": {\"gridcolor\": \"white\", \"linecolor\": \"white\", \"ticks\": \"\"}, \"baxis\": {\"gridcolor\": \"white\", \"linecolor\": \"white\", \"ticks\": \"\"}, \"bgcolor\": \"#E5ECF6\", \"caxis\": {\"gridcolor\": \"white\", \"linecolor\": \"white\", \"ticks\": \"\"}}, \"title\": {\"x\": 0.05}, \"xaxis\": {\"automargin\": true, \"gridcolor\": \"white\", \"linecolor\": \"white\", \"ticks\": \"\", \"title\": {\"standoff\": 15}, \"zerolinecolor\": \"white\", \"zerolinewidth\": 2}, \"yaxis\": {\"automargin\": true, \"gridcolor\": \"white\", \"linecolor\": \"white\", \"ticks\": \"\", \"title\": {\"standoff\": 15}, \"zerolinecolor\": \"white\", \"zerolinewidth\": 2}}}, \"xaxis\": {\"color\": \"black\", \"dtick\": 1, \"gridcolor\": \"rgb(0, 0, 0)\", \"side\": \"top\", \"tickfont\": {\"size\": 18}, \"ticks\": \"\", \"title\": {\"font\": {\"size\": 25}}}, \"yaxis\": {\"autorange\": \"reversed\", \"color\": \"black\", \"dtick\": 1, \"tickfont\": {\"size\": 18}, \"ticks\": \"\", \"ticksuffix\": \"  \", \"title\": {\"font\": {\"size\": 25}}}},\n                        {\"responsive\": true}\n                    ).then(function(){\n                            \nvar gd = document.getElementById('e839d55e-00da-4cac-b261-1d92d6f9d5d4');\nvar x = new MutationObserver(function (mutations, observer) {{\n        var display = window.getComputedStyle(gd).display;\n        if (!display || display === 'none') {{\n            console.log([gd, 'removed!']);\n            Plotly.purge(gd);\n            observer.disconnect();\n        }}\n}});\n\n// Listen for the removal of the full notebook cells\nvar notebookContainer = gd.closest('#notebook-container');\nif (notebookContainer) {{\n    x.observe(notebookContainer, {childList: true});\n}}\n\n// Listen for the clearing of the current output cell\nvar outputEl = gd.closest('.output');\nif (outputEl) {{\n    x.observe(outputEl, {childList: true});\n}}\n\n                        })\n                };\n                });\n            </script>\n        </div>"
     },
     "metadata": {}
    }
   ],
   "source": [
    "# Testing the model loaded from from disc\n",
    "my_reviews_ml = labeling_data(my_reviews,'title_text', 'rating')\n",
    "\n",
    "x_test = my_reviews_ml['review']\n",
    "y_test = my_reviews_ml['label']\n",
    "\n",
    "y_test_pred = nbayes_model_wang_pickle.predict(x_test)\n",
    "\n",
    "display(ConfusionMatrixHeatmap(y_test, y_test_pred))\n",
    "display(confusion_matrix_pie_chart(y_test, y_test_pred))\n",
    "display(classif_report_heatmap(y_test, y_test_pred))"
   ]
  },
  {
   "cell_type": "code",
   "execution_count": null,
   "metadata": {
    "tags": []
   },
   "outputs": [],
   "source": []
  },
  {
   "cell_type": "code",
   "execution_count": null,
   "metadata": {},
   "outputs": [],
   "source": []
  },
  {
   "cell_type": "markdown",
   "metadata": {},
   "source": [
    "# ROC Curve"
   ]
  },
  {
   "cell_type": "code",
   "execution_count": null,
   "metadata": {},
   "outputs": [],
   "source": [
    "# https://chart-studio.plotly.com/~Diksha_Gabha/3442/example-of-receiver-operating-characteri/#/\n",
    "# Take a look at this videl. It also shows hot to split the data. It seams to be a good tutoria: https://www.youtube.com/watch?v=uVJXPPrWRJ0\n",
    "\n",
    "import sklearn\n",
    "import plotly.graph_objs as go\n",
    "\n",
    "import numpy as np\n",
    "from itertools import cycle\n",
    "\n",
    "from sklearn import svm, datasets\n",
    "from sklearn.metrics import roc_curve, auc\n",
    "from sklearn.model_selection import train_test_split\n",
    "from sklearn.preprocessing import label_binarize\n",
    "from sklearn.multiclass import OneVsRestClassifier\n",
    "from scipy import interp\n",
    "\n",
    "\n",
    "# Import some data to play with\n",
    "iris = datasets.load_iris()\n",
    "X = iris.data\n",
    "y = iris.target\n",
    "\n",
    "# Binarize the output\n",
    "y = label_binarize(y, classes=[0, 1, 2])\n",
    "n_classes = y.shape[1]\n",
    "\n",
    "# Add noisy features to make the problem harder\n",
    "random_state = np.random.RandomState(0)\n",
    "n_samples, n_features = X.shape\n",
    "X = np.c_[X, random_state.randn(n_samples, 200 * n_features)]\n",
    "\n",
    "# shuffle and split training and test sets\n",
    "X_train, X_test, y_train, y_test = train_test_split(X, y, test_size=.5,\n",
    "                                                    random_state=0)\n",
    "\n",
    "# Learn to predict each class against the other\n",
    "classifier = OneVsRestClassifier(svm.SVC(kernel='linear', probability=True,\n",
    "                                 random_state=random_state))\n",
    "y_score = classifier.fit(X_train, y_train).decision_function(X_test)\n",
    "\n",
    "# Compute ROC curve and ROC area for each class\n",
    "fpr = dict()\n",
    "tpr = dict()\n",
    "roc_auc = dict()\n",
    "for i in range(n_classes):\n",
    "    fpr[i], tpr[i], _ = roc_curve(y_test[:, i], y_score[:, i])\n",
    "    roc_auc[i] = auc(fpr[i], tpr[i])\n",
    "\n",
    "# Compute micro-average ROC curve and ROC area\n",
    "fpr[\"micro\"], tpr[\"micro\"], _ = roc_curve(y_test.ravel(), y_score.ravel())\n",
    "roc_auc[\"micro\"] = auc(fpr[\"micro\"], tpr[\"micro\"])\n",
    "\n",
    "\n",
    "# Plot of a ROC Curve for a Specific Clas\n",
    "lw = 2\n",
    "\n",
    "trace1 = go.Scatter(x=fpr[2], y=tpr[2], \n",
    "                    mode='lines', \n",
    "                    line=dict(color='darkorange', width=lw),\n",
    "                    name='ROC curve (area = %0.2f)' % roc_auc[2]\n",
    "                   )\n",
    "\n",
    "trace2 = go.Scatter(x=[0, 1], y=[0, 1], \n",
    "                    mode='lines', \n",
    "                    line=dict(color='navy', width=lw, dash='dash'),\n",
    "                    showlegend=False)\n",
    "\n",
    "layout = go.Layout(title='Receiver operating characteristic example',\n",
    "                   xaxis=dict(title='False Positive Rate'),\n",
    "                   yaxis=dict(title='True Positive Rate'))\n",
    "\n",
    "fig = go.Figure(data=[trace1, trace2], layout=layout)\n",
    "fig"
   ]
  },
  {
   "cell_type": "code",
   "execution_count": null,
   "metadata": {},
   "outputs": [],
   "source": [
    "# https://stackabuse.com/understanding-roc-curves-with-python/\n",
    "\n",
    "import numpy as np\n",
    "import pandas as pd\n",
    "import matplotlib.pyplot as plt\n",
    "import seaborn as sns\n",
    "# roc curve and auc score\n",
    "from sklearn.datasets import make_classification\n",
    "from sklearn.neighbors import KNeighborsClassifier\n",
    "from sklearn.ensemble import RandomForestClassifier\n",
    "from sklearn.model_selection import train_test_split\n",
    "from sklearn.metrics import roc_curve\n",
    "from sklearn.metrics import roc_auc_score\n",
    "\n",
    "def plot_roc_curve(fpr, tpr):\n",
    "    plt.plot(fpr, tpr, color='orange', label='ROC')\n",
    "    plt.plot([0, 1], [0, 1], color='darkblue', linestyle='--')\n",
    "    plt.xlabel('False Positive Rate')\n",
    "    plt.ylabel('True Positive Rate')\n",
    "    plt.title('Receiver Operating Characteristic (ROC) Curve')\n",
    "    plt.legend()\n",
    "    plt.show()\n",
    "\n",
    "data_X, class_label = make_classification(n_samples=1000, n_classes=2, weights=[1,1], random_state=1)\n",
    "data_X\n",
    "len(class_label)\n",
    "\n",
    "trainX, testX, trainy, testy = train_test_split(data_X, class_label, test_size=0.3, random_state=1)\n",
    "\n",
    "model = RandomForestClassifier()\n",
    "model.fit(trainX, trainy)\n",
    "\n",
    "probs = model.predict_proba(testX)\n",
    "\n",
    "probs = probs[:, 1]\n",
    "\n",
    "auc = roc_auc_score(testy, probs)\n",
    "# data_bin      = [0 if v == 'positive' else 1 for v in amazon_reviews['label'] ]\n",
    "# predicted_bin = [0 if v == 'positive' else 1 for v in all_predictions ]\n",
    "# auc = roc_auc_score(data_bin, predicted_bin)\n",
    "print('AUC: %.2f' % auc)\n",
    "\n",
    "fpr, tpr, thresholds = roc_curve(testy, probs)\n",
    "# fpr, tpr, thresholds = roc_curve(data_bin, predicted_bin)\n",
    "\n",
    "plot_roc_curve(fpr, tpr)"
   ]
  },
  {
   "cell_type": "code",
   "execution_count": null,
   "metadata": {},
   "outputs": [],
   "source": [
    "def roc_curve_chart(y_true, y_pred):\n",
    "    # auc = roc_auc_score(testy, probs)\n",
    "    y_true_bin = [0 if v == 'positive' else 1 for v in y_true ]\n",
    "    y_pred_bin = [0 if v == 'positive' else 1 for v in y_pred ]\n",
    "    auc = roc_auc_score(y_true_bin, y_pred_bin)\n",
    "    fpr, tpr, thresholds = roc_curve(y_true_bin, y_pred_bin)\n",
    "\n",
    "    lw = 3\n",
    "    trace1 = go.Scatter(x=fpr, y=tpr, \n",
    "                        mode='lines', \n",
    "                        line=dict(color='darkorange', width=lw),\n",
    "                        name='ROC curve (area = %0.2f)' % auc\n",
    "                    )\n",
    "    trace2 = go.Scatter(x=[0, 1], y=[0, 1], \n",
    "                        mode='lines', \n",
    "                        line=dict(color='navy', width=lw, dash='dash'),\n",
    "                        showlegend=False)\n",
    "    layout = go.Layout(title='',\n",
    "                    xaxis=dict(title='False Positive Rate'),\n",
    "                    yaxis=dict(title='True Positive Rate'))\n",
    "    fig = go.Figure(data=[trace1, trace2], layout=layout)\n",
    "\n",
    "    fig.update_layout(\n",
    "        # title_text='<i><b>Confusion matrix</b></i>',\n",
    "        legend=dict(\n",
    "            x=0.48,\n",
    "            y=0.03,\n",
    "            traceorder='normal',\n",
    "            font=dict(\n",
    "                size=25,\n",
    "                color=\"black\"\n",
    "            ),\n",
    "        ),\n",
    "        yaxis=dict(\n",
    "                # title='Current  value',\n",
    "                titlefont_size=20,\n",
    "                tickfont_size=18,\n",
    "                color=\"black\",\n",
    "        ),\n",
    "        xaxis=dict(\n",
    "                # title='Predicted  value',\n",
    "                titlefont_size=20,\n",
    "                tickfont_size=18,\n",
    "                color=\"black\",\n",
    "        ),\n",
    "        font=dict(\n",
    "            # family=\"Courier New, monospace\",\n",
    "            size=20,\n",
    "            # color=\"red\"\n",
    "        ),\n",
    "        margin=dict(t=0, b=0, r=30, l=20)\n",
    "    )\n",
    "    return fig\n",
    "\n",
    "fig = roc_curve_chart(amazon_reviews['label'], all_predictions)\n",
    "fig"
   ]
  },
  {
   "cell_type": "code",
   "execution_count": null,
   "metadata": {
    "tags": []
   },
   "outputs": [],
   "source": []
  },
  {
   "cell_type": "code",
   "execution_count": null,
   "metadata": {},
   "outputs": [],
   "source": []
  }
 ],
 "metadata": {
  "file_extension": ".py",
  "kernelspec": {
   "display_name": "Python 3.7.4 64-bit ('base': conda)",
   "language": "python",
   "name": "python37464bitbaseconda11de9112d84a49afbbf20f955bb49b93"
  },
  "language_info": {
   "codemirror_mode": {
    "name": "ipython",
    "version": 3
   },
   "file_extension": ".py",
   "mimetype": "text/x-python",
   "name": "python",
   "nbconvert_exporter": "python",
   "pygments_lexer": "ipython3",
   "version": "3.7.4-final"
  },
  "mimetype": "text/x-python",
  "name": "python",
  "npconvert_exporter": "python",
  "pygments_lexer": "ipython3",
  "version": 3
 },
 "nbformat": 4,
 "nbformat_minor": 2
}