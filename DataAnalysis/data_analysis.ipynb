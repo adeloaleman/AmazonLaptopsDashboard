{
 "cells": [
  {
   "cell_type": "code",
   "execution_count": null,
   "metadata": {},
   "outputs": [],
   "source": [
    "import pandas as pd \n",
    "\n",
    "amazon_data = pd.read_json('/home/adelo/1-system/1-disco_local/1-mis_archivos/1-pe/1-ciencia/1-computer_science_an_IT/2-data_science/1-Amazon_Laptops_Dashboard/amazon_data.json')\n",
    "\n",
    "amazon_data[['ASIN','price','average_customer_reviews','number_reviews','number_ratings','tech_details','reviews']]"
   ]
  },
  {
   "cell_type": "code",
   "execution_count": null,
   "metadata": {},
   "outputs": [],
   "source": [
    "import pandas as pd\n",
    "\n",
    "amazon_data = pd.read_json('/home/adelo/1-system/1-disco_local/1-mis_archivos/1-pe/1-ciencia/1-computer_science_an_IT/2-data_science/1-Amazon_Laptops_Dashboard/amazon_data.json')\n",
    "\n",
    "reviews_title = []\n",
    "reviews_text  = []\n",
    "reviews_one_string = []\n",
    "for i in range(amazon_data.shape[0]):\n",
    "    reviews_title_per_item = []\n",
    "    reviews_text_per_item  = []\n",
    "    reviews_one_string_per_item = ''\n",
    "    for j in range(len(amazon_data['reviews'][i])):\n",
    "        title = amazon_data['reviews'][i][j]['title']\n",
    "        text  = amazon_data['reviews'][i][j]['review_text']\n",
    "        reviews_title_per_item.append(title)\n",
    "        reviews_text_per_item.append(text)\n",
    "        reviews_one_string_per_item += title+' '+text+' '\n",
    "    reviews_title.append(reviews_title_per_item)\n",
    "    reviews_text.append(reviews_text_per_item)\n",
    "    reviews_one_string.append(reviews_one_string_per_item.rstrip())\n",
    "\n",
    "amazon_data['brand']         = [ amazon_data['tech_details'][i]['Brand Name'].title()  if   amazon_data['tech_details'][i]['Brand Name'] not in ['HP','hp','Hp']  else    amazon_data['tech_details'][i]['Brand Name'].upper()  for  i  in range(amazon_data.shape[0]) ]\n",
    "amazon_data['series']        = [ amazon_data['tech_details'][i]['Series']              for  i  in range(amazon_data.shape[0]) ]\n",
    "amazon_data['model_number']  = [ amazon_data['tech_details'][i]['Item model number']   for  i  in range(amazon_data.shape[0]) ]\n",
    "amazon_data['reviews_title'] = reviews_title\n",
    "amazon_data['reviews_text']  = reviews_text\n",
    "amazon_data['reviews_one_string']  = reviews_one_string\n",
    "\n",
    "def format_cleaner(price):\n",
    "    return float(price.replace(',','').replace('$',''))\n",
    "\n",
    "amazon_data['average_customer_reviews'] = [ format_cleaner(val[0]) for val in amazon_data['average_customer_reviews'].str.split() ]\n",
    "\n",
    "amazon_data['price'] = amazon_data['price'].apply(lambda val: round(format_cleaner(val)) if pd.notnull(val) else val)"
   ]
  },
  {
   "cell_type": "code",
   "execution_count": null,
   "metadata": {},
   "outputs": [],
   "source": [
    "cols = ['brand','series','model_number','price','average_customer_reviews','number_reviews','number_ratings','reviews_title','reviews_text','reviews_one_string','url']\n",
    "amazon_data = amazon_data[cols]\n",
    "\n",
    "# display(type(amazon_data['price'][0]))\n",
    "# display((amazon_data['price'][0]))\n",
    "# display(type(amazon_data['reviews_one_string'][0]))\n",
    "\n",
    "# display(amazon_data)"
   ]
  },
  {
   "cell_type": "code",
   "execution_count": null,
   "metadata": {},
   "outputs": [],
   "source": [
    "import string\n",
    "import nltk\n",
    "nltk.data.path.append('/home/adelo/.nltk/nltk_data')\n",
    "from nltk.corpus import stopwords\n",
    "\n",
    "stopwords_brands = [ b.lower() for b in list(set(amazon_data['brand'])) ]\n",
    "stopwords_brands_additionals = ['computer','computers','laptop','laptops','thing','things','machine','machines','im','dont','ive']\n",
    "stopwords_total  = stopwords.words('english') + stopwords_brands + stopwords_brands_additionals\n",
    "\n",
    "def pre_processing(texto):\n",
    "    nopunct = ''.join([ char for char in texto if char not in string.punctuation ])\n",
    "    return ' '.join([ word for word in nopunct.split() if word.lower() not in stopwords_total ])\n",
    "\n",
    "frase = \"Here.. the, sentence! that Has SOME $some the extra processing the the the hola\"\n",
    "frase_clean = pre_processing(frase)\n",
    "frase_clean\n",
    "\n",
    "amazon_data['reviews_one_string'] = amazon_data['reviews_one_string'].apply(pre_processing)"
   ]
  },
  {
   "cell_type": "code",
   "execution_count": null,
   "metadata": {},
   "outputs": [],
   "source": [
    "frase = \"Here! A sentence: It has $SOME punctuation and stopwords...\"\n",
    "frase_clean = pre_processing(frase)\n",
    "frase_clean"
   ]
  },
  {
   "cell_type": "code",
   "execution_count": null,
   "metadata": {},
   "outputs": [],
   "source": [
    "display(amazon_data)"
   ]
  },
  {
   "cell_type": "code",
   "execution_count": null,
   "metadata": {},
   "outputs": [],
   "source": [
    "amazon_data.to_json(r'./data.json')"
   ]
  },
  {
   "cell_type": "code",
   "execution_count": null,
   "metadata": {},
   "outputs": [],
   "source": []
  },
  {
   "cell_type": "code",
   "execution_count": 5,
   "metadata": {},
   "outputs": [
    {
     "output_type": "execute_result",
     "data": {
      "text/plain": "      brand                                    series    model_number   price  \\\n0        HP  HP Pavilion x360 Convertible 14-cd1042nr     7PD74UA#ABA   690.0   \n1    Lenovo                                   Flex 14      81SQ000DUS   490.0   \n2    Lenovo                   100e Chromebook 2nd Gen      81QB000AUS    99.0   \n3      Acer                            SF515-51T-73TY  SF515-51T-73TY   927.0   \n4      Asus                           Chromebook C425    C425TA-DH384     NaN   \n5      Dell                         i5481-3595GRY-PUS              na   400.0   \n6    Lenovo                              Ideapad S330      81JW0000US     NaN   \n7        HP                                        HP              NA   357.0   \n8        HP                                14-cb159nr     8MB46UA#ABA   229.0   \n9    Lenovo                               L340 Gaming      81LK00HDUS   625.0   \n10     Asus                   Asus VivoBook 15 F512FA     F512FA-AB34   380.0   \n11     Acer                                 C732-C6WU       C732-C6WU   167.0   \n12       HP                                        HP     14-CF0014DX   323.0   \n13     Acer                                   CB5-532    NX.GHJAA.002   133.0   \n14     Acer                           Aspire E series     E5-576-392H   327.0   \n15     Asus                          VivoBook Flip 14     J401MA-YS02   340.0   \n16     Acer                             Chromebook 15    CB3-532-C8DF   196.0   \n17     Acer                            CB515-1HT-C2AE              NA   274.0   \n18     Asus                         ROG SCAR II GL504    GL504GW-DS74  1470.0   \n19   Lenovo                                 130-15AST      81H5002FUS   235.0   \n20   Lenovo                                81HY0001US      81ER0001UK   229.0   \n21     Acer                                  CB5-132T   CB5-132T-C1LK   269.0   \n22     Asus                        ASUS VivoBook L203     L203MA-DS04   210.0   \n23     Acer                            SP314-53N-77AJ  SP314-53N-77AJ   710.0   \n24  Samsung                        Samsung Chromebook  XE500C13-K06US   215.0   \n25     Acer                              A515-54-30BQ               .     NaN   \n26   Lenovo                              IdeaPad C330      81HY0000US   247.0   \n27   Lenovo                                   Flex 14      81SS0005US   533.0   \n28     Asus                                Chromebook     C202SA-YS02   208.0   \n29     Acer                                   CB3-431    CB3-431-C0AK   219.0   \n30       HP                               13-aq0044nr     13-aq0044nr   949.0   \n31     Acer                              A515-54-51DJ    A515-54-51DJ   495.0   \n32     Acer                             PH315-52-78VL   PH315-52-78VL  1088.0   \n33     Acer                              A515-43-R19L    A515-43-R19L   340.0   \n34     Acer                           Acer Chromebook    NX.G55AA.010   210.0   \n\n    average_customer_reviews  number_reviews  number_ratings  \\\n0                        4.5              17              18   \n1                        4.0              14              18   \n2                        4.1              15              17   \n3                        4.0              24              25   \n4                        3.9              43              48   \n5                        3.5              57              66   \n6                        3.9              88             100   \n7                        3.7              82             100   \n8                        3.9              25              29   \n9                        4.1              42              58   \n10                       4.2              92             117   \n11                       4.5              15              17   \n12                       4.2             187             214   \n13                       4.1            1053            1111   \n14                       3.7            1556            1630   \n15                       3.8             104             110   \n16                       4.0             424             469   \n17                       4.0             111             120   \n18                       3.6             135             141   \n19                       3.6             253             291   \n20                       4.3             162             188   \n21                       4.1            1125            1136   \n22                       3.8             116             153   \n23                       4.3             167             180   \n24                       4.3              75              82   \n25                       4.3              92             114   \n26                       4.2             788             844   \n27                       4.1              87             122   \n28                       3.9            1750            1784   \n29                       3.9            1388            1396   \n30                       3.8              81              85   \n31                       4.3             291             345   \n32                       4.3             439             544   \n33                       4.4             939            1138   \n34                       3.9             107             133   \n\n                                   reviews_one_string  \n0   everyday persons review friends work rant rave...  \n1   product COME ADVERTISED sent COMEPLETELY DIFFE...  \n2   Less Great value tough box price excellent Chr...  \n3   Love bought replace old features looking reaso...  \n4   Experience Asus434 Couldnt Provide give contex...  \n5   BUY NEED ANYTHING MICROSOFT APPS allow downloa...  \n6   First Chromebook first Chromebook love simplic...  \n7   waste money Brand new right box slower 10 year...  \n8   Mediocre Corporate Style may like one people s...  \n9   Couple days in… far ticked boxes buy looking u...  \n10  Decent viewing webpagesoffice good much else o...  \n11  Mediocre Chromebook 2015 bought 11 Chromebook ...  \n12  Excellent Price love using mainly school work ...  \n13  Excellent Alternative Windows PCsFINALLY Excel...  \n14  Easy upgrade solid performer found three real ...  \n15  tabletlaptop hybrid experiences bad honestly s...  \n16  Greatest budget friendly unsure theres bad rev...  \n17  Completely Acceptable Chromebook Minor Flaws 3...  \n18  THIRD update support lies Second round repairs...  \n19  Surprisingly great price powerful youll use 25...  \n20  good chromebook price wanted wait reviewing pr...  \n21  WiNOT instead WiFi unit pretty stylish high sc...  \n22  GREAT CASUAL USER Ok get everything one senten...  \n23  USBC port great many respects specs great fast...  \n24  affordable 64gb Chromebook market I’ve using C...  \n25  Fantastic Budget excited receive using 13 Thin...  \n26  Great Chromebook High end features low price p...  \n27  Refurbished received Thursday marked brand new...  \n28  Sort ruggedized sort kindergartenized Chromebo...  \n29  Good Yes Worth buying Yes Perfect exactly writ...  \n30  Pretty happy far power user Heavy Affinity Ado...  \n31  Terrible fan noise bad first hear youre going ...  \n32  Great gaming overall lot price Overview pretty...  \n33  real opinion could sit write specs already des...  \n34  Received faulty twice gave friend mine Chromeb...  ",
      "text/html": "<div>\n<style scoped>\n    .dataframe tbody tr th:only-of-type {\n        vertical-align: middle;\n    }\n\n    .dataframe tbody tr th {\n        vertical-align: top;\n    }\n\n    .dataframe thead th {\n        text-align: right;\n    }\n</style>\n<table border=\"1\" class=\"dataframe\">\n  <thead>\n    <tr style=\"text-align: right;\">\n      <th></th>\n      <th>brand</th>\n      <th>series</th>\n      <th>model_number</th>\n      <th>price</th>\n      <th>average_customer_reviews</th>\n      <th>number_reviews</th>\n      <th>number_ratings</th>\n      <th>reviews_one_string</th>\n    </tr>\n  </thead>\n  <tbody>\n    <tr>\n      <td>0</td>\n      <td>HP</td>\n      <td>HP Pavilion x360 Convertible 14-cd1042nr</td>\n      <td>7PD74UA#ABA</td>\n      <td>690.0</td>\n      <td>4.5</td>\n      <td>17</td>\n      <td>18</td>\n      <td>everyday persons review friends work rant rave...</td>\n    </tr>\n    <tr>\n      <td>1</td>\n      <td>Lenovo</td>\n      <td>Flex 14</td>\n      <td>81SQ000DUS</td>\n      <td>490.0</td>\n      <td>4.0</td>\n      <td>14</td>\n      <td>18</td>\n      <td>product COME ADVERTISED sent COMEPLETELY DIFFE...</td>\n    </tr>\n    <tr>\n      <td>2</td>\n      <td>Lenovo</td>\n      <td>100e Chromebook 2nd Gen</td>\n      <td>81QB000AUS</td>\n      <td>99.0</td>\n      <td>4.1</td>\n      <td>15</td>\n      <td>17</td>\n      <td>Less Great value tough box price excellent Chr...</td>\n    </tr>\n    <tr>\n      <td>3</td>\n      <td>Acer</td>\n      <td>SF515-51T-73TY</td>\n      <td>SF515-51T-73TY</td>\n      <td>927.0</td>\n      <td>4.0</td>\n      <td>24</td>\n      <td>25</td>\n      <td>Love bought replace old features looking reaso...</td>\n    </tr>\n    <tr>\n      <td>4</td>\n      <td>Asus</td>\n      <td>Chromebook C425</td>\n      <td>C425TA-DH384</td>\n      <td>NaN</td>\n      <td>3.9</td>\n      <td>43</td>\n      <td>48</td>\n      <td>Experience Asus434 Couldnt Provide give contex...</td>\n    </tr>\n    <tr>\n      <td>5</td>\n      <td>Dell</td>\n      <td>i5481-3595GRY-PUS</td>\n      <td>na</td>\n      <td>400.0</td>\n      <td>3.5</td>\n      <td>57</td>\n      <td>66</td>\n      <td>BUY NEED ANYTHING MICROSOFT APPS allow downloa...</td>\n    </tr>\n    <tr>\n      <td>6</td>\n      <td>Lenovo</td>\n      <td>Ideapad S330</td>\n      <td>81JW0000US</td>\n      <td>NaN</td>\n      <td>3.9</td>\n      <td>88</td>\n      <td>100</td>\n      <td>First Chromebook first Chromebook love simplic...</td>\n    </tr>\n    <tr>\n      <td>7</td>\n      <td>HP</td>\n      <td>HP</td>\n      <td>NA</td>\n      <td>357.0</td>\n      <td>3.7</td>\n      <td>82</td>\n      <td>100</td>\n      <td>waste money Brand new right box slower 10 year...</td>\n    </tr>\n    <tr>\n      <td>8</td>\n      <td>HP</td>\n      <td>14-cb159nr</td>\n      <td>8MB46UA#ABA</td>\n      <td>229.0</td>\n      <td>3.9</td>\n      <td>25</td>\n      <td>29</td>\n      <td>Mediocre Corporate Style may like one people s...</td>\n    </tr>\n    <tr>\n      <td>9</td>\n      <td>Lenovo</td>\n      <td>L340 Gaming</td>\n      <td>81LK00HDUS</td>\n      <td>625.0</td>\n      <td>4.1</td>\n      <td>42</td>\n      <td>58</td>\n      <td>Couple days in… far ticked boxes buy looking u...</td>\n    </tr>\n    <tr>\n      <td>10</td>\n      <td>Asus</td>\n      <td>Asus VivoBook 15 F512FA</td>\n      <td>F512FA-AB34</td>\n      <td>380.0</td>\n      <td>4.2</td>\n      <td>92</td>\n      <td>117</td>\n      <td>Decent viewing webpagesoffice good much else o...</td>\n    </tr>\n    <tr>\n      <td>11</td>\n      <td>Acer</td>\n      <td>C732-C6WU</td>\n      <td>C732-C6WU</td>\n      <td>167.0</td>\n      <td>4.5</td>\n      <td>15</td>\n      <td>17</td>\n      <td>Mediocre Chromebook 2015 bought 11 Chromebook ...</td>\n    </tr>\n    <tr>\n      <td>12</td>\n      <td>HP</td>\n      <td>HP</td>\n      <td>14-CF0014DX</td>\n      <td>323.0</td>\n      <td>4.2</td>\n      <td>187</td>\n      <td>214</td>\n      <td>Excellent Price love using mainly school work ...</td>\n    </tr>\n    <tr>\n      <td>13</td>\n      <td>Acer</td>\n      <td>CB5-532</td>\n      <td>NX.GHJAA.002</td>\n      <td>133.0</td>\n      <td>4.1</td>\n      <td>1053</td>\n      <td>1111</td>\n      <td>Excellent Alternative Windows PCsFINALLY Excel...</td>\n    </tr>\n    <tr>\n      <td>14</td>\n      <td>Acer</td>\n      <td>Aspire E series</td>\n      <td>E5-576-392H</td>\n      <td>327.0</td>\n      <td>3.7</td>\n      <td>1556</td>\n      <td>1630</td>\n      <td>Easy upgrade solid performer found three real ...</td>\n    </tr>\n    <tr>\n      <td>15</td>\n      <td>Asus</td>\n      <td>VivoBook Flip 14</td>\n      <td>J401MA-YS02</td>\n      <td>340.0</td>\n      <td>3.8</td>\n      <td>104</td>\n      <td>110</td>\n      <td>tabletlaptop hybrid experiences bad honestly s...</td>\n    </tr>\n    <tr>\n      <td>16</td>\n      <td>Acer</td>\n      <td>Chromebook 15</td>\n      <td>CB3-532-C8DF</td>\n      <td>196.0</td>\n      <td>4.0</td>\n      <td>424</td>\n      <td>469</td>\n      <td>Greatest budget friendly unsure theres bad rev...</td>\n    </tr>\n    <tr>\n      <td>17</td>\n      <td>Acer</td>\n      <td>CB515-1HT-C2AE</td>\n      <td>NA</td>\n      <td>274.0</td>\n      <td>4.0</td>\n      <td>111</td>\n      <td>120</td>\n      <td>Completely Acceptable Chromebook Minor Flaws 3...</td>\n    </tr>\n    <tr>\n      <td>18</td>\n      <td>Asus</td>\n      <td>ROG SCAR II GL504</td>\n      <td>GL504GW-DS74</td>\n      <td>1470.0</td>\n      <td>3.6</td>\n      <td>135</td>\n      <td>141</td>\n      <td>THIRD update support lies Second round repairs...</td>\n    </tr>\n    <tr>\n      <td>19</td>\n      <td>Lenovo</td>\n      <td>130-15AST</td>\n      <td>81H5002FUS</td>\n      <td>235.0</td>\n      <td>3.6</td>\n      <td>253</td>\n      <td>291</td>\n      <td>Surprisingly great price powerful youll use 25...</td>\n    </tr>\n    <tr>\n      <td>20</td>\n      <td>Lenovo</td>\n      <td>81HY0001US</td>\n      <td>81ER0001UK</td>\n      <td>229.0</td>\n      <td>4.3</td>\n      <td>162</td>\n      <td>188</td>\n      <td>good chromebook price wanted wait reviewing pr...</td>\n    </tr>\n    <tr>\n      <td>21</td>\n      <td>Acer</td>\n      <td>CB5-132T</td>\n      <td>CB5-132T-C1LK</td>\n      <td>269.0</td>\n      <td>4.1</td>\n      <td>1125</td>\n      <td>1136</td>\n      <td>WiNOT instead WiFi unit pretty stylish high sc...</td>\n    </tr>\n    <tr>\n      <td>22</td>\n      <td>Asus</td>\n      <td>ASUS VivoBook L203</td>\n      <td>L203MA-DS04</td>\n      <td>210.0</td>\n      <td>3.8</td>\n      <td>116</td>\n      <td>153</td>\n      <td>GREAT CASUAL USER Ok get everything one senten...</td>\n    </tr>\n    <tr>\n      <td>23</td>\n      <td>Acer</td>\n      <td>SP314-53N-77AJ</td>\n      <td>SP314-53N-77AJ</td>\n      <td>710.0</td>\n      <td>4.3</td>\n      <td>167</td>\n      <td>180</td>\n      <td>USBC port great many respects specs great fast...</td>\n    </tr>\n    <tr>\n      <td>24</td>\n      <td>Samsung</td>\n      <td>Samsung Chromebook</td>\n      <td>XE500C13-K06US</td>\n      <td>215.0</td>\n      <td>4.3</td>\n      <td>75</td>\n      <td>82</td>\n      <td>affordable 64gb Chromebook market I’ve using C...</td>\n    </tr>\n    <tr>\n      <td>25</td>\n      <td>Acer</td>\n      <td>A515-54-30BQ</td>\n      <td>.</td>\n      <td>NaN</td>\n      <td>4.3</td>\n      <td>92</td>\n      <td>114</td>\n      <td>Fantastic Budget excited receive using 13 Thin...</td>\n    </tr>\n    <tr>\n      <td>26</td>\n      <td>Lenovo</td>\n      <td>IdeaPad C330</td>\n      <td>81HY0000US</td>\n      <td>247.0</td>\n      <td>4.2</td>\n      <td>788</td>\n      <td>844</td>\n      <td>Great Chromebook High end features low price p...</td>\n    </tr>\n    <tr>\n      <td>27</td>\n      <td>Lenovo</td>\n      <td>Flex 14</td>\n      <td>81SS0005US</td>\n      <td>533.0</td>\n      <td>4.1</td>\n      <td>87</td>\n      <td>122</td>\n      <td>Refurbished received Thursday marked brand new...</td>\n    </tr>\n    <tr>\n      <td>28</td>\n      <td>Asus</td>\n      <td>Chromebook</td>\n      <td>C202SA-YS02</td>\n      <td>208.0</td>\n      <td>3.9</td>\n      <td>1750</td>\n      <td>1784</td>\n      <td>Sort ruggedized sort kindergartenized Chromebo...</td>\n    </tr>\n    <tr>\n      <td>29</td>\n      <td>Acer</td>\n      <td>CB3-431</td>\n      <td>CB3-431-C0AK</td>\n      <td>219.0</td>\n      <td>3.9</td>\n      <td>1388</td>\n      <td>1396</td>\n      <td>Good Yes Worth buying Yes Perfect exactly writ...</td>\n    </tr>\n    <tr>\n      <td>30</td>\n      <td>HP</td>\n      <td>13-aq0044nr</td>\n      <td>13-aq0044nr</td>\n      <td>949.0</td>\n      <td>3.8</td>\n      <td>81</td>\n      <td>85</td>\n      <td>Pretty happy far power user Heavy Affinity Ado...</td>\n    </tr>\n    <tr>\n      <td>31</td>\n      <td>Acer</td>\n      <td>A515-54-51DJ</td>\n      <td>A515-54-51DJ</td>\n      <td>495.0</td>\n      <td>4.3</td>\n      <td>291</td>\n      <td>345</td>\n      <td>Terrible fan noise bad first hear youre going ...</td>\n    </tr>\n    <tr>\n      <td>32</td>\n      <td>Acer</td>\n      <td>PH315-52-78VL</td>\n      <td>PH315-52-78VL</td>\n      <td>1088.0</td>\n      <td>4.3</td>\n      <td>439</td>\n      <td>544</td>\n      <td>Great gaming overall lot price Overview pretty...</td>\n    </tr>\n    <tr>\n      <td>33</td>\n      <td>Acer</td>\n      <td>A515-43-R19L</td>\n      <td>A515-43-R19L</td>\n      <td>340.0</td>\n      <td>4.4</td>\n      <td>939</td>\n      <td>1138</td>\n      <td>real opinion could sit write specs already des...</td>\n    </tr>\n    <tr>\n      <td>34</td>\n      <td>Acer</td>\n      <td>Acer Chromebook</td>\n      <td>NX.G55AA.010</td>\n      <td>210.0</td>\n      <td>3.9</td>\n      <td>107</td>\n      <td>133</td>\n      <td>Received faulty twice gave friend mine Chromeb...</td>\n    </tr>\n  </tbody>\n</table>\n</div>"
     },
     "metadata": {},
     "execution_count": 5
    }
   ],
   "source": [
    "import pandas as pd\n",
    "\n",
    "data = pd.read_json('./amazon_data.json')\n",
    "\n",
    "cols = ['brand','series','model_number','price','average_customer_reviews','number_reviews','number_ratings','reviews_one_string']\n",
    "\n",
    "data[cols]\n",
    "# type(data['reviews_text'].iloc[1])"
   ]
  },
  {
   "cell_type": "code",
   "execution_count": 7,
   "metadata": {},
   "outputs": [
    {
     "output_type": "display_data",
     "data": {
      "application/vnd.plotly.v1+json": {
       "config": {
        "plotlyServerURL": "https://plot.ly"
       },
       "data": [
        {
         "hoverlabel": {
          "namelength": 0
         },
         "hovertemplate": "<b>%{hovertext}</b><br><br>brand=HP<br>price=%{x}<br>average_customer_reviews=%{marker.size}",
         "hovertext": [
          "HP",
          "HP",
          "HP",
          "HP",
          "HP"
         ],
         "legendgroup": "HP",
         "marker": {
          "color": "#636efa",
          "size": [
           4.5,
           3.7,
           3.9,
           4.2,
           3.8
          ],
          "sizemode": "area",
          "sizeref": 0.005,
          "symbol": "circle"
         },
         "mode": "markers",
         "name": "HP",
         "showlegend": true,
         "type": "scatter",
         "x": [
          690,
          357,
          229,
          323,
          949
         ],
         "xaxis": "x",
         "y": [
          4.5,
          3.7,
          3.9,
          4.2,
          3.8
         ],
         "yaxis": "y"
        },
        {
         "hoverlabel": {
          "namelength": 0
         },
         "hovertemplate": "<b>%{hovertext}</b><br><br>brand=Lenovo<br>price=%{x}<br>average_customer_reviews=%{marker.size}",
         "hovertext": [
          "Lenovo",
          "Lenovo",
          "Lenovo",
          "Lenovo",
          "Lenovo",
          "Lenovo",
          "Lenovo",
          "Lenovo"
         ],
         "legendgroup": "Lenovo",
         "marker": {
          "color": "#EF553B",
          "size": [
           4,
           4.1,
           3.9,
           4.1,
           3.6,
           4.3,
           4.2,
           4.1
          ],
          "sizemode": "area",
          "sizeref": 0.005,
          "symbol": "circle"
         },
         "mode": "markers",
         "name": "Lenovo",
         "showlegend": true,
         "type": "scatter",
         "x": [
          490,
          99,
          null,
          625,
          235,
          229,
          247,
          533
         ],
         "xaxis": "x",
         "y": [
          4,
          4.1,
          3.9,
          4.1,
          3.6,
          4.3,
          4.2,
          4.1
         ],
         "yaxis": "y"
        },
        {
         "hoverlabel": {
          "namelength": 0
         },
         "hovertemplate": "<b>%{hovertext}</b><br><br>brand=Acer<br>price=%{x}<br>average_customer_reviews=%{marker.size}",
         "hovertext": [
          "Acer",
          "Acer",
          "Acer",
          "Acer",
          "Acer",
          "Acer",
          "Acer",
          "Acer",
          "Acer",
          "Acer",
          "Acer",
          "Acer",
          "Acer",
          "Acer"
         ],
         "legendgroup": "Acer",
         "marker": {
          "color": "#00cc96",
          "size": [
           4,
           4.5,
           4.1,
           3.7,
           4,
           4,
           4.1,
           4.3,
           4.3,
           3.9,
           4.3,
           4.3,
           4.4,
           3.9
          ],
          "sizemode": "area",
          "sizeref": 0.005,
          "symbol": "circle"
         },
         "mode": "markers",
         "name": "Acer",
         "showlegend": true,
         "type": "scatter",
         "x": [
          927,
          167,
          133,
          327,
          196,
          274,
          269,
          710,
          null,
          219,
          495,
          1088,
          340,
          210
         ],
         "xaxis": "x",
         "y": [
          4,
          4.5,
          4.1,
          3.7,
          4,
          4,
          4.1,
          4.3,
          4.3,
          3.9,
          4.3,
          4.3,
          4.4,
          3.9
         ],
         "yaxis": "y"
        },
        {
         "hoverlabel": {
          "namelength": 0
         },
         "hovertemplate": "<b>%{hovertext}</b><br><br>brand=Asus<br>price=%{x}<br>average_customer_reviews=%{marker.size}",
         "hovertext": [
          "Asus",
          "Asus",
          "Asus",
          "Asus",
          "Asus",
          "Asus"
         ],
         "legendgroup": "Asus",
         "marker": {
          "color": "#ab63fa",
          "size": [
           3.9,
           4.2,
           3.8,
           3.6,
           3.8,
           3.9
          ],
          "sizemode": "area",
          "sizeref": 0.005,
          "symbol": "circle"
         },
         "mode": "markers",
         "name": "Asus",
         "showlegend": true,
         "type": "scatter",
         "x": [
          null,
          380,
          340,
          1470,
          210,
          208
         ],
         "xaxis": "x",
         "y": [
          3.9,
          4.2,
          3.8,
          3.6,
          3.8,
          3.9
         ],
         "yaxis": "y"
        },
        {
         "hoverlabel": {
          "namelength": 0
         },
         "hovertemplate": "<b>%{hovertext}</b><br><br>brand=Dell<br>price=%{x}<br>average_customer_reviews=%{marker.size}",
         "hovertext": [
          "Dell"
         ],
         "legendgroup": "Dell",
         "marker": {
          "color": "#FFA15A",
          "size": [
           3.5
          ],
          "sizemode": "area",
          "sizeref": 0.005,
          "symbol": "circle"
         },
         "mode": "markers",
         "name": "Dell",
         "showlegend": true,
         "type": "scatter",
         "x": [
          400
         ],
         "xaxis": "x",
         "y": [
          3.5
         ],
         "yaxis": "y"
        },
        {
         "hoverlabel": {
          "namelength": 0
         },
         "hovertemplate": "<b>%{hovertext}</b><br><br>brand=Samsung<br>price=%{x}<br>average_customer_reviews=%{marker.size}",
         "hovertext": [
          "Samsung"
         ],
         "legendgroup": "Samsung",
         "marker": {
          "color": "#19d3f3",
          "size": [
           4.3
          ],
          "sizemode": "area",
          "sizeref": 0.005,
          "symbol": "circle"
         },
         "mode": "markers",
         "name": "Samsung",
         "showlegend": true,
         "type": "scatter",
         "x": [
          215
         ],
         "xaxis": "x",
         "y": [
          4.3
         ],
         "yaxis": "y"
        }
       ],
       "layout": {
        "coloraxis": {
         "showscale": false
        },
        "font": {
         "color": "black",
         "size": 20
        },
        "height": 300,
        "legend": {
         "itemsizing": "constant",
         "title": {
          "text": "Brand"
         },
         "tracegroupgap": 0
        },
        "margin": {
         "b": 0,
         "l": 5,
         "r": 5,
         "t": 10
        },
        "template": {
         "data": {
          "bar": [
           {
            "error_x": {
             "color": "#2a3f5f"
            },
            "error_y": {
             "color": "#2a3f5f"
            },
            "marker": {
             "line": {
              "color": "#E5ECF6",
              "width": 0.5
             }
            },
            "type": "bar"
           }
          ],
          "barpolar": [
           {
            "marker": {
             "line": {
              "color": "#E5ECF6",
              "width": 0.5
             }
            },
            "type": "barpolar"
           }
          ],
          "carpet": [
           {
            "aaxis": {
             "endlinecolor": "#2a3f5f",
             "gridcolor": "white",
             "linecolor": "white",
             "minorgridcolor": "white",
             "startlinecolor": "#2a3f5f"
            },
            "baxis": {
             "endlinecolor": "#2a3f5f",
             "gridcolor": "white",
             "linecolor": "white",
             "minorgridcolor": "white",
             "startlinecolor": "#2a3f5f"
            },
            "type": "carpet"
           }
          ],
          "choropleth": [
           {
            "colorbar": {
             "outlinewidth": 0,
             "ticks": ""
            },
            "type": "choropleth"
           }
          ],
          "contour": [
           {
            "colorbar": {
             "outlinewidth": 0,
             "ticks": ""
            },
            "colorscale": [
             [
              0,
              "#0d0887"
             ],
             [
              0.1111111111111111,
              "#46039f"
             ],
             [
              0.2222222222222222,
              "#7201a8"
             ],
             [
              0.3333333333333333,
              "#9c179e"
             ],
             [
              0.4444444444444444,
              "#bd3786"
             ],
             [
              0.5555555555555556,
              "#d8576b"
             ],
             [
              0.6666666666666666,
              "#ed7953"
             ],
             [
              0.7777777777777778,
              "#fb9f3a"
             ],
             [
              0.8888888888888888,
              "#fdca26"
             ],
             [
              1,
              "#f0f921"
             ]
            ],
            "type": "contour"
           }
          ],
          "contourcarpet": [
           {
            "colorbar": {
             "outlinewidth": 0,
             "ticks": ""
            },
            "type": "contourcarpet"
           }
          ],
          "heatmap": [
           {
            "colorbar": {
             "outlinewidth": 0,
             "ticks": ""
            },
            "colorscale": [
             [
              0,
              "#0d0887"
             ],
             [
              0.1111111111111111,
              "#46039f"
             ],
             [
              0.2222222222222222,
              "#7201a8"
             ],
             [
              0.3333333333333333,
              "#9c179e"
             ],
             [
              0.4444444444444444,
              "#bd3786"
             ],
             [
              0.5555555555555556,
              "#d8576b"
             ],
             [
              0.6666666666666666,
              "#ed7953"
             ],
             [
              0.7777777777777778,
              "#fb9f3a"
             ],
             [
              0.8888888888888888,
              "#fdca26"
             ],
             [
              1,
              "#f0f921"
             ]
            ],
            "type": "heatmap"
           }
          ],
          "heatmapgl": [
           {
            "colorbar": {
             "outlinewidth": 0,
             "ticks": ""
            },
            "colorscale": [
             [
              0,
              "#0d0887"
             ],
             [
              0.1111111111111111,
              "#46039f"
             ],
             [
              0.2222222222222222,
              "#7201a8"
             ],
             [
              0.3333333333333333,
              "#9c179e"
             ],
             [
              0.4444444444444444,
              "#bd3786"
             ],
             [
              0.5555555555555556,
              "#d8576b"
             ],
             [
              0.6666666666666666,
              "#ed7953"
             ],
             [
              0.7777777777777778,
              "#fb9f3a"
             ],
             [
              0.8888888888888888,
              "#fdca26"
             ],
             [
              1,
              "#f0f921"
             ]
            ],
            "type": "heatmapgl"
           }
          ],
          "histogram": [
           {
            "marker": {
             "colorbar": {
              "outlinewidth": 0,
              "ticks": ""
             }
            },
            "type": "histogram"
           }
          ],
          "histogram2d": [
           {
            "colorbar": {
             "outlinewidth": 0,
             "ticks": ""
            },
            "colorscale": [
             [
              0,
              "#0d0887"
             ],
             [
              0.1111111111111111,
              "#46039f"
             ],
             [
              0.2222222222222222,
              "#7201a8"
             ],
             [
              0.3333333333333333,
              "#9c179e"
             ],
             [
              0.4444444444444444,
              "#bd3786"
             ],
             [
              0.5555555555555556,
              "#d8576b"
             ],
             [
              0.6666666666666666,
              "#ed7953"
             ],
             [
              0.7777777777777778,
              "#fb9f3a"
             ],
             [
              0.8888888888888888,
              "#fdca26"
             ],
             [
              1,
              "#f0f921"
             ]
            ],
            "type": "histogram2d"
           }
          ],
          "histogram2dcontour": [
           {
            "colorbar": {
             "outlinewidth": 0,
             "ticks": ""
            },
            "colorscale": [
             [
              0,
              "#0d0887"
             ],
             [
              0.1111111111111111,
              "#46039f"
             ],
             [
              0.2222222222222222,
              "#7201a8"
             ],
             [
              0.3333333333333333,
              "#9c179e"
             ],
             [
              0.4444444444444444,
              "#bd3786"
             ],
             [
              0.5555555555555556,
              "#d8576b"
             ],
             [
              0.6666666666666666,
              "#ed7953"
             ],
             [
              0.7777777777777778,
              "#fb9f3a"
             ],
             [
              0.8888888888888888,
              "#fdca26"
             ],
             [
              1,
              "#f0f921"
             ]
            ],
            "type": "histogram2dcontour"
           }
          ],
          "mesh3d": [
           {
            "colorbar": {
             "outlinewidth": 0,
             "ticks": ""
            },
            "type": "mesh3d"
           }
          ],
          "parcoords": [
           {
            "line": {
             "colorbar": {
              "outlinewidth": 0,
              "ticks": ""
             }
            },
            "type": "parcoords"
           }
          ],
          "pie": [
           {
            "automargin": true,
            "type": "pie"
           }
          ],
          "scatter": [
           {
            "marker": {
             "colorbar": {
              "outlinewidth": 0,
              "ticks": ""
             }
            },
            "type": "scatter"
           }
          ],
          "scatter3d": [
           {
            "line": {
             "colorbar": {
              "outlinewidth": 0,
              "ticks": ""
             }
            },
            "marker": {
             "colorbar": {
              "outlinewidth": 0,
              "ticks": ""
             }
            },
            "type": "scatter3d"
           }
          ],
          "scattercarpet": [
           {
            "marker": {
             "colorbar": {
              "outlinewidth": 0,
              "ticks": ""
             }
            },
            "type": "scattercarpet"
           }
          ],
          "scattergeo": [
           {
            "marker": {
             "colorbar": {
              "outlinewidth": 0,
              "ticks": ""
             }
            },
            "type": "scattergeo"
           }
          ],
          "scattergl": [
           {
            "marker": {
             "colorbar": {
              "outlinewidth": 0,
              "ticks": ""
             }
            },
            "type": "scattergl"
           }
          ],
          "scattermapbox": [
           {
            "marker": {
             "colorbar": {
              "outlinewidth": 0,
              "ticks": ""
             }
            },
            "type": "scattermapbox"
           }
          ],
          "scatterpolar": [
           {
            "marker": {
             "colorbar": {
              "outlinewidth": 0,
              "ticks": ""
             }
            },
            "type": "scatterpolar"
           }
          ],
          "scatterpolargl": [
           {
            "marker": {
             "colorbar": {
              "outlinewidth": 0,
              "ticks": ""
             }
            },
            "type": "scatterpolargl"
           }
          ],
          "scatterternary": [
           {
            "marker": {
             "colorbar": {
              "outlinewidth": 0,
              "ticks": ""
             }
            },
            "type": "scatterternary"
           }
          ],
          "surface": [
           {
            "colorbar": {
             "outlinewidth": 0,
             "ticks": ""
            },
            "colorscale": [
             [
              0,
              "#0d0887"
             ],
             [
              0.1111111111111111,
              "#46039f"
             ],
             [
              0.2222222222222222,
              "#7201a8"
             ],
             [
              0.3333333333333333,
              "#9c179e"
             ],
             [
              0.4444444444444444,
              "#bd3786"
             ],
             [
              0.5555555555555556,
              "#d8576b"
             ],
             [
              0.6666666666666666,
              "#ed7953"
             ],
             [
              0.7777777777777778,
              "#fb9f3a"
             ],
             [
              0.8888888888888888,
              "#fdca26"
             ],
             [
              1,
              "#f0f921"
             ]
            ],
            "type": "surface"
           }
          ],
          "table": [
           {
            "cells": {
             "fill": {
              "color": "#EBF0F8"
             },
             "line": {
              "color": "white"
             }
            },
            "header": {
             "fill": {
              "color": "#C8D4E3"
             },
             "line": {
              "color": "white"
             }
            },
            "type": "table"
           }
          ]
         },
         "layout": {
          "annotationdefaults": {
           "arrowcolor": "#2a3f5f",
           "arrowhead": 0,
           "arrowwidth": 1
          },
          "coloraxis": {
           "colorbar": {
            "outlinewidth": 0,
            "ticks": ""
           }
          },
          "colorscale": {
           "diverging": [
            [
             0,
             "#8e0152"
            ],
            [
             0.1,
             "#c51b7d"
            ],
            [
             0.2,
             "#de77ae"
            ],
            [
             0.3,
             "#f1b6da"
            ],
            [
             0.4,
             "#fde0ef"
            ],
            [
             0.5,
             "#f7f7f7"
            ],
            [
             0.6,
             "#e6f5d0"
            ],
            [
             0.7,
             "#b8e186"
            ],
            [
             0.8,
             "#7fbc41"
            ],
            [
             0.9,
             "#4d9221"
            ],
            [
             1,
             "#276419"
            ]
           ],
           "sequential": [
            [
             0,
             "#0d0887"
            ],
            [
             0.1111111111111111,
             "#46039f"
            ],
            [
             0.2222222222222222,
             "#7201a8"
            ],
            [
             0.3333333333333333,
             "#9c179e"
            ],
            [
             0.4444444444444444,
             "#bd3786"
            ],
            [
             0.5555555555555556,
             "#d8576b"
            ],
            [
             0.6666666666666666,
             "#ed7953"
            ],
            [
             0.7777777777777778,
             "#fb9f3a"
            ],
            [
             0.8888888888888888,
             "#fdca26"
            ],
            [
             1,
             "#f0f921"
            ]
           ],
           "sequentialminus": [
            [
             0,
             "#0d0887"
            ],
            [
             0.1111111111111111,
             "#46039f"
            ],
            [
             0.2222222222222222,
             "#7201a8"
            ],
            [
             0.3333333333333333,
             "#9c179e"
            ],
            [
             0.4444444444444444,
             "#bd3786"
            ],
            [
             0.5555555555555556,
             "#d8576b"
            ],
            [
             0.6666666666666666,
             "#ed7953"
            ],
            [
             0.7777777777777778,
             "#fb9f3a"
            ],
            [
             0.8888888888888888,
             "#fdca26"
            ],
            [
             1,
             "#f0f921"
            ]
           ]
          },
          "colorway": [
           "#636efa",
           "#EF553B",
           "#00cc96",
           "#ab63fa",
           "#FFA15A",
           "#19d3f3",
           "#FF6692",
           "#B6E880",
           "#FF97FF",
           "#FECB52"
          ],
          "font": {
           "color": "#2a3f5f"
          },
          "geo": {
           "bgcolor": "white",
           "lakecolor": "white",
           "landcolor": "#E5ECF6",
           "showlakes": true,
           "showland": true,
           "subunitcolor": "white"
          },
          "hoverlabel": {
           "align": "left"
          },
          "hovermode": "closest",
          "mapbox": {
           "style": "light"
          },
          "paper_bgcolor": "white",
          "plot_bgcolor": "#E5ECF6",
          "polar": {
           "angularaxis": {
            "gridcolor": "white",
            "linecolor": "white",
            "ticks": ""
           },
           "bgcolor": "#E5ECF6",
           "radialaxis": {
            "gridcolor": "white",
            "linecolor": "white",
            "ticks": ""
           }
          },
          "scene": {
           "xaxis": {
            "backgroundcolor": "#E5ECF6",
            "gridcolor": "white",
            "gridwidth": 2,
            "linecolor": "white",
            "showbackground": true,
            "ticks": "",
            "zerolinecolor": "white"
           },
           "yaxis": {
            "backgroundcolor": "#E5ECF6",
            "gridcolor": "white",
            "gridwidth": 2,
            "linecolor": "white",
            "showbackground": true,
            "ticks": "",
            "zerolinecolor": "white"
           },
           "zaxis": {
            "backgroundcolor": "#E5ECF6",
            "gridcolor": "white",
            "gridwidth": 2,
            "linecolor": "white",
            "showbackground": true,
            "ticks": "",
            "zerolinecolor": "white"
           }
          },
          "shapedefaults": {
           "line": {
            "color": "#2a3f5f"
           }
          },
          "ternary": {
           "aaxis": {
            "gridcolor": "white",
            "linecolor": "white",
            "ticks": ""
           },
           "baxis": {
            "gridcolor": "white",
            "linecolor": "white",
            "ticks": ""
           },
           "bgcolor": "#E5ECF6",
           "caxis": {
            "gridcolor": "white",
            "linecolor": "white",
            "ticks": ""
           }
          },
          "title": {
           "x": 0.05
          },
          "xaxis": {
           "automargin": true,
           "gridcolor": "white",
           "linecolor": "white",
           "ticks": "",
           "title": {
            "standoff": 15
           },
           "zerolinecolor": "white",
           "zerolinewidth": 2
          },
          "yaxis": {
           "automargin": true,
           "gridcolor": "white",
           "linecolor": "white",
           "ticks": "",
           "title": {
            "standoff": 15
           },
           "zerolinecolor": "white",
           "zerolinewidth": 2
          }
         }
        },
        "uniformtext": {
         "minsize": 8,
         "mode": "hide"
        },
        "width": 900,
        "xaxis": {
         "anchor": "y",
         "domain": [
          0,
          1
         ],
         "tickangle": 0,
         "tickfont": {
          "size": 15
         },
         "title": {
          "font": {
           "size": 18
          },
          "text": "Prices ($)"
         }
        },
        "yaxis": {
         "anchor": "x",
         "domain": [
          0,
          1
         ],
         "tickfont": {
          "size": 13
         },
         "title": {
          "font": {
           "size": 18
          },
          "text": "Avg. customer reviews (1-5)"
         }
        }
       }
      }
     },
     "metadata": {}
    }
   ],
   "source": [
    "# https://plotly.com/python/static-image-export/\n",
    "\n",
    "import plotly.express as px\n",
    "import plotly.graph_objs as go\n",
    "fig = px.scatter(data, x=\"price\", y=\"average_customer_reviews\",\n",
    "                size=\"average_customer_reviews\", color=\"brand\",\n",
    "                hover_name=\"brand\", log_x=False, size_max=30)\n",
    "\n",
    "fig.update_layout(\n",
    "        width=900, height=300,\n",
    "        margin=go.layout.Margin(l=5, r=5, t=10, b=0), xaxis_tickangle=0,\n",
    "        uniformtext_minsize=8, uniformtext_mode='hide', coloraxis_showscale=False,\n",
    "        yaxis=dict(\n",
    "            title='Avg. customer reviews (1-5)',\n",
    "            titlefont_size=18,\n",
    "            tickfont_size=13,\n",
    "        ),\n",
    "        xaxis=dict(\n",
    "            title='Prices ($)',\n",
    "            titlefont_size=18,\n",
    "            tickfont_size=15,\n",
    "        ),\n",
    "        font=dict(\n",
    "            size=20,\n",
    "            color=\"black\"\n",
    "        ),\n",
    "        legend_title=\"Brand\",\n",
    ")\n",
    "# fig.write_image(\"images/fig1.pdf\")\n"
   ]
  },
  {
   "cell_type": "code",
   "execution_count": null,
   "metadata": {},
   "outputs": [],
   "source": [
    "# Sentiment Analysis\n",
    "\n",
    "from textblob import TextBlob\n",
    "TextBlob('I am great but the impotant thing is that I am not undarstanding what I have to do but I am not loving it ok and it is really bad bad bad bad bad bad bad bad bad bad lov').sentiment\n",
    "\n",
    "TextBlob(amazon_data['reviews_one_string'].loc[1]).sentiment"
   ]
  },
  {
   "cell_type": "code",
   "execution_count": null,
   "metadata": {},
   "outputs": [],
   "source": []
  },
  {
   "cell_type": "code",
   "execution_count": null,
   "metadata": {},
   "outputs": [],
   "source": []
  }
 ],
 "metadata": {
  "language_info": {
   "name": "python",
   "codemirror_mode": {
    "name": "ipython",
    "version": 3
   },
   "version": "3.7.4-final"
  },
  "orig_nbformat": 2,
  "file_extension": ".py",
  "mimetype": "text/x-python",
  "name": "python",
  "npconvert_exporter": "python",
  "pygments_lexer": "ipython3",
  "version": 3,
  "kernelspec": {
   "name": "python37464bitbaseconda11de9112d84a49afbbf20f955bb49b93",
   "display_name": "Python 3.7.4 64-bit ('base': conda)"
  }
 },
 "nbformat": 4,
 "nbformat_minor": 2
}