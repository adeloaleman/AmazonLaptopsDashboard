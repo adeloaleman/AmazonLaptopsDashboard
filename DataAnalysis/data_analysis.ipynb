{
 "cells": [
  {
   "cell_type": "code",
   "execution_count": null,
   "metadata": {},
   "outputs": [],
   "source": [
    "import pandas as pd \n",
    "\n",
    "amazon_data = pd.read_json('/home/adelo/1-system/1-disco_local/1-mis_archivos/1-pe/1-ciencia/1-computer_science_an_IT/2-data_science/1-SentimentAnalysisDashboard/amazon_scraping/scrapy/amazon_scrapy/amazon_links.json')\n",
    "\n",
    "amazon_data[['ASIN','price','average_customer_reviews','number_reviews','number_ratings','tech_details','reviews']]"
   ]
  },
  {
   "cell_type": "code",
   "execution_count": null,
   "metadata": {},
   "outputs": [],
   "source": [
    "import pandas as pd\n",
    "\n",
    "# \n",
    "amazon_data = pd.read_json('/home/adelo/1-system/1-disco_local/1-mis_archivos/1-pe/1-ciencia/1-computer_science_an_IT/2-data_science/1-SentimentAnalysisDashboard/amazon_scraping/scrapy/amazon_scrapy/amazon_links.json')\n",
    "\n",
    "reviews_title = []\n",
    "reviews_text  = []\n",
    "reviews_one_string = []\n",
    "for i in range(amazon_data.shape[0]):\n",
    "    reviews_title_per_item = []\n",
    "    reviews_text_per_item  = []\n",
    "    reviews_one_string_per_item = ''\n",
    "    for j in range(len(amazon_data['reviews'][i])):\n",
    "        title = amazon_data['reviews'][i][j]['title']\n",
    "        text  = amazon_data['reviews'][i][j]['review_text']\n",
    "        reviews_title_per_item.append(title)\n",
    "        reviews_text_per_item.append(text)\n",
    "        reviews_one_string_per_item += title+' '+text+' '\n",
    "    reviews_title.append(reviews_title_per_item)\n",
    "    reviews_text.append(reviews_text_per_item)\n",
    "    reviews_one_string.append(reviews_one_string_per_item.rstrip())\n",
    "\n",
    "amazon_data['brand']         = [ amazon_data['tech_details'][i]['Brand Name'].title()  if   amazon_data['tech_details'][i]['Brand Name'] not in ['HP','hp','Hp']  else    amazon_data['tech_details'][i]['Brand Name'].upper()  for  i  in range(amazon_data.shape[0]) ]\n",
    "amazon_data['series']        = [ amazon_data['tech_details'][i]['Series']              for  i  in range(amazon_data.shape[0]) ]\n",
    "amazon_data['model_number']  = [ amazon_data['tech_details'][i]['Item model number']   for  i  in range(amazon_data.shape[0]) ]\n",
    "amazon_data['reviews_title'] = reviews_title\n",
    "amazon_data['reviews_text']  = reviews_text\n",
    "amazon_data['reviews_one_string']  = reviews_one_string\n",
    "\n",
    "def format_cleaner(price):\n",
    "    return float(price.replace(',','').replace('$',''))\n",
    "\n",
    "amazon_data['average_customer_reviews'] = [ format_cleaner(val[0]) for val in amazon_data['average_customer_reviews'].str.split() ]\n",
    "\n",
    "amazon_data['price'] = amazon_data['price'].apply(lambda val: round(format_cleaner(val)) if pd.notnull(val) else val)"
   ]
  },
  {
   "cell_type": "code",
   "execution_count": null,
   "metadata": {},
   "outputs": [],
   "source": [
    "cols = ['brand','series','model_number','price','average_customer_reviews','number_reviews','number_ratings','reviews_title','reviews_text','reviews_one_string','url']\n",
    "amazon_data = amazon_data[cols]\n",
    "\n",
    "# display(type(amazon_data['price'][0]))\n",
    "# display((amazon_data['price'][0]))\n",
    "# display(type(amazon_data['reviews_one_string'][0]))\n",
    "\n",
    "# display(amazon_data)"
   ]
  },
  {
   "cell_type": "code",
   "execution_count": null,
   "metadata": {},
   "outputs": [],
   "source": [
    "import string\n",
    "import nltk\n",
    "nltk.data.path.append('/home/adelo/.nltk/nltk_data')\n",
    "from nltk.corpus import stopwords\n",
    "\n",
    "stopwords_brands = [ b.lower() for b in list(set(amazon_data['brand'])) ]\n",
    "stopwords_brands_additionals = ['computer','computers','laptop','laptops','thing','things','machine','machines','im','dont','ive']\n",
    "stopwords_total  = stopwords.words('english') + stopwords_brands + stopwords_brands_additionals\n",
    "\n",
    "def pre_processing(texto):\n",
    "    nopunct = ''.join([ char for char in texto if char not in string.punctuation ])\n",
    "    return ' '.join([ word for word in nopunct.split() if word.lower() not in stopwords_total ])\n",
    "\n",
    "frase = \"Here.. the, sentence! that Has SOME $some the extra processing the the the hola\"\n",
    "frase_clean = pre_processing(frase)\n",
    "frase_clean\n",
    "\n",
    "amazon_data['reviews_one_string'] = amazon_data['reviews_one_string'].apply(pre_processing)"
   ]
  },
  {
   "cell_type": "code",
   "execution_count": null,
   "metadata": {},
   "outputs": [],
   "source": [
    "frase = \"Here! A sentence: It has $SOME punctuation and stopwords...\"\n",
    "frase_clean = pre_processing(frase)\n",
    "frase_clean"
   ]
  },
  {
   "cell_type": "code",
   "execution_count": null,
   "metadata": {},
   "outputs": [],
   "source": [
    "display(amazon_data)"
   ]
  },
  {
   "cell_type": "code",
   "execution_count": null,
   "metadata": {},
   "outputs": [],
   "source": [
    "amazon_data.to_json(r'./data.json')"
   ]
  },
  {
   "cell_type": "code",
   "execution_count": null,
   "metadata": {},
   "outputs": [],
   "source": []
  },
  {
   "cell_type": "code",
   "execution_count": null,
   "metadata": {},
   "outputs": [],
   "source": [
    "import pandas as pd\n",
    "\n",
    "data = pd.read_json('./data.json')\n",
    "\n",
    "cols = ['brand','series','model_number','price','average_customer_reviews','number_reviews','number_ratings','reviews_one_string']\n",
    "\n",
    "data[cols]\n",
    "type(data['reviews_text'].iloc[1])"
   ]
  },
  {
   "cell_type": "code",
   "execution_count": null,
   "metadata": {},
   "outputs": [],
   "source": [
    "# https://plotly.com/python/static-image-export/\n",
    "\n",
    "import plotly.express as px\n",
    "import plotly.graph_objs as go\n",
    "fig = px.scatter(data, x=\"price\", y=\"average_customer_reviews\",\n",
    "                size=\"average_customer_reviews\", color=\"brand\",\n",
    "                hover_name=\"brand\", log_x=False, size_max=30)\n",
    "\n",
    "fig.update_layout(\n",
    "        width=900, height=300,\n",
    "        margin=go.layout.Margin(l=5, r=5, t=10, b=0), xaxis_tickangle=0,\n",
    "        uniformtext_minsize=8, uniformtext_mode='hide', coloraxis_showscale=False,\n",
    "        yaxis=dict(\n",
    "            title='Avg. customer reviews (1-5)',\n",
    "            titlefont_size=18,\n",
    "            tickfont_size=13,\n",
    "        ),\n",
    "        xaxis=dict(\n",
    "            title='Prices ($)',\n",
    "            titlefont_size=18,\n",
    "            tickfont_size=15,\n",
    "        ),\n",
    "        font=dict(\n",
    "            size=20,\n",
    "            color=\"black\"\n",
    "        ),\n",
    "        legend_title=\"Brand\",\n",
    ")\n",
    "# fig.write_image(\"images/fig1.pdf\")\n"
   ]
  },
  {
   "cell_type": "code",
   "execution_count": null,
   "metadata": {},
   "outputs": [],
   "source": [
    "# Sentiment Analysis\n",
    "\n",
    "from textblob import TextBlob\n",
    "TextBlob('I am great but the impotant thing is that I am not undarstanding what I have to do but I am not loving it ok and it is really bad bad bad bad bad bad bad bad bad bad lov').sentiment\n",
    "\n",
    "TextBlob(data['reviews_one_string'].loc[1]).sentiment"
   ]
  },
  {
   "cell_type": "code",
   "execution_count": null,
   "metadata": {},
   "outputs": [],
   "source": []
  },
  {
   "cell_type": "code",
   "execution_count": null,
   "metadata": {},
   "outputs": [],
   "source": []
  }
 ],
 "metadata": {
  "language_info": {
   "name": "python",
   "codemirror_mode": {
    "name": "ipython",
    "version": 3
   },
   "version": "3.7.4-final"
  },
  "orig_nbformat": 2,
  "file_extension": ".py",
  "mimetype": "text/x-python",
  "name": "python",
  "npconvert_exporter": "python",
  "pygments_lexer": "ipython3",
  "version": 3,
  "kernelspec": {
   "name": "python37464bitbaseconda11de9112d84a49afbbf20f955bb49b93",
   "display_name": "Python 3.7.4 64-bit ('base': conda)"
  }
 },
 "nbformat": 4,
 "nbformat_minor": 2
}